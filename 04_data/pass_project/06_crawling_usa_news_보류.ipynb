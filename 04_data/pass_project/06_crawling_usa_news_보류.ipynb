{
 "cells": [
  {
   "cell_type": "code",
   "execution_count": 42,
   "id": "bed043df",
   "metadata": {},
   "outputs": [],
   "source": [
    "# 미국 뉴스를 날짜별로 크롤링을 어떻게 할까 찾아보다가, 구글 뉴스가 날짜 선택이 가능해서 시도\n",
    "import pandas as pd\n",
    "from selenium import webdriver\n",
    "from bs4 import BeautifulSoup"
   ]
  },
  {
   "cell_type": "code",
   "execution_count": 41,
   "id": "038a2478",
   "metadata": {},
   "outputs": [
    {
     "data": {
      "text/plain": [
       "[]"
      ]
     },
     "execution_count": 41,
     "metadata": {},
     "output_type": "execute_result"
    }
   ],
   "source": [
    "# page 정의 // 1page는 start=0, 2page는 start=10 . . .\n",
    "page = 0\n",
    "\n",
    "# 검색어 정의\n",
    "q = 'netflix'\n",
    "\n",
    "# url 정의\n",
    "url = f'''\n",
    "https://www.google.com/search\n",
    "?q={q}\n",
    "&biw=1280\n",
    "&bih=601\n",
    "&tbs=cdr:1,cd_min:2/26/2023,cd_max:2/26/2023\n",
    "&tbm=nws\n",
    "&sxsrf=AJOqlzVtbRUNvM5yZxBjLQLbKFQ5zxB_nw:1677560743484\n",
    "&ei=p4v9Y9iEHc212roP9qWL8A8\n",
    "&start={page}\n",
    "&sa=N\n",
    "&ved=2ahUKEwiY9NDhuLf9AhXNmlYBHfbSAv4Q8tMDegQIAxAE\n",
    "'''.replace('\\n', '')\n",
    "\n",
    "res = requests.get(url)\n",
    "html = res.content\n",
    "bs_html = BeautifulSoup(html, 'lxml')\n",
    "bs_html.select('div.SoaBEf')\n",
    "#rso > div > div > div:nth-child(1) > div > div > a > div > div.iRPxbe > div.mCBkyc.ynAwRc.MBeuO.nDgy9d"
   ]
  }
 ],
 "metadata": {
  "kernelspec": {
   "display_name": "Python 3 (ipykernel)",
   "language": "python",
   "name": "python3"
  },
  "language_info": {
   "codemirror_mode": {
    "name": "ipython",
    "version": 3
   },
   "file_extension": ".py",
   "mimetype": "text/x-python",
   "name": "python",
   "nbconvert_exporter": "python",
   "pygments_lexer": "ipython3",
   "version": "3.9.13"
  }
 },
 "nbformat": 4,
 "nbformat_minor": 5
}
