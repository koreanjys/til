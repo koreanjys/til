{
 "cells": [
  {
   "cell_type": "code",
   "execution_count": 10,
   "id": "84e74eea",
   "metadata": {},
   "outputs": [],
   "source": [
    "import requests\n",
    "import pandas as pd\n",
    "from bs4 import BeautifulSoup\n",
    "import datetime"
   ]
  },
  {
   "cell_type": "code",
   "execution_count": 11,
   "id": "978c7622",
   "metadata": {},
   "outputs": [
    {
     "name": "stdout",
     "output_type": "stream",
     "text": [
      "07/01/2021완료  07/02/2021완료  07/03/2021완료  07/04/2021완료  크롤링 완료\n"
     ]
    }
   ],
   "source": [
    "# 뉴스 제목들을 모아 둘 리스트 생성\n",
    "news = []\n",
    "\n",
    "# 날짜 설정 start_date\n",
    "sd = datetime.datetime(2021, 7, 1)\n",
    "\n",
    "# 날짜 설정 end_date\n",
    "ed = datetime.datetime(2021, 7, 5)\n",
    "\n",
    "# +-날짜 계산해줄 nd 설정\n",
    "nd = datetime.timedelta(days=1)\n",
    "\n",
    "# 검색어 정의\n",
    "search = 'netflix'\n",
    "\n",
    "# 요청자 정보\n",
    "header = {'user-agent': 'Mozilla/5.0 (Windows NT 10.0; Win64; x64) AppleWebKit/537.36 (KHTML, like Gecko) Chrome/110.0.0.0 Safari/537.36'}\n",
    "\n",
    "# while문 시작 #########################################################################################################################################################################\n",
    "# while 문으로 기간 안에 있는 뉴스기사 가져오기\n",
    "while sd != ed:\n",
    "    \n",
    "    # google 날짜 형식에 맞게 변경\n",
    "    dd = sd.strftime('%m/%d/%Y')\n",
    "\n",
    "    # url 정의\n",
    "    url = f'https://www.google.com/search?q={search}&tbs=cdr:1,cd_min:{dd},cd_max:{dd}&tbm=nws'\n",
    "\n",
    "    # 요청\n",
    "    res = requests.get(url, headers=header)\n",
    "\n",
    "    # html 읽어오고, bs4로 정돈\n",
    "    html = BeautifulSoup(res.text, 'lxml')\n",
    "\n",
    "    # 뉴스기사들 태그, 클래스 가져오기\n",
    "    articles = html.find_all('div', 'mCBkyc ynAwRc MBeuO nDgy9d')\n",
    "\n",
    "    # 뉴스기사가 없다면 pass\n",
    "    if articles:\n",
    "\n",
    "        # 뉴스기사 텍스트 추출해서 news리스트에 담기\n",
    "        for article in articles:\n",
    "\n",
    "            # 데이터프레임에 넣을 날짜형식 정의\n",
    "            ad = sd.strftime('%Y-%m-%d')\n",
    "\n",
    "            # news리스트에 날짜와 기사제목 넣기\n",
    "            news.append([ad, article.text.replace('\\n', '')])\n",
    "\n",
    "    else:\n",
    "        pass\n",
    "    \n",
    "    print(f'{dd}완료', end='  ')\n",
    "    # sd + 1씩\n",
    "    sd += nd\n",
    "\n",
    "# while문 끝 ###########################################################################################################################################################################\n",
    "print('크롤링 완료')"
   ]
  },
  {
   "cell_type": "code",
   "execution_count": 12,
   "id": "b1a13e3f",
   "metadata": {},
   "outputs": [
    {
     "data": {
      "text/plain": [
       "[]"
      ]
     },
     "execution_count": 12,
     "metadata": {},
     "output_type": "execute_result"
    }
   ],
   "source": [
    "news"
   ]
  },
  {
   "cell_type": "code",
   "execution_count": null,
   "id": "720ebf36",
   "metadata": {},
   "outputs": [],
   "source": []
  }
 ],
 "metadata": {
  "kernelspec": {
   "display_name": "Python 3 (ipykernel)",
   "language": "python",
   "name": "python3"
  },
  "language_info": {
   "codemirror_mode": {
    "name": "ipython",
    "version": 3
   },
   "file_extension": ".py",
   "mimetype": "text/x-python",
   "name": "python",
   "nbconvert_exporter": "python",
   "pygments_lexer": "ipython3",
   "version": "3.9.13"
  }
 },
 "nbformat": 4,
 "nbformat_minor": 5
}
