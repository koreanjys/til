{
 "cells": [
  {
   "cell_type": "code",
   "execution_count": 34,
   "id": "f720544b",
   "metadata": {},
   "outputs": [],
   "source": [
    "from selenium import webdriver\n",
    "from selenium.webdriver.common.by import By\n",
    "from selenium.webdriver.common.keys import Keys\n",
    "import urllib\n",
    "import time\n",
    "import datetime"
   ]
  },
  {
   "cell_type": "code",
   "execution_count": 38,
   "id": "84d96f3f",
   "metadata": {},
   "outputs": [],
   "source": [
    "# url 정의\n",
    "url = 'https://www.google.com/search?q=netflix&biw=1920&bih=969&sxsrf=AJOqlzV1aDsSU6k5yJOMXNyKBUOnG4sAjQ%3A1677733262990&source=lnt&tbs=cdr%3A1%2Ccd_min%3A3%2F1%2F2023%2Ccd_max%3A3%2F1%2F2023&tbm=nws'\n",
    "\n",
    "# 인코딩 된 url을 디코딩\n",
    "url = urllib.parse.unquote(url)\n",
    "# 디코딩 된 url ='https://www.google.com/search?q=netflix&biw=1920&bih=969&sxsrf=AJOqlzV1aDsSU6k5yJOMXNyKBUOnG4sAjQ:1677733262990&source=lnt&tbs=cdr:1,cd_min:3/1/2023,cd_max:3/1/2023&tbm=nws'\n",
    "\n",
    "# 검색어 정의\n",
    "q = 'netflix'\n",
    "\n",
    "## 날짜를 정의하고 1일씩 증가 시켜야 된다.\n",
    "# 날짜 정의 start_date 2021-07-01\n",
    "sd = datetime.datetime(2021, 7, 1)\n",
    "\n",
    "# 날짜 정의 end_date 2022-12-31\n",
    "ed = datetime.datetime(2022, 12, 31)\n",
    "\n",
    "# 날짜를 +- 할 수 있는 n 정의\n",
    "n = datetime.timedelta(days=1)\n",
    "\n",
    "# url에 적용할 date 정의 mm/dd/yyyy\n",
    "d = sd.strftime('%m/%d/%Y')\n",
    "\n",
    "# 최종 url 정의\n",
    "url = f'https://www.google.com/search?q={q}&biw=1920&bih=969&sxsrf=AJOqlzV1aDsSU6k5yJOMXNyKBUOnG4sAjQ:1677733262990&source=lnt&tbs=cdr:1,cd_min:{d},cd_max:{d}&tbm=nws'"
   ]
  },
  {
   "cell_type": "code",
   "execution_count": 48,
   "id": "508f0f7d",
   "metadata": {},
   "outputs": [
    {
     "name": "stderr",
     "output_type": "stream",
     "text": [
      "C:\\Users\\TECH2_26\\AppData\\Local\\Temp\\ipykernel_3100\\378737447.py:1: DeprecationWarning: executable_path has been deprecated, please pass in a Service object\n",
      "  driver = webdriver.Chrome('chromedriver.exe')\n"
     ]
    },
    {
     "ename": "TypeError",
     "evalue": "'str' object is not callable",
     "output_type": "error",
     "traceback": [
      "\u001b[1;31m---------------------------------------------------------------------------\u001b[0m",
      "\u001b[1;31mTypeError\u001b[0m                                 Traceback (most recent call last)",
      "\u001b[1;32m~\\AppData\\Local\\Temp\\ipykernel_3100\\378737447.py\u001b[0m in \u001b[0;36m<module>\u001b[1;34m\u001b[0m\n\u001b[0;32m      1\u001b[0m \u001b[0mdriver\u001b[0m \u001b[1;33m=\u001b[0m \u001b[0mwebdriver\u001b[0m\u001b[1;33m.\u001b[0m\u001b[0mChrome\u001b[0m\u001b[1;33m(\u001b[0m\u001b[1;34m'chromedriver.exe'\u001b[0m\u001b[1;33m)\u001b[0m\u001b[1;33m\u001b[0m\u001b[1;33m\u001b[0m\u001b[0m\n\u001b[0;32m      2\u001b[0m \u001b[0mdriver\u001b[0m\u001b[1;33m.\u001b[0m\u001b[0mget\u001b[0m\u001b[1;33m(\u001b[0m\u001b[0murl\u001b[0m\u001b[1;33m)\u001b[0m\u001b[1;33m\u001b[0m\u001b[1;33m\u001b[0m\u001b[0m\n\u001b[1;32m----> 3\u001b[1;33m \u001b[0mdriver\u001b[0m\u001b[1;33m.\u001b[0m\u001b[0mfind_element\u001b[0m\u001b[1;33m(\u001b[0m\u001b[0mBy\u001b[0m\u001b[1;33m.\u001b[0m\u001b[0mXPATH\u001b[0m\u001b[1;33m(\u001b[0m\u001b[1;34m'/html/body/div[7]/div/div[10]/div/div[2]/div[2]/div/div/div/div/div[1]/div/div/a/div/div[2]/div[2]'\u001b[0m\u001b[1;33m)\u001b[0m\u001b[1;33m)\u001b[0m\u001b[1;33m.\u001b[0m\u001b[0mclick\u001b[0m\u001b[1;33m(\u001b[0m\u001b[1;33m)\u001b[0m\u001b[1;33m\u001b[0m\u001b[1;33m\u001b[0m\u001b[0m\n\u001b[0m",
      "\u001b[1;31mTypeError\u001b[0m: 'str' object is not callable"
     ]
    }
   ],
   "source": [
    "driver = webdriver.Chrome('chromedriver.exe')\n",
    "driver.get(url)\n",
    "driver.find_element(By.XPATH('/html/body/div[7]/div/div[10]/div/div[2]/div[2]/div/div/div/div/div[1]/div/div/a/div/div[2]/div[2]')).click()"
   ]
  }
 ],
 "metadata": {
  "kernelspec": {
   "display_name": "Python 3 (ipykernel)",
   "language": "python",
   "name": "python3"
  },
  "language_info": {
   "codemirror_mode": {
    "name": "ipython",
    "version": 3
   },
   "file_extension": ".py",
   "mimetype": "text/x-python",
   "name": "python",
   "nbconvert_exporter": "python",
   "pygments_lexer": "ipython3",
   "version": "3.9.13"
  }
 },
 "nbformat": 4,
 "nbformat_minor": 5
}
