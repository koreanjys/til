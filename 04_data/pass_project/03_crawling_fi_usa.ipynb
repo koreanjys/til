{
 "cells": [
  {
   "cell_type": "code",
   "execution_count": 4,
   "id": "99b47c6e",
   "metadata": {},
   "outputs": [],
   "source": [
    "import yfinance as yf\n",
    "import pandas as pd"
   ]
  },
  {
   "cell_type": "code",
   "execution_count": 63,
   "id": "4dd14710",
   "metadata": {
    "scrolled": true
   },
   "outputs": [
    {
     "name": "stdout",
     "output_type": "stream",
     "text": [
      "[*********************100%***********************]  1 of 1 completed\n",
      "META.csv 파일을 저장했습니다.\n",
      "[*********************100%***********************]  1 of 1 completed\n",
      "AMZN.csv 파일을 저장했습니다.\n",
      "[*********************100%***********************]  1 of 1 completed\n",
      "AAPL.csv 파일을 저장했습니다.\n",
      "[*********************100%***********************]  1 of 1 completed\n",
      "NFLX.csv 파일을 저장했습니다.\n",
      "[*********************100%***********************]  1 of 1 completed\n",
      "MSFT.csv 파일을 저장했습니다.\n",
      "[*********************100%***********************]  1 of 1 completed\n",
      "GOOGL.csv 파일을 저장했습니다.\n"
     ]
    }
   ],
   "source": [
    "# 페이스북 아마존 애플 넷플릭스 마이크로소프트 구글\n",
    "datas = ['META', 'AMZN', 'AAPL', 'NFLX', 'MSFT', 'GOOGL']\n",
    "\n",
    "for data in datas:\n",
    "    # fi_data변수에 저장\n",
    "    fi_data = yf.download(data, start='2021-12-01', end='2023-02-23')\n",
    "    # 전처리\n",
    "    ## 필요없는 컬럼 삭제  \n",
    "    fi_data.drop('Adj Close', axis=1, inplace=True)\n",
    "    ## 컬럼명 변경\n",
    "    fi_data.index.name = '날짜'\n",
    "    fi_data.columns = ['시가', '고가', '저가', '종가', '거래량']\n",
    "    ## 컬럼 순서 변경\n",
    "    fi_data = fi_data.iloc[:, [3, 0, 1, 2, 4]]\n",
    "    \n",
    "    fi_data.to_csv(f'{data}.csv', index=True)\n",
    "    print(f'{data}.csv 파일을 저장했습니다.')"
   ]
  }
 ],
 "metadata": {
  "kernelspec": {
   "display_name": "Python 3 (ipykernel)",
   "language": "python",
   "name": "python3"
  },
  "language_info": {
   "codemirror_mode": {
    "name": "ipython",
    "version": 3
   },
   "file_extension": ".py",
   "mimetype": "text/x-python",
   "name": "python",
   "nbconvert_exporter": "python",
   "pygments_lexer": "ipython3",
   "version": "3.9.13"
  }
 },
 "nbformat": 4,
 "nbformat_minor": 5
}
