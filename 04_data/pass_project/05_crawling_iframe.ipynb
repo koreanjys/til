{
 "cells": [
  {
   "cell_type": "code",
   "execution_count": 45,
   "id": "4699d8b0",
   "metadata": {},
   "outputs": [],
   "source": [
    "import requests\n",
    "from bs4 import BeautifulSoup"
   ]
  },
  {
   "cell_type": "code",
   "execution_count": 102,
   "id": "0a854a37",
   "metadata": {},
   "outputs": [
    {
     "name": "stdout",
     "output_type": "stream",
     "text": [
      "삼성·애플이 비운 러시아 시장, ‘어부지리’로 샤오미가 차지\n",
      "中·日에서만 기 못펴는 '글로벌 플레이어' LG·삼성…공략법은?\n",
      "'러, 철수하면 1달러에 국유화'..이러니 삼성-현대차 꼼짝 못하지[인...\n",
      "삼성전자, \"상생추구·정도경영\"…협력사 경쟁력 높여 함께 성장\n",
      "챗GPT에 웃는 엔비디아, 울던 TSMC도 '뚝'…삼성도 웃으려면\n",
      "이번에도 ‘이상급등’ 보일까...‘삼성’ 두글자에 1조7천억 몰려\n",
      "김우준 삼성전자 사장 \"5G 가상화 선도…글로벌 기준 주도할 것\"\n",
      "[MWC 2023] \"5G 가상화 사업 선도할 것\" 삼성전자\n",
      "\"UAE 다음엔 이라크\"...삼성전자, '기회의 땅' 중동 IoT 시장...\n",
      "삼성전자, 이라크에 '스마트싱스 홈' 개관…중동 IoT 시장 공략 시...\n",
      "롯데알미늄, 미승인 기기로 생산한 양극박 삼성·SK에 납품\n",
      "[MWC 2023] “갤S23 울트라로 e스포츠 즐긴다”..삼성\n",
      "삼성전자, ‘갤S23’ 유럽 공략 ‘시동’…‘체험중심’ 전시[MWC2...\n"
     ]
    }
   ],
   "source": [
    "# iframe 태그는 웹 페이지에는 보이지만 html을 가져오면 나타나지 않는다.\n",
    "# 그래서 iframe 태그 안에 있는 주소로 들어가 줘야하는데 그 주소가 들어가 있는게 'src=' 안에 있고, 소스 줄임말\n",
    "\n",
    "# 크롤링 할 url\n",
    "url = 'https://finance.naver.com/item/news.naver?code=005930'\n",
    "\n",
    "# url 을 불러온다.\n",
    "res = requests.get(url)\n",
    "\n",
    "# url의 내용을 불러온다.\n",
    "html = res.content\n",
    "\n",
    "# html을 bs4로 파싱\n",
    "bs_html = BeautifulSoup(html, 'lxml')\n",
    "\n",
    "# 보이지 않는 iframe태그의 src 주소를 가져온다.\n",
    "# 그리고 page가 여러개니 page도 정의 해준다.\n",
    "page = 4\n",
    "src = bs_html.select_one('iframe#news_frame').get('src')\n",
    "src = src.replace('page=', f'page={page}')\n",
    "\n",
    "# 기존 url에 src 주소를 붙인다.src 주소가 /item/ 부터 시작하니까 url에서 https://finance.naver.com 까지만.\n",
    "news_url = url.split('/item')[0] + src\n",
    "\n",
    "# news_url 을 불러온다.\n",
    "news_res = requests.get(news_url)\n",
    "\n",
    "# news_url의 내용을 불러온다.\n",
    "news_html = news_res.content\n",
    "\n",
    "# bs4로 파싱\n",
    "bs_news = BeautifulSoup(news_html, 'lxml')\n",
    "for article in bs_news.select('.tit'):\n",
    "    print(article.text)"
   ]
  }
 ],
 "metadata": {
  "kernelspec": {
   "display_name": "Python 3 (ipykernel)",
   "language": "python",
   "name": "python3"
  },
  "language_info": {
   "codemirror_mode": {
    "name": "ipython",
    "version": 3
   },
   "file_extension": ".py",
   "mimetype": "text/x-python",
   "name": "python",
   "nbconvert_exporter": "python",
   "pygments_lexer": "ipython3",
   "version": "3.9.13"
  }
 },
 "nbformat": 4,
 "nbformat_minor": 5
}
