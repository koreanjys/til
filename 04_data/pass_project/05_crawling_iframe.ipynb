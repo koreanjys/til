{
 "cells": [
  {
   "cell_type": "code",
   "execution_count": 2,
   "id": "4699d8b0",
   "metadata": {},
   "outputs": [],
   "source": [
    "import requests\n",
    "from bs4 import BeautifulSoup"
   ]
  },
  {
   "cell_type": "code",
   "execution_count": 3,
   "id": "0a854a37",
   "metadata": {},
   "outputs": [
    {
     "name": "stdout",
     "output_type": "stream",
     "text": [
      "[MWC 2023] 삼성 방문한 SKT 유영상 \"갤S23, 현존 최고의...\n",
      "임금보다 더 뛴 복리후생…삼성전자, 10년간 ‘비과세’ 혜택 늘려\n",
      "'이것' 줄인 세탁기·건조기가 뜬다…삼성·LG 주목 [정지은의 산업노트...\n",
      "삼성,친환경·AI 강화한 '비스포크'세탁기·건조기 출시\n",
      "삼성벤처투자, 200억 ‘SVIC63호’ 조합 결성\n",
      "선박 '심장' 양분하는 한화·HD현대..삼성重 \"고부가로 뚫는다\"\n",
      "삼성·애플에 도전장…中샤오미, 180만원짜리 폰 내놨다\n",
      "삼성이 공들이는 ‘꿈의 배터리’ 뭐길래...이재용 직접 점검\n",
      "삼성전자, MWC서 네트워크 사업 확장 나선다\n",
      "삼성·LG가 키운 판 두산도 올라탄다…증시 달구는 ‘○○로보틱스’ [이...\n"
     ]
    }
   ],
   "source": [
    "# iframe 태그는 웹 페이지에는 보이지만 html을 가져오면 나타나지 않는다.\n",
    "# 그래서 iframe 태그 안에 있는 주소로 들어가 줘야하는데 그 주소가 들어가 있는게 'src=' 안에 있고, 소스 줄임말\n",
    "\n",
    "# 크롤링 할 url\n",
    "url = 'https://finance.naver.com/item/news.naver?code=005930'\n",
    "\n",
    "# url 을 불러온다.\n",
    "res = requests.get(url)\n",
    "\n",
    "# url의 내용을 불러온다.\n",
    "html = res.content\n",
    "\n",
    "# html을 bs4로 파싱\n",
    "bs_html = BeautifulSoup(html, 'lxml')\n",
    "\n",
    "# 보이지 않는 iframe태그의 src 주소를 가져온다.\n",
    "## page가 여러개니 page도 정의 해준다.\n",
    "page = 1\n",
    "\n",
    "## select로 가져오면 리스트가 되어 get('src')를 바로 하지 못하고 전처리를 해야 하기 때문에 select_one을 사용\n",
    "## id를 찾을땐 ''#id'로 표시한다. => select('#id')  ## class를 찾을땐 '.class'로 표시 => select('.class')\n",
    "## tag명은 앞에 붙는다 select('tag#id') // select('tag.class')\n",
    "src = bs_html.select_one('iframe#news_frame').get('src')\n",
    "src = src.replace('page=', f'page={page}')\n",
    "\n",
    "# 기존 url에 src 주소를 붙인다.src 주소가 /item/ 부터 시작하니까 url에서 https://finance.naver.com 까지만.\n",
    "news_url = url.split('/item')[0] + src\n",
    "\n",
    "# news_url 을 불러온다.\n",
    "news_res = requests.get(news_url)\n",
    "\n",
    "# news_url의 내용을 불러온다.\n",
    "news_html = news_res.content\n",
    "\n",
    "# bs4로 파싱\n",
    "bs_news = BeautifulSoup(news_html, 'lxml')\n",
    "for article in bs_news.select('.tit'):\n",
    "    print(article.text)"
   ]
  }
 ],
 "metadata": {
  "kernelspec": {
   "display_name": "Python 3 (ipykernel)",
   "language": "python",
   "name": "python3"
  },
  "language_info": {
   "codemirror_mode": {
    "name": "ipython",
    "version": 3
   },
   "file_extension": ".py",
   "mimetype": "text/x-python",
   "name": "python",
   "nbconvert_exporter": "python",
   "pygments_lexer": "ipython3",
   "version": "3.9.13"
  }
 },
 "nbformat": 4,
 "nbformat_minor": 5
}
