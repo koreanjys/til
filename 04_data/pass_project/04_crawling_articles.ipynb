{
 "cells": [
  {
   "cell_type": "code",
   "execution_count": 4,
   "id": "7eae92c3",
   "metadata": {},
   "outputs": [],
   "source": [
    "import requests\n",
    "import pandas as pd\n",
    "from bs4 import BeautifulSoup\n",
    "import datetime\n",
    "import urllib.parse\n",
    "import os"
   ]
  },
  {
   "cell_type": "code",
   "execution_count": 71,
   "id": "1635c1c3",
   "metadata": {},
   "outputs": [
    {
     "name": "stdout",
     "output_type": "stream",
     "text": [
      "뉴스 기사 크롤링 완료\n"
     ]
    }
   ],
   "source": [
    "# 시간 설정\n",
    "## start_date\n",
    "sd = datetime.datetime(2022, 12, 1)\n",
    "## end_date\n",
    "ed = datetime.datetime(2022, 12, 5)\n",
    "\n",
    "## 날짜를 +- 할 수 있는 n변수\n",
    "n = datetime.timedelta(days=1)\n",
    "\n",
    "# 페이지\n",
    "page = 1\n",
    "\n",
    "# 데이터를 저장할 빈 리스트 생성\n",
    "news_titles = []\n",
    "\n",
    "# 네이버 url검색을 위한 이중 인코딩\n",
    "## 1. 단어를 EUC-KR 인코딩\n",
    "char = '넷플릭스'\n",
    "euc_char = char.encode('euc-kr')\n",
    "## 2. euc-kr 인코딩 한 문자열을 URL 인코딩\n",
    "url_char = urllib.parse.quote(euc_char)\n",
    "\n",
    "while sd != ed:\n",
    "    # 날짜 정의\n",
    "    bar_date = sd.strftime('%Y-%m-%d')\n",
    "    # url 정보 가져오기\n",
    "    url = f'https://finance.naver.com/news/news_search.naver?rcdate=&q={url_char}&sm=title.basic&pd=4&stDateStart={bar_date}&stDateEnd={bar_date}'\n",
    "    res = requests.get(url)\n",
    "    html = res.content\n",
    "    bs_html = BeautifulSoup(html, 'lxml')\n",
    "    # 기사 제목만 추출\n",
    "    chars = bs_html.select('dd.articleSubject > a')\n",
    "    \n",
    "    for char in chars:\n",
    "        if char:\n",
    "            news_title = char.text.strip()\n",
    "        else:\n",
    "            pass\n",
    "        # 리스트로 저장\n",
    "        news_titles.append([bar_date, news_title])\n",
    "\n",
    "    sd += n\n",
    "print('뉴스 기사 크롤링 완료')"
   ]
  },
  {
   "cell_type": "code",
   "execution_count": 72,
   "id": "2f416802",
   "metadata": {},
   "outputs": [],
   "source": [
    "news = pd.DataFrame(news_titles, columns=['날짜', '제목'])\n",
    "news.to_csv('./csvs/news.csv', index=False)"
   ]
  },
  {
   "cell_type": "code",
   "execution_count": 74,
   "id": "0f00d94b",
   "metadata": {},
   "outputs": [
    {
     "data": {
      "text/html": [
       "<div>\n",
       "<style scoped>\n",
       "    .dataframe tbody tr th:only-of-type {\n",
       "        vertical-align: middle;\n",
       "    }\n",
       "\n",
       "    .dataframe tbody tr th {\n",
       "        vertical-align: top;\n",
       "    }\n",
       "\n",
       "    .dataframe thead th {\n",
       "        text-align: right;\n",
       "    }\n",
       "</style>\n",
       "<table border=\"1\" class=\"dataframe\">\n",
       "  <thead>\n",
       "    <tr style=\"text-align: right;\">\n",
       "      <th></th>\n",
       "      <th>날짜</th>\n",
       "      <th>제목</th>\n",
       "    </tr>\n",
       "  </thead>\n",
       "  <tbody>\n",
       "    <tr>\n",
       "      <th>0</th>\n",
       "      <td>2022-12-01</td>\n",
       "      <td>휴넷 HRD Flex, 중소기업 교육 무상지원.. 기업교육도 넷플릭스처럼</td>\n",
       "    </tr>\n",
       "    <tr>\n",
       "      <th>1</th>\n",
       "      <td>2022-12-01</td>\n",
       "      <td>넷플릭스·메타 CEO, 일론 머스크 트위터 경영 극찬…실리콘밸리 머스크 행보 '따...</td>\n",
       "    </tr>\n",
       "    <tr>\n",
       "      <th>2</th>\n",
       "      <td>2022-12-01</td>\n",
       "      <td>KT스카이라이프 \"넷플릭스 광고요금제 리모컨으로 가입\"</td>\n",
       "    </tr>\n",
       "    <tr>\n",
       "      <th>3</th>\n",
       "      <td>2022-12-01</td>\n",
       "      <td>\"넷플릭스 따라잡는다\"...'토종 OTT 1위' 탄생, 티빙·시즌 합병</td>\n",
       "    </tr>\n",
       "    <tr>\n",
       "      <th>4</th>\n",
       "      <td>2022-12-02</td>\n",
       "      <td>넷플릭스 빼고 다 적자인데…시즌 품은 티빙, 수익성 문제 풀까</td>\n",
       "    </tr>\n",
       "    <tr>\n",
       "      <th>5</th>\n",
       "      <td>2022-12-02</td>\n",
       "      <td>뉴욕증시, 고용보고서 발표 대기하며 혼조…‘넷플릭스 3.74%↑’ 유가 상승·비트...</td>\n",
       "    </tr>\n",
       "  </tbody>\n",
       "</table>\n",
       "</div>"
      ],
      "text/plain": [
       "           날짜                                                제목\n",
       "0  2022-12-01          휴넷 HRD Flex, 중소기업 교육 무상지원.. 기업교육도 넷플릭스처럼\n",
       "1  2022-12-01  넷플릭스·메타 CEO, 일론 머스크 트위터 경영 극찬…실리콘밸리 머스크 행보 '따...\n",
       "2  2022-12-01                    KT스카이라이프 \"넷플릭스 광고요금제 리모컨으로 가입\"\n",
       "3  2022-12-01           \"넷플릭스 따라잡는다\"...'토종 OTT 1위' 탄생, 티빙·시즌 합병\n",
       "4  2022-12-02                넷플릭스 빼고 다 적자인데…시즌 품은 티빙, 수익성 문제 풀까\n",
       "5  2022-12-02  뉴욕증시, 고용보고서 발표 대기하며 혼조…‘넷플릭스 3.74%↑’ 유가 상승·비트..."
      ]
     },
     "execution_count": 74,
     "metadata": {},
     "output_type": "execute_result"
    }
   ],
   "source": [
    "pd.read_csv('./csvs/news.csv')"
   ]
  },
  {
   "cell_type": "code",
   "execution_count": 52,
   "id": "476d7311",
   "metadata": {},
   "outputs": [
    {
     "name": "stdout",
     "output_type": "stream",
     "text": [
      "%B3%DD%C7%C3%B8%AF%BD%BA\n"
     ]
    }
   ],
   "source": [
    "char = '넷플릭스'\n",
    "encoded_char = char.encode('euc-kr')\n",
    "url_char = urllib.parse.quote(encoded_char)\n",
    "print(url_char)"
   ]
  },
  {
   "cell_type": "code",
   "execution_count": 10,
   "id": "68a13fb6",
   "metadata": {},
   "outputs": [],
   "source": [
    "url = 'https://finance.naver.com/news/news_search.naver?rcdate=&q=%BB%EF%BC%BA%C0%FC%C0%DA&x=0&y=0&sm=title.basic&pd=4&stDateStart=2023-02-22&stDateEnd=2023-02-22&page=1'\n",
    "res = requests.get(url)\n",
    "html = res.content\n",
    "bs_html = BeautifulSoup(html, 'lxml')"
   ]
  },
  {
   "cell_type": "code",
   "execution_count": 49,
   "id": "b35bc3d2",
   "metadata": {},
   "outputs": [
    {
     "name": "stdout",
     "output_type": "stream",
     "text": [
      "삼성전자 C랩 대구 출범… 지역 스타트업, 유니콘으로 육성\n",
      "삼성전자, 지방의 스타트업도 적극 돕는다...대구에 C랩 아웃사이드 첫 지역 캠퍼...\n",
      "지역 스타트업 키운다… 삼성전자, 'C랩 아웃사이드 대구' 출범\n",
      "삼성전자가 픽한 대구 스타트업…헬스케어·로봇 등 혁신 기업\n",
      "삼성전자, 'C랩 아웃사이드 대구' 출범\n",
      "삼성전자, 'C랩 아웃사이드 대구' 캠퍼스 개소\n",
      "스타트업 육성 팔 걷은 삼성전자, 'C랩 아웃사이드 대구' 개소\n",
      "\"삼성전자 작년 직원 평균 연봉 1억3000만원…CEO는 43억 이상\"\n",
      "스타트업 키우고 지역경제 살리고… 삼성전자, 대구에 C랩 아웃사이드\n",
      "삼성전자, 지역 스타트업 육성 나섰다…대구서 첫발\n",
      "삼성전자, C랩 아웃사이드 대구캠퍼스 개소\n",
      "삼성전자, C랩 아웃사이드 대구캠퍼스 개소\n",
      "삼성전자, C랩 아웃사이드 대구캠퍼스 개소\n",
      "삼성전자, 'C랩 아웃사이드 대구' 출범...\"지역 스타트업 활성화\"\n",
      "삼성전자 ‘C랩 아웃사이드 대구’ 출범\n",
      "삼성전자 스타트업 육성 프로그램 'C랩 아웃사이드' 대구 상륙\n",
      "'지방 챙기는' JY…삼성전자 스타트업 육성 지원 대구로 확대\n",
      "“지역 스타트업 생태계 만든다” 삼성전자, ‘C랩 아웃사이드 대구’ 출범\n",
      "'지역 경제 활성화'에 힘 싣는 삼성전자…대구서 'C랩 아웃사이드' 개소\n",
      "삼성전자, ‘C랩 아웃사이드 대구’ 출범…“지역 스타트업 생태계 활성화 앞장”\n"
     ]
    }
   ],
   "source": [
    "# 뉴스 기사 제목 추출\n",
    "titles = bs_html.select('dd.articleSubject > a')\n",
    "for title in titles:\n",
    "    print(title.text.strip())"
   ]
  },
  {
   "cell_type": "code",
   "execution_count": null,
   "id": "3dffd6e9",
   "metadata": {},
   "outputs": [],
   "source": [
    "# n 날짜의 마지막 페이지 추출\n",
    "bs_html.select('td.pgRR > a')[0]['href'].split('page=')[-1]"
   ]
  }
 ],
 "metadata": {
  "kernelspec": {
   "display_name": "Python 3 (ipykernel)",
   "language": "python",
   "name": "python3"
  },
  "language_info": {
   "codemirror_mode": {
    "name": "ipython",
    "version": 3
   },
   "file_extension": ".py",
   "mimetype": "text/x-python",
   "name": "python",
   "nbconvert_exporter": "python",
   "pygments_lexer": "ipython3",
   "version": "3.9.13"
  }
 },
 "nbformat": 4,
 "nbformat_minor": 5
}
