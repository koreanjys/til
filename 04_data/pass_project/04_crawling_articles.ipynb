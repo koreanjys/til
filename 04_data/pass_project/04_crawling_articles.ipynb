{
 "cells": [
  {
   "cell_type": "code",
   "execution_count": 123,
   "id": "7eae92c3",
   "metadata": {},
   "outputs": [],
   "source": [
    "import requests\n",
    "import pandas as pd\n",
    "from bs4 import BeautifulSoup\n",
    "import datetime\n",
    "import os"
   ]
  },
  {
   "cell_type": "code",
   "execution_count": 187,
   "id": "1635c1c3",
   "metadata": {},
   "outputs": [],
   "source": [
    "# 시간 설정\n",
    "## start_date\n",
    "sd = datetime.datetime(2021, 12, 1)\n",
    "\n",
    "## end_date\n",
    "ed = datetime.datetime(2023, 2, 23)\n",
    "\n",
    "## 날짜를 +- 할 수 있는 n변수\n",
    "n = datetime.timedelta(days=1)\n",
    "\n",
    "# 데이터를 저장할 빈 리스트 생성\n",
    "news_titles = []\n",
    "\n",
    "while sd != ed:\n",
    "    # 날짜 정의\n",
    "    bar_date = sd.strftime('%Y-%m-%d')\n",
    "    # url 정보 가져오기\n",
    "    url = f'https://www.fnnews.com/search?page=&search_type=accuracy&cont_type=tit&period_type=direct&searchDateS={bar_date}&searchDateE={bar_date}&search_txt=삼성전자'\n",
    "    res = requests.get(url)\n",
    "    html = res.content\n",
    "    bs_html = BeautifulSoup(html, 'lxml')\n",
    "    \n",
    "    # 첫번째 기사 제목만 추출\n",
    "    char = bs_html.select_one('strong.tit_thumb')\n",
    "    if char:\n",
    "        news_title = ''.join(char.contents).strip()\n",
    "    else:\n",
    "        pass\n",
    "    \n",
    "    # 리스트로 저장\n",
    "    news_titles.append([bar_date, news_title])\n",
    "    \n",
    "    sd += n"
   ]
  },
  {
   "cell_type": "code",
   "execution_count": 191,
   "id": "2f416802",
   "metadata": {},
   "outputs": [],
   "source": [
    "news = pd.DataFrame(news_titles, columns=['날짜', '제목'])\n",
    "news.to_csv('news.csv')\n",
    "\n"
   ]
  }
 ],
 "metadata": {
  "kernelspec": {
   "display_name": "Python 3 (ipykernel)",
   "language": "python",
   "name": "python3"
  },
  "language_info": {
   "codemirror_mode": {
    "name": "ipython",
    "version": 3
   },
   "file_extension": ".py",
   "mimetype": "text/x-python",
   "name": "python",
   "nbconvert_exporter": "python",
   "pygments_lexer": "ipython3",
   "version": "3.9.13"
  }
 },
 "nbformat": 4,
 "nbformat_minor": 5
}
