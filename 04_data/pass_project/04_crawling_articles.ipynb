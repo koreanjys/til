{
 "cells": [
  {
   "cell_type": "code",
   "execution_count": 39,
   "id": "7eae92c3",
   "metadata": {},
   "outputs": [],
   "source": [
    "import requests\n",
    "import pandas as pd\n",
    "from bs4 import BeautifulSoup\n",
    "import datetime\n",
    "import urllib.parse\n",
    "import os"
   ]
  },
  {
   "cell_type": "code",
   "execution_count": 6,
   "id": "1635c1c3",
   "metadata": {},
   "outputs": [
    {
     "name": "stdout",
     "output_type": "stream",
     "text": [
      "뉴스 기사 크롤링 완료\n"
     ]
    }
   ],
   "source": [
    "# 시간 설정\n",
    "## start_date\n",
    "sd = datetime.datetime(2021, 7, 1)\n",
    "## end_date\n",
    "ed = datetime.datetime(2022, 12, 31)\n",
    "\n",
    "## 날짜를 +- 할 수 있는 n변수\n",
    "n = datetime.timedelta(days=1)\n",
    "\n",
    "# 페이지\n",
    "page = 1\n",
    "\n",
    "# 데이터를 저장할 빈 리스트 생성\n",
    "news_titles = []\n",
    "\n",
    "# 네이버 url검색을 위한 이중 인코딩\n",
    "## 1. 단어를 EUC-KR 인코딩\n",
    "char = '넷플릭스'\n",
    "euc_char = char.encode('euc-kr')\n",
    "## 2. euc-kr 인코딩 한 문자열을 URL 인코딩\n",
    "url_char = urllib.parse.quote(euc_char)\n",
    "\n",
    "while sd != ed:\n",
    "    # 날짜 정의\n",
    "    bar_date = sd.strftime('%Y-%m-%d')\n",
    "    # url 정보 가져오기\n",
    "    url = f'https://finance.naver.com/news/news_search.naver?rcdate=&q={url_char}&sm=title.basic&pd=4&stDateStart={bar_date}&stDateEnd={bar_date}'\n",
    "    res = requests.get(url)\n",
    "    html = res.content\n",
    "    bs_html = BeautifulSoup(html, 'lxml')\n",
    "    # 기사 제목만 추출\n",
    "    chars = bs_html.select('dd.articleSubject > a')\n",
    "    \n",
    "    for char in chars:\n",
    "        if char:\n",
    "            news_title = char.text.strip()\n",
    "        else:\n",
    "            pass\n",
    "        # 리스트로 저장\n",
    "        news_titles.append([bar_date, news_title])\n",
    "\n",
    "    sd += n\n",
    "print('뉴스 기사 크롤링 완료')"
   ]
  },
  {
   "cell_type": "code",
   "execution_count": 8,
   "id": "2f416802",
   "metadata": {},
   "outputs": [],
   "source": [
    "news = pd.DataFrame(news_titles, columns=['날짜', '제목'])\n",
    "news.to_csv('./csvs/news.csv', index=False)"
   ]
  },
  {
   "cell_type": "code",
   "execution_count": 20,
   "id": "0f00d94b",
   "metadata": {},
   "outputs": [],
   "source": [
    "nflx_df = pd.read_csv('./csvs/news.csv')"
   ]
  },
  {
   "cell_type": "code",
   "execution_count": 41,
   "id": "d490701a",
   "metadata": {},
   "outputs": [
    {
     "name": "stdout",
     "output_type": "stream",
     "text": [
      "넷플릭스, 덱스터스튜디오·라이브톤과 장기 파트너십\n"
     ]
    }
   ],
   "source": [
    "a = nflx_df.loc[0, '제목']\n",
    "print(a)\n",
    "\n",
    "# https://github.com/kimwoonggon/publicservant_AI/blob/master/03_%EC%BC%80%EB%9D%BC%EC%8A%A4%EB%A1%9C_%EB%B2%84%ED%8A%B8_%EB%B9%A0%EB%A5%B4%EA%B2%8C_%EB%8F%8C%EB%A0%A4%EB%B3%B4%EA%B8%B0_With_%EB%84%A4%EC%9D%B4%EB%B2%84_%EC%98%81%ED%99%94_%EA%B0%90%EC%84%B1%EB%B6%84%EC%84%9D_TUTORIAL.ipynb\n",
    "# 위 주소 참고"
   ]
  },
  {
   "cell_type": "code",
   "execution_count": 42,
   "id": "adcece13",
   "metadata": {},
   "outputs": [
    {
     "data": {
      "text/html": [
       "<div>\n",
       "<style scoped>\n",
       "    .dataframe tbody tr th:only-of-type {\n",
       "        vertical-align: middle;\n",
       "    }\n",
       "\n",
       "    .dataframe tbody tr th {\n",
       "        vertical-align: top;\n",
       "    }\n",
       "\n",
       "    .dataframe thead th {\n",
       "        text-align: right;\n",
       "    }\n",
       "</style>\n",
       "<table border=\"1\" class=\"dataframe\">\n",
       "  <thead>\n",
       "    <tr style=\"text-align: right;\">\n",
       "      <th></th>\n",
       "      <th>날짜</th>\n",
       "      <th>제목</th>\n",
       "    </tr>\n",
       "  </thead>\n",
       "  <tbody>\n",
       "    <tr>\n",
       "      <th>0</th>\n",
       "      <td>2021-07-06</td>\n",
       "      <td>넷플릭스, 덱스터스튜디오·라이브톤과 장기 파트너십</td>\n",
       "    </tr>\n",
       "    <tr>\n",
       "      <th>1</th>\n",
       "      <td>2021-07-06</td>\n",
       "      <td>'킹덤' 좀비 특수효과 국내 제작사, 넷플릭스와 장기계약</td>\n",
       "    </tr>\n",
       "    <tr>\n",
       "      <th>2</th>\n",
       "      <td>2021-07-06</td>\n",
       "      <td>넷플릭스, 덱스터스튜디오와 장기 파트너십 맺는다</td>\n",
       "    </tr>\n",
       "    <tr>\n",
       "      <th>3</th>\n",
       "      <td>2021-07-06</td>\n",
       "      <td>요즘 누가 넷플릭스만 봐?...스트리밍 춘추전국시대</td>\n",
       "    </tr>\n",
       "    <tr>\n",
       "      <th>4</th>\n",
       "      <td>2021-07-06</td>\n",
       "      <td>키움證 \"덱스터, 넷플릭스와 포스트프로덕션 장기계약\"</td>\n",
       "    </tr>\n",
       "    <tr>\n",
       "      <th>...</th>\n",
       "      <td>...</td>\n",
       "      <td>...</td>\n",
       "    </tr>\n",
       "    <tr>\n",
       "      <th>1462</th>\n",
       "      <td>2022-12-29</td>\n",
       "      <td>넷플릭스 계정 공유 금지되나…\"광고 대행사·경쟁 OTT엔 기회\"-KB</td>\n",
       "    </tr>\n",
       "    <tr>\n",
       "      <th>1463</th>\n",
       "      <td>2022-12-30</td>\n",
       "      <td>CFRA, 넷플릭스 '매수'로 2계단 상향…글로벌 OTT시장에서 경쟁 우위 확고</td>\n",
       "    </tr>\n",
       "    <tr>\n",
       "      <th>1464</th>\n",
       "      <td>2022-12-30</td>\n",
       "      <td>넷플릭스에서 한국영화 340편 푼다…헤어진결심, 브로커 등</td>\n",
       "    </tr>\n",
       "    <tr>\n",
       "      <th>1465</th>\n",
       "      <td>2022-12-30</td>\n",
       "      <td>OTT 경쟁 가열에…올해 추락한 넷플릭스·디즈니 주가</td>\n",
       "    </tr>\n",
       "    <tr>\n",
       "      <th>1466</th>\n",
       "      <td>2022-12-30</td>\n",
       "      <td>`매도`에서 `매수`로…넷플릭스 비관론자의 변심 이유는</td>\n",
       "    </tr>\n",
       "  </tbody>\n",
       "</table>\n",
       "<p>1467 rows × 2 columns</p>\n",
       "</div>"
      ],
      "text/plain": [
       "              날짜                                            제목\n",
       "0     2021-07-06                   넷플릭스, 덱스터스튜디오·라이브톤과 장기 파트너십\n",
       "1     2021-07-06               '킹덤' 좀비 특수효과 국내 제작사, 넷플릭스와 장기계약\n",
       "2     2021-07-06                    넷플릭스, 덱스터스튜디오와 장기 파트너십 맺는다\n",
       "3     2021-07-06                  요즘 누가 넷플릭스만 봐?...스트리밍 춘추전국시대\n",
       "4     2021-07-06                 키움證 \"덱스터, 넷플릭스와 포스트프로덕션 장기계약\"\n",
       "...          ...                                           ...\n",
       "1462  2022-12-29        넷플릭스 계정 공유 금지되나…\"광고 대행사·경쟁 OTT엔 기회\"-KB\n",
       "1463  2022-12-30  CFRA, 넷플릭스 '매수'로 2계단 상향…글로벌 OTT시장에서 경쟁 우위 확고\n",
       "1464  2022-12-30              넷플릭스에서 한국영화 340편 푼다…헤어진결심, 브로커 등\n",
       "1465  2022-12-30                 OTT 경쟁 가열에…올해 추락한 넷플릭스·디즈니 주가\n",
       "1466  2022-12-30                `매도`에서 `매수`로…넷플릭스 비관론자의 변심 이유는\n",
       "\n",
       "[1467 rows x 2 columns]"
      ]
     },
     "execution_count": 42,
     "metadata": {},
     "output_type": "execute_result"
    }
   ],
   "source": [
    "nflx_df"
   ]
  }
 ],
 "metadata": {
  "kernelspec": {
   "display_name": "Python 3 (ipykernel)",
   "language": "python",
   "name": "python3"
  },
  "language_info": {
   "codemirror_mode": {
    "name": "ipython",
    "version": 3
   },
   "file_extension": ".py",
   "mimetype": "text/x-python",
   "name": "python",
   "nbconvert_exporter": "python",
   "pygments_lexer": "ipython3",
   "version": "3.9.13"
  }
 },
 "nbformat": 4,
 "nbformat_minor": 5
}
