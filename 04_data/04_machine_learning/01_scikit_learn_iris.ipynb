{
 "cells": [
  {
   "cell_type": "code",
   "execution_count": 1,
   "id": "4311ce7a",
   "metadata": {},
   "outputs": [],
   "source": [
    "import sklearn\n",
    "import pandas as pd\n",
    "import numpy as np"
   ]
  },
  {
   "cell_type": "code",
   "execution_count": 2,
   "id": "3bc011e5",
   "metadata": {},
   "outputs": [
    {
     "data": {
      "text/plain": [
       "'1.0.2'"
      ]
     },
     "execution_count": 2,
     "metadata": {},
     "output_type": "execute_result"
    }
   ],
   "source": [
    "# 사이킷런 버전 확인\n",
    "sklearn.__version__"
   ]
  },
  {
   "cell_type": "code",
   "execution_count": 3,
   "id": "56370a33",
   "metadata": {},
   "outputs": [],
   "source": [
    "# 데이터셋 정의 - iris_data()\n",
    "from sklearn.datasets import load_iris\n",
    "iris = load_iris()\n",
    "x_features = iris.data\n",
    "y_label = iris.target\n",
    "\n",
    "col_names = ['sep.len', 'sep.wid', 'pet.len', 'pet.wid']\n",
    "iris_df = pd.DataFrame(data=x_features, columns=col_names)\n",
    "iris_df['label'] = y_label"
   ]
  },
  {
   "cell_type": "markdown",
   "id": "6ad530d3",
   "metadata": {},
   "source": [
    "### 학습용 데이터와 테스트용 데이터를 분리 (반드시 분리)"
   ]
  },
  {
   "cell_type": "code",
   "execution_count": 4,
   "id": "327bf377",
   "metadata": {},
   "outputs": [],
   "source": [
    "from sklearn.model_selection import train_test_split"
   ]
  },
  {
   "cell_type": "code",
   "execution_count": 5,
   "id": "e96aaa0e",
   "metadata": {},
   "outputs": [],
   "source": [
    "# train_test_split의 용례\n",
    "array1 = np.arange(1, 11)\n",
    "array_train, array_test = train_test_split(array1, test_size=0.2, random_state=11)"
   ]
  },
  {
   "cell_type": "code",
   "execution_count": 6,
   "id": "ccb9398b",
   "metadata": {},
   "outputs": [],
   "source": [
    "# 두 줄로 코드를 쓴다면\n",
    "# x_train, x_test = train_test_split(x_features, test_size=0.2, random_state=11)\n",
    "# y_train, y_test = train_test_split(y_label, test_size=0.2, random_state=11)"
   ]
  },
  {
   "cell_type": "code",
   "execution_count": 7,
   "id": "073ee9da",
   "metadata": {},
   "outputs": [],
   "source": [
    "# 위에 코드를 실무와 현실에선 이렇게 적용\n",
    "x_train, x_test, y_train, y_test = train_test_split(x_features, y_label, test_size=0.2, random_state=11)"
   ]
  },
  {
   "cell_type": "code",
   "execution_count": 8,
   "id": "cab6cdb7",
   "metadata": {},
   "outputs": [
    {
     "data": {
      "text/plain": [
       "(120, 4)"
      ]
     },
     "execution_count": 8,
     "metadata": {},
     "output_type": "execute_result"
    }
   ],
   "source": [
    "# 각 쓰일 데이터들의 shape를 확인\n",
    "x_train.shape"
   ]
  },
  {
   "cell_type": "code",
   "execution_count": 9,
   "id": "76c728e1",
   "metadata": {},
   "outputs": [
    {
     "data": {
      "text/plain": [
       "(120,)"
      ]
     },
     "execution_count": 9,
     "metadata": {},
     "output_type": "execute_result"
    }
   ],
   "source": [
    "y_train.shape"
   ]
  },
  {
   "cell_type": "code",
   "execution_count": 10,
   "id": "90b621d6",
   "metadata": {},
   "outputs": [
    {
     "data": {
      "text/plain": [
       "(30, 4)"
      ]
     },
     "execution_count": 10,
     "metadata": {},
     "output_type": "execute_result"
    }
   ],
   "source": [
    "x_test.shape"
   ]
  },
  {
   "cell_type": "code",
   "execution_count": 11,
   "id": "e554f53f",
   "metadata": {},
   "outputs": [
    {
     "data": {
      "text/plain": [
       "(30,)"
      ]
     },
     "execution_count": 11,
     "metadata": {},
     "output_type": "execute_result"
    }
   ],
   "source": [
    "y_test.shape"
   ]
  },
  {
   "cell_type": "code",
   "execution_count": 12,
   "id": "4adb6f07",
   "metadata": {},
   "outputs": [],
   "source": [
    "# 쓰일 알고리즘 loading - 의사결정나무(DecisionTreeClassifier)\n",
    "# Black - Box\n",
    "from sklearn.tree import DecisionTreeClassifier"
   ]
  },
  {
   "cell_type": "code",
   "execution_count": 13,
   "id": "819a4004",
   "metadata": {},
   "outputs": [],
   "source": [
    "# 알고리즘 객체화\n",
    "dtree_clf = DecisionTreeClassifier(random_state=11)"
   ]
  },
  {
   "cell_type": "code",
   "execution_count": 14,
   "id": "21e3a22e",
   "metadata": {},
   "outputs": [
    {
     "data": {
      "text/plain": [
       "DecisionTreeClassifier(random_state=11)"
      ]
     },
     "execution_count": 14,
     "metadata": {},
     "output_type": "execute_result"
    }
   ],
   "source": [
    "# 학습을 수행 fit() => estimator를 활용 (적합시킨다.)\n",
    "dtree_clf.fit(x_train, y_train)  # 전체데이터 중에서 150 => 120개 학습에 적용"
   ]
  },
  {
   "cell_type": "code",
   "execution_count": 15,
   "id": "6812c44e",
   "metadata": {},
   "outputs": [],
   "source": [
    "# 학습된 dtree_clf 모델을 토대로\n",
    "# 분류예측을 수행한다. => x_test 값만 넣는다.\n",
    "\n",
    "y_pred = dtree_clf.predict(x_test)  # 30개만 현재 데이터에 예측의 재료로 사용"
   ]
  },
  {
   "cell_type": "code",
   "execution_count": 16,
   "id": "c087a93a",
   "metadata": {},
   "outputs": [
    {
     "data": {
      "text/plain": [
       "array([2, 2, 1, 1, 2, 0, 1, 0, 0, 1, 1, 1, 1, 2, 2, 0, 2, 1, 2, 2, 1, 0,\n",
       "       0, 1, 0, 0, 2, 1, 0, 1])"
      ]
     },
     "execution_count": 16,
     "metadata": {},
     "output_type": "execute_result"
    }
   ],
   "source": [
    "y_pred  # 예측값"
   ]
  },
  {
   "cell_type": "code",
   "execution_count": 17,
   "id": "27380bb9",
   "metadata": {},
   "outputs": [
    {
     "data": {
      "text/plain": [
       "array([2, 2, 2, 1, 2, 0, 1, 0, 0, 1, 2, 1, 1, 2, 2, 0, 2, 1, 2, 2, 1, 0,\n",
       "       0, 1, 0, 0, 2, 1, 0, 1])"
      ]
     },
     "execution_count": 17,
     "metadata": {},
     "output_type": "execute_result"
    }
   ],
   "source": [
    "y_test  # 실제값"
   ]
  },
  {
   "cell_type": "code",
   "execution_count": 18,
   "id": "abae4c33",
   "metadata": {},
   "outputs": [],
   "source": [
    "# y_pred 예측값은 y_test 실제값과 오차 2개 (정답률 28/30)\n",
    "\n",
    "# 평가지표 호출\n",
    "from sklearn.metrics import accuracy_score as acc_sc"
   ]
  },
  {
   "cell_type": "code",
   "execution_count": 19,
   "id": "e3beb74f",
   "metadata": {},
   "outputs": [
    {
     "data": {
      "text/plain": [
       "0.9333333333333333"
      ]
     },
     "execution_count": 19,
     "metadata": {},
     "output_type": "execute_result"
    }
   ],
   "source": [
    "acc_sc(y_test, y_pred)"
   ]
  }
 ],
 "metadata": {
  "kernelspec": {
   "display_name": "Python 3 (ipykernel)",
   "language": "python",
   "name": "python3"
  },
  "language_info": {
   "codemirror_mode": {
    "name": "ipython",
    "version": 3
   },
   "file_extension": ".py",
   "mimetype": "text/x-python",
   "name": "python",
   "nbconvert_exporter": "python",
   "pygments_lexer": "ipython3",
   "version": "3.9.13"
  }
 },
 "nbformat": 4,
 "nbformat_minor": 5
}
