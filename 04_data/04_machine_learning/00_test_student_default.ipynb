{
 "cells": [
  {
   "cell_type": "code",
   "execution_count": 1,
   "id": "2f3f24ed",
   "metadata": {},
   "outputs": [],
   "source": [
    "import pandas as pd\n",
    "import numpy as np"
   ]
  },
  {
   "cell_type": "code",
   "execution_count": 2,
   "id": "e511a01a",
   "metadata": {},
   "outputs": [],
   "source": [
    "st_df = pd.read_csv('ysp_files/st_default.csv')"
   ]
  },
  {
   "cell_type": "code",
   "execution_count": 3,
   "id": "7ed9231f",
   "metadata": {},
   "outputs": [
    {
     "data": {
      "text/plain": [
       "Unnamed: 0    0\n",
       "default       0\n",
       "student       0\n",
       "balance       0\n",
       "income        0\n",
       "dtype: int64"
      ]
     },
     "execution_count": 3,
     "metadata": {},
     "output_type": "execute_result"
    }
   ],
   "source": [
    "st_df.isna().sum()  # 결측값 없음"
   ]
  },
  {
   "cell_type": "code",
   "execution_count": 14,
   "id": "929126a3",
   "metadata": {},
   "outputs": [
    {
     "data": {
      "text/html": [
       "<div>\n",
       "<style scoped>\n",
       "    .dataframe tbody tr th:only-of-type {\n",
       "        vertical-align: middle;\n",
       "    }\n",
       "\n",
       "    .dataframe tbody tr th {\n",
       "        vertical-align: top;\n",
       "    }\n",
       "\n",
       "    .dataframe thead th {\n",
       "        text-align: right;\n",
       "    }\n",
       "</style>\n",
       "<table border=\"1\" class=\"dataframe\">\n",
       "  <thead>\n",
       "    <tr style=\"text-align: right;\">\n",
       "      <th></th>\n",
       "      <th>balance</th>\n",
       "      <th>income</th>\n",
       "    </tr>\n",
       "  </thead>\n",
       "  <tbody>\n",
       "    <tr>\n",
       "      <th>0</th>\n",
       "      <td>729.526495</td>\n",
       "      <td>44361.62507</td>\n",
       "    </tr>\n",
       "    <tr>\n",
       "      <th>1</th>\n",
       "      <td>817.180407</td>\n",
       "      <td>12106.13470</td>\n",
       "    </tr>\n",
       "    <tr>\n",
       "      <th>2</th>\n",
       "      <td>1073.549164</td>\n",
       "      <td>31767.13895</td>\n",
       "    </tr>\n",
       "    <tr>\n",
       "      <th>3</th>\n",
       "      <td>529.250605</td>\n",
       "      <td>35704.49394</td>\n",
       "    </tr>\n",
       "    <tr>\n",
       "      <th>4</th>\n",
       "      <td>785.655883</td>\n",
       "      <td>38463.49588</td>\n",
       "    </tr>\n",
       "    <tr>\n",
       "      <th>...</th>\n",
       "      <td>...</td>\n",
       "      <td>...</td>\n",
       "    </tr>\n",
       "    <tr>\n",
       "      <th>9995</th>\n",
       "      <td>711.555020</td>\n",
       "      <td>52992.37891</td>\n",
       "    </tr>\n",
       "    <tr>\n",
       "      <th>9996</th>\n",
       "      <td>757.962918</td>\n",
       "      <td>19660.72177</td>\n",
       "    </tr>\n",
       "    <tr>\n",
       "      <th>9997</th>\n",
       "      <td>845.411989</td>\n",
       "      <td>58636.15698</td>\n",
       "    </tr>\n",
       "    <tr>\n",
       "      <th>9998</th>\n",
       "      <td>1569.009053</td>\n",
       "      <td>36669.11236</td>\n",
       "    </tr>\n",
       "    <tr>\n",
       "      <th>9999</th>\n",
       "      <td>200.922183</td>\n",
       "      <td>16862.95232</td>\n",
       "    </tr>\n",
       "  </tbody>\n",
       "</table>\n",
       "<p>10000 rows × 2 columns</p>\n",
       "</div>"
      ],
      "text/plain": [
       "          balance       income\n",
       "0      729.526495  44361.62507\n",
       "1      817.180407  12106.13470\n",
       "2     1073.549164  31767.13895\n",
       "3      529.250605  35704.49394\n",
       "4      785.655883  38463.49588\n",
       "...           ...          ...\n",
       "9995   711.555020  52992.37891\n",
       "9996   757.962918  19660.72177\n",
       "9997   845.411989  58636.15698\n",
       "9998  1569.009053  36669.11236\n",
       "9999   200.922183  16862.95232\n",
       "\n",
       "[10000 rows x 2 columns]"
      ]
     },
     "execution_count": 14,
     "metadata": {},
     "output_type": "execute_result"
    }
   ],
   "source": [
    "# 필요 없는 column 은 없앤다.\n",
    "st_features = st_df.loc[:, ['balance', 'income']]\n",
    "st_col = st_df.student  # 추후 문자열을 숫자로 인코딩 후 label\n",
    "st_default = st_df.default\n",
    "st_features"
   ]
  },
  {
   "cell_type": "code",
   "execution_count": 5,
   "id": "b3de79e4",
   "metadata": {},
   "outputs": [],
   "source": [
    "# 문자열을 숫자로 변경 label encoding\n",
    "from sklearn.preprocessing import LabelEncoder"
   ]
  },
  {
   "cell_type": "code",
   "execution_count": 17,
   "id": "bc9c808f",
   "metadata": {},
   "outputs": [
    {
     "data": {
      "text/plain": [
       "0       0\n",
       "1       0\n",
       "2       0\n",
       "3       0\n",
       "4       0\n",
       "       ..\n",
       "9995    0\n",
       "9996    0\n",
       "9997    0\n",
       "9998    0\n",
       "9999    0\n",
       "Length: 10000, dtype: int32"
      ]
     },
     "execution_count": 17,
     "metadata": {},
     "output_type": "execute_result"
    }
   ],
   "source": [
    "# student 여부 Yes or No 를 인코딩\n",
    "lb_encoder = LabelEncoder()\n",
    "lb_encoder.fit(st_col)\n",
    "st_label = lb_encoder.transform(st_col)\n",
    "st_label = pd.Series(st_label)\n",
    "\n",
    "# default 여부 Yes or No 를 인코딩\n",
    "lb_encoder.fit(st_default)\n",
    "st_default_ec = lb_encoder.transform(st_default)\n",
    "st_default_ec = pd.Series(st_default_ec)\n",
    "\n",
    "# 인코딩 한 default 값들을 x 컬럼에 추가\n",
    "st_features['default'] = st_default_ec"
   ]
  },
  {
   "cell_type": "code",
   "execution_count": 7,
   "id": "496813e9",
   "metadata": {},
   "outputs": [],
   "source": [
    "# train 과 test 분리\n",
    "from sklearn.model_selection import train_test_split"
   ]
  },
  {
   "cell_type": "code",
   "execution_count": 8,
   "id": "7f305319",
   "metadata": {},
   "outputs": [],
   "source": [
    "x_train, x_test, y_train, y_test = train_test_split(st_features, st_label)"
   ]
  },
  {
   "cell_type": "code",
   "execution_count": 9,
   "id": "8f44fe44",
   "metadata": {},
   "outputs": [],
   "source": [
    "# 의사결정나무 알고리즘 사용\n",
    "from sklearn.tree import DecisionTreeClassifier"
   ]
  },
  {
   "cell_type": "code",
   "execution_count": 10,
   "id": "3db44675",
   "metadata": {},
   "outputs": [
    {
     "data": {
      "text/plain": [
       "DecisionTreeClassifier()"
      ]
     },
     "execution_count": 10,
     "metadata": {},
     "output_type": "execute_result"
    }
   ],
   "source": [
    "dt_clf = DecisionTreeClassifier()  # 알고리즘 객체화\n",
    "dt_clf.fit(x_train, y_train)  # 학습 시키기"
   ]
  },
  {
   "cell_type": "code",
   "execution_count": 11,
   "id": "c429028a",
   "metadata": {},
   "outputs": [],
   "source": [
    "# 학습을 바탕으로 예측 값 생성\n",
    "y_pred = dt_clf.predict(x_test)"
   ]
  },
  {
   "cell_type": "code",
   "execution_count": 12,
   "id": "ce17ab06",
   "metadata": {},
   "outputs": [],
   "source": [
    "# 평가 하기\n",
    "from sklearn.metrics import accuracy_score as acc_sc"
   ]
  },
  {
   "cell_type": "code",
   "execution_count": 13,
   "id": "28d515e6",
   "metadata": {},
   "outputs": [
    {
     "data": {
      "text/plain": [
       "0.9124"
      ]
     },
     "execution_count": 13,
     "metadata": {},
     "output_type": "execute_result"
    }
   ],
   "source": [
    "acc_sc(y_test, y_pred)"
   ]
  },
  {
   "cell_type": "code",
   "execution_count": null,
   "id": "bd938914",
   "metadata": {},
   "outputs": [],
   "source": []
  }
 ],
 "metadata": {
  "kernelspec": {
   "display_name": "Python 3 (ipykernel)",
   "language": "python",
   "name": "python3"
  },
  "language_info": {
   "codemirror_mode": {
    "name": "ipython",
    "version": 3
   },
   "file_extension": ".py",
   "mimetype": "text/x-python",
   "name": "python",
   "nbconvert_exporter": "python",
   "pygments_lexer": "ipython3",
   "version": "3.9.13"
  }
 },
 "nbformat": 4,
 "nbformat_minor": 5
}
