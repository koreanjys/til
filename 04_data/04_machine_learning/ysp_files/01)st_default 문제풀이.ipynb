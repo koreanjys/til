{
 "cells": [
  {
   "cell_type": "code",
   "execution_count": 3,
   "id": "77c9725b",
   "metadata": {},
   "outputs": [],
   "source": [
    "# 필수 라이브러리 호출\n",
    "import pandas as pd\n",
    "import numpy as np\n",
    "\n",
    "from sklearn.model_selection import train_test_split\n",
    "from sklearn.model_selection import cross_val_score\n",
    "from sklearn.tree import DecisionTreeClassifier\n",
    "from sklearn.metrics import accuracy_score"
   ]
  },
  {
   "cell_type": "code",
   "execution_count": 8,
   "id": "5dcade26",
   "metadata": {},
   "outputs": [],
   "source": [
    "# 데이터 정의\n",
    "\n",
    "st_default_df = pd.read_csv('./st_default.csv')\n",
    "st_default_df1 = st_default_df.iloc[:,1:]"
   ]
  },
  {
   "cell_type": "code",
   "execution_count": 11,
   "id": "141849e6",
   "metadata": {},
   "outputs": [],
   "source": [
    "# train_test_split 하기 전에 문자형 데이터들 변경 - 1)레이블 vs 2) one-hot\n",
    "# 그런데 y_label의 경우 default를 예측하는 값이므로 이 값은 label\n",
    "# 나머지 student는 get_dummies()\n",
    "\n",
    "X_data = st_default_df1.drop('default', axis=1)\n",
    "y_target = st_default_df1['default']"
   ]
  },
  {
   "cell_type": "code",
   "execution_count": 15,
   "id": "ddca1ab9",
   "metadata": {},
   "outputs": [
    {
     "name": "stdout",
     "output_type": "stream",
     "text": [
      "X_data의 크기: 10000\n",
      "y_target의 크기: 10000\n"
     ]
    }
   ],
   "source": [
    "# 크기 확인 \n",
    "print('X_data의 크기:', X_data.shape[0])\n",
    "print('y_target의 크기:', y_target.shape[0])"
   ]
  },
  {
   "cell_type": "code",
   "execution_count": 19,
   "id": "2f10afdc",
   "metadata": {},
   "outputs": [],
   "source": [
    "X_data_df = pd.get_dummies(X_data)"
   ]
  },
  {
   "cell_type": "code",
   "execution_count": 26,
   "id": "49a8e74d",
   "metadata": {},
   "outputs": [
    {
     "data": {
      "text/plain": [
       "0    9667\n",
       "1     333\n",
       "dtype: int64"
      ]
     },
     "execution_count": 26,
     "metadata": {},
     "output_type": "execute_result"
    }
   ],
   "source": [
    "# y_값에 label encoding\n",
    "\n",
    "from sklearn.preprocessing import LabelEncoder\n",
    "\n",
    "le_encode = LabelEncoder()\n",
    "y_target_scaled = le_encode.fit_transform(y_target)\n",
    "\n",
    "# imbalanced data\n",
    "pd.Series(y_target_scaled).value_counts()"
   ]
  },
  {
   "cell_type": "code",
   "execution_count": 31,
   "id": "20e09a6a",
   "metadata": {},
   "outputs": [],
   "source": [
    "# 데이터 분할 - train_test_split\n",
    "X_train, X_test, y_train, y_test = train_test_split(X_data_df, y_target_scaled, stratify=y_target_scaled)"
   ]
  },
  {
   "cell_type": "code",
   "execution_count": 32,
   "id": "abf47c0f",
   "metadata": {},
   "outputs": [],
   "source": [
    "# 의사결정나무 적용\n",
    "\n",
    "dt_clf = DecisionTreeClassifier()\n",
    "dt_clf.fit(X_train,y_train)\n",
    "\n",
    "y_pred = dt_clf.predict(X_test)"
   ]
  },
  {
   "cell_type": "code",
   "execution_count": 34,
   "id": "a940ad9e",
   "metadata": {},
   "outputs": [
    {
     "name": "stdout",
     "output_type": "stream",
     "text": [
      "정확도는 :0.9564\n"
     ]
    }
   ],
   "source": [
    "# 평가지표\n",
    "\n",
    "print(f'정확도는 :{accuracy_score(y_pred,y_test)}') "
   ]
  },
  {
   "cell_type": "markdown",
   "id": "e4aac6f2",
   "metadata": {},
   "source": [
    "#### 배우신 분들을 위한 내용"
   ]
  },
  {
   "cell_type": "code",
   "execution_count": 37,
   "id": "4dbfd246",
   "metadata": {},
   "outputs": [
    {
     "name": "stdout",
     "output_type": "stream",
     "text": [
      "교차 검증별 정확도:[0.956 0.962 0.948 0.957 0.953 0.957 0.959 0.956 0.957 0.955]\n",
      "평균 검증별 정확도:0.956\n"
     ]
    }
   ],
   "source": [
    "# 1. 교차검증을 수행\n",
    "from sklearn.model_selection import cross_val_score\n",
    "\n",
    "scores = cross_val_score(dt_clf, X_data_df, y_target_scaled, scoring='accuracy', cv=10)\n",
    "print(f'교차 검증별 정확도:{np.round(scores, 4)}')\n",
    "print(f'평균 검증별 정확도:{np.round(np.mean(scores), 4)}')"
   ]
  },
  {
   "cell_type": "code",
   "execution_count": 39,
   "id": "df91f1dd",
   "metadata": {},
   "outputs": [
    {
     "data": {
      "text/plain": [
       "GridSearchCV(cv=10, estimator=DecisionTreeClassifier(),\n",
       "             param_grid={'max_depth': [3, 4, 5, 6, 7, 10],\n",
       "                         'min_samples_split': [2, 3, 5, 10]})"
      ]
     },
     "execution_count": 39,
     "metadata": {},
     "output_type": "execute_result"
    }
   ],
   "source": [
    "# 2. 하이퍼파라미터 튜닝을 수행\n",
    "from sklearn.model_selection import GridSearchCV\n",
    "\n",
    "parameters = {'max_depth':[3,4,5,6,7,10],\n",
    "              'min_samples_split':[2,3,5,10],}\n",
    "grid_dtree = GridSearchCV(dt_clf, param_grid=parameters, cv=10, refit=True)\n",
    "grid_dtree.fit(X_train,y_train)"
   ]
  },
  {
   "cell_type": "code",
   "execution_count": 41,
   "id": "d19033e8",
   "metadata": {},
   "outputs": [
    {
     "name": "stdout",
     "output_type": "stream",
     "text": [
      "test datasets accuracy:0.9688\n"
     ]
    }
   ],
   "source": [
    "estimator = grid_dtree.best_estimator_\n",
    "\n",
    "pred_grid = estimator.predict(X_test)\n",
    "print(f'test datasets accuracy:{accuracy_score(y_test,pred_grid)}')"
   ]
  },
  {
   "cell_type": "code",
   "execution_count": 43,
   "id": "1a99c68e",
   "metadata": {},
   "outputs": [],
   "source": [
    "# 1. 왜 데이터의 해당하는 정확도 값이 높게 나왔을까요?\n",
    "# 2. 데이터는 어떠한 특징을 지니고 있나요?\n",
    "# 3. 데이터에는 어떠한 문제점이 있나요?\n",
    "# 4. 그렇다면 이러한 문제점을 해결하기 위한 방안은 무엇이 있을까요?"
   ]
  },
  {
   "cell_type": "code",
   "execution_count": 42,
   "id": "f92f8e97",
   "metadata": {},
   "outputs": [],
   "source": [
    "# end of file"
   ]
  }
 ],
 "metadata": {
  "kernelspec": {
   "display_name": "Python 3 (ipykernel)",
   "language": "python",
   "name": "python3"
  },
  "language_info": {
   "codemirror_mode": {
    "name": "ipython",
    "version": 3
   },
   "file_extension": ".py",
   "mimetype": "text/x-python",
   "name": "python",
   "nbconvert_exporter": "python",
   "pygments_lexer": "ipython3",
   "version": "3.9.13"
  }
 },
 "nbformat": 4,
 "nbformat_minor": 5
}
