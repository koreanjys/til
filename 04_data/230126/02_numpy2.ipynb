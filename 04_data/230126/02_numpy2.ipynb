{
 "cells": [
  {
   "cell_type": "markdown",
   "id": "34dd5dd6",
   "metadata": {},
   "source": [
    "## 넘파이:ML 주요 알고리즘 -선형대수와 통계에 기반\n",
    "* Numpy는  Numerical Python을 의미하며 파이썬에서 선형대수 기반의 프로그램을 쉽게 만들 수 있도록 지원하는 대표 패키지\n",
    "\n",
    "\n",
    "* 루프를 사용치 않고 대량 데이터의 배열 연산이 가능\n",
    "\n",
    "\n",
    "* C/C++과 같은 저수준 언어 기반의 호환 API제공"
   ]
  },
  {
   "cell_type": "code",
   "execution_count": 3,
   "id": "4af51b47",
   "metadata": {},
   "outputs": [],
   "source": [
    "# 라이브러리 호출\n",
    "\n",
    "import numpy as np"
   ]
  },
  {
   "cell_type": "code",
   "execution_count": 6,
   "id": "9dba60cc",
   "metadata": {},
   "outputs": [
    {
     "name": "stdout",
     "output_type": "stream",
     "text": [
      "array_l1 type:  <class 'numpy.ndarray'>\n",
      "array_l1 shape:  (3,)\n"
     ]
    }
   ],
   "source": [
    "l1 = [1, 2, 3]\n",
    "\n",
    "# array 생성\n",
    "array_l1 = np.array(l1)\n",
    "\n",
    "# type과 shape(형태)를 확인한다.\n",
    "print('array_l1 type: ', type(array_l1))\n",
    "print('array_l1 shape: ', array_l1.shape)  \n",
    "\n",
    "# property (괄호가 존재하지 않음) - shape, ndim, "
   ]
  },
  {
   "cell_type": "code",
   "execution_count": 9,
   "id": "a51bc252",
   "metadata": {},
   "outputs": [
    {
     "name": "stdout",
     "output_type": "stream",
     "text": [
      "array_l2 type:  <class 'numpy.ndarray'>\n",
      "array_l2 shape:  (2, 3)\n"
     ]
    }
   ],
   "source": [
    "# 차원 복습 - 2차원 생성\n",
    "l2 = [[11, 22, 33], \n",
    "     [44, 55, 66]]  # 할당(Assignment), 선언(Declare)\n",
    "\n",
    "# array 생성\n",
    "array_l2 = np.array(l2)\n",
    "\n",
    "# type과 shape(형태)를 확인한다.\n",
    "print('array_l2 type: ', type(array_l2))\n",
    "print('array_l2 shape: ', array_l2.shape)"
   ]
  },
  {
   "cell_type": "code",
   "execution_count": 13,
   "id": "7c08f38c",
   "metadata": {},
   "outputs": [
    {
     "name": "stdout",
     "output_type": "stream",
     "text": [
      "array_l3 type:  <class 'numpy.ndarray'>\n",
      "array_l3 shape:  (1, 2, 3)\n"
     ]
    }
   ],
   "source": [
    "# 차원 복습 - 3차원 생성\n",
    "l3 = [\n",
    "    [[11, 22, 33], [44, 55, 66]]\n",
    "]  # 할당(Assignment), 선언(Declare)\n",
    "\n",
    "# array 생성\n",
    "array_l3 = np.array(l3)\n",
    "\n",
    "# type과 shape(형태)를 확인한다.\n",
    "print('array_l3 type: ', type(array_l3))\n",
    "print('array_l3 shape: ', array_l3.shape)"
   ]
  },
  {
   "cell_type": "markdown",
   "id": "d48d93c1",
   "metadata": {},
   "source": [
    "## ndarray 간편하게 만들기"
   ]
  },
  {
   "cell_type": "markdown",
   "id": "8505c922",
   "metadata": {},
   "source": [
    "### arange 활용"
   ]
  },
  {
   "cell_type": "code",
   "execution_count": 18,
   "id": "79af664d",
   "metadata": {},
   "outputs": [
    {
     "data": {
      "text/plain": [
       "array([3, 4, 5, 6, 7, 8, 9])"
      ]
     },
     "execution_count": 18,
     "metadata": {},
     "output_type": "execute_result"
    }
   ],
   "source": [
    "# 기본설정(default)로 활용\n",
    "sq_array = np.arange(10)  # n-1까지 들어가니까 총 9개 생성된다.\n",
    "sq_array\n",
    "\n",
    "# start 파라미터, stop 파라미터를 활용\n",
    "sq_array2 = np.arange(3, 10)\n",
    "sq_array2"
   ]
  },
  {
   "cell_type": "code",
   "execution_count": 21,
   "id": "6323f4aa",
   "metadata": {},
   "outputs": [
    {
     "name": "stdout",
     "output_type": "stream",
     "text": [
      "int32 (10,)\n"
     ]
    },
    {
     "data": {
      "text/plain": [
       "array([0, 1, 2, 3, 4, 5, 6, 7, 8, 9])"
      ]
     },
     "execution_count": 21,
     "metadata": {},
     "output_type": "execute_result"
    }
   ],
   "source": [
    "print(sq_array.dtype, sq_array.shape)\n",
    "sq_array"
   ]
  },
  {
   "cell_type": "markdown",
   "id": "19320c7d",
   "metadata": {},
   "source": [
    "### zeros 활용"
   ]
  },
  {
   "cell_type": "code",
   "execution_count": 23,
   "id": "f8fdda61",
   "metadata": {},
   "outputs": [
    {
     "name": "stdout",
     "output_type": "stream",
     "text": [
      "int32 (3, 2)\n"
     ]
    },
    {
     "data": {
      "text/plain": [
       "array([[0, 0],\n",
       "       [0, 0],\n",
       "       [0, 0]])"
      ]
     },
     "execution_count": 23,
     "metadata": {},
     "output_type": "execute_result"
    }
   ],
   "source": [
    "zero_array = np.zeros((3, 2), dtype='int32')\n",
    "\n",
    "print(zero_array.dtype, zero_array.shape)\n",
    "zero_array"
   ]
  },
  {
   "cell_type": "markdown",
   "id": "2683dcfa",
   "metadata": {},
   "source": [
    "### ones 활용"
   ]
  },
  {
   "cell_type": "code",
   "execution_count": 24,
   "id": "f7b18627",
   "metadata": {},
   "outputs": [
    {
     "name": "stdout",
     "output_type": "stream",
     "text": [
      "int32 (3, 2)\n"
     ]
    },
    {
     "data": {
      "text/plain": [
       "array([[1, 1],\n",
       "       [1, 1],\n",
       "       [1, 1]])"
      ]
     },
     "execution_count": 24,
     "metadata": {},
     "output_type": "execute_result"
    }
   ],
   "source": [
    "one_array = np.ones((3, 2), dtype='int32')\n",
    "\n",
    "print(one_array.dtype, one_array.shape)\n",
    "one_array"
   ]
  },
  {
   "cell_type": "markdown",
   "id": "8ae62fb8",
   "metadata": {},
   "source": [
    "## reshape을 활용한 차원호환"
   ]
  },
  {
   "cell_type": "code",
   "execution_count": 27,
   "id": "4c8430e5",
   "metadata": {},
   "outputs": [
    {
     "data": {
      "text/plain": [
       "array([ 1,  2,  3,  4,  5,  6,  7,  8,  9, 10])"
      ]
     },
     "execution_count": 27,
     "metadata": {},
     "output_type": "execute_result"
    }
   ],
   "source": [
    "# 1차원\n",
    "sqr_array = np.arange(1, 11)\n",
    "sqr_array"
   ]
  },
  {
   "cell_type": "code",
   "execution_count": 31,
   "id": "b3d559e1",
   "metadata": {},
   "outputs": [
    {
     "data": {
      "text/plain": [
       "array([[ 1],\n",
       "       [ 2],\n",
       "       [ 3],\n",
       "       [ 4],\n",
       "       [ 5],\n",
       "       [ 6],\n",
       "       [ 7],\n",
       "       [ 8],\n",
       "       [ 9],\n",
       "       [10]])"
      ]
     },
     "execution_count": 31,
     "metadata": {},
     "output_type": "execute_result"
    }
   ],
   "source": [
    "# 2차원\n",
    "sqr_array2d = sqr_array.reshape(2, 5)\n",
    "sqr_array2d.reshape(10, 1)  # (-1, 1) 넣어도 같음\n",
    "\n",
    "# -1 은 자동으로 계산을 해줘서 요소 갯수만큼 맞춰줌"
   ]
  },
  {
   "cell_type": "code",
   "execution_count": 44,
   "id": "6b6d7d78",
   "metadata": {},
   "outputs": [],
   "source": [
    "# 3차원\n",
    "sqr_array3 = np.arange(1, 9)\n",
    "sqr_array3d = sqr_array3.reshape(2, 2, 2)"
   ]
  },
  {
   "cell_type": "code",
   "execution_count": 50,
   "id": "cb4ea4ff",
   "metadata": {},
   "outputs": [
    {
     "name": "stdout",
     "output_type": "stream",
     "text": [
      "[[1, 2, 3, 4], [5, 6, 7, 8]]\n"
     ]
    }
   ],
   "source": [
    "# sqr_array3d => sqr_array2d\n",
    "sqr_array2d = sqr_array3d.reshape(2, -1)\n",
    "sqr_l2 = sqr_array2d.tolist()  # .tolist()를 해주면 list로 바뀐다.\n",
    "print(sqr_l2)"
   ]
  },
  {
   "cell_type": "code",
   "execution_count": 51,
   "id": "980102a2",
   "metadata": {},
   "outputs": [],
   "source": [
    "# end of file"
   ]
  }
 ],
 "metadata": {
  "kernelspec": {
   "display_name": "venv",
   "language": "python",
   "name": "python3"
  },
  "language_info": {
   "codemirror_mode": {
    "name": "ipython",
    "version": 3
   },
   "file_extension": ".py",
   "mimetype": "text/x-python",
   "name": "python",
   "nbconvert_exporter": "python",
   "pygments_lexer": "ipython3",
   "version": "3.10.9 (tags/v3.10.9:1dd9be6, Dec  6 2022, 20:01:21) [MSC v.1934 64 bit (AMD64)]"
  },
  "vscode": {
   "interpreter": {
    "hash": "80cfef6a3b69a443cd2d1c2f3c269a1ea8d135415e797c63054f9ca949788659"
   }
  }
 },
 "nbformat": 4,
 "nbformat_minor": 5
}
