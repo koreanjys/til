{
 "cells": [
  {
   "cell_type": "code",
   "execution_count": 2,
   "id": "887cf045",
   "metadata": {},
   "outputs": [],
   "source": [
    "import numpy as np"
   ]
  },
  {
   "cell_type": "code",
   "execution_count": 7,
   "id": "8ddbecca",
   "metadata": {},
   "outputs": [
    {
     "name": "stdout",
     "output_type": "stream",
     "text": [
      "원본 행렬: [3 1 9 5]\n",
      "np.sort()호출 후 반환된 정렬행렬: [1 3 5 9]\n",
      "np.sort()호출 후 반환된 원본행렬: [3 1 9 5]\n"
     ]
    }
   ],
   "source": [
    "array1 = np.array([3,1,9,5])\n",
    "print('원본 행렬:', array1)\n",
    "\n",
    "# np.sort()로 정렬 - 원본 변하지 않고, 변한 값 return\n",
    "sort_array1 = np.sort(array1)\n",
    "print('np.sort()호출 후 반환된 정렬행렬:', sort_array1)\n",
    "print('np.sort()호출 후 반환된 원본행렬:', array1)"
   ]
  },
  {
   "cell_type": "code",
   "execution_count": 18,
   "id": "ed52b420",
   "metadata": {},
   "outputs": [
    {
     "data": {
      "text/plain": [
       "array([9, 5, 3, 1])"
      ]
     },
     "execution_count": 18,
     "metadata": {},
     "output_type": "execute_result"
    }
   ],
   "source": [
    "# 내림차순 정렬\n",
    "desc_array1 = np.sort(array1)[::-1]\n",
    "desc_array1"
   ]
  },
  {
   "cell_type": "code",
   "execution_count": 29,
   "id": "2d64e3f6",
   "metadata": {},
   "outputs": [
    {
     "name": "stdout",
     "output_type": "stream",
     "text": [
      "원본:\n",
      " [[4 3]\n",
      " [2 1]]\n",
      "로우 방향으로 정렬:\n",
      " [[2 1]\n",
      " [4 3]]\n",
      "컬럼 방향으로 정렬:\n",
      " [[3 4]\n",
      " [1 2]]\n"
     ]
    }
   ],
   "source": [
    "# axis 정렬  2차원\n",
    "array1 = np.arange(1, 5)[::-1]\n",
    "array2d = array1.reshape(2, -1)\n",
    "print('원본:\\n', array2d)\n",
    "\n",
    "sort_array2d_ax0 = np.sort(array2d, axis=0)\n",
    "print('로우 방향으로 정렬:\\n', sort_array2d_ax0)\n",
    "\n",
    "sort_array2d_ax1 = np.sort(array2d, axis=1)\n",
    "print('컬럼 방향으로 정렬:\\n', sort_array2d_ax1)\n"
   ]
  },
  {
   "cell_type": "markdown",
   "id": "d845d675",
   "metadata": {},
   "source": [
    "### argsort() 함수 : 정렬된 행렬의 인덱스 변환"
   ]
  },
  {
   "cell_type": "code",
   "execution_count": 30,
   "id": "7c1b55d3",
   "metadata": {},
   "outputs": [
    {
     "name": "stdout",
     "output_type": "stream",
     "text": [
      "<class 'numpy.ndarray'>\n",
      "행렬 정렬 후 array1의 인덱스:  [1 0 3 2]\n"
     ]
    }
   ],
   "source": [
    "array1 = np.array([5, 1, 22, 11])  # idx [1, 0, 3, 2]\n",
    "sort_indices = np.argsort(array1)\n",
    "print(type(sort_indices))\n",
    "print('행렬 정렬 후 array1의 인덱스: ', sort_indices)"
   ]
  },
  {
   "cell_type": "markdown",
   "id": "ef6fcae3",
   "metadata": {},
   "source": [
    "### 행렬의 내적 (행렬의 곱)"
   ]
  },
  {
   "cell_type": "code",
   "execution_count": 40,
   "id": "8f0bfc30",
   "metadata": {},
   "outputs": [
    {
     "name": "stdout",
     "output_type": "stream",
     "text": [
      "[[1 2 3]\n",
      " [4 5 6]]\n",
      "[[ 7  8]\n",
      " [ 9 10]\n",
      " [11 12]]\n",
      "[[ 58  64]\n",
      " [139 154]]\n"
     ]
    }
   ],
   "source": [
    "array1 = np.arange(1, 7)\n",
    "array2 = np.arange(7, 13)\n",
    "\n",
    "# 2, 3\n",
    "A = array1.reshape(2, -1)\n",
    "print(A)\n",
    "\n",
    "# 3, 2\n",
    "B = array2.reshape(3, -1)\n",
    "print(B)\n",
    "\n",
    "# 행렬을 곱한다\n",
    "\n",
    "C = np.dot(A, B)\n",
    "print(C)"
   ]
  },
  {
   "attachments": {
    "image.png": {
     "image/png": "[encoded data removed]"
    }
   },
   "cell_type": "markdown",
   "id": "d05c94ce",
   "metadata": {},
   "source": [
    "![image.png](attachment:image.png)"
   ]
  },
  {
   "cell_type": "markdown",
   "id": "3ed98c2f",
   "metadata": {},
   "source": [
    "### 전치행렬(Transpose)"
   ]
  },
  {
   "cell_type": "code",
   "execution_count": 45,
   "id": "44025635",
   "metadata": {},
   "outputs": [
    {
     "name": "stdout",
     "output_type": "stream",
     "text": [
      "[[1 3]\n",
      " [2 4]]\n",
      "[[1 3 5]\n",
      " [2 4 6]]\n"
     ]
    }
   ],
   "source": [
    "# 행과 열을 바꿔준다.\n",
    "\n",
    "A = np.array([[1,2],\n",
    "             [3,4]])\n",
    "transpose_A = np.transpose(A)\n",
    "print(transpose_A)\n",
    "B = np.array([[1,2],\n",
    "             [3,4],\n",
    "             [5,6]])\n",
    "transpose_B = np.transpose(B)\n",
    "print(transpose_B)"
   ]
  }
 ],
 "metadata": {
  "kernelspec": {
   "display_name": "Python 3 (ipykernel)",
   "language": "python",
   "name": "python3"
  },
  "language_info": {
   "codemirror_mode": {
    "name": "ipython",
    "version": 3
   },
   "file_extension": ".py",
   "mimetype": "text/x-python",
   "name": "python",
   "nbconvert_exporter": "python",
   "pygments_lexer": "ipython3",
   "version": "3.9.13"
  }
 },
 "nbformat": 4,
 "nbformat_minor": 5
}
