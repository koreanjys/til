{
 "cells": [
  {
   "cell_type": "markdown",
   "id": "71530f41",
   "metadata": {},
   "source": [
    "## Boolean indexing"
   ]
  },
  {
   "cell_type": "code",
   "execution_count": 1,
   "id": "83b678b4",
   "metadata": {},
   "outputs": [],
   "source": [
    "import numpy as np"
   ]
  },
  {
   "cell_type": "code",
   "execution_count": 2,
   "id": "72520f00",
   "metadata": {},
   "outputs": [
    {
     "data": {
      "text/plain": [
       "array([6, 7, 8, 9])"
      ]
     },
     "execution_count": 2,
     "metadata": {},
     "output_type": "execute_result"
    }
   ],
   "source": [
    "array1d = np.arange(1, 10)\n",
    "array1d[array1d > 5]  # 조건부를 대괄호 안에 넣어주네"
   ]
  },
  {
   "cell_type": "code",
   "execution_count": 3,
   "id": "47a88cb8",
   "metadata": {},
   "outputs": [
    {
     "name": "stdout",
     "output_type": "stream",
     "text": [
      "6 7 8 9 "
     ]
    }
   ],
   "source": [
    "for i in array1d:\n",
    "    if i > 5:\n",
    "        print(i, end=' ')\n",
    "    else:\n",
    "        pass"
   ]
  },
  {
   "cell_type": "code",
   "execution_count": 6,
   "id": "8abce50a",
   "metadata": {},
   "outputs": [
    {
     "data": {
      "text/plain": [
       "array([6, 7, 8, 9])"
      ]
     },
     "execution_count": 6,
     "metadata": {},
     "output_type": "execute_result"
    }
   ],
   "source": [
    "# 두번째 방법\n",
    "boolean_indexes = np.array([False, False, False, False, False, True, True, True, True])\n",
    "array1d[boolean_indexes]"
   ]
  },
  {
   "cell_type": "markdown",
   "id": "aba4894f",
   "metadata": {},
   "source": [
    "### 행렬의 정렬-sort()와 argsort()"
   ]
  },
  {
   "cell_type": "code",
   "execution_count": 7,
   "id": "b4bf18fa",
   "metadata": {},
   "outputs": [
    {
     "name": "stdout",
     "output_type": "stream",
     "text": [
      "원본행렬:  [3 1 9 5]\n"
     ]
    }
   ],
   "source": [
    "org_array = np.array([3, 1, 9, 5])\n",
    "print('원본행렬: ', org_array)"
   ]
  },
  {
   "cell_type": "code",
   "execution_count": 9,
   "id": "c7106287",
   "metadata": {},
   "outputs": [
    {
     "name": "stdout",
     "output_type": "stream",
     "text": [
      "np.sort() 적용 후 원본행렬:  [3 1 9 5]\n",
      "np.sort() 적용 후 변환된 정렬행렬:  [1 3 5 9]\n"
     ]
    }
   ],
   "source": [
    "# 1. np.sort()로 정렬 => 원본 바로 정렬 안되고 return값으로 정렬\n",
    "sort_array1 = np.sort(org_array)\n",
    "print('np.sort() 적용 후 원본행렬: ', org_array)\n",
    "print('np.sort() 적용 후 변환된 정렬행렬: ', sort_array1)"
   ]
  },
  {
   "cell_type": "code",
   "execution_count": 12,
   "id": "7094c2b7",
   "metadata": {},
   "outputs": [
    {
     "name": "stdout",
     "output_type": "stream",
     "text": [
      "org_array.sort() 적용 후 원본행렬:  [1 3 5 9]\n",
      "org_array.sort() 적용 후 변환된 정렬행렬:  None\n"
     ]
    }
   ],
   "source": [
    "# 2. ndarray.sort()로 정렬 => 원본 바로 정렬되고 return 값 없음\n",
    "sort_array2 = org_array.sort()\n",
    "print('org_array.sort() 적용 후 원본행렬: ', org_array)\n",
    "print('org_array.sort() 적용 후 변환된 정렬행렬: ', sort_array2)"
   ]
  },
  {
   "cell_type": "code",
   "execution_count": 13,
   "id": "bc5f10f1",
   "metadata": {},
   "outputs": [
    {
     "name": "stdout",
     "output_type": "stream",
     "text": [
      "내림차순으로 정렬:  [9 5 3 1]\n"
     ]
    }
   ],
   "source": [
    "# 내림차순 정렬[::-1]\n",
    "sort_array1_desc = np.sort(org_array)[::-1]\n",
    "print('내림차순으로 정렬: ', sort_array1_desc)"
   ]
  }
 ],
 "metadata": {
  "kernelspec": {
   "display_name": "Python 3 (ipykernel)",
   "language": "python",
   "name": "python3"
  },
  "language_info": {
   "codemirror_mode": {
    "name": "ipython",
    "version": 3
   },
   "file_extension": ".py",
   "mimetype": "text/x-python",
   "name": "python",
   "nbconvert_exporter": "python",
   "pygments_lexer": "ipython3",
   "version": "3.9.13"
  }
 },
 "nbformat": 4,
 "nbformat_minor": 5
}
