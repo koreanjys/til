{
 "cells": [
  {
   "cell_type": "code",
   "execution_count": 3,
   "id": "c420983e",
   "metadata": {},
   "outputs": [],
   "source": [
    "import requests\n",
    "from bs4 import BeautifulSoup\n",
    "import pandas as pd\n",
    "\n",
    "# 크롤링할 페이지의 URL\n",
    "url = 'https://finance.naver.com/item/sise_day.nhn?code=005930&page=1'\n",
    "\n",
    "# 빈 데이터프레임 생성\n",
    "samsung_stock = pd.DataFrame()\n",
    "\n",
    "# 약 1년치 데이터 가져옴 \n",
    "headers = {\n",
    "    'User-Agent': 'Mozilla/5.0 (Windows NT 10.0; Win64; x64) AppleWebKit/537.36 (KHTML, like Gecko) Chrome/58.0.3029.110 Safari/537.36'}\n",
    "for page in range(1, 21):\n",
    "    pg_url = f'{url}&page={page}'\n",
    "    response = requests.get(pg_url, headers=headers)\n",
    "    html = BeautifulSoup(response.content, 'html.parser')\n",
    "    table = html.select('table')\n",
    "    table = pd.read_html(str(table))[0]\n",
    "    # 전처리\n",
    "    table = table.dropna()\n",
    "    table.drop(['전일비'], axis=1, inplace=True)\n",
    "    samsung_stock = pd.concat([samsung_stock, table], ignore_index=True)\n",
    "\n",
    "\n",
    "# 데이터프레임을 csv 파일로 저장\n",
    "samsung_stock.to_csv('samsung_stock.csv', index=False, encoding='utf-8-sig')\n"
   ]
  }
 ],
 "metadata": {
  "kernelspec": {
   "display_name": "Python 3 (ipykernel)",
   "language": "python",
   "name": "python3"
  },
  "language_info": {
   "codemirror_mode": {
    "name": "ipython",
    "version": 3
   },
   "file_extension": ".py",
   "mimetype": "text/x-python",
   "name": "python",
   "nbconvert_exporter": "python",
   "pygments_lexer": "ipython3",
   "version": "3.9.13"
  }
 },
 "nbformat": 4,
 "nbformat_minor": 5
}
