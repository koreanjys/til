{
 "cells": [
  {
   "cell_type": "code",
   "execution_count": null,
   "id": "7bd4e85f",
   "metadata": {},
   "outputs": [],
   "source": [
    "## 하나의 웹 사이트에 접속하기 \n",
    "\n",
    "# webbrowser 모듈을 활용\n",
    "import webbrowser\n",
    "\n",
    "url = 'www.naver.com'\n",
    "webbrowser.open(url)\n",
    "\n",
    "# 네이버 검색 사이트\n",
    "import webbrowser\n",
    "\n",
    "naver_search = 'https://search.naver.com/search.naver?query='\n",
    "search_word = '빅데이터'\n",
    "\n",
    "url = naver_search+search_word\n",
    "\n",
    "webbrowser.open_new_tab(url)    \n",
    "\n",
    "# 구글 검색 사이트\n",
    "import webbrowser\n",
    "\n",
    "google_search = 'https://www.google.com/search?q='\n",
    "search_word = '파이썬'\n",
    "\n",
    "url = google_search+search_word\n",
    "\n",
    "webbrowser.open_new_tab(url)    \n",
    "\n",
    "## 여러 개의 웹사이트에 접속하기 \n",
    "\n",
    "import webbrowser\n",
    "\n",
    "urls = ['www.naver.com','www.google.com','www.daum.net']\n",
    "\n",
    "for url in urls:\n",
    "    webbrowser.open_new(url)\n",
    "\n",
    "# 구글 검색 사이트\n",
    "import webbrowser\n",
    "\n",
    "google_search_url = 'https://www.google.com/search?q='\n",
    "words= ['python webbrowser', 'big data', 'stats']\n",
    "\n",
    "for word in words:\n",
    "    webbrowser.open_new(google_search_url+word)\n",
    "\n",
    "웹 브라우저를 열고 원하는 웹 사이트 접속을 위해 webbrowser 모듈을 활용했다. 웹 브라우저를 열지 않고 웹사이트에 접속해서 원하는 정보를 가져와보자.\n",
    "## 하나의 웹 사이트에 접속하기 \n",
    "\n",
    "# webbrowser 모듈을 활용\n",
    "import webbrowser\n",
    "\n",
    "url = 'www.naver.com'\n",
    "webbrowser.open(url)\n",
    "\n",
    "# 네이버 검색 사이트\n",
    "import webbrowser\n",
    "\n",
    "naver_search = 'https://search.naver.com/search.naver?query='\n",
    "search_word = '빅데이터'\n",
    "\n",
    "url = naver_search+search_word\n",
    "\n",
    "webbrowser.open_new_tab(url)    \n",
    "\n",
    "# 구글 검색 사이트\n",
    "import webbrowser\n",
    "\n",
    "google_search = 'https://www.google.com/search?q='\n",
    "search_word = '파이썬'\n",
    "\n",
    "url = google_search+search_word\n",
    "\n",
    "webbrowser.open_new_tab(url)    \n",
    "\n",
    "## 여러 개의 웹사이트에 접속하기 \n",
    "\n",
    "import webbrowser\n",
    "\n",
    "urls = ['www.naver.com','www.google.com','www.daum.net']\n",
    "\n",
    "for url in urls:\n",
    "    webbrowser.open_new(url)\n",
    "\n",
    "# 구글 검색 사이트\n",
    "import webbrowser\n",
    "\n",
    "google_search_url = 'https://www.google.com/search?q='\n",
    "words= ['python webbrowser', 'big data', 'stats']\n",
    "\n",
    "for word in words:\n",
    "    webbrowser.open_new(google_search_url+word)\n",
    "\n",
    "웹 브라우저를 열고 원하는 웹 사이트 접속을 위해 webbrowser 모듈을 활용했다. 웹 브라우저를 열지 않고 웹사이트에 접속해서 원하는 정보를 가져와보자.\n"
   ]
  },
  {
   "cell_type": "code",
   "execution_count": null,
   "id": "ae6c22cc",
   "metadata": {},
   "outputs": [],
   "source": []
  },
  {
   "cell_type": "code",
   "execution_count": null,
   "id": "f126f944",
   "metadata": {},
   "outputs": [],
   "source": []
  },
  {
   "cell_type": "code",
   "execution_count": null,
   "id": "19d7d115",
   "metadata": {},
   "outputs": [],
   "source": []
  },
  {
   "cell_type": "code",
   "execution_count": null,
   "id": "fed17b0a",
   "metadata": {},
   "outputs": [],
   "source": []
  },
  {
   "cell_type": "code",
   "execution_count": 1,
   "id": "5449ce20",
   "metadata": {},
   "outputs": [
    {
     "name": "stdout",
     "output_type": "stream",
     "text": [
      "Writing ./\\HTML_example.html\n"
     ]
    }
   ],
   "source": [
    "%%writefile ./\\HTML_example.html  # magic word(마술 명령어)\n",
    "<!doctype html>\n",
    "<html>\n",
    " <head>\n",
    "  <meta charset=\"utf-8\">\n",
    "  <title>이것은 HTML 예제</title>\n",
    " </head>\n",
    " <body>\n",
    "  <h1>출간된 책 정보</h1>\n",
    "  <p id=\"book_title\">이해가 쏙쏙 되는 파이썬</p>\n",
    "  <p id=\"author\">홍길동</p>\n",
    "  <p id=\"publisher\">영식북스 출판사</p>\n",
    "  <p id=\"year\">2022</p>\n",
    " </body>\n",
    "</html>"
   ]
  },
  {
   "cell_type": "markdown",
   "id": "9a3d89a1",
   "metadata": {},
   "source": [
    "### 웹 페이지의 HTML 소스코드 가져오기"
   ]
  },
  {
   "cell_type": "code",
   "execution_count": 6,
   "id": "587b19a3",
   "metadata": {},
   "outputs": [],
   "source": [
    "# 1. 과거 방식 => urllib => 사용하기 불편하다.\n",
    "# 2. requests => 현재 방식\n",
    "\n",
    "import requests"
   ]
  },
  {
   "cell_type": "code",
   "execution_count": 7,
   "id": "da91ce80",
   "metadata": {},
   "outputs": [],
   "source": [
    "nv = requests.get('https://www.naver.com/')  # <Response [200]> 은 접속이 되었다는 말"
   ]
  },
  {
   "cell_type": "code",
   "execution_count": 10,
   "id": "479c3870",
   "metadata": {},
   "outputs": [
    {
     "data": {
      "text/plain": [
       "'\\n<!doctype html>                          <html lang=\"ko\" data-dark=\"false\"> <head> <meta charset=\"utf-8\"> <title>NAVER</title> <meta http-equiv=\"X-UA-Compatible\" content=\"IE=edge\"> <meta name=\"viewpo'"
      ]
     },
     "execution_count": 10,
     "metadata": {},
     "output_type": "execute_result"
    }
   ],
   "source": [
    "# text 문자를 추출\n",
    "nv.text[:200]"
   ]
  },
  {
   "cell_type": "markdown",
   "id": "cb83baa8",
   "metadata": {},
   "source": [
    "### HTML 소스코드를 분석하고 처리하기"
   ]
  },
  {
   "cell_type": "markdown",
   "id": "7ece0b00",
   "metadata": {},
   "source": [
    "HTML 소스코드를 가져온 후 HTML 코드를 분석해 원하는 데이터를 추출하는 방법을 알아보자. HTML 코드를 분석하기 위해서는 HTML 코드 구문을 이해하고 요소별로 HTML 코드를 분류해야 한다. \n",
    "\n",
    "위와 같은 작업을 Parsing 이라 한다. \n",
    "\n",
    "Parsing을 위해서는 Beautiful Soup 라이브러리를 사용하면 파싱을 좀 더 손쉽게 할 수 있다."
   ]
  },
  {
   "cell_type": "code",
   "execution_count": 14,
   "id": "8a46c238",
   "metadata": {},
   "outputs": [
    {
     "name": "stdout",
     "output_type": "stream",
     "text": [
      "<html>\n",
      " <body>\n",
      "  <div>\n",
      "   <span>\n",
      "    <a href=\"http://www.naver.com\">\n",
      "     naver\n",
      "    </a>\n",
      "    <a href=\"https://www.google.com\">\n",
      "     google\n",
      "    </a>\n",
      "    <a href=\"http://www.daum.net/\">\n",
      "     daum\n",
      "    </a>\n",
      "   </span>\n",
      "  </div>\n",
      " </body>\n",
      "</html>\n"
     ]
    }
   ],
   "source": [
    "# parsing :: HTML코드를 우리가 알아볼 수 있도록 해석해주는 것\n",
    "\n",
    "### Beautiful Soup 라이브러리에 대한 자세한 방법은 웹 사이트(https://www.crummy.com/software/BeautifulSoup/bs4/doc)\n",
    "\n",
    "from bs4 import BeautifulSoup\n",
    "\n",
    "# 테스트용 html 코드\n",
    "html = \"\"\"<html><body><div><span>\\\n",
    "        <a href=http://www.naver.com>naver</a>\\\n",
    "        <a href=https://www.google.com>google</a>\\\n",
    "        <a href=http://www.daum.net/>daum</a>\\\n",
    "        </span></div></body></html>\"\"\" \n",
    "\n",
    "# BeautifulSoup를 이용해 HTML 소스를 파싱\n",
    "# BeautifulSoup(html) => parsing이 이루어짐.\n",
    "soup = BeautifulSoup(html, 'lxml')  # HTML 소스를 처리하기 위한 Parser이다.\n",
    "\n",
    "# 좀 더 보기 편하도록\n",
    "print(soup.prettify())"
   ]
  },
  {
   "cell_type": "code",
   "execution_count": 15,
   "id": "0014c22c",
   "metadata": {},
   "outputs": [
    {
     "data": {
      "text/plain": [
       "<a href=\"http://www.naver.com\">naver</a>"
      ]
     },
     "execution_count": 15,
     "metadata": {},
     "output_type": "execute_result"
    }
   ],
   "source": [
    "# a 태그의 요소들만 찾아보자.\n",
    "soup.find('a')  # 1 개만 가져올 때"
   ]
  },
  {
   "cell_type": "code",
   "execution_count": 16,
   "id": "91f1aa21",
   "metadata": {},
   "outputs": [
    {
     "data": {
      "text/plain": [
       "'naver'"
      ]
     },
     "execution_count": 16,
     "metadata": {},
     "output_type": "execute_result"
    }
   ],
   "source": [
    "soup.find('a').get_text()"
   ]
  },
  {
   "cell_type": "code",
   "execution_count": 18,
   "id": "20fe05d6",
   "metadata": {},
   "outputs": [
    {
     "data": {
      "text/plain": [
       "[<a href=\"http://www.naver.com\">naver</a>,\n",
       " <a href=\"https://www.google.com\">google</a>,\n",
       " <a href=\"http://www.daum.net/\">daum</a>]"
      ]
     },
     "execution_count": 18,
     "metadata": {},
     "output_type": "execute_result"
    }
   ],
   "source": [
    "soup.find_all('a')"
   ]
  },
  {
   "cell_type": "code",
   "execution_count": 19,
   "id": "cb8ef0b8",
   "metadata": {},
   "outputs": [
    {
     "name": "stdout",
     "output_type": "stream",
     "text": [
      "naver\n",
      "google\n",
      "daum\n"
     ]
    }
   ],
   "source": [
    "# naver, goole, daum 의 text 추출\n",
    "site_names = soup.find_all('a')\n",
    "\n",
    "for site_name in site_names:\n",
    "    print(site_name.get_text())"
   ]
  },
  {
   "cell_type": "code",
   "execution_count": 20,
   "id": "51df8e0d",
   "metadata": {},
   "outputs": [],
   "source": [
    "# 다른 사례를 살펴보자.\n",
    "# 아래의 html2는 다른 사례이다.\n",
    "\n",
    "html2 = \"\"\"\n",
    "<html>\n",
    " <head>\n",
    "  <title>작품과 작가 모음</title>\n",
    " </head>\n",
    " <body>\n",
    "  <h1>책 정보</h1>\n",
    "  <p id=\"book_title\">토지</p>\n",
    "  <p id=\"author\">박경리</p>\n",
    "  \n",
    "  <p id=\"book_title\">태백산맥</p>\n",
    "  <p id=\"author\">조정래</p>\n",
    "\n",
    "  <p id=\"book_title\">감옥으로부터의 사색</p>\n",
    "  <p id=\"author\">신영복</p>\n",
    " </body>\n",
    "</html>\n",
    "\"\"\""
   ]
  },
  {
   "cell_type": "code",
   "execution_count": 28,
   "id": "6e442ab7",
   "metadata": {},
   "outputs": [
    {
     "data": {
      "text/plain": [
       "<html>\n",
       "<head>\n",
       "<title>작품과 작가 모음</title>\n",
       "</head>\n",
       "<body>\n",
       "<h1>책 정보</h1>\n",
       "<p id=\"book_title\">토지</p>\n",
       "<p id=\"author\">박경리</p>\n",
       "<p id=\"book_title\">태백산맥</p>\n",
       "<p id=\"author\">조정래</p>\n",
       "<p id=\"book_title\">감옥으로부터의 사색</p>\n",
       "<p id=\"author\">신영복</p>\n",
       "</body>\n",
       "</html>"
      ]
     },
     "execution_count": 28,
     "metadata": {},
     "output_type": "execute_result"
    }
   ],
   "source": [
    "soup2 = BeautifulSoup(html2, 'lxml')\n",
    "soup2"
   ]
  },
  {
   "cell_type": "code",
   "execution_count": 29,
   "id": "9bae1ace",
   "metadata": {},
   "outputs": [
    {
     "data": {
      "text/plain": [
       "<head>\n",
       "<title>작품과 작가 모음</title>\n",
       "</head>"
      ]
     },
     "execution_count": 29,
     "metadata": {},
     "output_type": "execute_result"
    }
   ],
   "source": [
    "soup2.head"
   ]
  },
  {
   "cell_type": "code",
   "execution_count": 30,
   "id": "7f4cb8ec",
   "metadata": {},
   "outputs": [
    {
     "data": {
      "text/plain": [
       "<h1>책 정보</h1>"
      ]
     },
     "execution_count": 30,
     "metadata": {},
     "output_type": "execute_result"
    }
   ],
   "source": [
    "soup2.body.h1"
   ]
  },
  {
   "cell_type": "code",
   "execution_count": 32,
   "id": "e092f85a",
   "metadata": {},
   "outputs": [
    {
     "data": {
      "text/plain": [
       "[<p id=\"book_title\">토지</p>,\n",
       " <p id=\"author\">박경리</p>,\n",
       " <p id=\"book_title\">태백산맥</p>,\n",
       " <p id=\"author\">조정래</p>,\n",
       " <p id=\"book_title\">감옥으로부터의 사색</p>,\n",
       " <p id=\"author\">신영복</p>]"
      ]
     },
     "execution_count": 32,
     "metadata": {},
     "output_type": "execute_result"
    }
   ],
   "source": [
    "# p태그를 가져온다.\n",
    "soup2.find_all('p')"
   ]
  },
  {
   "cell_type": "code",
   "execution_count": 33,
   "id": "6f281785",
   "metadata": {},
   "outputs": [
    {
     "data": {
      "text/plain": [
       "[<p id=\"book_title\">토지</p>,\n",
       " <p id=\"book_title\">태백산맥</p>,\n",
       " <p id=\"book_title\">감옥으로부터의 사색</p>]"
      ]
     },
     "execution_count": 33,
     "metadata": {},
     "output_type": "execute_result"
    }
   ],
   "source": [
    "# p태그의 book_title 가져오기\n",
    "soup2.find_all('p', {'id':'book_title'})"
   ]
  },
  {
   "cell_type": "code",
   "execution_count": 35,
   "id": "d187d90e",
   "metadata": {},
   "outputs": [
    {
     "name": "stdout",
     "output_type": "stream",
     "text": [
      "토지::박경리\n",
      "태백산맥::조정래\n",
      "감옥으로부터의 사색::신영복\n"
     ]
    }
   ],
   "source": [
    "# 책 제목 및 저자 --> 토지 :: 박경리\n",
    "#                    태백산맥 :: 조정래\n",
    "#          감옥으로부터의 사색 :: 신영복\n",
    "from bs4 import BeautifulSoup\n",
    "soup2 = BeautifulSoup(html2)\n",
    "book_titles = soup2.find_all('p',{'id':'book_title'})\n",
    "authors = soup2.find_all('p',{'id':'author'})\n",
    "for book, author in zip(book_titles, authors):\n",
    "    print(book.get_text()+'::'+author.get_text())\n",
    "# html 소스에서 원하는 요소를 찾기 위해 -find() 혹은 find_all()을 활용"
   ]
  },
  {
   "cell_type": "markdown",
   "id": "f5f343be",
   "metadata": {},
   "source": [
    "### CSS 선택자(selector)을 활용하여 가져와보기"
   ]
  },
  {
   "cell_type": "code",
   "execution_count": 37,
   "id": "be55dae1",
   "metadata": {},
   "outputs": [
    {
     "data": {
      "text/plain": [
       "'\\n<html>\\n <head>\\n  <title>작품과 작가 모음</title>\\n </head>\\n <body>\\n  <h1>책 정보</h1>\\n  <p id=\"book_title\">토지</p>\\n  <p id=\"author\">박경리</p>\\n  \\n  <p id=\"book_title\">태백산맥</p>\\n  <p id=\"author\">조정래</p>\\n\\n  <p id=\"book_title\">감옥으로부터의 사색</p>\\n  <p id=\"author\">신영복</p>\\n </body>\\n</html>\\n'"
      ]
     },
     "execution_count": 37,
     "metadata": {},
     "output_type": "execute_result"
    }
   ],
   "source": [
    "html2"
   ]
  },
  {
   "cell_type": "code",
   "execution_count": 41,
   "id": "259570db",
   "metadata": {},
   "outputs": [
    {
     "data": {
      "text/plain": [
       "[<h1>책 정보</h1>]"
      ]
     },
     "execution_count": 41,
     "metadata": {},
     "output_type": "execute_result"
    }
   ],
   "source": [
    "from bs4 import BeautifulSoup\n",
    "\n",
    "soup3 = BeautifulSoup(html2)\n",
    "\n",
    "# select를 활용해서 불러오기\n",
    "soup3.select('body h1')"
   ]
  },
  {
   "cell_type": "code",
   "execution_count": 43,
   "id": "e1b3cb68",
   "metadata": {},
   "outputs": [
    {
     "data": {
      "text/plain": [
       "[<p id=\"book_title\">토지</p>,\n",
       " <p id=\"author\">박경리</p>,\n",
       " <p id=\"book_title\">태백산맥</p>,\n",
       " <p id=\"author\">조정래</p>,\n",
       " <p id=\"book_title\">감옥으로부터의 사색</p>,\n",
       " <p id=\"author\">신영복</p>]"
      ]
     },
     "execution_count": 43,
     "metadata": {},
     "output_type": "execute_result"
    }
   ],
   "source": [
    "# p 태그 전체를 가져오기 - 1\n",
    "soup3.select('body p')"
   ]
  },
  {
   "cell_type": "code",
   "execution_count": 45,
   "id": "e6aa04e9",
   "metadata": {},
   "outputs": [
    {
     "data": {
      "text/plain": [
       "[<p id=\"book_title\">토지</p>,\n",
       " <p id=\"author\">박경리</p>,\n",
       " <p id=\"book_title\">태백산맥</p>,\n",
       " <p id=\"author\">조정래</p>,\n",
       " <p id=\"book_title\">감옥으로부터의 사색</p>,\n",
       " <p id=\"author\">신영복</p>]"
      ]
     },
     "execution_count": 45,
     "metadata": {},
     "output_type": "execute_result"
    }
   ],
   "source": [
    "# p 태그 전체를 가져오기 - 2\n",
    "soup3.select('p')"
   ]
  },
  {
   "cell_type": "code",
   "execution_count": 47,
   "id": "978afa8d",
   "metadata": {},
   "outputs": [
    {
     "data": {
      "text/plain": [
       "[<p id=\"book_title\">토지</p>,\n",
       " <p id=\"book_title\">태백산맥</p>,\n",
       " <p id=\"book_title\">감옥으로부터의 사색</p>]"
      ]
     },
     "execution_count": 47,
     "metadata": {},
     "output_type": "execute_result"
    }
   ],
   "source": [
    "# p 태그 안의 book_title 가져오기\n",
    "soup3.select('p#book_title')"
   ]
  },
  {
   "cell_type": "code",
   "execution_count": 48,
   "id": "2567ea6b",
   "metadata": {},
   "outputs": [
    {
     "data": {
      "text/plain": [
       "[<p id=\"author\">박경리</p>, <p id=\"author\">조정래</p>, <p id=\"author\">신영복</p>]"
      ]
     },
     "execution_count": 48,
     "metadata": {},
     "output_type": "execute_result"
    }
   ],
   "source": [
    "# p 태그 안의 book_title 가져오기\n",
    "soup3.select('p#author')"
   ]
  }
 ],
 "metadata": {
  "kernelspec": {
   "display_name": "Python 3 (ipykernel)",
   "language": "python",
   "name": "python3"
  },
  "language_info": {
   "codemirror_mode": {
    "name": "ipython",
    "version": 3
   },
   "file_extension": ".py",
   "mimetype": "text/x-python",
   "name": "python",
   "nbconvert_exporter": "python",
   "pygments_lexer": "ipython3",
   "version": "3.9.13"
  }
 },
 "nbformat": 4,
 "nbformat_minor": 5
}
