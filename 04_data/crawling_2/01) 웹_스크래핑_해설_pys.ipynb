{
 "cells": [
  {
   "cell_type": "markdown",
   "id": "1d563b1d",
   "metadata": {
    "id": "1d563b1d"
   },
   "source": [
    "# web_scrapping"
   ]
  },
  {
   "cell_type": "markdown",
   "id": "6ef740b9",
   "metadata": {
    "id": "6ef740b9"
   },
   "source": [
    "### 웹 브라우저로 웹 사이트 접속하기"
   ]
  },
  {
   "cell_type": "markdown",
   "id": "5364bb9d",
   "metadata": {},
   "source": [
    "최근에는 정보통신과 인터넷 기술의 발달로 예전처럼 종이 신문이나 잡지 스크랩 대신 웹 사이트에 접속해 필요한 자료를 수집하고 정리한다. 웹 사이트의 자료를 모아서 정리하기 위해 보통은 웹 브라우저(인터넷 익스플로러, 크롬, 파이어폭스 등)를 실행해 검색 엔진으로 원하는 웹페이지르 ㄹ찾고 원하는 자료가 나오면 그것을 선택해 복사한 후, 각자 원하는 형태로 정리해 파일로 저장한다. "
   ]
  },
  {
   "cell_type": "markdown",
   "id": "c579141c",
   "metadata": {},
   "source": [
    "수집하려는 자료의 양이 적을 때는 이렇게 수작업으로 자료를 정리해도 별 어려움이 없지만 자료의 양이 많아질수록 수작업으로 웹 사이트에서 자료를 모아서 정리하기가 매우 어렵다. 이런 일을 전문적으로 해주는 업체나 컴퓨터 프로그램도 있다."
   ]
  },
  {
   "cell_type": "markdown",
   "id": "ceacae47",
   "metadata": {},
   "source": [
    "웹 스크레이핑(Web scraping)은 컴퓨터 소프트웨어 기술을 활용해 웹사이트 내에 있는 정보를 추출하는 것이다. 파이썬에는 웹사이트에 접속해 자료를 가져오거나 처리하기 위한 다양한 패키지들이 있어서 비교적 쉽게 웹 스크레이핑을 위한 코드를 작성할 수 있다. 파이썬으로 웹 스크레이핑하는 방법을 익히고 나면 많은 양의 웹 자료를 정리하기 위해 반복적으로 수행하던 작업(웹 사이트에 접속, 자료 선택, 복사 및 붙여넣기)을 줄일 수 있다. "
   ]
  },
  {
   "cell_type": "markdown",
   "id": "4d0f5974",
   "metadata": {},
   "source": [
    "### 01. 웹 브라우저로 웹 사이트 접속하기"
   ]
  },
  {
   "cell_type": "markdown",
   "id": "3e250f8a",
   "metadata": {},
   "source": [
    "파이썬을 이용한 웹 스크레이핑에 대해 알아보기에 앞서 먼저 파이썬으로 웹 브라우저를 열고 원하는 웹 사이트에 접속하는 방법을 살펴보자."
   ]
  },
  {
   "cell_type": "markdown",
   "id": "036885ca",
   "metadata": {},
   "source": [
    "원하는 웹 사이트에 접속하고자 할 때 일반적으로 웹 브라우저를 실행한 후에 웹 사이트 주소를 입력하거나 북마크에 저장해놓은 링크를 클릭한다. 보통 이 방법으로 원하는 웹 사이트에 접속하지만, 지정된 웹 사이트에 반복적으로 접속하거나 여러 웹 사이트를 한 번에 접속해야할 경우 파이썬을 이용하면 빠르고 편라히가 웹사이트에 접속할 수 있다."
   ]
  },
  {
   "cell_type": "markdown",
   "id": "849ef2c8",
   "metadata": {},
   "source": [
    "파이썬에서는 내장 모듈인 webbrowser를 활용하여 웹 브라우저를 열고 지정된 웹 사이트에 접속할 수 있다. "
   ]
  },
  {
   "cell_type": "markdown",
   "id": "1c6183b9",
   "metadata": {},
   "source": [
    "## 하나의 웹 사이트에 접속하기"
   ]
  },
  {
   "cell_type": "markdown",
   "id": "aded20cb",
   "metadata": {},
   "source": [
    "우선 웹 사이트를 하나 지정한 후에 웹 브라우저를 열어서 접속하는 방법을 살펴보자. 먼저 'import webbrowser'로 webbrowser 모듈을 불러온다. 그런 후 'webbrowser.open(url)'을 실행한다. url은 웹사이트 주소이다. "
   ]
  },
  {
   "cell_type": "code",
   "execution_count": 2,
   "id": "9c33c57f",
   "metadata": {
    "id": "63bb827b",
    "outputId": "f1ff1c5a-721a-4190-e7ea-8228b6558514"
   },
   "outputs": [
    {
     "data": {
      "text/plain": [
       "True"
      ]
     },
     "execution_count": 2,
     "metadata": {},
     "output_type": "execute_result"
    }
   ],
   "source": [
    "# webbrowser 모듈을 이용해 국내 포털 사이트 naver에 접속하는 사례이다.\n",
    "import webbrowser\n",
    "\n",
    "url = 'www.naver.com'\n",
    "webbrowser.open(url)"
   ]
  },
  {
   "cell_type": "markdown",
   "id": "e12158a2",
   "metadata": {},
   "source": [
    "우선 웹 사이트를 하나 지정한 후에 웹 브라우저를 열어서 접속하는 방법을 살펴보자. 먼저 'import webbrowser'로 webbrowser 모듈을 불러온다. 그런 후 'webbrowser.open(url)'을 실행한다. url은 웹사이트 주소이다. "
   ]
  },
  {
   "cell_type": "code",
   "execution_count": null,
   "id": "2c6803ad",
   "metadata": {
    "id": "2c6803ad",
    "outputId": "5355b36a-e3c1-47f9-81b5-021a0f867acf"
   },
   "outputs": [
    {
     "name": "stdout",
     "output_type": "stream",
     "text": [
      "방탄소년단\n"
     ]
    },
    {
     "data": {
      "text/plain": [
       "True"
      ]
     },
     "execution_count": 6,
     "metadata": {},
     "output_type": "execute_result"
    }
   ],
   "source": [
    "# 네이버 검색사이트\n",
    "import webbrowser\n",
    "\n",
    "naver_search_url = 'https://search.naver.com/search.naver?query='\n",
    "search_word = input()\n",
    "\n",
    "url = naver_search_url + search_word\n",
    "\n",
    "webbrowser.open_new_tab(url)"
   ]
  },
  {
   "cell_type": "markdown",
   "id": "e1138b62",
   "metadata": {},
   "source": [
    "위 코드를 실행하면 기본 웹 브라우저가 실행되면서 변수 url에 웹 사이트(www.naver.com)에 접속한다. 만약 네이버에서 특정 검색어를 입력해 결과를 얻으려면 아래와 같이 웹사이트 주소('https://www.google.com/search?q=')에 검색어를 연결해서 입력한다."
   ]
  },
  {
   "cell_type": "code",
   "execution_count": 3,
   "id": "411cb470",
   "metadata": {},
   "outputs": [
    {
     "data": {
      "text/plain": [
       "True"
      ]
     },
     "execution_count": 3,
     "metadata": {},
     "output_type": "execute_result"
    }
   ],
   "source": [
    "# 네이버 검색어 연결\n",
    "import webbrowser\n",
    "\n",
    "naver_search_url = 'https://search.naver.com/search.naver?where=nexearch&sm=top_hty&fbm=1&ie=utf8&query='\n",
    "search_word = '파이썬'\n",
    "\n",
    "url = naver_search_url + search_word\n",
    "webbrowser.open_new(url)"
   ]
  },
  {
   "cell_type": "code",
   "execution_count": null,
   "id": "ac4bccfc",
   "metadata": {
    "id": "ac4bccfc",
    "outputId": "e14eaf09-e5f3-45f4-cfe5-1ef0814abf8b"
   },
   "outputs": [
    {
     "name": "stdout",
     "output_type": "stream",
     "text": [
      "방탄소년단\n"
     ]
    },
    {
     "data": {
      "text/plain": [
       "True"
      ]
     },
     "execution_count": 7,
     "metadata": {},
     "output_type": "execute_result"
    }
   ],
   "source": [
    "# 구글 검색사이트\n",
    "import webbrowser\n",
    "\n",
    "google_search_url = 'https://www.google.com/search?q='\n",
    "search_word = input()\n",
    "\n",
    "url_g = google_search_url + search_word\n",
    "\n",
    "webbrowser.open_new_tab(url_g)"
   ]
  },
  {
   "cell_type": "markdown",
   "id": "1406db7c",
   "metadata": {
    "id": "1406db7c"
   },
   "source": [
    "### 여러 개의 웹사이트에 접속하기 "
   ]
  },
  {
   "cell_type": "markdown",
   "id": "24af614d",
   "metadata": {},
   "source": [
    "앞에서는 하나의 웹 사이트 주소(url)을 입력해 웹 브라우저를 여는 방법을 알아보았다. 한 번에 여러 개의 웹 사이트에 접속하려면 어떻게 하면 될까? 다음과 같이 url 주소 리스트와 for문을 활용하면 가능하다."
   ]
  },
  {
   "cell_type": "code",
   "execution_count": null,
   "id": "7c566b92",
   "metadata": {
    "id": "7c566b92"
   },
   "outputs": [],
   "source": [
    "import webbrowser\n",
    "\n",
    "urls = ['www.naver.com','www.google.com','www.daum.net']\n",
    "\n",
    "for url in urls:\n",
    "    webbrowser.open_new(url)"
   ]
  },
  {
   "cell_type": "markdown",
   "id": "bdeb0855",
   "metadata": {},
   "source": [
    "웹 사이트에 접속하는 것 뿐만 아니라 여러 검색어의 결과를 한 번에 얻으려면 앞에서 살펴본 검색어 하나를 입력해 검색 결과를 얻은 방법을 확장해 여러 개의 검색어를 가진 리스트와 for 문을 이용한다."
   ]
  },
  {
   "cell_type": "code",
   "execution_count": 6,
   "id": "e68755ce",
   "metadata": {},
   "outputs": [],
   "source": [
    "import webbrowser\n",
    "\n",
    "google_url = 'https://www.google.com/search?q='\n",
    "search_words = ['python web scraping', 'python webbrowser']\n",
    "\n",
    "for search_word in search_words:\n",
    "    webbrowser.open_new(google_url+search_word)"
   ]
  },
  {
   "cell_type": "markdown",
   "id": "f68be874",
   "metadata": {},
   "source": [
    "웹 브라우저를 열고 원하는 웹 사이트를 접속하기 위해 webbrowser 모듈을 활용했다. 다음으로 웹 브라우저를 열지 않고 웹사이트에 접속해 원하는 정보를 가져오는 웹 스크레이핑 방법을 알아보자."
   ]
  },
  {
   "cell_type": "markdown",
   "id": "d511a14e",
   "metadata": {
    "id": "d511a14e"
   },
   "source": [
    "# 02 웹 스크래핑을 위한 기본지식"
   ]
  },
  {
   "cell_type": "markdown",
   "id": "19446f2d",
   "metadata": {},
   "source": [
    "웹 스크레이핑을 수행하기 전에 웹 브라우저가 웹 사이트에 접속해 데이터를 가져오는 과정과 웹 페이지를 구성하는 언어인 HTML의 구조에 대해 살펴보자. 그리고 파이썬을 이용해 웹 사이트에서 HTML 파일의 소스코드를 가져오는 방법과 HTML 소스코드를 분석하는 방법도 알아보자."
   ]
  },
  {
   "cell_type": "markdown",
   "id": "b5d52ec8",
   "metadata": {
    "id": "b5d52ec8"
   },
   "source": [
    "## 데이터의 요청 및 응답과정 "
   ]
  },
  {
   "cell_type": "markdown",
   "id": "43d0cfd6",
   "metadata": {},
   "source": [
    "웹 브라우저에서 포털 사이트나 검색 사이트 및 기타 웹 사이트에 접속해 검색하고 뉴스 기사를 보고 만화도 보며 동영상도 감상하고 SNS도 합니다. 이렇게 매일 사용하는 인터넷과 웹 브라우저는 어떤 과정을 거쳐 웹 사이트에 접속해 컴퓨터나 스마트폰으로 정보를 가져올까?"
   ]
  },
  {
   "cell_type": "markdown",
   "id": "7509ca57",
   "metadata": {},
   "source": [
    "아래 그림은 컴퓨터에서 웹 브라우저를 통해 웹 사이트의 데이터를 가져오는 과정을 보여준다. 웹 사이트에 접속하는 컴퓨터나 스마트폰 등을 클라이언트(Client)라고 하고 웹 사이트를 운영하는 시스템을 서버(Server) 혹은 웹 서버(Web Server)라고 한다."
   ]
  },
  {
   "cell_type": "markdown",
   "id": "8282aef1",
   "metadata": {},
   "source": [
    "컴퓨터에서 웹 브라우저로 인터넷을 통해 웹 사이트(웹 서버)에 HTTP 형식으로 원하는 정보를 요청(Request)한다. 그러면 이 요청에 웹 사이트(웹 서버)가 HTTP 형식으로 응답(Response)해 HTML 파일을 보내준다. 이 HTML 파일을 컴퓨터의 웹 브라우저가 해석해 사람이 알아보기 쉬운 형태로 변환해 준다. "
   ]
  },
  {
   "cell_type": "markdown",
   "id": "49b24925",
   "metadata": {},
   "source": [
    "즉, 웹 브라우저에 인터넷 주소를 입력하면 웹 사이트로 요청하고 그 요청을 받은 웹 사이트는 응답해 HTML 파일을 보낸다. 그것을 웹 브라우저가 사람이 보기 쉽게 해석해 보여줘서 웹 브라우저를 통해 다양한 일을 할 수 있다."
   ]
  },
  {
   "attachments": {
    "image.png": {
     "image/png": "[encoded data removed]"
    }
   },
   "cell_type": "markdown",
   "id": "5f9d834d",
   "metadata": {},
   "source": [
    "![image.png](attachment:image.png)"
   ]
  },
  {
   "cell_type": "markdown",
   "id": "ecb08562",
   "metadata": {
    "id": "ecb08562"
   },
   "source": [
    "### HTML의 구조 "
   ]
  },
  {
   "cell_type": "markdown",
   "id": "1d675e6e",
   "metadata": {},
   "source": [
    "웹 스크레이핑하기 전에 먼저 웹 페이지를 구성하는 언어인 HTML에 대한 이해가 필요하다. 이 강의에서 HTML 문법에 대해 자세히 다루지는 않는다. 웹 스크레이핑에 필요한 주요 내용만 살펴보자. "
   ]
  },
  {
   "cell_type": "markdown",
   "id": "85ab6897",
   "metadata": {},
   "source": [
    "HTML 문법에 대한 설명은 관련 서적이나 인터넷에 많이 나와 있으니 참조하길 바란다. 앞에서 설명했지만, HTML은 웹 페이지의 문서를 구조적으로 표현할 수 있는 언어이다. 즉, 인터넷 상에서 웹 페이지의 문서를 만들기 위한 표준화된 언어이다."
   ]
  },
  {
   "cell_type": "markdown",
   "id": "69573cdc",
   "metadata": {},
   "source": [
    "> HTML은 구조화된 언어로 크게 Head와 몸통으로 이뤄져 있다. 내부적으로는 각 항목을 이루는 요소와 그 속성으로 구성돼 있다.\n",
    ">"
   ]
  },
  {
   "attachments": {
    "image.png": {
     "image/png": "[encoded data removed]"
    }
   },
   "cell_type": "markdown",
   "id": "0251e919",
   "metadata": {},
   "source": [
    "![image.png](attachment:image.png)"
   ]
  },
  {
   "cell_type": "markdown",
   "id": "830f9596",
   "metadata": {},
   "source": [
    "위의 HTML 소스코드에서 태그 p의 요소('<p id=\"id_속성값\">텍스트</p>')중 시작 태그 안에 있는 속성 (id=\"id_속성값\")은 웹 브라우저로 보는 결과에는 영향을 주지 않는다. 즉,있어도 없어도 웹 브라우저로 보는 결과는 똑같다. \n",
    "\n",
    "앞에서 살펴본 매직명령어 %writefile을 활용해 위의 HTML 코드를 통해 파일로 저장한다."
   ]
  },
  {
   "cell_type": "code",
   "execution_count": 9,
   "id": "5ff95b03",
   "metadata": {
    "id": "5ff95b03",
    "outputId": "9c01b27e-0109-4faa-9b12-62d92ec41d4a"
   },
   "outputs": [
    {
     "name": "stdout",
     "output_type": "stream",
     "text": [
      "Overwriting ./\\HTML_example.html\n"
     ]
    }
   ],
   "source": [
    "%%writefile ./\\HTML_example.html \n",
    "<!doctype html>\n",
    "<html>\n",
    " <head>\n",
    "  <meta charset=\"utf-8\">\n",
    "  <title>이것은 HTML 예제</title>\n",
    " </head>\n",
    " <body>\n",
    "  <h1>출간된 책 정보</h1>\n",
    "  <p id=\"book_title\">이해가 쏙쏙 되는 파이썬</p>\n",
    "  <p id=\"author\">홍길동</p>\n",
    "  <p id=\"publisher\">영식북스 출판사</p>\n",
    "  <p id=\"year\">2022</p>\n",
    " </body>\n",
    "</html>"
   ]
  },
  {
   "cell_type": "markdown",
   "id": "88572bc9",
   "metadata": {},
   "source": [
    "위 코드에서 <head> 태그 안에 <meta charset=\"utf-8\">가 추가됐는데, 이것은 작성된 HTML 파일이 utf-8로 인코딩돼 있음을 웹 브라우저에게 알려주는 것이다."
   ]
  },
  {
   "attachments": {
    "image-2.png": {
     "image/png": "[encoded data removed]"
    }
   },
   "cell_type": "markdown",
   "id": "9f114a8b",
   "metadata": {},
   "source": [
    "![image-2.png](attachment:image-2.png)"
   ]
  },
  {
   "cell_type": "markdown",
   "id": "01036e78",
   "metadata": {},
   "source": [
    "HTML 코드의 id와 같은 태그의 속성은 웹 페이지에서 특정 데이터를 추출할 때 아주 중요한 정보이다. 이 속성을 이용하면 HTML 파일에서 손쉽게 원하는 데이터를 획득할 수 있다. 하지만 이렇게 유용한 속성이 모든 웹 페이지의 HTML 파일에 있는 것은 아니다. 따라서 웹 페이지에서 정보를 추출하려면 웹 페이지마다 가진 특징을 잘 분석해야 한다."
   ]
  },
  {
   "cell_type": "markdown",
   "id": "f8db6f6b",
   "metadata": {
    "id": "f8db6f6b"
   },
   "source": [
    "### 웹 페이지의 HTML 소스코드 갖고 오기 "
   ]
  },
  {
   "cell_type": "markdown",
   "id": "9b1d1edc",
   "metadata": {},
   "source": [
    "웹 페이지의 HTML 소스코드를 가져오기 위한 파이썬의 내장 패키지로는 urllib가 있다. 하지만 urllib은 사용하기 불편하므로 사용하기 편한 requests 라이브러리를 이용해 HTML 소스 코드를 분석해보자."
   ]
  },
  {
   "cell_type": "markdown",
   "id": "a9cc132a",
   "metadata": {},
   "source": [
    "아나콘다 설치시 이미 requests 라이브러리가 설치됐으므로 따로 설치할 필요는 없다."
   ]
  },
  {
   "cell_type": "code",
   "execution_count": 1,
   "id": "b2f5b53a",
   "metadata": {
    "colab": {
     "base_uri": "https://localhost:8080/"
    },
    "executionInfo": {
     "elapsed": 559,
     "status": "ok",
     "timestamp": 1675319821219,
     "user": {
      "displayName": "Q Data",
      "userId": "01455191676920074931"
     },
     "user_tz": -540
    },
    "id": "b2f5b53a",
    "outputId": "d5984289-09ff-4a82-890b-338882f67311"
   },
   "outputs": [
    {
     "data": {
      "text/plain": [
       "<Response [200]>"
      ]
     },
     "execution_count": 1,
     "metadata": {},
     "output_type": "execute_result"
    }
   ],
   "source": [
    "import requests\n",
    "\n",
    "r = requests.get('https://www.google.co.kr')\n",
    "r"
   ]
  },
  {
   "cell_type": "markdown",
   "id": "d43b85ca",
   "metadata": {},
   "source": [
    "위의 출력 결과가 '<Response [200]>'이므로 잘 접속돼 응답 객체(r)이 반환된 것을 알 수 있다."
   ]
  },
  {
   "cell_type": "code",
   "execution_count": 2,
   "id": "48ff264b",
   "metadata": {
    "colab": {
     "base_uri": "https://localhost:8080/",
     "height": 36
    },
    "executionInfo": {
     "elapsed": 7,
     "status": "ok",
     "timestamp": 1675319821221,
     "user": {
      "displayName": "Q Data",
      "userId": "01455191676920074931"
     },
     "user_tz": -540
    },
    "id": "48ff264b",
    "outputId": "8adbded3-e1a2-470c-fb19-02baa049ad1b"
   },
   "outputs": [
    {
     "data": {
      "application/vnd.google.colaboratory.intrinsic+json": {
       "type": "string"
      },
      "text/plain": [
       "'<!doctype html><html itemscope=\"\" itemtype=\"http://schema.org/WebPage\" lang=\"zh-TW\"><head><meta cont'"
      ]
     },
     "execution_count": 2,
     "metadata": {},
     "output_type": "execute_result"
    }
   ],
   "source": [
    "# text를 뽑아보자.\n",
    "r.text[:100]"
   ]
  },
  {
   "cell_type": "markdown",
   "id": "03f41e50",
   "metadata": {},
   "source": [
    "### HTML 소스코드를 분석하고 처리하기"
   ]
  },
  {
   "cell_type": "markdown",
   "id": "ec8f6c56",
   "metadata": {},
   "source": [
    "HTML 소스코드를 가져온 후 HTML 코드를 분석해 원하는 데이터를 추출하는 방법을 알아보자. HTML 코드를 분석하기 위해서는 HTML 코드 구문을 이해하고 요소별로 HTML 코드를 분류해야 한다. "
   ]
  },
  {
   "cell_type": "markdown",
   "id": "c7692206",
   "metadata": {},
   "source": [
    "위와 같은 작업을 Parsing 이라 한다. \n",
    "\n",
    "Parsing을 위해서는 Beautiful Soup 라이브러리를 사용하면 파싱을 좀 더 손쉽게 할 수 있다. "
   ]
  },
  {
   "cell_type": "code",
   "execution_count": 12,
   "id": "19fcf1b5",
   "metadata": {
    "id": "19fcf1b5",
    "outputId": "070391c0-3a94-40fa-d0f7-076296f2085f"
   },
   "outputs": [
    {
     "data": {
      "text/plain": [
       "<html><body><div><span> <a href=\"http://www.naver.com\">naver</a> <a href=\"https://www.google.com\">google</a> <a href=\"http://www.daum.net/\">daum</a> </span></div></body></html>"
      ]
     },
     "execution_count": 12,
     "metadata": {},
     "output_type": "execute_result"
    }
   ],
   "source": [
    "# parsing :: HTML코드를 우리가 알아볼 수 있도록 해석해주는 것\n",
    "\n",
    "### Beautiful Soup 라이브러리에 대한 자세한 방법은 웹 사이트(https://www.crummy.com/software/BeautifulSoup/bs4/doc)\n",
    "\n",
    "from bs4 import BeautifulSoup\n",
    "\n",
    "# 테스트용 html 코드\n",
    "html = \"\"\"<html><body><div><span>\\\n",
    "        <a href=http://www.naver.com>naver</a>\\\n",
    "        <a href=https://www.google.com>google</a>\\\n",
    "        <a href=http://www.daum.net/>daum</a>\\\n",
    "        </span></div></body></html>\"\"\" \n",
    "\n",
    "# BeautifulSoup를 이용해 HTML 소스를 파싱\n",
    "soup = BeautifulSoup(html, 'lxml')  # HTML 소스를 처리하기 위한 Parser이다.\n",
    "soup"
   ]
  },
  {
   "cell_type": "code",
   "execution_count": 14,
   "id": "307b782a",
   "metadata": {},
   "outputs": [
    {
     "name": "stdout",
     "output_type": "stream",
     "text": [
      "<html>\n",
      " <body>\n",
      "  <div>\n",
      "   <span>\n",
      "    <a href=\"http://www.naver.com\">\n",
      "     naver\n",
      "    </a>\n",
      "    <a href=\"https://www.google.com\">\n",
      "     google\n",
      "    </a>\n",
      "    <a href=\"http://www.daum.net/\">\n",
      "     daum\n",
      "    </a>\n",
      "   </span>\n",
      "  </div>\n",
      " </body>\n",
      "</html>\n"
     ]
    },
    {
     "data": {
      "text/plain": [
       "'<html>\\n <body>\\n  <div>\\n   <span>\\n    <a href=\"http://www.naver.com\">\\n     naver\\n    </a>\\n    <a href=\"https://www.google.com\">\\n     google\\n    </a>\\n    <a href=\"http://www.daum.net/\">\\n     daum\\n    </a>\\n   </span>\\n  </div>\\n </body>\\n</html>'"
      ]
     },
     "execution_count": 14,
     "metadata": {},
     "output_type": "execute_result"
    }
   ],
   "source": [
    "# 좀 더 보기 편하게 HTML 구조의 형태로 확인하려면 \n",
    "# 아래처럼 prettify()메서드를 이용해 출력하면 된다.\n",
    "print(soup.prettify())\n",
    "soup.prettify()"
   ]
  },
  {
   "cell_type": "code",
   "execution_count": 16,
   "id": "26c0f5c3",
   "metadata": {
    "id": "26c0f5c3",
    "outputId": "db90817a-d986-4802-b5c5-3f2689865ddc"
   },
   "outputs": [
    {
     "data": {
      "text/plain": [
       "<a href=\"http://www.naver.com\">naver</a>"
      ]
     },
     "execution_count": 16,
     "metadata": {},
     "output_type": "execute_result"
    }
   ],
   "source": [
    "# a 태그의 요소들만 찾아봅시다.\n",
    "soup.find('a') # 1개만 가져올때"
   ]
  },
  {
   "cell_type": "code",
   "execution_count": 18,
   "id": "fb8c4cce",
   "metadata": {},
   "outputs": [
    {
     "data": {
      "text/plain": [
       "'naver'"
      ]
     },
     "execution_count": 18,
     "metadata": {},
     "output_type": "execute_result"
    }
   ],
   "source": [
    "# 위의 코드에서 ('naver')만 얻기 위해서는 \n",
    "# '요소반환결과'.get_text()를 활용한다.\n",
    "soup.find('a').get_text()"
   ]
  },
  {
   "cell_type": "code",
   "execution_count": 19,
   "id": "5a25ca6b",
   "metadata": {},
   "outputs": [
    {
     "data": {
      "text/plain": [
       "[<a href=\"http://www.naver.com\">naver</a>,\n",
       " <a href=\"https://www.google.com\">google</a>,\n",
       " <a href=\"http://www.daum.net/\">daum</a>]"
      ]
     },
     "execution_count": 19,
     "metadata": {},
     "output_type": "execute_result"
    }
   ],
   "source": [
    "soup.find_all('a') # 여러 개 가져올때"
   ]
  },
  {
   "cell_type": "code",
   "execution_count": 20,
   "id": "1daeb3c1",
   "metadata": {
    "id": "1daeb3c1",
    "outputId": "90bb5ad4-6131-42cc-e937-cc50cea38052"
   },
   "outputs": [
    {
     "name": "stdout",
     "output_type": "stream",
     "text": [
      "naver\n",
      "google\n",
      "daum\n"
     ]
    }
   ],
   "source": [
    "# naver, google, daum의 text 추출\n",
    "site_names = soup.find_all('a')\n",
    "\n",
    "for st_name in site_names:\n",
    "    print(st_name.get_text())"
   ]
  },
  {
   "cell_type": "code",
   "execution_count": 21,
   "id": "3079b944",
   "metadata": {
    "id": "3079b944"
   },
   "outputs": [],
   "source": [
    "# 다른 사례를 살펴보자.\n",
    "# 아래의 html2는 다른 사례이다.\n",
    "\n",
    "html2 = \"\"\"\n",
    "<html>\n",
    " <head>\n",
    "  <title>작품과 작가 모음</title>\n",
    " </head>\n",
    " <body>\n",
    "  <h1>책 정보</h1>\n",
    "  <p id=\"book_title\">토지</p>\n",
    "  <p id=\"author\">박경리</p>\n",
    "  \n",
    "  <p id=\"book_title\">태백산맥</p>\n",
    "  <p id=\"author\">조정래</p>\n",
    "\n",
    "  <p id=\"book_title\">감옥으로부터의 사색</p>\n",
    "  <p id=\"author\">신영복</p>\n",
    " </body>\n",
    "</html>\n",
    "\"\"\" "
   ]
  },
  {
   "cell_type": "code",
   "execution_count": 23,
   "id": "60db377c",
   "metadata": {
    "id": "60db377c",
    "outputId": "2d084ef4-a365-4eea-c576-8be3ffec85b8"
   },
   "outputs": [
    {
     "name": "stdout",
     "output_type": "stream",
     "text": [
      "<html>\n",
      "<head>\n",
      "<title>작품과 작가 모음</title>\n",
      "</head>\n",
      "<body>\n",
      "<h1>책 정보</h1>\n",
      "<p id=\"book_title\">토지</p>\n",
      "<p id=\"author\">박경리</p>\n",
      "<p id=\"book_title\">태백산맥</p>\n",
      "<p id=\"author\">조정래</p>\n",
      "<p id=\"book_title\">감옥으로부터의 사색</p>\n",
      "<p id=\"author\">신영복</p>\n",
      "</body>\n",
      "</html>\n",
      "\n"
     ]
    }
   ],
   "source": [
    "# 아래의 코드도 Beatiful Soup을 활용해 HTML 코드를 파싱했다. \n",
    "# 이제 Beautiful Soup의 다양한 기능을 활용해 \n",
    "# HTML 소스로부터 필요한 데이터를 추출하였다.\n",
    "\n",
    "from bs4 import BeautifulSoup\n",
    "\n",
    "# 원칙은 'lxml'이 존재해야 한다.\n",
    "soup2 = BeautifulSoup(html2,'lxml')\n",
    "print(soup2)"
   ]
  },
  {
   "cell_type": "code",
   "execution_count": 24,
   "id": "788b1336",
   "metadata": {
    "id": "788b1336",
    "outputId": "6da38468-cf0f-4757-edb1-3174e1cbc013"
   },
   "outputs": [
    {
     "data": {
      "text/plain": [
       "<head>\n",
       "<title>작품과 작가 모음</title>\n",
       "</head>"
      ]
     },
     "execution_count": 24,
     "metadata": {},
     "output_type": "execute_result"
    }
   ],
   "source": [
    "soup2.head"
   ]
  },
  {
   "cell_type": "code",
   "execution_count": 27,
   "id": "9f0d345b",
   "metadata": {},
   "outputs": [
    {
     "data": {
      "text/plain": [
       "<title>작품과 작가 모음</title>"
      ]
     },
     "execution_count": 27,
     "metadata": {},
     "output_type": "execute_result"
    }
   ],
   "source": [
    "soup2.title"
   ]
  },
  {
   "cell_type": "code",
   "execution_count": 25,
   "id": "44738e8d",
   "metadata": {
    "id": "44738e8d",
    "outputId": "8782faaf-d540-4d83-c079-c605e914f349"
   },
   "outputs": [
    {
     "data": {
      "text/plain": [
       "<body>\n",
       "<h1>책 정보</h1>\n",
       "<p id=\"book_title\">토지</p>\n",
       "<p id=\"author\">박경리</p>\n",
       "<p id=\"book_title\">태백산맥</p>\n",
       "<p id=\"author\">조정래</p>\n",
       "<p id=\"book_title\">감옥으로부터의 사색</p>\n",
       "<p id=\"author\">신영복</p>\n",
       "</body>"
      ]
     },
     "execution_count": 25,
     "metadata": {},
     "output_type": "execute_result"
    }
   ],
   "source": [
    "soup2.body"
   ]
  },
  {
   "cell_type": "code",
   "execution_count": 26,
   "id": "be91a5e6",
   "metadata": {
    "id": "be91a5e6",
    "outputId": "d9a52ba5-f775-45f4-b7dc-e8be2c711e2b"
   },
   "outputs": [
    {
     "data": {
      "text/plain": [
       "<h1>책 정보</h1>"
      ]
     },
     "execution_count": 26,
     "metadata": {},
     "output_type": "execute_result"
    }
   ],
   "source": [
    "soup2.body.h1"
   ]
  },
  {
   "cell_type": "code",
   "execution_count": 28,
   "id": "9f000510",
   "metadata": {
    "id": "9f000510",
    "outputId": "82106ab7-ad25-4022-9d3c-9eecfd4403a8"
   },
   "outputs": [
    {
     "data": {
      "text/plain": [
       "<p id=\"book_title\">토지</p>"
      ]
     },
     "execution_count": 28,
     "metadata": {},
     "output_type": "execute_result"
    }
   ],
   "source": [
    "# p코드 1개만 가져오고 싶다.\n",
    "# soup2 = BeautifulSoup(html2,'lxml')\n",
    "# print(soup2)\n",
    "\n",
    "soup2.find('p') # BeautifulSoup 함수를 통해 html코드를 parsing한 결과 "
   ]
  },
  {
   "cell_type": "code",
   "execution_count": null,
   "id": "59b716af",
   "metadata": {
    "id": "59b716af",
    "outputId": "da8a49df-24ec-4c87-fb8b-c0abdde39bbc"
   },
   "outputs": [
    {
     "data": {
      "text/plain": [
       "[<p id=\"book_title\">토지</p>,\n",
       " <p id=\"author\">박경리</p>,\n",
       " <p id=\"book_title\">태백산맥</p>,\n",
       " <p id=\"author\">조정래</p>,\n",
       " <p id=\"book_title\">감옥으로부터의 사색</p>,\n",
       " <p id=\"author\">신영복</p>]"
      ]
     },
     "execution_count": 55,
     "metadata": {},
     "output_type": "execute_result"
    }
   ],
   "source": [
    "# p 태그에 해당하는 내용물을 전체 추출\n",
    "soup2.find_all('p')"
   ]
  },
  {
   "cell_type": "markdown",
   "id": "3edb1c4e",
   "metadata": {},
   "source": [
    "위의 결과를 보면 책 제목과 작가를 구분하지 않고 p 태그가 있는 요소를 모두 가지고 온 것을 볼 수 있다. p 태그 중 책 제목과 작가를 분리해서 가져오려면 다음처럼 find()나 find_all()을 이용할 때 '태그'뿐만 아니라 태그 내의 '속성'도 함께 지정하면 된다."
   ]
  },
  {
   "cell_type": "markdown",
   "id": "39198703",
   "metadata": {},
   "source": [
    "html2의 HTML 코드의 p 태그 요소 중 id가 book_title 인 속성을 갖는 첫 번째 요소만 반환하고자 한다면 아래와 같이 활용하면 된다."
   ]
  },
  {
   "cell_type": "code",
   "execution_count": null,
   "id": "d7681b08",
   "metadata": {
    "id": "d7681b08",
    "outputId": "9b053c96-37ae-4ef1-ac29-957d35ebd6c2"
   },
   "outputs": [
    {
     "data": {
      "text/plain": [
       "[<p id=\"book_title\">토지</p>,\n",
       " <p id=\"book_title\">태백산맥</p>,\n",
       " <p id=\"book_title\">감옥으로부터의 사색</p>]"
      ]
     },
     "execution_count": 57,
     "metadata": {},
     "output_type": "execute_result"
    }
   ],
   "source": [
    "# p 태그에 해당하는 내용물을 전체 추출\n",
    "# book_title만 가져오기\n",
    "\n",
    "soup2.find_all('p',{'id':'book_title'})"
   ]
  },
  {
   "cell_type": "code",
   "execution_count": null,
   "id": "92b34ca7",
   "metadata": {
    "id": "92b34ca7",
    "outputId": "f97349c3-5182-4cde-f48b-eadbc4a73c62"
   },
   "outputs": [
    {
     "data": {
      "text/plain": [
       "[<p id=\"author\">박경리</p>, <p id=\"author\">조정래</p>, <p id=\"author\">신영복</p>]"
      ]
     },
     "execution_count": 58,
     "metadata": {},
     "output_type": "execute_result"
    }
   ],
   "source": [
    "# p 태그에 해당하는 내용물을 전체 추출\n",
    "# author만 가져오기\n",
    "\n",
    "soup2.find_all('p',{'id':'author'})"
   ]
  },
  {
   "cell_type": "code",
   "execution_count": null,
   "id": "e006513d",
   "metadata": {
    "id": "e006513d",
    "outputId": "6eb89d7a-eea3-49ea-940b-9580f454a447"
   },
   "outputs": [
    {
     "name": "stdout",
     "output_type": "stream",
     "text": [
      "토지::박경리\n",
      "태백산맥::조정래\n",
      "감옥으로부터의 사색::신영복\n"
     ]
    }
   ],
   "source": [
    "from bs4 import BeautifulSoup\n",
    "\n",
    "# 원칙은 'lxml'이 존재해야 한다.\n",
    "soup2 = BeautifulSoup(html2,'lxml')\n",
    "\n",
    "book_titles = soup2.find_all('p',{'id':'book_title'})\n",
    "authors = soup2.find_all('p',{'id':'author'})\n",
    "\n",
    "for book, author in zip(book_titles, authors):\n",
    "    print(book.get_text()+'::'+ author.get_text())"
   ]
  },
  {
   "cell_type": "markdown",
   "id": "202ec2b9",
   "metadata": {},
   "source": [
    "HTML 소스에서 원하는 요소를 찾기 위해 find() 혹은 find_all()을 이용했다. 또 다른 방법으로는 CSS 선택자(selector)를 이용하는 것이다. CSS 선택자는 CSS에서 원하는 요소를 선택하는 것으로써 파이썬 뿐 아니라 다른 프로그래밍 언어에서도 HTML 소스를 처리할 때 많이 이용한다. Beautiful Soup도 'BeautifulSoup.select('태그 및 속성')'을 통해서 CSS 선택자를 지원한다. "
   ]
  },
  {
   "cell_type": "markdown",
   "id": "53453369",
   "metadata": {},
   "source": [
    "##### 앞의 html2 변수에 할당된 HTML 소스에서 body 태그 요소 내에 h1 태그 요소를 갖고 오려면 아래와 같이 하면 된다."
   ]
  },
  {
   "cell_type": "code",
   "execution_count": 35,
   "id": "dc87c6c5",
   "metadata": {},
   "outputs": [
    {
     "data": {
      "text/plain": [
       "[<h1>책 정보</h1>]"
      ]
     },
     "execution_count": 35,
     "metadata": {},
     "output_type": "execute_result"
    }
   ],
   "source": [
    "soup2.select('body h1')"
   ]
  },
  {
   "cell_type": "code",
   "execution_count": 36,
   "id": "27d882ec",
   "metadata": {},
   "outputs": [
    {
     "data": {
      "text/plain": [
       "[<p id=\"book_title\">토지</p>,\n",
       " <p id=\"author\">박경리</p>,\n",
       " <p id=\"book_title\">태백산맥</p>,\n",
       " <p id=\"author\">조정래</p>,\n",
       " <p id=\"book_title\">감옥으로부터의 사색</p>,\n",
       " <p id=\"author\">신영복</p>]"
      ]
     },
     "execution_count": 36,
     "metadata": {},
     "output_type": "execute_result"
    }
   ],
   "source": [
    "soup2.select('body p')"
   ]
  },
  {
   "cell_type": "code",
   "execution_count": 37,
   "id": "a700d3bc",
   "metadata": {},
   "outputs": [
    {
     "data": {
      "text/plain": [
       "[<p id=\"book_title\">토지</p>,\n",
       " <p id=\"author\">박경리</p>,\n",
       " <p id=\"book_title\">태백산맥</p>,\n",
       " <p id=\"author\">조정래</p>,\n",
       " <p id=\"book_title\">감옥으로부터의 사색</p>,\n",
       " <p id=\"author\">신영복</p>]"
      ]
     },
     "execution_count": 37,
     "metadata": {},
     "output_type": "execute_result"
    }
   ],
   "source": [
    "soup2.select('p')"
   ]
  },
  {
   "cell_type": "markdown",
   "id": "ebb51222",
   "metadata": {},
   "source": [
    "만약 태그 안의 속성이 class인 경우'태그.class_속성값'으로 입력하고 속성이 id인 경우에는 '태그#id_속성값'으로 입력해 추출할 수 있다. 앞의 예에서 p 태그 안에 있는 속성이 id이므로 p#id_속성값'으로 원하는 요소를 추출해보자."
   ]
  },
  {
   "cell_type": "markdown",
   "id": "49ef5dda",
   "metadata": {},
   "source": [
    "만약 책 제목만 뽑고 싶다면 'id_속성값'을 book_title로 지정하고 저자 정보만 뽑고 싶다면 'id_속성값'을 author로 지정하면 된다."
   ]
  },
  {
   "cell_type": "code",
   "execution_count": 38,
   "id": "332bb42d",
   "metadata": {},
   "outputs": [
    {
     "data": {
      "text/plain": [
       "[<p id=\"book_title\">토지</p>,\n",
       " <p id=\"book_title\">태백산맥</p>,\n",
       " <p id=\"book_title\">감옥으로부터의 사색</p>]"
      ]
     },
     "execution_count": 38,
     "metadata": {},
     "output_type": "execute_result"
    }
   ],
   "source": [
    "soup2.select('p#book_title')"
   ]
  },
  {
   "cell_type": "code",
   "execution_count": 39,
   "id": "9d62e54f",
   "metadata": {},
   "outputs": [
    {
     "data": {
      "text/plain": [
       "[<p id=\"author\">박경리</p>, <p id=\"author\">조정래</p>, <p id=\"author\">신영복</p>]"
      ]
     },
     "execution_count": 39,
     "metadata": {},
     "output_type": "execute_result"
    }
   ],
   "source": [
    "soup2.select('p#author')"
   ]
  },
  {
   "cell_type": "code",
   "execution_count": null,
   "id": "c3f3c2eb",
   "metadata": {},
   "outputs": [],
   "source": [
    "# %%writefile C:\\Users\\ASIA-26\\HTML_example_my_site.html "
   ]
  },
  {
   "cell_type": "code",
   "execution_count": 32,
   "id": "c4e7e6e5",
   "metadata": {
    "id": "c4e7e6e5",
    "outputId": "7abe747e-2332-49ee-f5f6-be981d31f46d"
   },
   "outputs": [
    {
     "name": "stdout",
     "output_type": "stream",
     "text": [
      "Overwriting ./HTML_example_my_site.html\n"
     ]
    }
   ],
   "source": [
    "%%writefile ./HTML_example_my_site.html \n",
    "\n",
    "<!doctype html>\n",
    "<html>\n",
    "  <head>\n",
    "    <meta charset=\"utf-8\">\n",
    "    <title>사이트 모음</title>\n",
    "  </head>\n",
    "  <body>\n",
    "    <p id=\"title\"><b>자주 가는 사이트 모음</b></p>\n",
    "    <p id=\"contents\">이곳은 자주 가는 사이트를 모아둔 곳입니다.</p>\n",
    "    <a href=\"http://www.naver.com\" class=\"portal\" id=\"naver\">네이버</a> <br>\n",
    "    <a href=\"https://www.google.com\" class=\"search\" id=\"google\">구글</a> <br>\n",
    "    <a href=\"http://www.daum.net\" class=\"portal\" id=\"daum\">다음</a> <br>\n",
    "    <a href=\"http://www.nl.go.kr\" class=\"government\" id=\"nl\">국립중앙도서관</a>\n",
    "  </body>\n",
    "</html>"
   ]
  },
  {
   "cell_type": "code",
   "execution_count": 33,
   "id": "62ce7903",
   "metadata": {
    "id": "62ce7903",
    "outputId": "8d1d0475-24af-4518-9764-79ba35703269"
   },
   "outputs": [
    {
     "data": {
      "text/plain": [
       "<!DOCTYPE html>\n",
       "<html>\n",
       "<head>\n",
       "<meta charset=\"utf-8\"/>\n",
       "<title>사이트 모음</title>\n",
       "</head>\n",
       "<body>\n",
       "<p id=\"title\"><b>자주 가는 사이트 모음</b></p>\n",
       "<p id=\"contents\">이곳은 자주 가는 사이트를 모아둔 곳입니다.</p>\n",
       "<a class=\"portal\" href=\"http://www.naver.com\" id=\"naver\">네이버</a> <br/>\n",
       "<a class=\"search\" href=\"https://www.google.com\" id=\"google\">구글</a> <br/>\n",
       "<a class=\"portal\" href=\"http://www.daum.net\" id=\"daum\">다음</a> <br/>\n",
       "<a class=\"government\" href=\"http://www.nl.go.kr\" id=\"nl\">국립중앙도서관</a>\n",
       "</body>\n",
       "</html>"
      ]
     },
     "execution_count": 33,
     "metadata": {},
     "output_type": "execute_result"
    }
   ],
   "source": [
    "f = open('.//HTML_example_my_site.html', encoding = 'utf-8')\n",
    "\n",
    "html3 = f.read()\n",
    "f.close()\n",
    "\n",
    "from bs4 import BeautifulSoup\n",
    "\n",
    "soup3 = BeautifulSoup(html3, 'lxml')\n",
    "soup3"
   ]
  },
  {
   "cell_type": "code",
   "execution_count": 41,
   "id": "6d2f4fd9",
   "metadata": {},
   "outputs": [
    {
     "data": {
      "text/plain": [
       "[<a class=\"portal\" href=\"http://www.naver.com\" id=\"naver\">네이버</a>,\n",
       " <a class=\"search\" href=\"https://www.google.com\" id=\"google\">구글</a>,\n",
       " <a class=\"portal\" href=\"http://www.daum.net\" id=\"daum\">다음</a>,\n",
       " <a class=\"government\" href=\"http://www.nl.go.kr\" id=\"nl\">국립중앙도서관</a>]"
      ]
     },
     "execution_count": 41,
     "metadata": {},
     "output_type": "execute_result"
    }
   ],
   "source": [
    "soup3.select('a')"
   ]
  },
  {
   "cell_type": "code",
   "execution_count": 42,
   "id": "08ce8983",
   "metadata": {
    "id": "08ce8983",
    "outputId": "52680428-49be-4541-fdb7-3ceec7460986"
   },
   "outputs": [
    {
     "data": {
      "text/plain": [
       "[<a class=\"portal\" href=\"http://www.naver.com\" id=\"naver\">네이버</a>,\n",
       " <a class=\"portal\" href=\"http://www.daum.net\" id=\"daum\">다음</a>]"
      ]
     },
     "execution_count": 42,
     "metadata": {},
     "output_type": "execute_result"
    }
   ],
   "source": [
    "soup3.select('a.portal')"
   ]
  },
  {
   "cell_type": "code",
   "execution_count": 43,
   "id": "d57b1edc",
   "metadata": {
    "id": "d57b1edc",
    "outputId": "4a936937-e6de-4f00-d23b-d197724244f3"
   },
   "outputs": [
    {
     "data": {
      "text/plain": [
       "[<a class=\"government\" href=\"http://www.nl.go.kr\" id=\"nl\">국립중앙도서관</a>]"
      ]
     },
     "execution_count": 43,
     "metadata": {},
     "output_type": "execute_result"
    }
   ],
   "source": [
    "soup3.select('a#nl')"
   ]
  },
  {
   "cell_type": "code",
   "execution_count": null,
   "id": "699a9d80",
   "metadata": {
    "id": "699a9d80"
   },
   "outputs": [],
   "source": [
    "# end of file "
   ]
  }
 ],
 "metadata": {
  "colab": {
   "provenance": []
  },
  "kernelspec": {
   "display_name": "Python 3 (ipykernel)",
   "language": "python",
   "name": "python3"
  },
  "language_info": {
   "codemirror_mode": {
    "name": "ipython",
    "version": 3
   },
   "file_extension": ".py",
   "mimetype": "text/x-python",
   "name": "python",
   "nbconvert_exporter": "python",
   "pygments_lexer": "ipython3",
   "version": "3.9.13"
  }
 },
 "nbformat": 4,
 "nbformat_minor": 5
}
