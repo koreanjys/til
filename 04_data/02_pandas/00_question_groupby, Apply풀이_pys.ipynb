{
 "cells": [
  {
   "cell_type": "markdown",
   "id": "62fc74f4",
   "metadata": {},
   "source": [
    "### 01. Groupby입니다 ^^ - 조금 어렵습니다 ㅠㅠ"
   ]
  },
  {
   "cell_type": "markdown",
   "id": "d45bae53",
   "metadata": {},
   "source": [
    "뉴욕 airBnB : https://www.kaggle.com/ptoscano230382/air-bnb-ny-2019 "
   ]
  },
  {
   "cell_type": "code",
   "execution_count": 1,
   "id": "47e5274e",
   "metadata": {},
   "outputs": [],
   "source": [
    "# Q1. 데이터를 로드한 뒤 상위 5개 컬럼을 출력해보자."
   ]
  },
  {
   "cell_type": "code",
   "execution_count": 14,
   "id": "5c4d5802",
   "metadata": {},
   "outputs": [
    {
     "data": {
      "text/html": [
       "<div>\n",
       "<style scoped>\n",
       "    .dataframe tbody tr th:only-of-type {\n",
       "        vertical-align: middle;\n",
       "    }\n",
       "\n",
       "    .dataframe tbody tr th {\n",
       "        vertical-align: top;\n",
       "    }\n",
       "\n",
       "    .dataframe thead th {\n",
       "        text-align: right;\n",
       "    }\n",
       "</style>\n",
       "<table border=\"1\" class=\"dataframe\">\n",
       "  <thead>\n",
       "    <tr style=\"text-align: right;\">\n",
       "      <th></th>\n",
       "      <th>id</th>\n",
       "      <th>name</th>\n",
       "      <th>host_id</th>\n",
       "      <th>host_name</th>\n",
       "      <th>neighbourhood_group</th>\n",
       "      <th>neighbourhood</th>\n",
       "      <th>latitude</th>\n",
       "      <th>longitude</th>\n",
       "      <th>room_type</th>\n",
       "      <th>price</th>\n",
       "      <th>minimum_nights</th>\n",
       "      <th>number_of_reviews</th>\n",
       "      <th>last_review</th>\n",
       "      <th>reviews_per_month</th>\n",
       "      <th>calculated_host_listings_count</th>\n",
       "      <th>availability_365</th>\n",
       "    </tr>\n",
       "  </thead>\n",
       "  <tbody>\n",
       "    <tr>\n",
       "      <th>0</th>\n",
       "      <td>2539</td>\n",
       "      <td>Clean &amp; quiet apt home by the park</td>\n",
       "      <td>2787</td>\n",
       "      <td>John</td>\n",
       "      <td>Brooklyn</td>\n",
       "      <td>Kensington</td>\n",
       "      <td>40.64749</td>\n",
       "      <td>-73.97237</td>\n",
       "      <td>Private room</td>\n",
       "      <td>149</td>\n",
       "      <td>1</td>\n",
       "      <td>9</td>\n",
       "      <td>2018-10-19</td>\n",
       "      <td>0.21</td>\n",
       "      <td>6</td>\n",
       "      <td>365</td>\n",
       "    </tr>\n",
       "    <tr>\n",
       "      <th>1</th>\n",
       "      <td>2595</td>\n",
       "      <td>Skylit Midtown Castle</td>\n",
       "      <td>2845</td>\n",
       "      <td>Jennifer</td>\n",
       "      <td>Manhattan</td>\n",
       "      <td>Midtown</td>\n",
       "      <td>40.75362</td>\n",
       "      <td>-73.98377</td>\n",
       "      <td>Entire home/apt</td>\n",
       "      <td>225</td>\n",
       "      <td>1</td>\n",
       "      <td>45</td>\n",
       "      <td>2019-05-21</td>\n",
       "      <td>0.38</td>\n",
       "      <td>2</td>\n",
       "      <td>355</td>\n",
       "    </tr>\n",
       "    <tr>\n",
       "      <th>2</th>\n",
       "      <td>3647</td>\n",
       "      <td>THE VILLAGE OF HARLEM....NEW YORK !</td>\n",
       "      <td>4632</td>\n",
       "      <td>Elisabeth</td>\n",
       "      <td>Manhattan</td>\n",
       "      <td>Harlem</td>\n",
       "      <td>40.80902</td>\n",
       "      <td>-73.94190</td>\n",
       "      <td>Private room</td>\n",
       "      <td>150</td>\n",
       "      <td>3</td>\n",
       "      <td>0</td>\n",
       "      <td>NaN</td>\n",
       "      <td>NaN</td>\n",
       "      <td>1</td>\n",
       "      <td>365</td>\n",
       "    </tr>\n",
       "    <tr>\n",
       "      <th>3</th>\n",
       "      <td>3831</td>\n",
       "      <td>Cozy Entire Floor of Brownstone</td>\n",
       "      <td>4869</td>\n",
       "      <td>LisaRoxanne</td>\n",
       "      <td>Brooklyn</td>\n",
       "      <td>Clinton Hill</td>\n",
       "      <td>40.68514</td>\n",
       "      <td>-73.95976</td>\n",
       "      <td>Entire home/apt</td>\n",
       "      <td>89</td>\n",
       "      <td>1</td>\n",
       "      <td>270</td>\n",
       "      <td>2019-07-05</td>\n",
       "      <td>4.64</td>\n",
       "      <td>1</td>\n",
       "      <td>194</td>\n",
       "    </tr>\n",
       "    <tr>\n",
       "      <th>4</th>\n",
       "      <td>5022</td>\n",
       "      <td>Entire Apt: Spacious Studio/Loft by central park</td>\n",
       "      <td>7192</td>\n",
       "      <td>Laura</td>\n",
       "      <td>Manhattan</td>\n",
       "      <td>East Harlem</td>\n",
       "      <td>40.79851</td>\n",
       "      <td>-73.94399</td>\n",
       "      <td>Entire home/apt</td>\n",
       "      <td>80</td>\n",
       "      <td>10</td>\n",
       "      <td>9</td>\n",
       "      <td>2018-11-19</td>\n",
       "      <td>0.10</td>\n",
       "      <td>1</td>\n",
       "      <td>0</td>\n",
       "    </tr>\n",
       "  </tbody>\n",
       "</table>\n",
       "</div>"
      ],
      "text/plain": [
       "     id                                              name  host_id  \\\n",
       "0  2539                Clean & quiet apt home by the park     2787   \n",
       "1  2595                             Skylit Midtown Castle     2845   \n",
       "2  3647               THE VILLAGE OF HARLEM....NEW YORK !     4632   \n",
       "3  3831                   Cozy Entire Floor of Brownstone     4869   \n",
       "4  5022  Entire Apt: Spacious Studio/Loft by central park     7192   \n",
       "\n",
       "     host_name neighbourhood_group neighbourhood  latitude  longitude  \\\n",
       "0         John            Brooklyn    Kensington  40.64749  -73.97237   \n",
       "1     Jennifer           Manhattan       Midtown  40.75362  -73.98377   \n",
       "2    Elisabeth           Manhattan        Harlem  40.80902  -73.94190   \n",
       "3  LisaRoxanne            Brooklyn  Clinton Hill  40.68514  -73.95976   \n",
       "4        Laura           Manhattan   East Harlem  40.79851  -73.94399   \n",
       "\n",
       "         room_type  price  minimum_nights  number_of_reviews last_review  \\\n",
       "0     Private room    149               1                  9  2018-10-19   \n",
       "1  Entire home/apt    225               1                 45  2019-05-21   \n",
       "2     Private room    150               3                  0         NaN   \n",
       "3  Entire home/apt     89               1                270  2019-07-05   \n",
       "4  Entire home/apt     80              10                  9  2018-11-19   \n",
       "\n",
       "   reviews_per_month  calculated_host_listings_count  availability_365  \n",
       "0               0.21                               6               365  \n",
       "1               0.38                               2               355  \n",
       "2                NaN                               1               365  \n",
       "3               4.64                               1               194  \n",
       "4               0.10                               1                 0  "
      ]
     },
     "execution_count": 14,
     "metadata": {},
     "output_type": "execute_result"
    }
   ],
   "source": [
    "import pandas as pd\n",
    "air_df = pd.read_csv('./AB_NYC_2019.csv')\n",
    "air_df.head(5)"
   ]
  },
  {
   "cell_type": "code",
   "execution_count": 15,
   "id": "e82ea55e",
   "metadata": {},
   "outputs": [],
   "source": [
    "# Q2. 각 host_name의 빈도수를 구하고 host_name으로 정렬하여 상위 5개를 출력해보자. - groupby, value_counts()"
   ]
  },
  {
   "cell_type": "code",
   "execution_count": 22,
   "id": "c79942e7",
   "metadata": {},
   "outputs": [
    {
     "data": {
      "text/plain": [
       "#NAME?                      1\n",
       "'Cil                        1\n",
       "(Ari) HENRY LEE             1\n",
       "(Email hidden by Airbnb)    6\n",
       "(Mary) Haiy                 1\n",
       "                           ..\n",
       "단비                          1\n",
       "빈나                          1\n",
       "소정                          2\n",
       "진                           1\n",
       "현선                          1\n",
       "Name: host_name, Length: 11452, dtype: int64"
      ]
     },
     "execution_count": 22,
     "metadata": {},
     "output_type": "execute_result"
    }
   ],
   "source": [
    "# 1. value_counts()를 통한 정답\n",
    "air_df.host_name.value_counts().sort_index() # Value_counts()"
   ]
  },
  {
   "cell_type": "code",
   "execution_count": null,
   "id": "55c1ddcf",
   "metadata": {},
   "outputs": [],
   "source": [
    "# 2. groupby().size()라는 함수를 통해서 풀 수 있다."
   ]
  },
  {
   "cell_type": "code",
   "execution_count": 28,
   "id": "df345b5b",
   "metadata": {},
   "outputs": [
    {
     "data": {
      "text/plain": [
       "host_name\n",
       "#NAME?                      1\n",
       "'Cil                        1\n",
       "(Ari) HENRY LEE             1\n",
       "(Email hidden by Airbnb)    6\n",
       "(Mary) Haiy                 1\n",
       "                           ..\n",
       "단비                          1\n",
       "빈나                          1\n",
       "소정                          2\n",
       "진                           1\n",
       "현선                          1\n",
       "Length: 11452, dtype: int64"
      ]
     },
     "execution_count": 28,
     "metadata": {},
     "output_type": "execute_result"
    }
   ],
   "source": [
    "# count()는 전체 df의 빈도수를 세어줌 - 2차원\n",
    "air_df.groupby(by='host_name').count()\n",
    "\n",
    "# size()는 전체 df의 빈도수를 세어줌 - 1차원\n",
    "air_df.groupby(by='host_name').size() "
   ]
  },
  {
   "cell_type": "code",
   "execution_count": 4,
   "id": "55bfd84f",
   "metadata": {},
   "outputs": [],
   "source": [
    "# Q3. 데이터의 각 host_name의 빈도수를 구하고, \n",
    "# 빈도수 기준 내림차순 정렬한 데이터 프레임을 생성해보자.\n",
    "# 빈도수 컬럼의 컬럼명은 counts로 변경해보자.(host_name은 index입니당 ^^;)"
   ]
  },
  {
   "cell_type": "markdown",
   "id": "c4f25ad0",
   "metadata": {},
   "source": [
    "||counts|\n",
    "|---|---|\n",
    "|host_name||\n",
    "|Michael|417|\n",
    "|David|403|\n",
    "|Sonder (NYC)|327|\n",
    "|John|294|\n",
    "|Alex|279|"
   ]
  },
  {
   "cell_type": "code",
   "execution_count": 38,
   "id": "b109b322",
   "metadata": {},
   "outputs": [
    {
     "data": {
      "text/html": [
       "<div>\n",
       "<style scoped>\n",
       "    .dataframe tbody tr th:only-of-type {\n",
       "        vertical-align: middle;\n",
       "    }\n",
       "\n",
       "    .dataframe tbody tr th {\n",
       "        vertical-align: top;\n",
       "    }\n",
       "\n",
       "    .dataframe thead th {\n",
       "        text-align: right;\n",
       "    }\n",
       "</style>\n",
       "<table border=\"1\" class=\"dataframe\">\n",
       "  <thead>\n",
       "    <tr style=\"text-align: right;\">\n",
       "      <th></th>\n",
       "      <th>counts</th>\n",
       "    </tr>\n",
       "  </thead>\n",
       "  <tbody>\n",
       "    <tr>\n",
       "      <th>Michael</th>\n",
       "      <td>417</td>\n",
       "    </tr>\n",
       "    <tr>\n",
       "      <th>David</th>\n",
       "      <td>403</td>\n",
       "    </tr>\n",
       "    <tr>\n",
       "      <th>Sonder (NYC)</th>\n",
       "      <td>327</td>\n",
       "    </tr>\n",
       "    <tr>\n",
       "      <th>John</th>\n",
       "      <td>294</td>\n",
       "    </tr>\n",
       "    <tr>\n",
       "      <th>Alex</th>\n",
       "      <td>279</td>\n",
       "    </tr>\n",
       "    <tr>\n",
       "      <th>...</th>\n",
       "      <td>...</td>\n",
       "    </tr>\n",
       "    <tr>\n",
       "      <th>Rhonycs</th>\n",
       "      <td>1</td>\n",
       "    </tr>\n",
       "    <tr>\n",
       "      <th>Brandy-Courtney</th>\n",
       "      <td>1</td>\n",
       "    </tr>\n",
       "    <tr>\n",
       "      <th>Shanthony</th>\n",
       "      <td>1</td>\n",
       "    </tr>\n",
       "    <tr>\n",
       "      <th>Aurore And Jamila</th>\n",
       "      <td>1</td>\n",
       "    </tr>\n",
       "    <tr>\n",
       "      <th>Ilgar &amp; Aysel</th>\n",
       "      <td>1</td>\n",
       "    </tr>\n",
       "  </tbody>\n",
       "</table>\n",
       "<p>11452 rows × 1 columns</p>\n",
       "</div>"
      ],
      "text/plain": [
       "                   counts\n",
       "Michael               417\n",
       "David                 403\n",
       "Sonder (NYC)          327\n",
       "John                  294\n",
       "Alex                  279\n",
       "...                   ...\n",
       "Rhonycs                 1\n",
       "Brandy-Courtney         1\n",
       "Shanthony               1\n",
       "Aurore And Jamila       1\n",
       "Ilgar & Aysel           1\n",
       "\n",
       "[11452 rows x 1 columns]"
      ]
     },
     "execution_count": 38,
     "metadata": {},
     "output_type": "execute_result"
    }
   ],
   "source": [
    "# 1번째 방법-value_counts()를 활용하는 방법\n",
    "# 긴 코드\n",
    "pd.DataFrame(air_df.host_name.value_counts()).rename(columns={'host_name':'counts'})"
   ]
  },
  {
   "cell_type": "code",
   "execution_count": 45,
   "id": "849b1438",
   "metadata": {},
   "outputs": [],
   "source": [
    "# 1번째 방법을 조건별로 잘라서 만들어보자.\n",
    "air_freq_sr = air_df.host_name.value_counts()\n",
    "\n",
    "# df생성해보기\n",
    "air_freq_df = pd.DataFrame(air_freq_sr)\n",
    "\n",
    "# df의 컬럼명을 counts로 변경 -> rename함수를 활용\n",
    "air_freq_df.rename(columns={'host_name':'counts'}, inplace=True)"
   ]
  },
  {
   "cell_type": "code",
   "execution_count": 65,
   "id": "39f95e8b",
   "metadata": {},
   "outputs": [],
   "source": [
    "# 2번째 방법 - Groupby() 짧은 코드 여러개.\n",
    "freq_air2 = air_df.groupby(by='host_name').size()\n",
    "\n",
    "# df변경\n",
    "freq_air_df2 = freq_air2.to_frame()\n",
    "\n",
    "# df의 컬럼명 변경\n",
    "new_freq_df2 = freq_air_df2.rename(columns={0:'counts'})"
   ]
  },
  {
   "cell_type": "code",
   "execution_count": 58,
   "id": "9018a8ee",
   "metadata": {},
   "outputs": [
    {
     "data": {
      "text/html": [
       "<div>\n",
       "<style scoped>\n",
       "    .dataframe tbody tr th:only-of-type {\n",
       "        vertical-align: middle;\n",
       "    }\n",
       "\n",
       "    .dataframe tbody tr th {\n",
       "        vertical-align: top;\n",
       "    }\n",
       "\n",
       "    .dataframe thead th {\n",
       "        text-align: right;\n",
       "    }\n",
       "</style>\n",
       "<table border=\"1\" class=\"dataframe\">\n",
       "  <thead>\n",
       "    <tr style=\"text-align: right;\">\n",
       "      <th></th>\n",
       "      <th>counts</th>\n",
       "    </tr>\n",
       "    <tr>\n",
       "      <th>host_name</th>\n",
       "      <th></th>\n",
       "    </tr>\n",
       "  </thead>\n",
       "  <tbody>\n",
       "    <tr>\n",
       "      <th>Michael</th>\n",
       "      <td>417</td>\n",
       "    </tr>\n",
       "    <tr>\n",
       "      <th>David</th>\n",
       "      <td>403</td>\n",
       "    </tr>\n",
       "    <tr>\n",
       "      <th>Sonder (NYC)</th>\n",
       "      <td>327</td>\n",
       "    </tr>\n",
       "    <tr>\n",
       "      <th>John</th>\n",
       "      <td>294</td>\n",
       "    </tr>\n",
       "    <tr>\n",
       "      <th>Alex</th>\n",
       "      <td>279</td>\n",
       "    </tr>\n",
       "    <tr>\n",
       "      <th>...</th>\n",
       "      <td>...</td>\n",
       "    </tr>\n",
       "    <tr>\n",
       "      <th>Jerbean</th>\n",
       "      <td>1</td>\n",
       "    </tr>\n",
       "    <tr>\n",
       "      <th>Jerald</th>\n",
       "      <td>1</td>\n",
       "    </tr>\n",
       "    <tr>\n",
       "      <th>Jeonghoon</th>\n",
       "      <td>1</td>\n",
       "    </tr>\n",
       "    <tr>\n",
       "      <th>Jeny</th>\n",
       "      <td>1</td>\n",
       "    </tr>\n",
       "    <tr>\n",
       "      <th>현선</th>\n",
       "      <td>1</td>\n",
       "    </tr>\n",
       "  </tbody>\n",
       "</table>\n",
       "<p>11452 rows × 1 columns</p>\n",
       "</div>"
      ],
      "text/plain": [
       "              counts\n",
       "host_name           \n",
       "Michael          417\n",
       "David            403\n",
       "Sonder (NYC)     327\n",
       "John             294\n",
       "Alex             279\n",
       "...              ...\n",
       "Jerbean            1\n",
       "Jerald             1\n",
       "Jeonghoon          1\n",
       "Jeny               1\n",
       "현선                 1\n",
       "\n",
       "[11452 rows x 1 columns]"
      ]
     },
     "execution_count": 58,
     "metadata": {},
     "output_type": "execute_result"
    }
   ],
   "source": [
    "# 2번째 방법 - Groupby() :: index 명을 지우지 않는다... \n",
    "air_df.groupby(by='host_name').size().to_frame().rename(columns={0:'counts'}).sort_values(by='counts',ascending=False)"
   ]
  },
  {
   "cell_type": "code",
   "execution_count": 5,
   "id": "d5f0f41b",
   "metadata": {},
   "outputs": [],
   "source": [
    "# Q4. neighbourhood_group값에 따른 neighbourhood컬럼 값의 갯수를 구해보세요."
   ]
  },
  {
   "cell_type": "markdown",
   "id": "3b5ef272",
   "metadata": {},
   "source": [
    "|neighbourhood_group|neighbourhood|size|\n",
    "|---|---|---|\n",
    "|Bronx|Allerton|42|\n",
    "|Bronx|Baychester|7|\n",
    "|Bronx|Belmont|24|\n",
    "|Bronx|Bronxdale|19|\n"
   ]
  },
  {
   "cell_type": "code",
   "execution_count": 74,
   "id": "6568a503",
   "metadata": {},
   "outputs": [
    {
     "data": {
      "text/plain": [
       "neighbourhood_group  neighbourhood\n",
       "Bronx                Allerton         42\n",
       "                     Baychester        7\n",
       "                     Belmont          24\n",
       "                     Bronxdale        19\n",
       "                     Castle Hill       9\n",
       "                                      ..\n",
       "Staten Island        Tottenville       7\n",
       "                     West Brighton    18\n",
       "                     Westerleigh       2\n",
       "                     Willowbrook       1\n",
       "                     Woodrow           1\n",
       "Length: 221, dtype: int64"
      ]
     },
     "execution_count": 74,
     "metadata": {},
     "output_type": "execute_result"
    }
   ],
   "source": [
    "# 1. value_counts()\n",
    "air_df[['neighbourhood_group','neighbourhood']].value_counts().sort_index()"
   ]
  },
  {
   "cell_type": "code",
   "execution_count": 72,
   "id": "de6525d9",
   "metadata": {},
   "outputs": [
    {
     "data": {
      "text/plain": [
       "neighbourhood_group  neighbourhood     \n",
       "Brooklyn             Williamsburg          3920\n",
       "                     Bedford-Stuyvesant    3714\n",
       "Manhattan            Harlem                2658\n",
       "Brooklyn             Bushwick              2465\n",
       "Manhattan            Upper West Side       1971\n",
       "                                           ... \n",
       "Staten Island        Richmondtown             1\n",
       "                     New Dorp                 1\n",
       "                     Fort Wadsworth           1\n",
       "                     Willowbrook              1\n",
       "                     Woodrow                  1\n",
       "Length: 221, dtype: int64"
      ]
     },
     "execution_count": 72,
     "metadata": {},
     "output_type": "execute_result"
    }
   ],
   "source": [
    "# 2. groupby()\n",
    "air_df.groupby(['neighbourhood_group','neighbourhood']).size().sort_values(ascending=False)"
   ]
  },
  {
   "cell_type": "code",
   "execution_count": 6,
   "id": "9114390d",
   "metadata": {},
   "outputs": [],
   "source": [
    "# Q5. neighbourhood_group값에 따른 reviews_per_month 값의 평균, 분산, 최대, 최소값을 구해보자- agg함수 활용"
   ]
  },
  {
   "cell_type": "code",
   "execution_count": 79,
   "id": "bd31cb3b",
   "metadata": {},
   "outputs": [
    {
     "data": {
      "text/html": [
       "<div>\n",
       "<style scoped>\n",
       "    .dataframe tbody tr th:only-of-type {\n",
       "        vertical-align: middle;\n",
       "    }\n",
       "\n",
       "    .dataframe tbody tr th {\n",
       "        vertical-align: top;\n",
       "    }\n",
       "\n",
       "    .dataframe thead tr th {\n",
       "        text-align: left;\n",
       "    }\n",
       "\n",
       "    .dataframe thead tr:last-of-type th {\n",
       "        text-align: right;\n",
       "    }\n",
       "</style>\n",
       "<table border=\"1\" class=\"dataframe\">\n",
       "  <thead>\n",
       "    <tr>\n",
       "      <th></th>\n",
       "      <th colspan=\"4\" halign=\"left\">reviews_per_month</th>\n",
       "    </tr>\n",
       "    <tr>\n",
       "      <th></th>\n",
       "      <th>mean</th>\n",
       "      <th>var</th>\n",
       "      <th>max</th>\n",
       "      <th>min</th>\n",
       "    </tr>\n",
       "    <tr>\n",
       "      <th>neighbourhood_group</th>\n",
       "      <th></th>\n",
       "      <th></th>\n",
       "      <th></th>\n",
       "      <th></th>\n",
       "    </tr>\n",
       "  </thead>\n",
       "  <tbody>\n",
       "    <tr>\n",
       "      <th>Bronx</th>\n",
       "      <td>1.837831</td>\n",
       "      <td>2.799878</td>\n",
       "      <td>10.34</td>\n",
       "      <td>0.02</td>\n",
       "    </tr>\n",
       "    <tr>\n",
       "      <th>Brooklyn</th>\n",
       "      <td>1.283212</td>\n",
       "      <td>2.299040</td>\n",
       "      <td>14.00</td>\n",
       "      <td>0.01</td>\n",
       "    </tr>\n",
       "    <tr>\n",
       "      <th>Manhattan</th>\n",
       "      <td>1.272131</td>\n",
       "      <td>2.651206</td>\n",
       "      <td>58.50</td>\n",
       "      <td>0.01</td>\n",
       "    </tr>\n",
       "    <tr>\n",
       "      <th>Queens</th>\n",
       "      <td>1.941200</td>\n",
       "      <td>4.897848</td>\n",
       "      <td>20.94</td>\n",
       "      <td>0.01</td>\n",
       "    </tr>\n",
       "    <tr>\n",
       "      <th>Staten Island</th>\n",
       "      <td>1.872580</td>\n",
       "      <td>2.840895</td>\n",
       "      <td>10.12</td>\n",
       "      <td>0.02</td>\n",
       "    </tr>\n",
       "  </tbody>\n",
       "</table>\n",
       "</div>"
      ],
      "text/plain": [
       "                    reviews_per_month                       \n",
       "                                 mean       var    max   min\n",
       "neighbourhood_group                                         \n",
       "Bronx                        1.837831  2.799878  10.34  0.02\n",
       "Brooklyn                     1.283212  2.299040  14.00  0.01\n",
       "Manhattan                    1.272131  2.651206  58.50  0.01\n",
       "Queens                       1.941200  4.897848  20.94  0.01\n",
       "Staten Island                1.872580  2.840895  10.12  0.02"
      ]
     },
     "execution_count": 79,
     "metadata": {},
     "output_type": "execute_result"
    }
   ],
   "source": [
    "air_df[['neighbourhood_group','reviews_per_month']].groupby('neighbourhood_group').agg(['mean','var','max','min'])"
   ]
  },
  {
   "cell_type": "code",
   "execution_count": 7,
   "id": "60b9f9f8",
   "metadata": {},
   "outputs": [],
   "source": [
    "# Q6. neighbourhood_group값과 neighbourhood값에 따른 price의 평균을 구해보자."
   ]
  },
  {
   "cell_type": "code",
   "execution_count": 86,
   "id": "37df121b",
   "metadata": {},
   "outputs": [
    {
     "data": {
      "text/plain": [
       "neighbourhood_group  neighbourhood\n",
       "Bronx                Allerton          87.595238\n",
       "                     Baychester        75.428571\n",
       "                     Belmont           77.125000\n",
       "                     Bronxdale         57.105263\n",
       "                     Castle Hill       63.000000\n",
       "                                         ...    \n",
       "Staten Island        Tottenville      144.857143\n",
       "                     West Brighton     80.555556\n",
       "                     Westerleigh       71.500000\n",
       "                     Willowbrook      249.000000\n",
       "                     Woodrow          700.000000\n",
       "Name: price, Length: 221, dtype: float64"
      ]
     },
     "execution_count": 86,
     "metadata": {},
     "output_type": "execute_result"
    }
   ],
   "source": [
    "air_df.groupby(['neighbourhood_group','neighbourhood']).price.mean()"
   ]
  },
  {
   "cell_type": "markdown",
   "id": "2541d606",
   "metadata": {},
   "source": [
    "### 02. Apply_lambda "
   ]
  },
  {
   "cell_type": "markdown",
   "id": "64f45cbb",
   "metadata": {},
   "source": [
    "카드이용데이터 : https://www.kaggle.com/sakshigoyal7/credit-card-customers "
   ]
  },
  {
   "cell_type": "code",
   "execution_count": 8,
   "id": "47dc94dd",
   "metadata": {},
   "outputs": [],
   "source": [
    "# Q1. 데이터를 로드하고, 데이터의 정보를 확인해보세요."
   ]
  },
  {
   "cell_type": "code",
   "execution_count": 90,
   "id": "ba11c9e6",
   "metadata": {},
   "outputs": [
    {
     "name": "stdout",
     "output_type": "stream",
     "text": [
      "<class 'pandas.core.frame.DataFrame'>\n",
      "RangeIndex: 10127 entries, 0 to 10126\n",
      "Data columns (total 23 columns):\n",
      " #   Column                                                                                                                              Non-Null Count  Dtype  \n",
      "---  ------                                                                                                                              --------------  -----  \n",
      " 0   CLIENTNUM                                                                                                                           10127 non-null  int64  \n",
      " 1   Attrition_Flag                                                                                                                      10127 non-null  object \n",
      " 2   Customer_Age                                                                                                                        10127 non-null  int64  \n",
      " 3   Gender                                                                                                                              10127 non-null  object \n",
      " 4   Dependent_count                                                                                                                     10127 non-null  int64  \n",
      " 5   Education_Level                                                                                                                     10127 non-null  object \n",
      " 6   Marital_Status                                                                                                                      10127 non-null  object \n",
      " 7   Income_Category                                                                                                                     10127 non-null  object \n",
      " 8   Card_Category                                                                                                                       10127 non-null  object \n",
      " 9   Months_on_book                                                                                                                      10127 non-null  int64  \n",
      " 10  Total_Relationship_Count                                                                                                            10127 non-null  int64  \n",
      " 11  Months_Inactive_12_mon                                                                                                              10127 non-null  int64  \n",
      " 12  Contacts_Count_12_mon                                                                                                               10127 non-null  int64  \n",
      " 13  Credit_Limit                                                                                                                        10127 non-null  float64\n",
      " 14  Total_Revolving_Bal                                                                                                                 10127 non-null  int64  \n",
      " 15  Avg_Open_To_Buy                                                                                                                     10127 non-null  float64\n",
      " 16  Total_Amt_Chng_Q4_Q1                                                                                                                10127 non-null  float64\n",
      " 17  Total_Trans_Amt                                                                                                                     10127 non-null  int64  \n",
      " 18  Total_Trans_Ct                                                                                                                      10127 non-null  int64  \n",
      " 19  Total_Ct_Chng_Q4_Q1                                                                                                                 10127 non-null  float64\n",
      " 20  Avg_Utilization_Ratio                                                                                                               10127 non-null  float64\n",
      " 21  Naive_Bayes_Classifier_Attrition_Flag_Card_Category_Contacts_Count_12_mon_Dependent_count_Education_Level_Months_Inactive_12_mon_1  10127 non-null  float64\n",
      " 22  Naive_Bayes_Classifier_Attrition_Flag_Card_Category_Contacts_Count_12_mon_Dependent_count_Education_Level_Months_Inactive_12_mon_2  10127 non-null  float64\n",
      "dtypes: float64(7), int64(10), object(6)\n",
      "memory usage: 1.8+ MB\n"
     ]
    }
   ],
   "source": [
    "card_df = pd.read_csv('./BankChurners/BankChurners.csv')\n",
    "card_df.info()"
   ]
  },
  {
   "cell_type": "code",
   "execution_count": 91,
   "id": "b9df5f55",
   "metadata": {},
   "outputs": [
    {
     "data": {
      "text/plain": [
       "Index(['CLIENTNUM', 'Attrition_Flag', 'Customer_Age', 'Gender',\n",
       "       'Dependent_count', 'Education_Level', 'Marital_Status',\n",
       "       'Income_Category', 'Card_Category', 'Months_on_book',\n",
       "       'Total_Relationship_Count', 'Months_Inactive_12_mon',\n",
       "       'Contacts_Count_12_mon', 'Credit_Limit', 'Total_Revolving_Bal',\n",
       "       'Avg_Open_To_Buy', 'Total_Amt_Chng_Q4_Q1', 'Total_Trans_Amt',\n",
       "       'Total_Trans_Ct', 'Total_Ct_Chng_Q4_Q1', 'Avg_Utilization_Ratio',\n",
       "       'Naive_Bayes_Classifier_Attrition_Flag_Card_Category_Contacts_Count_12_mon_Dependent_count_Education_Level_Months_Inactive_12_mon_1',\n",
       "       'Naive_Bayes_Classifier_Attrition_Flag_Card_Category_Contacts_Count_12_mon_Dependent_count_Education_Level_Months_Inactive_12_mon_2'],\n",
       "      dtype='object')"
      ]
     },
     "execution_count": 91,
     "metadata": {},
     "output_type": "execute_result"
    }
   ],
   "source": [
    "card_df.columns"
   ]
  },
  {
   "cell_type": "code",
   "execution_count": null,
   "id": "60b05558",
   "metadata": {},
   "outputs": [],
   "source": [
    "# Q2. Income_Category의 카테고리를 다음과 같이 변경하여 newIncome 컬럼에 넣어주세요 ^^ \n",
    "# map함수를 활용하셔도, apply를 활용하셔도 상관없습니다 ^^\n",
    "\n",
    "Unknown : N\n",
    "Less than $40K : a\n",
    "$40K - $60K : b\n",
    "$60K - $80K : c\n",
    "$80K - $120K : d\n",
    "$120K +’ : e"
   ]
  },
  {
   "cell_type": "code",
   "execution_count": 95,
   "id": "783814a5",
   "metadata": {},
   "outputs": [],
   "source": [
    "# 1번 문제풀이\n",
    "\n",
    "cond1 = {\n",
    "    'Unknown'        : 'N',\n",
    "    'Less than $40K' : 'a',\n",
    "    '$40K - $60K'    : 'b',\n",
    "    '$60K - $80K'    : 'c',\n",
    "    '$80K - $120K'   : 'd',\n",
    "    '$120K +'        : 'e'   \n",
    "}"
   ]
  },
  {
   "cell_type": "code",
   "execution_count": 96,
   "id": "c746fb35",
   "metadata": {},
   "outputs": [
    {
     "data": {
      "text/plain": [
       "0        c\n",
       "1        a\n",
       "2        d\n",
       "3        a\n",
       "4        c\n",
       "        ..\n",
       "10122    b\n",
       "10123    b\n",
       "10124    a\n",
       "10125    b\n",
       "10126    a\n",
       "Name: Income_Category, Length: 10127, dtype: object"
      ]
     },
     "execution_count": 96,
     "metadata": {},
     "output_type": "execute_result"
    }
   ],
   "source": [
    "card_df['newIncome'] = card_df.Income_Category.map(cond1)"
   ]
  },
  {
   "cell_type": "code",
   "execution_count": 99,
   "id": "2dd2ce96",
   "metadata": {},
   "outputs": [
    {
     "data": {
      "text/plain": [
       "0        c\n",
       "1        a\n",
       "2        d\n",
       "3        a\n",
       "4        c\n",
       "        ..\n",
       "10122    b\n",
       "10123    b\n",
       "10124    a\n",
       "10125    b\n",
       "10126    a\n",
       "Name: Income_Category, Length: 10127, dtype: object"
      ]
     },
     "execution_count": 99,
     "metadata": {},
     "output_type": "execute_result"
    }
   ],
   "source": [
    "# 2번 문제풀이\n",
    "\n",
    "def get_income_cat(df):\n",
    "    char=''\n",
    "    if df== 'Unknown': char= 'N',\n",
    "    elif df== 'Less than $40K' :char= 'a'\n",
    "    elif df== '$40K - $60K'    :char= 'b'\n",
    "    elif df== '$60K - $80K'    :char= 'c'\n",
    "    elif df== '$80K - $120K'   :char= 'd'\n",
    "    elif df== '$120K +'        :char= 'e'\n",
    "        \n",
    "    return char\n",
    "\n",
    "card_df.Income_Category.apply(lambda x: get_income_cat(x))"
   ]
  },
  {
   "cell_type": "code",
   "execution_count": 9,
   "id": "6c4579f7",
   "metadata": {},
   "outputs": [],
   "source": [
    "# Q3. Customer_Age의 값을 이용하여 나이 구간을 Age_cat이라는 새 컬럼을 만들어주세요. (0~9:0, 10~19:10,\n",
    "# 20~29:20...) 각 구간의 빈도수를 출력하라."
   ]
  },
  {
   "cell_type": "code",
   "execution_count": 102,
   "id": "1e8c3150",
   "metadata": {},
   "outputs": [
    {
     "data": {
      "text/plain": [
       "73"
      ]
     },
     "execution_count": 102,
     "metadata": {},
     "output_type": "execute_result"
    }
   ],
   "source": [
    "# 1번 문제풀이\n",
    "card_df.Customer_Age.max()"
   ]
  },
  {
   "cell_type": "code",
   "execution_count": 103,
   "id": "b2df8d5a",
   "metadata": {},
   "outputs": [],
   "source": [
    "def get_income_cat(df):\n",
    "    result=int()\n",
    "    if df < 10: result= 0\n",
    "    elif df <20:result= 10\n",
    "    elif df <30:result= 20\n",
    "    elif df <40:result= 30\n",
    "    elif df <50:result= 40\n",
    "    elif df <60:result= 50\n",
    "    elif df <70:result= 60\n",
    "    elif df <80:result= 70\n",
    "        \n",
    "    return result"
   ]
  },
  {
   "cell_type": "code",
   "execution_count": 105,
   "id": "03e514f8",
   "metadata": {},
   "outputs": [
    {
     "data": {
      "text/plain": [
       "40    4561\n",
       "50    2998\n",
       "30    1841\n",
       "60     530\n",
       "20     195\n",
       "70       2\n",
       "Name: Customer_Age, dtype: int64"
      ]
     },
     "execution_count": 105,
     "metadata": {},
     "output_type": "execute_result"
    }
   ],
   "source": [
    "card_df.Customer_Age.apply(lambda x: get_income_cat(x)).value_counts()"
   ]
  },
  {
   "cell_type": "code",
   "execution_count": null,
   "id": "fcd0ee82",
   "metadata": {},
   "outputs": [],
   "source": [
    "#2번 문제풀이\n",
    "\n",
    "df['AgeState']  = df.Customer_Age.map(lambda x: x//10 *10)\n",
    "\n",
    "Ans = df['AgeState'].value_counts().sort_index()"
   ]
  },
  {
   "cell_type": "code",
   "execution_count": 10,
   "id": "8f278c38",
   "metadata": {},
   "outputs": [],
   "source": [
    "# Q4. Education_Level의 값에서 Graduate이 포함된 경우에는 1 그렇지 않다면 0으로 변경하여\n",
    "# new_edu_level 컬럼을 정의하고 빈도수를 출력해보세요."
   ]
  },
  {
   "cell_type": "code",
   "execution_count": 108,
   "id": "2408b5d9",
   "metadata": {},
   "outputs": [],
   "source": [
    "card_df['new_edu_level'] = card_df.Education_Level.map(lambda x : 1 if 'Graduate' in x else 0)\n",
    "Ans = card_df['new_edu_level'].value_counts()"
   ]
  },
  {
   "cell_type": "code",
   "execution_count": 109,
   "id": "60bb7d46",
   "metadata": {},
   "outputs": [],
   "source": [
    "# Q5. Marital_Status 컬럼값이 Married이고 Card_Category 컬럼의 값이 Platinum인 경우 1 그렇지 \n",
    "# 않은 경우에는 모두 0으로 정의해주세요...\n",
    "\n",
    "# 그리고 그 결과를 new_status 컬럼에 넣어주세요."
   ]
  },
  {
   "cell_type": "code",
   "execution_count": 112,
   "id": "2d929859",
   "metadata": {},
   "outputs": [
    {
     "data": {
      "text/plain": [
       "0    10120\n",
       "1        7\n",
       "Name: newState, dtype: int64"
      ]
     },
     "execution_count": 112,
     "metadata": {},
     "output_type": "execute_result"
    }
   ],
   "source": [
    "def get_status(x):\n",
    "    if x.Marital_Status =='Married' and x.Card_Category =='Platinum':\n",
    "        return 1\n",
    "    else:\n",
    "        return 0\n",
    "\n",
    "\n",
    "card_df['newState'] = card_df.apply(get_status,axis=1)\n",
    "\n",
    "card_df['newState'].value_counts()"
   ]
  },
  {
   "cell_type": "code",
   "execution_count": null,
   "id": "c527a1e5",
   "metadata": {},
   "outputs": [],
   "source": []
  }
 ],
 "metadata": {
  "kernelspec": {
   "display_name": "Python 3 (ipykernel)",
   "language": "python",
   "name": "python3"
  },
  "language_info": {
   "codemirror_mode": {
    "name": "ipython",
    "version": 3
   },
   "file_extension": ".py",
   "mimetype": "text/x-python",
   "name": "python",
   "nbconvert_exporter": "python",
   "pygments_lexer": "ipython3",
   "version": "3.9.13"
  }
 },
 "nbformat": 4,
 "nbformat_minor": 5
}
