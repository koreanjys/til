{
 "cells": [
  {
   "cell_type": "markdown",
   "id": "306295be",
   "metadata": {},
   "source": [
    "## Selenium (셀레늄) WebDriver"
   ]
  },
  {
   "cell_type": "markdown",
   "id": "5a6a837a",
   "metadata": {},
   "source": [
    "### 웹드라이버란?"
   ]
  },
  {
   "cell_type": "markdown",
   "id": "c89cd42f",
   "metadata": {},
   "source": [
    "- 웹드라이버는 셀레늄의 한 구성 요소\n",
    "\n",
    "- 웹드라이버는 모듈\n",
    "\n",
    "- 브라우저 엔진의 한 종류\n",
    "\n",
    "> Firefox browser"
   ]
  },
  {
   "cell_type": "markdown",
   "id": "9aa38f09",
   "metadata": {},
   "source": [
    "### Test Case\n",
    "\n",
    "1) Open Web Browser(Chrome/FF/Edge)\n",
    "\n",
    "2) Open URL https://admin-demo.nopcommerce.com/login\n",
    "\n",
    "3) Provide Email (admin@yourstore.com).\n",
    "\n",
    "4) Provide password (admin). \n",
    "\n",
    "5) Click on Login.\n",
    "\n",
    "6) Capture title of the dashboard page. (Actual title)\n",
    "\n",
    "7) Verify title of the page: \"Dashboard /  nopCommerce administration\" (Expected)\n",
    "\n",
    "8) close browser\n"
   ]
  },
  {
   "cell_type": "code",
   "execution_count": 3,
   "id": "b6a987b5",
   "metadata": {},
   "outputs": [],
   "source": [
    "# selenium ver 4\n",
    "\n",
    "from selenium.webdriver.chrome.service import Service\n",
    "from selenium import webdriver\n",
    "from selenium.webdriver.common.by import By\n",
    "\n",
    "import time"
   ]
  },
  {
   "cell_type": "code",
   "execution_count": 7,
   "id": "b298242f",
   "metadata": {},
   "outputs": [],
   "source": [
    "driver = webdriver.Chrome('./chromedriver.exe')\n",
    "driver.get('https://opensource-demo.orangehrmlive.com/')\n",
    "\n",
    "time.sleep(3.1)\n",
    "\n",
    "driver.find_element_by_name('username').send_keys('Admin')\n",
    "\n",
    "time.sleep(3.1)\n",
    "\n",
    "driver.find_element_by_name('password').send_keys('admin123')\n",
    "\n",
    "driver.\n",
    "//*[@id=\"app\"]/div[1]/div/div[1]/div/div[2]/div[2]/form/div[3]/button\n"
   ]
  }
 ],
 "metadata": {
  "kernelspec": {
   "display_name": "Python 3 (ipykernel)",
   "language": "python",
   "name": "python3"
  },
  "language_info": {
   "codemirror_mode": {
    "name": "ipython",
    "version": 3
   },
   "file_extension": ".py",
   "mimetype": "text/x-python",
   "name": "python",
   "nbconvert_exporter": "python",
   "pygments_lexer": "ipython3",
   "version": "3.9.13"
  }
 },
 "nbformat": 4,
 "nbformat_minor": 5
}
