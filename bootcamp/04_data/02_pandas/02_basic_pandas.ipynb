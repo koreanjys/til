{
 "cells": [
  {
   "cell_type": "code",
   "execution_count": 1,
   "id": "6b718865",
   "metadata": {},
   "outputs": [],
   "source": [
    "import pandas as pd"
   ]
  },
  {
   "cell_type": "code",
   "execution_count": 2,
   "id": "413f6d68",
   "metadata": {},
   "outputs": [],
   "source": [
    "# file loading\n",
    "file_path = './train.csv'\n",
    "titan_df = pd.read_csv(file_path, engine='python') # DataFrame의 약자 df"
   ]
  },
  {
   "cell_type": "code",
   "execution_count": 3,
   "id": "cb98a340",
   "metadata": {},
   "outputs": [
    {
     "name": "stdout",
     "output_type": "stream",
     "text": [
      "<class 'pandas.core.frame.DataFrame'>\n",
      "RangeIndex: 891 entries, 0 to 890\n",
      "Data columns (total 12 columns):\n",
      " #   Column       Non-Null Count  Dtype  \n",
      "---  ------       --------------  -----  \n",
      " 0   PassengerId  891 non-null    int64  \n",
      " 1   Survived     891 non-null    int64  \n",
      " 2   Pclass       891 non-null    int64  \n",
      " 3   Name         891 non-null    object \n",
      " 4   Sex          891 non-null    object \n",
      " 5   Age          714 non-null    float64\n",
      " 6   SibSp        891 non-null    int64  \n",
      " 7   Parch        891 non-null    int64  \n",
      " 8   Ticket       891 non-null    object \n",
      " 9   Fare         891 non-null    float64\n",
      " 10  Cabin        204 non-null    object \n",
      " 11  Embarked     889 non-null    object \n",
      "dtypes: float64(2), int64(5), object(5)\n",
      "memory usage: 83.7+ KB\n"
     ]
    }
   ],
   "source": [
    "# 1. 데이터 이해(-기술통계량, 크기, 데이터 형태...)\n",
    "# 1.-1) 그래프 -> EDA(Exploratory Data Analysis)\n",
    "titan_df.info()"
   ]
  },
  {
   "cell_type": "code",
   "execution_count": 4,
   "id": "10426d21",
   "metadata": {},
   "outputs": [
    {
     "data": {
      "text/plain": [
       "male      577\n",
       "female    314\n",
       "Name: Sex, dtype: int64"
      ]
     },
     "execution_count": 4,
     "metadata": {},
     "output_type": "execute_result"
    }
   ],
   "source": [
    "# 범주형 데이터의 빈도값을 확인 => value_counts()함수\n",
    "titan_df.Sex.value_counts()"
   ]
  },
  {
   "cell_type": "code",
   "execution_count": 5,
   "id": "8488463e",
   "metadata": {},
   "outputs": [],
   "source": [
    "# 컬럼명 변경해보기\n",
    "titan_df.rename(columns={'Sex':'Gender'}, inplace=True)"
   ]
  },
  {
   "cell_type": "markdown",
   "id": "af0d8899",
   "metadata": {},
   "source": [
    "#### DataFrame과 리스트, 딕셔너리, 넘파이 ndarray 상호변환"
   ]
  },
  {
   "cell_type": "code",
   "execution_count": 6,
   "id": "870e4ce9",
   "metadata": {},
   "outputs": [],
   "source": [
    "import numpy as np\n",
    "import pandas as pd"
   ]
  },
  {
   "cell_type": "markdown",
   "id": "42c139e6",
   "metadata": {},
   "source": [
    "#### DataFrame 으로 변환하기"
   ]
  },
  {
   "cell_type": "code",
   "execution_count": 7,
   "id": "c4186ac9",
   "metadata": {},
   "outputs": [
    {
     "name": "stdout",
     "output_type": "stream",
     "text": [
      "array2d shape:\n",
      " (2, 3)\n",
      "2차원 리스트로 만든 DataFrame:\n",
      "    col1  col2  col3\n",
      "0     1     2     3\n",
      "1    11    22    33\n",
      "2차원 리스트로 만든 DataFrame:\n",
      "    col1  col2  col3\n",
      "0     1     2     3\n",
      "1    11    22    33\n"
     ]
    }
   ],
   "source": [
    "# 3개의 컬럼으로 이름을 짓는다.\n",
    "col_name1 = ['col1', 'col2', 'col3']\n",
    "\n",
    "# (2, 3) 형태의 list를 생성 => ndarray로 변형 => DataFrame으로 변환\n",
    "l2 = [[1, 2, 3],\n",
    "     [11, 22, 33]]\n",
    "\n",
    "array2d = np.array(l2)\n",
    "print('array2d shape:\\n', array2d.shape)\n",
    "\n",
    "l2_df = pd.DataFrame(l2, columns=col_name1)  # 2차원 데이터\n",
    "print('2차원 리스트로 만든 DataFrame:\\n', l2_df)\n",
    "\n",
    "array2d_df = pd.DataFrame(array2d, columns=col_name1)  # 2차원 데이터\n",
    "print('2차원 리스트로 만든 DataFrame:\\n', array2d_df)\n"
   ]
  },
  {
   "cell_type": "code",
   "execution_count": 8,
   "id": "0aa510f4",
   "metadata": {},
   "outputs": [
    {
     "data": {
      "text/html": [
       "<div>\n",
       "<style scoped>\n",
       "    .dataframe tbody tr th:only-of-type {\n",
       "        vertical-align: middle;\n",
       "    }\n",
       "\n",
       "    .dataframe tbody tr th {\n",
       "        vertical-align: top;\n",
       "    }\n",
       "\n",
       "    .dataframe thead th {\n",
       "        text-align: right;\n",
       "    }\n",
       "</style>\n",
       "<table border=\"1\" class=\"dataframe\">\n",
       "  <thead>\n",
       "    <tr style=\"text-align: right;\">\n",
       "      <th></th>\n",
       "      <th>col1</th>\n",
       "      <th>col2</th>\n",
       "      <th>col3</th>\n",
       "    </tr>\n",
       "  </thead>\n",
       "  <tbody>\n",
       "    <tr>\n",
       "      <th>0</th>\n",
       "      <td>1</td>\n",
       "      <td>2</td>\n",
       "      <td>3</td>\n",
       "    </tr>\n",
       "    <tr>\n",
       "      <th>1</th>\n",
       "      <td>11</td>\n",
       "      <td>22</td>\n",
       "      <td>33</td>\n",
       "    </tr>\n",
       "  </tbody>\n",
       "</table>\n",
       "</div>"
      ],
      "text/plain": [
       "   col1  col2  col3\n",
       "0     1     2     3\n",
       "1    11    22    33"
      ]
     },
     "execution_count": 8,
     "metadata": {},
     "output_type": "execute_result"
    }
   ],
   "source": [
    "# dict => DataFrame 생성\n",
    "# key 값이 colunm 명이 되고, value 값은 그대로 value 값으로\n",
    "# list 와 array 는 요소가 row를 채우고, dict 값은 colunm을 채운다는 차이가 있군.\n",
    "# 그래서 데이터 구조는 dict 로 만드는게 좋은거같다.\n",
    "\n",
    "dict123 = {'col1': [1, 11],\n",
    "          'col2': [2, 22],\n",
    "          'col3': [3, 33]}\n",
    "\n",
    "dict123_df = pd.DataFrame(dict123)\n",
    "dict123_df"
   ]
  },
  {
   "cell_type": "markdown",
   "id": "09a23fc7",
   "metadata": {},
   "source": [
    "#### DataFrame을 다른 자료로 변환"
   ]
  },
  {
   "cell_type": "code",
   "execution_count": 9,
   "id": "d0bee2e3",
   "metadata": {},
   "outputs": [
    {
     "name": "stdout",
     "output_type": "stream",
     "text": [
      "array_dict.values의 타입:  <class 'numpy.ndarray'> array_dict의 shape:  (2, 3)\n"
     ]
    },
    {
     "data": {
      "text/plain": [
       "array([[ 1,  2,  3],\n",
       "       [11, 22, 33]], dtype=int64)"
      ]
     },
     "execution_count": 9,
     "metadata": {},
     "output_type": "execute_result"
    }
   ],
   "source": [
    "# .values를 통해 => ndarray로 변환\n",
    "array_dict = dict123_df.values\n",
    "print('array_dict.values의 타입: ', type(array_dict), 'array_dict의 shape: ', array_dict.shape)\n",
    "array_dict"
   ]
  },
  {
   "cell_type": "code",
   "execution_count": 10,
   "id": "57b35a05",
   "metadata": {},
   "outputs": [
    {
     "data": {
      "text/plain": [
       "[[1, 2, 3], [11, 22, 33]]"
      ]
     },
     "execution_count": 10,
     "metadata": {},
     "output_type": "execute_result"
    }
   ],
   "source": [
    "# adarray => list로 변환\n",
    "## list() 이거로 변환하면 str 값만 저장됨 그래서 .tolist() 함수를 사용\n",
    "\n",
    "array_dict.tolist()"
   ]
  },
  {
   "cell_type": "code",
   "execution_count": 11,
   "id": "3083e8ab",
   "metadata": {},
   "outputs": [
    {
     "data": {
      "text/plain": [
       "{'col1': [1, 11], 'col2': [2, 22], 'col3': [3, 33]}"
      ]
     },
     "execution_count": 11,
     "metadata": {},
     "output_type": "execute_result"
    }
   ],
   "source": [
    "# DataFrame 을 dict 로 변환\n",
    "## dict 는 list와 달리 한번에 변환이 된다.\n",
    "\n",
    "dict123_df.to_dict()  # 매개변수를 주지 않으면 default 값이 dict로 들어간다.\n",
    "dict123_df.to_dict('list')  # 매개변수를 list로 줄 수 있다."
   ]
  },
  {
   "cell_type": "markdown",
   "id": "5204decc",
   "metadata": {},
   "source": [
    "#### 새로운 컬럼 추가/삭제"
   ]
  },
  {
   "cell_type": "code",
   "execution_count": 12,
   "id": "2ea13da1",
   "metadata": {},
   "outputs": [],
   "source": [
    "# Colunm 추가시에는\n",
    "# DataFrame명['Colunm명'] = 오른쪽에는 값 혹은 법칙\n",
    "\n",
    "titan_df['Age_0'] = 0\n",
    "titan_df['Age_by_10'] = titan_df.Age * 10\n",
    "titan_df['Fam_no'] = titan_df.SibSp + titan_df.Parch + 1"
   ]
  },
  {
   "cell_type": "code",
   "execution_count": 13,
   "id": "e4176954",
   "metadata": {},
   "outputs": [
    {
     "data": {
      "text/html": [
       "<div>\n",
       "<style scoped>\n",
       "    .dataframe tbody tr th:only-of-type {\n",
       "        vertical-align: middle;\n",
       "    }\n",
       "\n",
       "    .dataframe tbody tr th {\n",
       "        vertical-align: top;\n",
       "    }\n",
       "\n",
       "    .dataframe thead th {\n",
       "        text-align: right;\n",
       "    }\n",
       "</style>\n",
       "<table border=\"1\" class=\"dataframe\">\n",
       "  <thead>\n",
       "    <tr style=\"text-align: right;\">\n",
       "      <th></th>\n",
       "      <th>PassengerId</th>\n",
       "      <th>Survived</th>\n",
       "      <th>Pclass</th>\n",
       "      <th>Name</th>\n",
       "      <th>Gender</th>\n",
       "      <th>Age</th>\n",
       "      <th>SibSp</th>\n",
       "      <th>Parch</th>\n",
       "      <th>Ticket</th>\n",
       "      <th>Fare</th>\n",
       "      <th>Cabin</th>\n",
       "      <th>Embarked</th>\n",
       "      <th>Age_0</th>\n",
       "      <th>Age_by_10</th>\n",
       "      <th>Fam_no</th>\n",
       "    </tr>\n",
       "  </thead>\n",
       "  <tbody>\n",
       "    <tr>\n",
       "      <th>0</th>\n",
       "      <td>1</td>\n",
       "      <td>0</td>\n",
       "      <td>3</td>\n",
       "      <td>Braund, Mr. Owen Harris</td>\n",
       "      <td>male</td>\n",
       "      <td>22.0</td>\n",
       "      <td>1</td>\n",
       "      <td>0</td>\n",
       "      <td>A/5 21171</td>\n",
       "      <td>7.2500</td>\n",
       "      <td>NaN</td>\n",
       "      <td>S</td>\n",
       "      <td>0</td>\n",
       "      <td>220.0</td>\n",
       "      <td>2</td>\n",
       "    </tr>\n",
       "    <tr>\n",
       "      <th>1</th>\n",
       "      <td>2</td>\n",
       "      <td>1</td>\n",
       "      <td>1</td>\n",
       "      <td>Cumings, Mrs. John Bradley (Florence Briggs Th...</td>\n",
       "      <td>female</td>\n",
       "      <td>38.0</td>\n",
       "      <td>1</td>\n",
       "      <td>0</td>\n",
       "      <td>PC 17599</td>\n",
       "      <td>71.2833</td>\n",
       "      <td>C85</td>\n",
       "      <td>C</td>\n",
       "      <td>0</td>\n",
       "      <td>380.0</td>\n",
       "      <td>2</td>\n",
       "    </tr>\n",
       "    <tr>\n",
       "      <th>2</th>\n",
       "      <td>3</td>\n",
       "      <td>1</td>\n",
       "      <td>3</td>\n",
       "      <td>Heikkinen, Miss. Laina</td>\n",
       "      <td>female</td>\n",
       "      <td>26.0</td>\n",
       "      <td>0</td>\n",
       "      <td>0</td>\n",
       "      <td>STON/O2. 3101282</td>\n",
       "      <td>7.9250</td>\n",
       "      <td>NaN</td>\n",
       "      <td>S</td>\n",
       "      <td>0</td>\n",
       "      <td>260.0</td>\n",
       "      <td>1</td>\n",
       "    </tr>\n",
       "  </tbody>\n",
       "</table>\n",
       "</div>"
      ],
      "text/plain": [
       "   PassengerId  Survived  Pclass  \\\n",
       "0            1         0       3   \n",
       "1            2         1       1   \n",
       "2            3         1       3   \n",
       "\n",
       "                                                Name  Gender   Age  SibSp  \\\n",
       "0                            Braund, Mr. Owen Harris    male  22.0      1   \n",
       "1  Cumings, Mrs. John Bradley (Florence Briggs Th...  female  38.0      1   \n",
       "2                             Heikkinen, Miss. Laina  female  26.0      0   \n",
       "\n",
       "   Parch            Ticket     Fare Cabin Embarked  Age_0  Age_by_10  Fam_no  \n",
       "0      0         A/5 21171   7.2500   NaN        S      0      220.0       2  \n",
       "1      0          PC 17599  71.2833   C85        C      0      380.0       2  \n",
       "2      0  STON/O2. 3101282   7.9250   NaN        S      0      260.0       1  "
      ]
     },
     "execution_count": 13,
     "metadata": {},
     "output_type": "execute_result"
    }
   ],
   "source": [
    "titan_df.head(3)"
   ]
  },
  {
   "cell_type": "code",
   "execution_count": 14,
   "id": "7a753d6f",
   "metadata": {},
   "outputs": [],
   "source": [
    "# 추가된 열들 삭제 (열은 axis=1)\n",
    "# titan_df1 = titan_df.drop(columns=['Age_0', 'Age_by_10', 'Fam_no']) # 아래와 같음\n",
    "# titan_df1 = titan_df.drop(['Age_0', 'Age_by_10', 'Fam_no'], axis=1)  # return 값으로 반환하나보네\n",
    "titan_df.drop(['Age_0', 'Age_by_10', 'Fam_no'], axis=1, inplace=True)  # inplace를 주면 return은 없고 내부적으로 실행됨. 오류가 필요할때 사용"
   ]
  },
  {
   "cell_type": "code",
   "execution_count": 15,
   "id": "64d8176c",
   "metadata": {},
   "outputs": [
    {
     "name": "stdout",
     "output_type": "stream",
     "text": [
      "### before axis 0 drop ###\n",
      "   PassengerId  Survived  Pclass            Name  Gender   Age  SibSp  Parch          Ticket     Fare Cabin Embarked\n",
      "0            1         0       3  Braund, Mr....    male  22.0      1      0       A/5 21171   7.2500   NaN        S\n",
      "1            2         1       1  Cumings, Mr...  female  38.0      1      0        PC 17599  71.2833   C85        C\n",
      "2            3         1       3  Heikkinen, ...  female  26.0      0      0  STON/O2. 31...   7.9250   NaN        S\n",
      "### after axis 0 drop ###\n",
      "   PassengerId  Survived  Pclass            Name  Gender   Age  SibSp  Parch          Ticket   Fare Cabin Embarked\n",
      "0            1         0       3  Braund, Mr....    male  22.0      1      0       A/5 21171  7.250   NaN        S\n",
      "2            3         1       3  Heikkinen, ...  female  26.0      0      0  STON/O2. 31...  7.925   NaN        S\n",
      "4            5         0       3  Allen, Mr. ...    male  35.0      0      0          373450  8.050   NaN        S\n"
     ]
    }
   ],
   "source": [
    "# 기존의 행들을 삭제한다. (행은 axis=0)\n",
    "pd.set_option('display.width', 1000)\n",
    "pd.set_option('display.max_colwidth', 15)\n",
    "print('### before axis 0 drop ###')\n",
    "print(titan_df.head(3))\n",
    "\n",
    "\n",
    "titan_df1 = titan_df.drop([1,3], axis=0)\n",
    "# titan_df.drop([1,3], axis=0, inplace=True)\n",
    "\n",
    "print('### after axis 0 drop ###')\n",
    "print(titan_df1.head(3))"
   ]
  }
 ],
 "metadata": {
  "kernelspec": {
   "display_name": "Python 3 (ipykernel)",
   "language": "python",
   "name": "python3"
  },
  "language_info": {
   "codemirror_mode": {
    "name": "ipython",
    "version": 3
   },
   "file_extension": ".py",
   "mimetype": "text/x-python",
   "name": "python",
   "nbconvert_exporter": "python",
   "pygments_lexer": "ipython3",
   "version": "3.9.13"
  }
 },
 "nbformat": 4,
 "nbformat_minor": 5
}
