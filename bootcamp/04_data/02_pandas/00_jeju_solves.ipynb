{
 "cells": [
  {
   "cell_type": "markdown",
   "id": "6d0e4027",
   "metadata": {},
   "source": [
    "# 17시부터 실습해주시면 되십니다 ^^ \n",
    "\n",
    "## 안풀린문항 있으시면 말씀 부탁드립니다~~"
   ]
  },
  {
   "cell_type": "code",
   "execution_count": 6,
   "id": "875e7152",
   "metadata": {},
   "outputs": [],
   "source": [
    "# q1. jeju 데이터를 로드해보세요. 컬럼이 한글이므로 적절한 처리가 필요\n",
    "\n",
    "import pandas as pd\n",
    "\n",
    "jeju_df = pd.read_csv('./jeju.csv')"
   ]
  },
  {
   "cell_type": "code",
   "execution_count": 9,
   "id": "d6657458",
   "metadata": {},
   "outputs": [
    {
     "data": {
      "text/plain": [
       "Index(['일자', '시도명', '읍면동명'], dtype='object')"
      ]
     },
     "execution_count": 9,
     "metadata": {},
     "output_type": "execute_result"
    }
   ],
   "source": [
    "# q3. 범주형 변수를 가진 컬럼을 출력해보세요. (select_dtypes)\n",
    "import pandas as pd\n",
    "\n",
    "jeju_df.select_dtypes(include='object').columns"
   ]
  },
  {
   "cell_type": "code",
   "execution_count": 13,
   "id": "b4b03d44",
   "metadata": {},
   "outputs": [
    {
     "data": {
      "text/plain": [
       "Index(['Unnamed: 0', 'id', '거주인구', '근무인구', '방문인구', '총 유동인구', '평균 속도',\n",
       "       '평균 소요 시간', '평균 기온', '일강수량', '평균 풍속'],\n",
       "      dtype='object')"
      ]
     },
     "execution_count": 13,
     "metadata": {},
     "output_type": "execute_result"
    }
   ],
   "source": [
    "# q4. 수치형 변수를 가진 컬럼을 출력해보세요. (select_dtypes)\n",
    "import pandas as pd\n",
    "\n",
    "jeju_df.select_dtypes(include=['int64','float64']).columns"
   ]
  },
  {
   "cell_type": "code",
   "execution_count": 15,
   "id": "ca5f5e94",
   "metadata": {},
   "outputs": [
    {
     "data": {
      "text/plain": [
       "Index(['Unnamed: 0', 'id', '거주인구', '근무인구', '방문인구', '총 유동인구', '평균 속도',\n",
       "       '평균 소요 시간', '평균 기온', '일강수량', '평균 풍속'],\n",
       "      dtype='object')"
      ]
     },
     "execution_count": 15,
     "metadata": {},
     "output_type": "execute_result"
    }
   ],
   "source": [
    "# q4. 수치형 변수를 가진 컬럼을 출력해보세요. (select_dtypes)\n",
    "import pandas as pd\n",
    "\n",
    "jeju_df.select_dtypes(exclude='object').columns"
   ]
  },
  {
   "cell_type": "code",
   "execution_count": 16,
   "id": "4a5d70fb",
   "metadata": {},
   "outputs": [],
   "source": [
    "# q2. 데이터의 마지막 3개 행을 호출해보세요."
   ]
  },
  {
   "cell_type": "code",
   "execution_count": 17,
   "id": "8a125639",
   "metadata": {},
   "outputs": [
    {
     "data": {
      "text/html": [
       "<div>\n",
       "<style scoped>\n",
       "    .dataframe tbody tr th:only-of-type {\n",
       "        vertical-align: middle;\n",
       "    }\n",
       "\n",
       "    .dataframe tbody tr th {\n",
       "        vertical-align: top;\n",
       "    }\n",
       "\n",
       "    .dataframe thead th {\n",
       "        text-align: right;\n",
       "    }\n",
       "</style>\n",
       "<table border=\"1\" class=\"dataframe\">\n",
       "  <thead>\n",
       "    <tr style=\"text-align: right;\">\n",
       "      <th></th>\n",
       "      <th>Unnamed: 0</th>\n",
       "      <th>id</th>\n",
       "      <th>일자</th>\n",
       "      <th>시도명</th>\n",
       "      <th>읍면동명</th>\n",
       "      <th>거주인구</th>\n",
       "      <th>근무인구</th>\n",
       "      <th>방문인구</th>\n",
       "      <th>총 유동인구</th>\n",
       "      <th>평균 속도</th>\n",
       "      <th>평균 소요 시간</th>\n",
       "      <th>평균 기온</th>\n",
       "      <th>일강수량</th>\n",
       "      <th>평균 풍속</th>\n",
       "    </tr>\n",
       "  </thead>\n",
       "  <tbody>\n",
       "    <tr>\n",
       "      <th>9618</th>\n",
       "      <td>9618</td>\n",
       "      <td>32066</td>\n",
       "      <td>2020-04-30</td>\n",
       "      <td>제주시</td>\n",
       "      <td>도두동</td>\n",
       "      <td>28397.481</td>\n",
       "      <td>3144.895</td>\n",
       "      <td>84052.697</td>\n",
       "      <td>115595.073</td>\n",
       "      <td>41.053</td>\n",
       "      <td>29.421</td>\n",
       "      <td>20.3</td>\n",
       "      <td>0.0</td>\n",
       "      <td>3.0</td>\n",
       "    </tr>\n",
       "    <tr>\n",
       "      <th>9619</th>\n",
       "      <td>9619</td>\n",
       "      <td>32067</td>\n",
       "      <td>2020-04-30</td>\n",
       "      <td>서귀포시</td>\n",
       "      <td>안덕면</td>\n",
       "      <td>348037.846</td>\n",
       "      <td>29106.286</td>\n",
       "      <td>251129.660</td>\n",
       "      <td>628273.792</td>\n",
       "      <td>46.595</td>\n",
       "      <td>49.189</td>\n",
       "      <td>17.6</td>\n",
       "      <td>0.0</td>\n",
       "      <td>3.5</td>\n",
       "    </tr>\n",
       "    <tr>\n",
       "      <th>9620</th>\n",
       "      <td>9620</td>\n",
       "      <td>32068</td>\n",
       "      <td>2020-04-30</td>\n",
       "      <td>제주시</td>\n",
       "      <td>연동</td>\n",
       "      <td>1010643.372</td>\n",
       "      <td>65673.477</td>\n",
       "      <td>447622.068</td>\n",
       "      <td>1523938.917</td>\n",
       "      <td>40.863</td>\n",
       "      <td>27.765</td>\n",
       "      <td>14.1</td>\n",
       "      <td>0.0</td>\n",
       "      <td>4.8</td>\n",
       "    </tr>\n",
       "  </tbody>\n",
       "</table>\n",
       "</div>"
      ],
      "text/plain": [
       "      Unnamed: 0     id          일자   시도명 읍면동명         거주인구       근무인구  \\\n",
       "9618        9618  32066  2020-04-30   제주시  도두동    28397.481   3144.895   \n",
       "9619        9619  32067  2020-04-30  서귀포시  안덕면   348037.846  29106.286   \n",
       "9620        9620  32068  2020-04-30   제주시   연동  1010643.372  65673.477   \n",
       "\n",
       "            방문인구       총 유동인구   평균 속도  평균 소요 시간  평균 기온  일강수량  평균 풍속  \n",
       "9618   84052.697   115595.073  41.053    29.421   20.3   0.0    3.0  \n",
       "9619  251129.660   628273.792  46.595    49.189   17.6   0.0    3.5  \n",
       "9620  447622.068  1523938.917  40.863    27.765   14.1   0.0    4.8  "
      ]
     },
     "execution_count": 17,
     "metadata": {},
     "output_type": "execute_result"
    }
   ],
   "source": [
    "jeju_df.tail(3)"
   ]
  },
  {
   "cell_type": "code",
   "execution_count": 18,
   "id": "517489f3",
   "metadata": {},
   "outputs": [],
   "source": [
    "# q5. 각 컬럼들의 결측치 숫자들을 파악해보세요."
   ]
  },
  {
   "cell_type": "code",
   "execution_count": 21,
   "id": "4f85a7bb",
   "metadata": {},
   "outputs": [
    {
     "data": {
      "text/plain": [
       "Unnamed: 0    0\n",
       "id            0\n",
       "일자            0\n",
       "시도명           0\n",
       "읍면동명          0\n",
       "거주인구          0\n",
       "근무인구          0\n",
       "방문인구          0\n",
       "총 유동인구        0\n",
       "평균 속도         0\n",
       "평균 소요 시간      0\n",
       "평균 기온         0\n",
       "일강수량          0\n",
       "평균 풍속         0\n",
       "dtype: int64"
      ]
     },
     "execution_count": 21,
     "metadata": {},
     "output_type": "execute_result"
    }
   ],
   "source": [
    "jeju_df.isna().sum()"
   ]
  },
  {
   "cell_type": "code",
   "execution_count": 22,
   "id": "2c7c1ed1",
   "metadata": {},
   "outputs": [],
   "source": [
    "# q6. 각 컬럼의 데이터수, 데이터타입을 한 번에 확인해보세요."
   ]
  },
  {
   "cell_type": "code",
   "execution_count": 23,
   "id": "4a0f51b0",
   "metadata": {},
   "outputs": [
    {
     "name": "stdout",
     "output_type": "stream",
     "text": [
      "<class 'pandas.core.frame.DataFrame'>\n",
      "RangeIndex: 9621 entries, 0 to 9620\n",
      "Data columns (total 14 columns):\n",
      " #   Column      Non-Null Count  Dtype  \n",
      "---  ------      --------------  -----  \n",
      " 0   Unnamed: 0  9621 non-null   int64  \n",
      " 1   id          9621 non-null   int64  \n",
      " 2   일자          9621 non-null   object \n",
      " 3   시도명         9621 non-null   object \n",
      " 4   읍면동명        9621 non-null   object \n",
      " 5   거주인구        9621 non-null   float64\n",
      " 6   근무인구        9621 non-null   float64\n",
      " 7   방문인구        9621 non-null   float64\n",
      " 8   총 유동인구      9621 non-null   float64\n",
      " 9   평균 속도       9621 non-null   float64\n",
      " 10  평균 소요 시간    9621 non-null   float64\n",
      " 11  평균 기온       9621 non-null   float64\n",
      " 12  일강수량        9621 non-null   float64\n",
      " 13  평균 풍속       9621 non-null   float64\n",
      "dtypes: float64(9), int64(2), object(3)\n",
      "memory usage: 1.0+ MB\n"
     ]
    }
   ],
   "source": [
    "jeju_df.info()"
   ]
  },
  {
   "cell_type": "code",
   "execution_count": 24,
   "id": "37de37e1",
   "metadata": {},
   "outputs": [],
   "source": [
    "# q7. 거주인구, 근무인구와 방문인구, 총 유동인구로만 구성된 df를 만드세요."
   ]
  },
  {
   "cell_type": "code",
   "execution_count": 2,
   "id": "e4bd7e9b",
   "metadata": {},
   "outputs": [
    {
     "ename": "NameError",
     "evalue": "name 'jeju_df' is not defined",
     "output_type": "error",
     "traceback": [
      "\u001b[1;31m---------------------------------------------------------------------------\u001b[0m",
      "\u001b[1;31mNameError\u001b[0m                                 Traceback (most recent call last)",
      "\u001b[1;32m~\\AppData\\Local\\Temp\\ipykernel_13624\\809121536.py\u001b[0m in \u001b[0;36m<module>\u001b[1;34m\u001b[0m\n\u001b[0;32m      1\u001b[0m \u001b[1;31m# 방법 1번\u001b[0m\u001b[1;33m\u001b[0m\u001b[1;33m\u001b[0m\u001b[0m\n\u001b[1;32m----> 2\u001b[1;33m \u001b[0mnew_df\u001b[0m \u001b[1;33m=\u001b[0m \u001b[0mjeju_df\u001b[0m\u001b[1;33m[\u001b[0m\u001b[1;33m[\u001b[0m\u001b[1;34m'거주인구'\u001b[0m\u001b[1;33m,\u001b[0m\u001b[1;34m'근무인구'\u001b[0m\u001b[1;33m,\u001b[0m\u001b[1;34m'방문인구'\u001b[0m\u001b[1;33m,\u001b[0m\u001b[1;34m'총 유동인구'\u001b[0m\u001b[1;33m]\u001b[0m\u001b[1;33m]\u001b[0m\u001b[1;33m\u001b[0m\u001b[1;33m\u001b[0m\u001b[0m\n\u001b[0m",
      "\u001b[1;31mNameError\u001b[0m: name 'jeju_df' is not defined"
     ]
    }
   ],
   "source": [
    "# 방법 1번\n",
    "new_df = jeju_df[['거주인구','근무인구','방문인구','총 유동인구']]"
   ]
  },
  {
   "cell_type": "code",
   "execution_count": 34,
   "id": "42a3f336",
   "metadata": {},
   "outputs": [],
   "source": [
    "# 방법 2번\n",
    "new_df = jeju_df.iloc[:,5:9]"
   ]
  },
  {
   "cell_type": "code",
   "execution_count": 35,
   "id": "fdb9d3e0",
   "metadata": {},
   "outputs": [],
   "source": [
    "# q8 위에서 생성된 df에 행을 추가해주세요\n",
    "# 추가 행값은 min값으로 해주세요."
   ]
  },
  {
   "cell_type": "code",
   "execution_count": 39,
   "id": "6e88dedd",
   "metadata": {},
   "outputs": [],
   "source": [
    "min_거주인구 = jeju_df.거주인구.min()\n",
    "min_근무인구 = jeju_df.근무인구.min()\n",
    "min_방문인구 = jeju_df.방문인구.min()\n",
    "min_총_유동인구 = jeju_df['총 유동인구'].min()"
   ]
  },
  {
   "cell_type": "code",
   "execution_count": 40,
   "id": "13d24e3a",
   "metadata": {},
   "outputs": [
    {
     "name": "stdout",
     "output_type": "stream",
     "text": [
      "9305.552 1407.936 11538.322 22251.81\n"
     ]
    }
   ],
   "source": [
    "print(min_거주인구,min_근무인구,min_방문인구, min_총_유동인구)"
   ]
  },
  {
   "cell_type": "code",
   "execution_count": 47,
   "id": "ec15e55e",
   "metadata": {},
   "outputs": [],
   "source": [
    "new_df.loc[new_df.shape[0]]= [min_거주인구,min_근무인구,min_방문인구, min_총_유동인구]"
   ]
  },
  {
   "cell_type": "code",
   "execution_count": 48,
   "id": "b0b006a6",
   "metadata": {},
   "outputs": [
    {
     "data": {
      "text/html": [
       "<div>\n",
       "<style scoped>\n",
       "    .dataframe tbody tr th:only-of-type {\n",
       "        vertical-align: middle;\n",
       "    }\n",
       "\n",
       "    .dataframe tbody tr th {\n",
       "        vertical-align: top;\n",
       "    }\n",
       "\n",
       "    .dataframe thead th {\n",
       "        text-align: right;\n",
       "    }\n",
       "</style>\n",
       "<table border=\"1\" class=\"dataframe\">\n",
       "  <thead>\n",
       "    <tr style=\"text-align: right;\">\n",
       "      <th></th>\n",
       "      <th>거주인구</th>\n",
       "      <th>근무인구</th>\n",
       "      <th>방문인구</th>\n",
       "      <th>총 유동인구</th>\n",
       "    </tr>\n",
       "  </thead>\n",
       "  <tbody>\n",
       "    <tr>\n",
       "      <th>0</th>\n",
       "      <td>32249.987</td>\n",
       "      <td>3418.266</td>\n",
       "      <td>102709.092</td>\n",
       "      <td>138377.345</td>\n",
       "    </tr>\n",
       "    <tr>\n",
       "      <th>1</th>\n",
       "      <td>213500.997</td>\n",
       "      <td>10341.172</td>\n",
       "      <td>112692.789</td>\n",
       "      <td>336534.958</td>\n",
       "    </tr>\n",
       "    <tr>\n",
       "      <th>2</th>\n",
       "      <td>1212382.218</td>\n",
       "      <td>96920.834</td>\n",
       "      <td>541194.481</td>\n",
       "      <td>1850497.533</td>\n",
       "    </tr>\n",
       "    <tr>\n",
       "      <th>3</th>\n",
       "      <td>33991.653</td>\n",
       "      <td>6034.253</td>\n",
       "      <td>72155.919</td>\n",
       "      <td>112181.825</td>\n",
       "    </tr>\n",
       "    <tr>\n",
       "      <th>4</th>\n",
       "      <td>155036.925</td>\n",
       "      <td>9403.969</td>\n",
       "      <td>150882.409</td>\n",
       "      <td>315323.303</td>\n",
       "    </tr>\n",
       "    <tr>\n",
       "      <th>...</th>\n",
       "      <td>...</td>\n",
       "      <td>...</td>\n",
       "      <td>...</td>\n",
       "      <td>...</td>\n",
       "    </tr>\n",
       "    <tr>\n",
       "      <th>9617</th>\n",
       "      <td>459959.064</td>\n",
       "      <td>26007.122</td>\n",
       "      <td>249700.419</td>\n",
       "      <td>735666.605</td>\n",
       "    </tr>\n",
       "    <tr>\n",
       "      <th>9618</th>\n",
       "      <td>28397.481</td>\n",
       "      <td>3144.895</td>\n",
       "      <td>84052.697</td>\n",
       "      <td>115595.073</td>\n",
       "    </tr>\n",
       "    <tr>\n",
       "      <th>9619</th>\n",
       "      <td>348037.846</td>\n",
       "      <td>29106.286</td>\n",
       "      <td>251129.660</td>\n",
       "      <td>628273.792</td>\n",
       "    </tr>\n",
       "    <tr>\n",
       "      <th>9620</th>\n",
       "      <td>1010643.372</td>\n",
       "      <td>65673.477</td>\n",
       "      <td>447622.068</td>\n",
       "      <td>1523938.917</td>\n",
       "    </tr>\n",
       "    <tr>\n",
       "      <th>9621</th>\n",
       "      <td>9305.552</td>\n",
       "      <td>1407.936</td>\n",
       "      <td>11538.322</td>\n",
       "      <td>22251.810</td>\n",
       "    </tr>\n",
       "  </tbody>\n",
       "</table>\n",
       "<p>9622 rows × 4 columns</p>\n",
       "</div>"
      ],
      "text/plain": [
       "             거주인구       근무인구        방문인구       총 유동인구\n",
       "0       32249.987   3418.266  102709.092   138377.345\n",
       "1      213500.997  10341.172  112692.789   336534.958\n",
       "2     1212382.218  96920.834  541194.481  1850497.533\n",
       "3       33991.653   6034.253   72155.919   112181.825\n",
       "4      155036.925   9403.969  150882.409   315323.303\n",
       "...           ...        ...         ...          ...\n",
       "9617   459959.064  26007.122  249700.419   735666.605\n",
       "9618    28397.481   3144.895   84052.697   115595.073\n",
       "9619   348037.846  29106.286  251129.660   628273.792\n",
       "9620  1010643.372  65673.477  447622.068  1523938.917\n",
       "9621     9305.552   1407.936   11538.322    22251.810\n",
       "\n",
       "[9622 rows x 4 columns]"
      ]
     },
     "execution_count": 48,
     "metadata": {},
     "output_type": "execute_result"
    }
   ],
   "source": [
    "new_df"
   ]
  },
  {
   "cell_type": "code",
   "execution_count": 50,
   "id": "2d3f4e1e",
   "metadata": {},
   "outputs": [
    {
     "data": {
      "text/plain": [
       "0        138377.345\n",
       "1        336534.958\n",
       "2       1850497.533\n",
       "3        112181.825\n",
       "4        315323.303\n",
       "           ...     \n",
       "9616     397984.186\n",
       "9617     735666.605\n",
       "9618     115595.073\n",
       "9619     628273.792\n",
       "9620    1523938.917\n",
       "Name: 총 유동인구, Length: 9621, dtype: float64"
      ]
     },
     "execution_count": 50,
     "metadata": {},
     "output_type": "execute_result"
    }
   ],
   "source": [
    "# q9 총 유동인구 컬럼들의 값 -> series로\n",
    "jeju_df['총 유동인구']"
   ]
  },
  {
   "cell_type": "code",
   "execution_count": 61,
   "id": "f47ff609",
   "metadata": {},
   "outputs": [
    {
     "data": {
      "text/plain": [
       "2"
      ]
     },
     "execution_count": 61,
     "metadata": {},
     "output_type": "execute_result"
    }
   ],
   "source": [
    "# q10 시도명의 유일값의 개수 -> nunique\n",
    "jeju_df.시도명.nunique()"
   ]
  },
  {
   "cell_type": "code",
   "execution_count": 63,
   "id": "edca600d",
   "metadata": {},
   "outputs": [
    {
     "data": {
      "text/plain": [
       "2"
      ]
     },
     "execution_count": 63,
     "metadata": {},
     "output_type": "execute_result"
    }
   ],
   "source": [
    "len(jeju_df.시도명.value_counts())"
   ]
  },
  {
   "cell_type": "code",
   "execution_count": null,
   "id": "0eee895d",
   "metadata": {},
   "outputs": [],
   "source": [
    "# 질문에 대한 답변 ~"
   ]
  },
  {
   "cell_type": "code",
   "execution_count": 75,
   "id": "995518bb",
   "metadata": {},
   "outputs": [],
   "source": [
    "empty_df= pd.DataFrame({'거주인구':[],\n",
    "                       '근무인구':[],\n",
    "                       '방문인구':[],\n",
    "                       '총 유동인구':[]})"
   ]
  },
  {
   "cell_type": "code",
   "execution_count": null,
   "id": "5b36b4b9",
   "metadata": {},
   "outputs": [],
   "source": []
  },
  {
   "cell_type": "code",
   "execution_count": 76,
   "id": "dd9693ad",
   "metadata": {},
   "outputs": [],
   "source": [
    "empty_df.loc[2] = new_df.min()"
   ]
  },
  {
   "cell_type": "code",
   "execution_count": 77,
   "id": "b101a21e",
   "metadata": {},
   "outputs": [
    {
     "data": {
      "text/html": [
       "<div>\n",
       "<style scoped>\n",
       "    .dataframe tbody tr th:only-of-type {\n",
       "        vertical-align: middle;\n",
       "    }\n",
       "\n",
       "    .dataframe tbody tr th {\n",
       "        vertical-align: top;\n",
       "    }\n",
       "\n",
       "    .dataframe thead th {\n",
       "        text-align: right;\n",
       "    }\n",
       "</style>\n",
       "<table border=\"1\" class=\"dataframe\">\n",
       "  <thead>\n",
       "    <tr style=\"text-align: right;\">\n",
       "      <th></th>\n",
       "      <th>거주인구</th>\n",
       "      <th>근무인구</th>\n",
       "      <th>방문인구</th>\n",
       "      <th>총 유동인구</th>\n",
       "    </tr>\n",
       "  </thead>\n",
       "  <tbody>\n",
       "    <tr>\n",
       "      <th>2</th>\n",
       "      <td>9305.552</td>\n",
       "      <td>1407.936</td>\n",
       "      <td>11538.322</td>\n",
       "      <td>22251.81</td>\n",
       "    </tr>\n",
       "  </tbody>\n",
       "</table>\n",
       "</div>"
      ],
      "text/plain": [
       "       거주인구      근무인구       방문인구    총 유동인구\n",
       "2  9305.552  1407.936  11538.322  22251.81"
      ]
     },
     "execution_count": 77,
     "metadata": {},
     "output_type": "execute_result"
    }
   ],
   "source": [
    "empty_df"
   ]
  },
  {
   "cell_type": "code",
   "execution_count": null,
   "id": "5af79ac1",
   "metadata": {},
   "outputs": [],
   "source": []
  }
 ],
 "metadata": {
  "kernelspec": {
   "display_name": "Python 3 (ipykernel)",
   "language": "python",
   "name": "python3"
  },
  "language_info": {
   "codemirror_mode": {
    "name": "ipython",
    "version": 3
   },
   "file_extension": ".py",
   "mimetype": "text/x-python",
   "name": "python",
   "nbconvert_exporter": "python",
   "pygments_lexer": "ipython3",
   "version": "3.9.13"
  }
 },
 "nbformat": 4,
 "nbformat_minor": 5
}
