{
 "cells": [
  {
   "cell_type": "markdown",
   "id": "cfcc43dc",
   "metadata": {},
   "source": [
    "## 데이터 전처리(Data Preprocessing)\n",
    "\n",
    "ML 알고리즘(의사결정나무 등)만큼 중요하다 사이킷런의 ML알고리즘을 적용하기 전에 데이터에 대해 미리 처리해야 할 기본 사항이 있다. "
   ]
  },
  {
   "cell_type": "markdown",
   "id": "491d2a2b",
   "metadata": {},
   "source": [
    "### **결손값**\n",
    "NaN, Null값은 허용되지 않는다. 따라서 이러한 Null값은 고정된 다른 값으로 변환해야 한다. Null값을 어떻게 처리해야 할지는 경우에 따라 다르다. \n",
    "\n",
    "1) 피처 값 중 Null값이 얼마되지 않는다면 피처의 평균값 등으로 간단히 대체할 수 있다. \n",
    "\n",
    "2) 하지만 Null값이 대부분이라면 오히려 해당 피처는 드롭하는 것이 좋다.\n",
    "\n",
    "3) 가장 결정이 힘든 부분이 Null값이 일정수준 이상 되는 경우이다.\n",
    "정확히 몇 퍼센트까지를 일정 수준 이상이라고 한다는 기준은 없다. 하지만 해당 피처가 중요도가 높은 피처이고 Null을 단순히 피처의 평균값으로 대체할 경우 예측 왜곡이 심할 수 있다면 업무로직 등을 상세히 검토해 더 정밀한 대체 값을 선정해야 한다."
   ]
  },
  {
   "cell_type": "markdown",
   "id": "d9698e9b",
   "metadata": {},
   "source": [
    "### 문자열\n",
    "사이킷런의 머신러닝 알고리즘은 문자열 값을 입력 값으로 허용하지 않는다. 그래서 모든 문자열 값은 인코딩돼서 숫자형으로 변환해야 한다. 문자열 피처는 일반적으로 카테고리형 피처와 텍스트형 피처를 의미한다. 카테고리형 피처는 코드값으로 표현하는게 더 이해하기 쉬울 것 같다.\n",
    "\n",
    "텍스트형 피처는 피처 벡터화(feature vectorization)등의 기법으로 벡터화하거나 불필요한 피처라고 판단되면 삭제하는게 좋다.\n",
    "예를 들어 주민번호나 단순 문자열 아이디와 같은 경우에 인코딩하지 않고 삭제하는게 더 좋다. 이러한 식별자 피처는 단순히 데이터 로우를 식별하는 용도로 사용되기 때문에 예측에 중요한 요소가 될 수 없으며 알고리즘을 오히려 복잡하게 만들고 예측 성능을 떨어뜨리기 때문이다."
   ]
  },
  {
   "cell_type": "markdown",
   "id": "83a950b5",
   "metadata": {},
   "source": [
    "## 데이터 인코딩"
   ]
  },
  {
   "cell_type": "markdown",
   "id": "a2987f63",
   "metadata": {},
   "source": [
    "머신러닝을 위한 대표적 인코딩 방식은\n",
    "\n",
    "1) 레이블 인코딩(Label encoding)\n",
    "\n",
    "2) 원-핫 인코딩(One Hot encoding)이 있다."
   ]
  },
  {
   "cell_type": "markdown",
   "id": "85c5220a",
   "metadata": {},
   "source": [
    "### 레이블 인코딩\n",
    "레이블 인코딩은 카테고리 피처를 코드형 숫자 값으로 변환하는 것이다. 예를 들어 상품 데이터의 상품 구분이 TV, 냉장고, 전자레인지, 컴퓨터, 선풍기, 믹서 값으로 돼 있다면 TV:1, 냉장고:2, 전자레인지:3, 컴퓨터:4, 선풍기:5, 믹서: 6과 같은 숫자형 값으로 변환하는 것이다. 약간 주의해야 할 점은 '01','02'와 같은 코드 값 역시 문자열이므로 1,2와 같은 숫자형 값으로 변환돼야 한다."
   ]
  },
  {
   "cell_type": "code",
   "execution_count": 1,
   "id": "7b2568ac",
   "metadata": {},
   "outputs": [
    {
     "name": "stdout",
     "output_type": "stream",
     "text": [
      "인코딩 값:  [0 1 3 4 5 3 2 2]\n"
     ]
    }
   ],
   "source": [
    "# label encoder 적용 => 명목척도 화\n",
    "from sklearn.preprocessing import LabelEncoder\n",
    "\n",
    "items = ['TV','냉장고','선풍기','전자레인지', '컴퓨터','선풍기','믹서','믹서']\n",
    "\n",
    "# label encoder의 객체화\n",
    "# fit()\n",
    "# transform() 적용\n",
    "encoder = LabelEncoder()\n",
    "encoder.fit(items)  # y값 없다 => 지도학습 아님\n",
    "\n",
    "labels = encoder.transform(items)\n",
    "\n",
    "print('인코딩 값: ', labels)"
   ]
  },
  {
   "cell_type": "code",
   "execution_count": 2,
   "id": "d24f788d",
   "metadata": {},
   "outputs": [
    {
     "name": "stdout",
     "output_type": "stream",
     "text": [
      "인코딩 클래스:  ['TV' '냉장고' '믹서' '선풍기' '전자레인지' '컴퓨터']\n"
     ]
    }
   ],
   "source": [
    "print('인코딩 클래스: ', encoder.classes_)"
   ]
  },
  {
   "cell_type": "code",
   "execution_count": 3,
   "id": "bb0e23d7",
   "metadata": {},
   "outputs": [
    {
     "name": "stdout",
     "output_type": "stream",
     "text": [
      "디코딩 원본 값: ['전자레인지' '컴퓨터' '믹서' 'TV' '냉장고' '냉장고' '선풍기' '선풍기']\n"
     ]
    }
   ],
   "source": [
    "print('디코딩 원본 값:',encoder.inverse_transform([4,5,2,0,1,1,3,3]))"
   ]
  },
  {
   "cell_type": "markdown",
   "id": "20a9b55a",
   "metadata": {},
   "source": [
    "### 레이블 인코딩\n",
    "레이블 인코딩은 간단하게 문자열 값을 숫자형 카테고리 값으로 변환한다. 하지만 레이블 인코딩이 일괄적인 숫자 값으로 변환이 되면서 몇몇 ML알고리즘에는 이를 적용할 경우 예측 성능이 떨어지는 경우가 발생할 수 있다. 이는 숫자 값의 경우 크고 작음에 대한 특성이 작용하기 때문이다.\n",
    "\n",
    "즉, 냉장고가 1, 믹서가 2로 변환되면, 1보다 2가 더 큰 값이므로 특정 ML알고리즘에서 가중치가 더 부여되거나 더 중요하게 인식할 가능성이 발생한다. 하지만 냉장고와 믹서의 숫자 변환 값은 단순코드이지 숫자 값에 따른 순서나 중요도로 인식돼서는 안된다.\n",
    "\n",
    "이러한 특성 때문에 **레이블 인코딩은 선형회귀와 같은 ML 알고리즘에는 적용하지 않아야 한다.**\n",
    "\n",
    "트리계열의 ML 알고리즘은 숫자의 이러한 특성을 반영하지 않으므로 레이블 인코딩도 별 문제가 없다."
   ]
  },
  {
   "cell_type": "markdown",
   "id": "2a14800c",
   "metadata": {},
   "source": [
    "### 원-핫 (One-Hot) 인코딩"
   ]
  },
  {
   "cell_type": "code",
   "execution_count": 4,
   "id": "2599bcf9",
   "metadata": {},
   "outputs": [],
   "source": [
    "# 1. 문자 => 레이블 인코딩\n",
    "# 2. 레이블 인코딩 => 원-핫 인코딩\n",
    "\n",
    "from sklearn.preprocessing import LabelEncoder\n",
    "from sklearn.preprocessing import OneHotEncoder\n",
    "import numpy as np"
   ]
  },
  {
   "cell_type": "code",
   "execution_count": 5,
   "id": "05c6678b",
   "metadata": {},
   "outputs": [
    {
     "name": "stdout",
     "output_type": "stream",
     "text": [
      "원-핫 인코딩 데이터:\n",
      "  (0, 0)\t1.0\n",
      "  (1, 1)\t1.0\n",
      "  (2, 3)\t1.0\n",
      "  (3, 4)\t1.0\n",
      "  (4, 5)\t1.0\n",
      "  (5, 3)\t1.0\n",
      "  (6, 2)\t1.0\n",
      "  (7, 2)\t1.0 \n",
      "\n",
      "원-핫 인코딩 toarray():\n",
      "[[1. 0. 0. 0. 0. 0.]\n",
      " [0. 1. 0. 0. 0. 0.]\n",
      " [0. 0. 0. 1. 0. 0.]\n",
      " [0. 0. 0. 0. 1. 0.]\n",
      " [0. 0. 0. 0. 0. 1.]\n",
      " [0. 0. 0. 1. 0. 0.]\n",
      " [0. 0. 1. 0. 0. 0.]\n",
      " [0. 0. 1. 0. 0. 0.]]\n"
     ]
    }
   ],
   "source": [
    "# 문자 => 레이블 인코딩\n",
    "items = ['TV', '냉장고', '선풍기', '전자레인지', '컴퓨터', '선풍기', '믹서', '믹서']\n",
    "label_encoder = LabelEncoder()\n",
    "labels = label_encoder.fit_transform(items)\n",
    "\n",
    "# 1차원의 labels => 2차원의 행렬로 변환\n",
    "labels_2d = labels.reshape(-1, 1)\n",
    "\n",
    "# 원-핫 인코딩 적용\n",
    "oh_encoder = OneHotEncoder()\n",
    "oh_labels_2d = oh_encoder.fit_transform(labels_2d)\n",
    "print('원-핫 인코딩 데이터:')\n",
    "print(oh_labels_2d, '\\n')\n",
    "print('원-핫 인코딩 toarray():')\n",
    "print(oh_labels_2d.toarray())"
   ]
  },
  {
   "cell_type": "code",
   "execution_count": 6,
   "id": "2217a868",
   "metadata": {},
   "outputs": [],
   "source": [
    "import pandas as pd"
   ]
  },
  {
   "cell_type": "code",
   "execution_count": 7,
   "id": "d183a32f",
   "metadata": {},
   "outputs": [
    {
     "data": {
      "text/html": [
       "<div>\n",
       "<style scoped>\n",
       "    .dataframe tbody tr th:only-of-type {\n",
       "        vertical-align: middle;\n",
       "    }\n",
       "\n",
       "    .dataframe tbody tr th {\n",
       "        vertical-align: top;\n",
       "    }\n",
       "\n",
       "    .dataframe thead th {\n",
       "        text-align: right;\n",
       "    }\n",
       "</style>\n",
       "<table border=\"1\" class=\"dataframe\">\n",
       "  <thead>\n",
       "    <tr style=\"text-align: right;\">\n",
       "      <th></th>\n",
       "      <th>item_TV</th>\n",
       "      <th>item_냉장고</th>\n",
       "      <th>item_믹서</th>\n",
       "      <th>item_선풍기</th>\n",
       "      <th>item_전자레인지</th>\n",
       "      <th>item_컴퓨터</th>\n",
       "    </tr>\n",
       "  </thead>\n",
       "  <tbody>\n",
       "    <tr>\n",
       "      <th>0</th>\n",
       "      <td>1</td>\n",
       "      <td>0</td>\n",
       "      <td>0</td>\n",
       "      <td>0</td>\n",
       "      <td>0</td>\n",
       "      <td>0</td>\n",
       "    </tr>\n",
       "    <tr>\n",
       "      <th>1</th>\n",
       "      <td>0</td>\n",
       "      <td>1</td>\n",
       "      <td>0</td>\n",
       "      <td>0</td>\n",
       "      <td>0</td>\n",
       "      <td>0</td>\n",
       "    </tr>\n",
       "    <tr>\n",
       "      <th>2</th>\n",
       "      <td>0</td>\n",
       "      <td>0</td>\n",
       "      <td>0</td>\n",
       "      <td>0</td>\n",
       "      <td>1</td>\n",
       "      <td>0</td>\n",
       "    </tr>\n",
       "    <tr>\n",
       "      <th>3</th>\n",
       "      <td>0</td>\n",
       "      <td>0</td>\n",
       "      <td>0</td>\n",
       "      <td>0</td>\n",
       "      <td>0</td>\n",
       "      <td>1</td>\n",
       "    </tr>\n",
       "    <tr>\n",
       "      <th>4</th>\n",
       "      <td>0</td>\n",
       "      <td>0</td>\n",
       "      <td>0</td>\n",
       "      <td>1</td>\n",
       "      <td>0</td>\n",
       "      <td>0</td>\n",
       "    </tr>\n",
       "    <tr>\n",
       "      <th>5</th>\n",
       "      <td>0</td>\n",
       "      <td>0</td>\n",
       "      <td>0</td>\n",
       "      <td>1</td>\n",
       "      <td>0</td>\n",
       "      <td>0</td>\n",
       "    </tr>\n",
       "    <tr>\n",
       "      <th>6</th>\n",
       "      <td>0</td>\n",
       "      <td>0</td>\n",
       "      <td>1</td>\n",
       "      <td>0</td>\n",
       "      <td>0</td>\n",
       "      <td>0</td>\n",
       "    </tr>\n",
       "    <tr>\n",
       "      <th>7</th>\n",
       "      <td>0</td>\n",
       "      <td>0</td>\n",
       "      <td>1</td>\n",
       "      <td>0</td>\n",
       "      <td>0</td>\n",
       "      <td>0</td>\n",
       "    </tr>\n",
       "  </tbody>\n",
       "</table>\n",
       "</div>"
      ],
      "text/plain": [
       "   item_TV  item_냉장고  item_믹서  item_선풍기  item_전자레인지  item_컴퓨터\n",
       "0        1         0        0         0           0         0\n",
       "1        0         1        0         0           0         0\n",
       "2        0         0        0         0           1         0\n",
       "3        0         0        0         0           0         1\n",
       "4        0         0        0         1           0         0\n",
       "5        0         0        0         1           0         0\n",
       "6        0         0        1         0           0         0\n",
       "7        0         0        1         0           0         0"
      ]
     },
     "execution_count": 7,
     "metadata": {},
     "output_type": "execute_result"
    }
   ],
   "source": [
    "df = pd.DataFrame({'item':['TV','냉장고','전자레인지','컴퓨터','선풍기','선풍기','믹서','믹서']})\n",
    "pd.get_dummies(df)  # 독립변수의 문자들을 원-핫 인코딩으로 적용"
   ]
  },
  {
   "cell_type": "markdown",
   "id": "3017edf7",
   "metadata": {},
   "source": [
    "## 피쳐 스케일링(feature scaling)과 정규화(normalization)\n",
    "\n",
    "서로 다른 변수의 값 범위를 일정한 수준으로 맞추는 작업을 피처 스케일링(feature scaling)이라고 한다. \n",
    "\n",
    "대표적인 방법으로 표준화(Standardization)와 정규화(Normalization)가 있다.\n",
    "\n",
    "### 표준화\n",
    "\n",
    "표준화는 데이터의 피처 각각의 평균이 0 분산이 1인 가우시안 정규 분포를 가진 값으로 변환하는 것을 의미한다.\n",
    "\n",
    "표준화를 통해 변환될 피처 x의 새로운 i번째 데이터를 xi_new라고 한다면 이 값은 원래 값에서 피처 x의 평균을 뺀 값을 피처 x의 평균을 뺀 값을 피처 x의 표준편차로 나눈 값으로 계산할 수 있다.\n",
    "\n",
    "일반적으로 정규화는 서로 다른 피처의 크기를 통일하기 위해 크기를 변환해주는 개념입니다. 예를 들어 피처 A는 거리를 나타내는 변수로서 값이 0 ~ 100KM로 주어지고 피처 B는 금액을 나타내는 속성으로 값이 0 ~ 100,000,000,000원으로 주어진다면 이 변수를 모두 동일한 크기 단위로 비교하기 위해 값을 모두 최소 0 ~ 최대 1의 값으로 변환하는 것이다. 즉, 개별 데이터의 크기를 모두 똑같은 단위로 변경하는 것이다. \n",
    "\n",
    "새로운 데이터 xi_new는 원래 값에서 피처 x의 최솟값을 뺀 값을 피처 x의 최댓값과 최솟값의 차이로 나눈 값으로 변환할 수 있다.\n",
    "\n",
    "그런데 사이킷런의 전처리에서 제공하는 Normalizer 모듈과 일반적인 정규화는 약간의 차이가 있다.(물론 큰 개념은 똑같다). 사이킷런의 Normalizer 모듈은 선형대수에서의 정규화 개념이 적용됐으며, 개별 벡터의 크기를 맞추기 위해 변환하는 것을 의미한다. 즉, 개별 벡터를 모든 피처 벡터의 크기로 나눠준다. 세 개의 피처 x,y,z가 있다고 하면 새로운 데이터 xi_new는 원래 값에서 세 개의 피처의 i번째 피처 값에 해당하는 크기를 합한 값으로 나눠준다.\n",
    "\n",
    "혼선을 방지하기 위해 일반적인 의미의 표준화와 정규화를 피처 스케일링으로 통칭하고 선형대수 개념의 정규화를 벡터 정규화로 지칭하겠다. 먼저 사이킷런에서 제공하는 대표적인 피처 스케일링 클래스인 StandardScaler와 MinMaxScaler를 알아보자. \n",
    "\n",
    "## StandardScaler\n",
    "\n",
    "StandardScaler는 앞에서 설명한 표준화를 쉽게 지원하기 위한 클래스이다. 즉, 개별 피쳐를 평균이 0이고, 분산이 1인 값으로 변환해준다. 이렇게 가우시안 정규 분포를 가질 수 있도록 데이터를 변환하는 것은 몇몇 알고리즘에서 매우 중요하다. 특히 사이킷런에서 구현한 RBF 커널을 이용하는 서포트 벡터 머신(Support Vector Machine)이나 선형회귀(Linear Regression), 로지스틱 회귀(Logistic Regression)는 데이터가 가우시안 분포를 가지고 있다고 가정하고 구현됐기 때문에 사전에 표준화를 적용하는 것은 예측 성능 향상에 중요한 요소가 될 수 있다.\n",
    "\n",
    "StandartdScaler가 어떻게 데이터 값을 변환하는지 데이터 세트로 확인해보자."
   ]
  },
  {
   "cell_type": "code",
   "execution_count": 3,
   "id": "02cf4c05",
   "metadata": {},
   "outputs": [
    {
     "name": "stdout",
     "output_type": "stream",
     "text": [
      "features들의 평균\n",
      "sepal length (cm)    5.843333\n",
      "sepal width (cm)     3.057333\n",
      "petal length (cm)    3.758000\n",
      "petal width (cm)     1.199333\n",
      "dtype: float64\n",
      "\n",
      " features들의 분산\n",
      "sepal length (cm)    0.685694\n",
      "sepal width (cm)     0.189979\n",
      "petal length (cm)    3.116278\n",
      "petal width (cm)     0.581006\n",
      "dtype: float64\n"
     ]
    }
   ],
   "source": [
    "from sklearn.datasets import load_iris\n",
    "import pandas as pd\n",
    "\n",
    "iris = load_iris()\n",
    "X_data = iris.data\n",
    "iris_df = pd.DataFrame(X_data, columns=iris.feature_names)\n",
    "\n",
    "print('features들의 평균') # 이하 ftrs\n",
    "print(iris_df.mean())\n",
    "print('\\n features들의 분산') \n",
    "print(iris_df.var())"
   ]
  },
  {
   "cell_type": "code",
   "execution_count": 7,
   "id": "2fffc96c",
   "metadata": {},
   "outputs": [
    {
     "name": "stdout",
     "output_type": "stream",
     "text": [
      "features들의 평균\n",
      "sepal length (cm)   -1.690315e-15\n",
      "sepal width (cm)    -1.842970e-15\n",
      "petal length (cm)   -1.698641e-15\n",
      "petal width (cm)    -1.409243e-15\n",
      "dtype: float64\n",
      "\n",
      " features들의 분산\n",
      "sepal length (cm)    1.006711\n",
      "sepal width (cm)     1.006711\n",
      "petal length (cm)    1.006711\n",
      "petal width (cm)     1.006711\n",
      "dtype: float64\n"
     ]
    }
   ],
   "source": [
    "from sklearn.preprocessing import StandardScaler  # Z-scoring의 공식\n",
    "\n",
    "# 객체 생성\n",
    "scaler = StandardScaler()\n",
    "\n",
    "# fit_transform으로 데이터 변환\n",
    "iris_scaled = scaler.fit_transform(iris_df)\n",
    "\n",
    "iris_df_scaled = pd.DataFrame(iris_scaled, columns=iris.feature_names)\n",
    "\n",
    "print('features들의 평균') # 이하 ftrs\n",
    "print(iris_df_scaled.mean())\n",
    "print('\\n features들의 분산') \n",
    "print(iris_df_scaled.var())"
   ]
  },
  {
   "cell_type": "markdown",
   "id": "499301b2",
   "metadata": {},
   "source": [
    "### MinMaxScaler\n",
    "\n",
    "데이터의 값을 0과 1사이의 값으로 변환"
   ]
  },
  {
   "cell_type": "code",
   "execution_count": 9,
   "id": "63ffc793",
   "metadata": {},
   "outputs": [],
   "source": [
    "from sklearn.preprocessing import MinMaxScaler  # 0~1로 변환\n",
    "\n",
    "# 객체 생성\n",
    "mm_scaler = MinMaxScaler()\n",
    "\n",
    "# 데이터 셋 변환\n",
    "iris_scaled_mm = mm_scaler.fit_transform(iris_df)\n",
    "\n",
    "# df을 재생성\n",
    "iris_df_mm = pd.DataFrame(iris_scaled_mm, columns=iris.feature_names)\n"
   ]
  },
  {
   "cell_type": "code",
   "execution_count": 10,
   "id": "29a7ce34",
   "metadata": {},
   "outputs": [
    {
     "name": "stdout",
     "output_type": "stream",
     "text": [
      "ftrs의 최소값\n",
      "sepal length (cm)    0.0\n",
      "sepal width (cm)     0.0\n",
      "petal length (cm)    0.0\n",
      "petal width (cm)     0.0\n",
      "dtype: float64\n",
      "ftrs의 최대값\n",
      "sepal length (cm)    1.0\n",
      "sepal width (cm)     1.0\n",
      "petal length (cm)    1.0\n",
      "petal width (cm)     1.0\n",
      "dtype: float64\n"
     ]
    }
   ],
   "source": [
    "# 최대 최소값 확인\n",
    "print('ftrs의 최소값')\n",
    "print(iris_df_mm.min())\n",
    "print('ftrs의 최대값')\n",
    "print(iris_df_mm.max())"
   ]
  }
 ],
 "metadata": {
  "kernelspec": {
   "display_name": "Python 3 (ipykernel)",
   "language": "python",
   "name": "python3"
  },
  "language_info": {
   "codemirror_mode": {
    "name": "ipython",
    "version": 3
   },
   "file_extension": ".py",
   "mimetype": "text/x-python",
   "name": "python",
   "nbconvert_exporter": "python",
   "pygments_lexer": "ipython3",
   "version": "3.9.13"
  }
 },
 "nbformat": 4,
 "nbformat_minor": 5
}
