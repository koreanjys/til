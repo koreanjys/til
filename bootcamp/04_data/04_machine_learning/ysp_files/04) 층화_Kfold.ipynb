{
 "cells": [
  {
   "cell_type": "markdown",
   "id": "66cf8ca9",
   "metadata": {},
   "source": [
    "### Stratified Kfold - 층화 Kfold"
   ]
  },
  {
   "cell_type": "markdown",
   "id": "542edc96",
   "metadata": {},
   "source": [
    "* Stratified K 폴드는 불균형한(imbalanced) 분포도를 가진 레이블(결정 클래스) 데이터 집합을 위한 K폴드 방식입니다. 불균형한 분포도를 가진 레이블 데이터 집합은 특정 레이블 값이 특이하게 많거나 매우 적어서 값의 분포가 한쪽으로 치우치는 것을 말한다."
   ]
  },
  {
   "cell_type": "code",
   "execution_count": 2,
   "id": "74351cac",
   "metadata": {},
   "outputs": [],
   "source": [
    "# 넘파이 판다스 \n",
    "import numpy as np\n",
    "import pandas as pd\n",
    "\n",
    "# iris 데이터 셋\n",
    "from sklearn.datasets import load_iris\n",
    "\n",
    "# 데이터 분할\n",
    "from sklearn.model_selection import train_test_split\n",
    "\n",
    "# Kfold 호출\n",
    "from sklearn.model_selection import KFold\n",
    "from sklearn.model_selection import StratifiedKFold # 층화 KFold\n",
    "\n",
    "# 필요 알고리즘\n",
    "from sklearn.tree import DecisionTreeClassifier # 의사결정나무\n",
    "\n",
    "# 평가지표 \n",
    "from sklearn.metrics import accuracy_score as acc_sc # 정확도\n",
    "\n"
   ]
  },
  {
   "cell_type": "code",
   "execution_count": 8,
   "id": "d524d262",
   "metadata": {},
   "outputs": [
    {
     "data": {
      "text/plain": [
       "0    50\n",
       "1    50\n",
       "2    50\n",
       "Name: label, dtype: int64"
      ]
     },
     "execution_count": 8,
     "metadata": {},
     "output_type": "execute_result"
    }
   ],
   "source": [
    "# 데이터 정의\n",
    "iris = load_iris()\n",
    "iris_df = pd.DataFrame(iris.data, columns=iris.feature_names)\n",
    "iris_df['label'] = iris.target\n",
    "iris_df.label.value_counts()"
   ]
  },
  {
   "cell_type": "code",
   "execution_count": 16,
   "id": "92f67a99",
   "metadata": {},
   "outputs": [
    {
     "name": "stdout",
     "output_type": "stream",
     "text": [
      "학습 레이블의 데이터 분포:\n",
      " 1    50\n",
      "2    50\n",
      "Name: label, dtype: int64\n",
      "검증 레이블의 데이터 분포:\n",
      " 0    50\n",
      "Name: label, dtype: int64\n",
      "학습 레이블의 데이터 분포:\n",
      " 0    50\n",
      "2    50\n",
      "Name: label, dtype: int64\n",
      "검증 레이블의 데이터 분포:\n",
      " 1    50\n",
      "Name: label, dtype: int64\n",
      "학습 레이블의 데이터 분포:\n",
      " 0    50\n",
      "1    50\n",
      "Name: label, dtype: int64\n",
      "검증 레이블의 데이터 분포:\n",
      " 2    50\n",
      "Name: label, dtype: int64\n"
     ]
    }
   ],
   "source": [
    "kfold = KFold(n_splits=3) # k = 3 // cv = 3 \n",
    "\n",
    "for train_index, val_index in kfold.split(iris_df):\n",
    "    label_train = iris_df['label'].iloc[train_index] # label -> Series값의 iloc(위치기반)를 적용함.\n",
    "    label_val = iris_df['label'].iloc[val_index]\n",
    "    \n",
    "    print('학습 레이블의 데이터 분포:\\n', label_train.value_counts())\n",
    "    print('검증 레이블의 데이터 분포:\\n', label_val.value_counts())\n",
    "    "
   ]
  },
  {
   "cell_type": "code",
   "execution_count": 24,
   "id": "c8cc2ef6",
   "metadata": {},
   "outputs": [
    {
     "name": "stdout",
     "output_type": "stream",
     "text": [
      "학습 레이블의 데이터 분포:\n",
      " 0    40\n",
      "1    40\n",
      "2    40\n",
      "Name: label, dtype: int64\n",
      "검증 레이블의 데이터 분포:\n",
      " 0    10\n",
      "1    10\n",
      "2    10\n",
      "Name: label, dtype: int64\n",
      "학습 레이블의 데이터 분포:\n",
      " 0    40\n",
      "1    40\n",
      "2    40\n",
      "Name: label, dtype: int64\n",
      "검증 레이블의 데이터 분포:\n",
      " 0    10\n",
      "1    10\n",
      "2    10\n",
      "Name: label, dtype: int64\n",
      "학습 레이블의 데이터 분포:\n",
      " 0    40\n",
      "1    40\n",
      "2    40\n",
      "Name: label, dtype: int64\n",
      "검증 레이블의 데이터 분포:\n",
      " 0    10\n",
      "1    10\n",
      "2    10\n",
      "Name: label, dtype: int64\n",
      "학습 레이블의 데이터 분포:\n",
      " 0    40\n",
      "1    40\n",
      "2    40\n",
      "Name: label, dtype: int64\n",
      "검증 레이블의 데이터 분포:\n",
      " 0    10\n",
      "1    10\n",
      "2    10\n",
      "Name: label, dtype: int64\n",
      "학습 레이블의 데이터 분포:\n",
      " 0    40\n",
      "1    40\n",
      "2    40\n",
      "Name: label, dtype: int64\n",
      "검증 레이블의 데이터 분포:\n",
      " 0    10\n",
      "1    10\n",
      "2    10\n",
      "Name: label, dtype: int64\n"
     ]
    }
   ],
   "source": [
    "# 층화 K-Fold를 적용\n",
    "\n",
    "from sklearn.model_selection import StratifiedKFold\n",
    "\n",
    "skf = StratifiedKFold(n_splits=5) # k = 3 // cv = 3 \n",
    "\n",
    "for train_index, val_index in skf.split(iris_df, iris_df['label']):\n",
    "    label_train = iris_df['label'].iloc[train_index] # label -> Series값의 iloc(위치기반)를 적용함.\n",
    "    label_val = iris_df['label'].iloc[val_index]\n",
    "    \n",
    "    print('학습 레이블의 데이터 분포:\\n', label_train.value_counts())\n",
    "    print('검증 레이블의 데이터 분포:\\n', label_val.value_counts())\n",
    "    "
   ]
  }
 ],
 "metadata": {
  "kernelspec": {
   "display_name": "Python 3 (ipykernel)",
   "language": "python",
   "name": "python3"
  },
  "language_info": {
   "codemirror_mode": {
    "name": "ipython",
    "version": 3
   },
   "file_extension": ".py",
   "mimetype": "text/x-python",
   "name": "python",
   "nbconvert_exporter": "python",
   "pygments_lexer": "ipython3",
   "version": "3.9.13"
  }
 },
 "nbformat": 4,
 "nbformat_minor": 5
}
