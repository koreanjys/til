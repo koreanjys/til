{
 "cells": [
  {
   "cell_type": "code",
   "execution_count": 1,
   "id": "73c28ade",
   "metadata": {},
   "outputs": [],
   "source": [
    "# 아이리스\n",
    "from sklearn.datasets import load_iris\n",
    "\n",
    "# 의사결정나무\n",
    "from sklearn.tree import DecisionTreeClassifier\n",
    "\n",
    "# 평가지표\n",
    "from sklearn.metrics import accuracy_score as acc_sc"
   ]
  },
  {
   "cell_type": "code",
   "execution_count": 2,
   "id": "007f8a18",
   "metadata": {},
   "outputs": [],
   "source": [
    "iris = load_iris()\n",
    "\n",
    "x_data = iris.data  # x = 독립변수 = 설명변수 = feature(머신러닝)\n",
    "y_target = iris.target  # y = 종속변수(이산) = target = label\n",
    "\n",
    "# 의사결정나무 객체화(변수에 넣는다.)\n",
    "dt_clf = DecisionTreeClassifier()"
   ]
  },
  {
   "cell_type": "code",
   "execution_count": 3,
   "id": "64aaf7db",
   "metadata": {},
   "outputs": [
    {
     "data": {
      "text/plain": [
       "DecisionTreeClassifier()"
      ]
     },
     "execution_count": 3,
     "metadata": {},
     "output_type": "execute_result"
    }
   ],
   "source": [
    "x_train = x_data.copy()\n",
    "y_train = y_target.copy()\n",
    "\n",
    "# 학습을 수행 (데이터 분할 X)\n",
    "dt_clf.fit(x_train, y_train)"
   ]
  },
  {
   "cell_type": "code",
   "execution_count": 5,
   "id": "3e015831",
   "metadata": {},
   "outputs": [],
   "source": [
    "# 예측 수행\n",
    "y_pred = dt_clf.predict(x_train)  # 2차원의 입력 x가 들어와야 한다."
   ]
  },
  {
   "cell_type": "code",
   "execution_count": 6,
   "id": "22a8ffad",
   "metadata": {},
   "outputs": [
    {
     "name": "stdout",
     "output_type": "stream",
     "text": [
      "예측 정확도: 1.0\n"
     ]
    }
   ],
   "source": [
    "# 평가지표로 평가\n",
    "print(f'예측 정확도: {acc_sc(y_train, y_pred)}')"
   ]
  },
  {
   "cell_type": "code",
   "execution_count": null,
   "id": "e04fb2e8",
   "metadata": {},
   "outputs": [],
   "source": []
  },
  {
   "cell_type": "code",
   "execution_count": 7,
   "id": "8e6fe6fd",
   "metadata": {},
   "outputs": [],
   "source": [
    "from sklearn.model_selection import train_test_split\n",
    "# train과 test 두가지를 분리하는것 => Hold_out(홀드아웃) (시험문제)"
   ]
  },
  {
   "cell_type": "code",
   "execution_count": 8,
   "id": "b0769bf2",
   "metadata": {},
   "outputs": [],
   "source": [
    "?train_test_split"
   ]
  },
  {
   "cell_type": "code",
   "execution_count": 12,
   "id": "cd71ef68",
   "metadata": {},
   "outputs": [],
   "source": [
    "import numpy as np\n",
    "array_1 = np.arange(1, 11)\n",
    "array_11 = np.arange(11, 21)\n",
    "\n",
    "train_1, test_1, train_11, test_11 = train_test_split(array_1, array_11, random_state=121)  # test_size=0.25 는 default"
   ]
  },
  {
   "cell_type": "code",
   "execution_count": 14,
   "id": "ab8795a0",
   "metadata": {},
   "outputs": [],
   "source": [
    "# x와 y를 분할\n",
    "x_train, x_test, y_train, y_test = train_test_split(x_data, y_target)"
   ]
  },
  {
   "cell_type": "code",
   "execution_count": 15,
   "id": "9fda26c1",
   "metadata": {},
   "outputs": [],
   "source": [
    "# 재학습\n",
    "dt_clf.fit(x_train, y_train)\n",
    "\n",
    "# 예측수행\n",
    "y_pred = dt_clf.predict(x_test)"
   ]
  },
  {
   "cell_type": "code",
   "execution_count": 18,
   "id": "75535f4e",
   "metadata": {},
   "outputs": [
    {
     "name": "stdout",
     "output_type": "stream",
     "text": [
      "0.921\n"
     ]
    }
   ],
   "source": [
    "# 평가지표 (예측 정확도 1.0 == 100%)\n",
    "print(f'{acc_sc(y_test, y_pred):.3f}')  # f({name:.3f}) => f포멧형식 .3f 하면 소수점 3자리 출력"
   ]
  },
  {
   "cell_type": "code",
   "execution_count": 29,
   "id": "ced1033a",
   "metadata": {},
   "outputs": [],
   "source": [
    "# 필수 라이브러리 호출\n",
    "from sklearn.datasets import load_iris\n",
    "from sklearn.tree import DecisionTreeClassifier\n",
    "from sklearn.model_selection import KFold\n",
    "from sklearn.metrics import accuracy_score as acc_sc\n",
    "\n",
    "import numpy as np\n",
    "import pandas as pd"
   ]
  },
  {
   "cell_type": "code",
   "execution_count": 44,
   "id": "b3840349",
   "metadata": {},
   "outputs": [
    {
     "name": "stdout",
     "output_type": "stream",
     "text": [
      "데이터 셋의 크기:  150\n"
     ]
    },
    {
     "data": {
      "text/html": [
       "<div>\n",
       "<style scoped>\n",
       "    .dataframe tbody tr th:only-of-type {\n",
       "        vertical-align: middle;\n",
       "    }\n",
       "\n",
       "    .dataframe tbody tr th {\n",
       "        vertical-align: top;\n",
       "    }\n",
       "\n",
       "    .dataframe thead th {\n",
       "        text-align: right;\n",
       "    }\n",
       "</style>\n",
       "<table border=\"1\" class=\"dataframe\">\n",
       "  <thead>\n",
       "    <tr style=\"text-align: right;\">\n",
       "      <th></th>\n",
       "      <th>0</th>\n",
       "      <th>1</th>\n",
       "      <th>2</th>\n",
       "      <th>3</th>\n",
       "    </tr>\n",
       "  </thead>\n",
       "  <tbody>\n",
       "    <tr>\n",
       "      <th>0</th>\n",
       "      <td>5.1</td>\n",
       "      <td>3.5</td>\n",
       "      <td>1.4</td>\n",
       "      <td>0.2</td>\n",
       "    </tr>\n",
       "    <tr>\n",
       "      <th>1</th>\n",
       "      <td>4.9</td>\n",
       "      <td>3.0</td>\n",
       "      <td>1.4</td>\n",
       "      <td>0.2</td>\n",
       "    </tr>\n",
       "    <tr>\n",
       "      <th>2</th>\n",
       "      <td>4.7</td>\n",
       "      <td>3.2</td>\n",
       "      <td>1.3</td>\n",
       "      <td>0.2</td>\n",
       "    </tr>\n",
       "    <tr>\n",
       "      <th>3</th>\n",
       "      <td>4.6</td>\n",
       "      <td>3.1</td>\n",
       "      <td>1.5</td>\n",
       "      <td>0.2</td>\n",
       "    </tr>\n",
       "    <tr>\n",
       "      <th>4</th>\n",
       "      <td>5.0</td>\n",
       "      <td>3.6</td>\n",
       "      <td>1.4</td>\n",
       "      <td>0.2</td>\n",
       "    </tr>\n",
       "    <tr>\n",
       "      <th>...</th>\n",
       "      <td>...</td>\n",
       "      <td>...</td>\n",
       "      <td>...</td>\n",
       "      <td>...</td>\n",
       "    </tr>\n",
       "    <tr>\n",
       "      <th>145</th>\n",
       "      <td>6.7</td>\n",
       "      <td>3.0</td>\n",
       "      <td>5.2</td>\n",
       "      <td>2.3</td>\n",
       "    </tr>\n",
       "    <tr>\n",
       "      <th>146</th>\n",
       "      <td>6.3</td>\n",
       "      <td>2.5</td>\n",
       "      <td>5.0</td>\n",
       "      <td>1.9</td>\n",
       "    </tr>\n",
       "    <tr>\n",
       "      <th>147</th>\n",
       "      <td>6.5</td>\n",
       "      <td>3.0</td>\n",
       "      <td>5.2</td>\n",
       "      <td>2.0</td>\n",
       "    </tr>\n",
       "    <tr>\n",
       "      <th>148</th>\n",
       "      <td>6.2</td>\n",
       "      <td>3.4</td>\n",
       "      <td>5.4</td>\n",
       "      <td>2.3</td>\n",
       "    </tr>\n",
       "    <tr>\n",
       "      <th>149</th>\n",
       "      <td>5.9</td>\n",
       "      <td>3.0</td>\n",
       "      <td>5.1</td>\n",
       "      <td>1.8</td>\n",
       "    </tr>\n",
       "  </tbody>\n",
       "</table>\n",
       "<p>150 rows × 4 columns</p>\n",
       "</div>"
      ],
      "text/plain": [
       "       0    1    2    3\n",
       "0    5.1  3.5  1.4  0.2\n",
       "1    4.9  3.0  1.4  0.2\n",
       "2    4.7  3.2  1.3  0.2\n",
       "3    4.6  3.1  1.5  0.2\n",
       "4    5.0  3.6  1.4  0.2\n",
       "..   ...  ...  ...  ...\n",
       "145  6.7  3.0  5.2  2.3\n",
       "146  6.3  2.5  5.0  1.9\n",
       "147  6.5  3.0  5.2  2.0\n",
       "148  6.2  3.4  5.4  2.3\n",
       "149  5.9  3.0  5.1  1.8\n",
       "\n",
       "[150 rows x 4 columns]"
      ]
     },
     "execution_count": 44,
     "metadata": {},
     "output_type": "execute_result"
    }
   ],
   "source": [
    "# 데이터 재정의\n",
    "\n",
    "iris = load_iris()\n",
    "features = iris.data  # x값\n",
    "label = iris.target  # y 값\n",
    "dt_clf = DecisionTreeClassifier(random_state=156)\n",
    "\n",
    "# 분석 종류 5개로 (val 5번. val 이 test가 됨)\n",
    "kf = KFold(n_splits=5)\n",
    "print('데이터 셋의 크기: ', features.shape[0])"
   ]
  },
  {
   "cell_type": "code",
   "execution_count": 49,
   "id": "422f7060",
   "metadata": {},
   "outputs": [
    {
     "name": "stdout",
     "output_type": "stream",
     "text": [
      "\n",
      " #1 CV 정확도: 1.0, 학습 데이터 크기: 120, 검증 데이터 크기: 30\n",
      "\\w1 검증 데이터셋 인덱스: [ 0  1  2  3  4  5  6  7  8  9 10 11 12 13 14 15 16 17 18 19 20 21 22 23\n",
      " 24 25 26 27 28 29]\n",
      "\n",
      " #2 CV 정확도: 0.967, 학습 데이터 크기: 120, 검증 데이터 크기: 30\n",
      "\\w2 검증 데이터셋 인덱스: [30 31 32 33 34 35 36 37 38 39 40 41 42 43 44 45 46 47 48 49 50 51 52 53\n",
      " 54 55 56 57 58 59]\n",
      "\n",
      " #3 CV 정확도: 0.867, 학습 데이터 크기: 120, 검증 데이터 크기: 30\n",
      "\\w3 검증 데이터셋 인덱스: [60 61 62 63 64 65 66 67 68 69 70 71 72 73 74 75 76 77 78 79 80 81 82 83\n",
      " 84 85 86 87 88 89]\n",
      "\n",
      " #4 CV 정확도: 0.933, 학습 데이터 크기: 120, 검증 데이터 크기: 30\n",
      "\\w4 검증 데이터셋 인덱스: [ 90  91  92  93  94  95  96  97  98  99 100 101 102 103 104 105 106 107\n",
      " 108 109 110 111 112 113 114 115 116 117 118 119]\n",
      "\n",
      " #5 CV 정확도: 0.733, 학습 데이터 크기: 120, 검증 데이터 크기: 30\n",
      "\\w5 검증 데이터셋 인덱스: [120 121 122 123 124 125 126 127 128 129 130 131 132 133 134 135 136 137\n",
      " 138 139 140 141 142 143 144 145 146 147 148 149]\n",
      "\n",
      " ## 평균 cv 정확도: 0.9\n"
     ]
    }
   ],
   "source": [
    "n_iter = 0\n",
    "cv_accuracy = []\n",
    "for train_index, val_index in kf.split(label):\n",
    "    # Kfold.split()으로 반환된 인덱스를 통해 학습용, 검증용 데이터 정의\n",
    "    x_val, x_train = features[val_index], features[train_index]\n",
    "    y_val, y_train = label[val_index], label[train_index]\n",
    "    # 각 CV별 학습 및 예측\n",
    "    dt_clf.fit(x_train,y_train) # 학습\n",
    "    pred = dt_clf.predict(x_val) # 예측\n",
    "    # 정확도 지표 계산\n",
    "    accuracy = np.round(acc_sc(y_val, pred), 3)\n",
    "    train_size = x_train.shape[0]\n",
    "    val_size = x_val.shape[0]\n",
    "    n_iter += 1\n",
    "    print(f'\\n #{n_iter} CV 정확도: {accuracy}, 학습 데이터 크기: {train_size}, 검증 데이터 크기: {val_size}')\n",
    "    print(f'\\w{n_iter} 검증 데이터셋 인덱스: {val_index}')\n",
    "    cv_accuracy.append(accuracy)\n",
    "    \n",
    "# 개별 iteration 별 정확도 평균내기\n",
    "print(f'\\n ## 평균 cv 정확도: {np.mean(cv_accuracy)}')"
   ]
  },
  {
   "cell_type": "code",
   "execution_count": null,
   "id": "2162bb7e",
   "metadata": {},
   "outputs": [],
   "source": [
    "# data 전처리 => 문자를 숫자로, 결칙값을 채워주고."
   ]
  }
 ],
 "metadata": {
  "kernelspec": {
   "display_name": "Python 3 (ipykernel)",
   "language": "python",
   "name": "python3"
  },
  "language_info": {
   "codemirror_mode": {
    "name": "ipython",
    "version": 3
   },
   "file_extension": ".py",
   "mimetype": "text/x-python",
   "name": "python",
   "nbconvert_exporter": "python",
   "pygments_lexer": "ipython3",
   "version": "3.9.13"
  }
 },
 "nbformat": 4,
 "nbformat_minor": 5
}
