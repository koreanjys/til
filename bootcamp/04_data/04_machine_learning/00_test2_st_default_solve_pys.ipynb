{
 "cells": [
  {
   "cell_type": "code",
   "execution_count": 1,
   "id": "66029115",
   "metadata": {},
   "outputs": [],
   "source": [
    "# 필수 라이브러리 호출\n",
    "import numpy as np\n",
    "import pandas as pd\n",
    "\n",
    "from sklearn.model_selection import train_test_split\n",
    "from sklearn.tree import DecisionTreeClassifier\n",
    "\n",
    "from sklearn.metrics import accuracy_score as acc_sc"
   ]
  },
  {
   "cell_type": "code",
   "execution_count": 7,
   "id": "c617128c",
   "metadata": {},
   "outputs": [],
   "source": [
    "# 데이터 정의\n",
    "\n",
    "st_default_org = pd.read_csv('./ysp_files/st_default.csv')\n",
    "st_default_df = st_default_org.iloc[:,1:] # iloc는 위치기반 인덱싱(positional indexing)"
   ]
  },
  {
   "cell_type": "code",
   "execution_count": 11,
   "id": "86073880",
   "metadata": {},
   "outputs": [],
   "source": [
    "# 전체 데이터 \n",
    "st_default_df\n",
    "\n",
    "# X_data와 y_target을 정의한다.\n",
    "X_data = st_default_df.drop('default', axis=1) # st_default_df.iloc[:,1:]\n",
    "y_target = st_default_df.default"
   ]
  },
  {
   "cell_type": "code",
   "execution_count": 13,
   "id": "e9958de8",
   "metadata": {},
   "outputs": [
    {
     "name": "stdout",
     "output_type": "stream",
     "text": [
      "<class 'pandas.core.frame.DataFrame'>\n",
      "RangeIndex: 10000 entries, 0 to 9999\n",
      "Data columns (total 3 columns):\n",
      " #   Column   Non-Null Count  Dtype  \n",
      "---  ------   --------------  -----  \n",
      " 0   student  10000 non-null  object \n",
      " 1   balance  10000 non-null  float64\n",
      " 2   income   10000 non-null  float64\n",
      "dtypes: float64(2), object(1)\n",
      "memory usage: 234.5+ KB\n"
     ]
    }
   ],
   "source": [
    "# EDA를 통한 데이터 확인\n",
    "X_data.info()"
   ]
  },
  {
   "cell_type": "code",
   "execution_count": 15,
   "id": "077e4631",
   "metadata": {},
   "outputs": [
    {
     "data": {
      "text/html": [
       "<div>\n",
       "<style scoped>\n",
       "    .dataframe tbody tr th:only-of-type {\n",
       "        vertical-align: middle;\n",
       "    }\n",
       "\n",
       "    .dataframe tbody tr th {\n",
       "        vertical-align: top;\n",
       "    }\n",
       "\n",
       "    .dataframe thead th {\n",
       "        text-align: right;\n",
       "    }\n",
       "</style>\n",
       "<table border=\"1\" class=\"dataframe\">\n",
       "  <thead>\n",
       "    <tr style=\"text-align: right;\">\n",
       "      <th></th>\n",
       "      <th>balance</th>\n",
       "      <th>income</th>\n",
       "    </tr>\n",
       "  </thead>\n",
       "  <tbody>\n",
       "    <tr>\n",
       "      <th>count</th>\n",
       "      <td>10000.000000</td>\n",
       "      <td>10000.000000</td>\n",
       "    </tr>\n",
       "    <tr>\n",
       "      <th>mean</th>\n",
       "      <td>835.374886</td>\n",
       "      <td>33516.981876</td>\n",
       "    </tr>\n",
       "    <tr>\n",
       "      <th>std</th>\n",
       "      <td>483.714985</td>\n",
       "      <td>13336.639563</td>\n",
       "    </tr>\n",
       "    <tr>\n",
       "      <th>min</th>\n",
       "      <td>0.000000</td>\n",
       "      <td>771.967729</td>\n",
       "    </tr>\n",
       "    <tr>\n",
       "      <th>25%</th>\n",
       "      <td>481.731105</td>\n",
       "      <td>21340.462905</td>\n",
       "    </tr>\n",
       "    <tr>\n",
       "      <th>50%</th>\n",
       "      <td>823.636973</td>\n",
       "      <td>34552.644800</td>\n",
       "    </tr>\n",
       "    <tr>\n",
       "      <th>75%</th>\n",
       "      <td>1166.308387</td>\n",
       "      <td>43807.729275</td>\n",
       "    </tr>\n",
       "    <tr>\n",
       "      <th>max</th>\n",
       "      <td>2654.322576</td>\n",
       "      <td>73554.233500</td>\n",
       "    </tr>\n",
       "  </tbody>\n",
       "</table>\n",
       "</div>"
      ],
      "text/plain": [
       "            balance        income\n",
       "count  10000.000000  10000.000000\n",
       "mean     835.374886  33516.981876\n",
       "std      483.714985  13336.639563\n",
       "min        0.000000    771.967729\n",
       "25%      481.731105  21340.462905\n",
       "50%      823.636973  34552.644800\n",
       "75%     1166.308387  43807.729275\n",
       "max     2654.322576  73554.233500"
      ]
     },
     "execution_count": 15,
     "metadata": {},
     "output_type": "execute_result"
    }
   ],
   "source": [
    "X_data.describe()  # 통계치"
   ]
  },
  {
   "cell_type": "code",
   "execution_count": 17,
   "id": "74967c9a",
   "metadata": {},
   "outputs": [
    {
     "name": "stdout",
     "output_type": "stream",
     "text": [
      "X_data의 형태: (10000, 3)\n",
      "y_target의 형태: (10000,)\n"
     ]
    }
   ],
   "source": [
    "# 크기확인\n",
    "print('X_data의 형태:', X_data.shape)\n",
    "print('y_target의 형태:', y_target.shape)"
   ]
  },
  {
   "cell_type": "code",
   "execution_count": 19,
   "id": "cc41309e",
   "metadata": {},
   "outputs": [],
   "source": [
    "# 문자들을 숫자로 변환한다. - 1) 그냥 문자(학생) 컬럼 없애면? O.K. vs \n",
    "#                           2) 문자 -> one-hot // Label Encoding \n",
    "\n",
    "X_data_df = pd.get_dummies(X_data) # one-hot :: 문자 -> 레이블 -> 원핫 : ndarray"
   ]
  },
  {
   "cell_type": "code",
   "execution_count": 21,
   "id": "98d178e3",
   "metadata": {},
   "outputs": [
    {
     "data": {
      "text/plain": [
       "0    No\n",
       "1    No\n",
       "2    No\n",
       "3    No\n",
       "4    No\n",
       "Name: default, dtype: object"
      ]
     },
     "execution_count": 21,
     "metadata": {},
     "output_type": "execute_result"
    }
   ],
   "source": [
    "y_target[:5] # Series"
   ]
  },
  {
   "cell_type": "code",
   "execution_count": 28,
   "id": "f544e4e8",
   "metadata": {},
   "outputs": [
    {
     "data": {
      "text/plain": [
       "0.0333"
      ]
     },
     "execution_count": 28,
     "metadata": {},
     "output_type": "execute_result"
    }
   ],
   "source": [
    "# y 값에는 Label Encoding(레이블 인코딩)\n",
    "from sklearn.preprocessing import LabelEncoder\n",
    "\n",
    "le_encode = LabelEncoder()\n",
    "y_target_scaled = le_encode.fit_transform(y_target)\n",
    "\n",
    "# y_target값을 확인 - imbalanced_data(쏠림 데이터)\n",
    "pd.Series(y_target_scaled).value_counts()\n",
    "\n",
    "333/10000 # 3.33% 부도낸 사람"
   ]
  },
  {
   "cell_type": "code",
   "execution_count": 31,
   "id": "49df1396",
   "metadata": {},
   "outputs": [],
   "source": [
    "# 데이터 분할\n",
    "X_train, X_test, y_train, y_test = train_test_split(X_data_df, y_target_scaled, stratify=y_target_scaled)"
   ]
  },
  {
   "cell_type": "code",
   "execution_count": 32,
   "id": "2b90b6cf",
   "metadata": {},
   "outputs": [
    {
     "data": {
      "text/html": [
       "<div>\n",
       "<style scoped>\n",
       "    .dataframe tbody tr th:only-of-type {\n",
       "        vertical-align: middle;\n",
       "    }\n",
       "\n",
       "    .dataframe tbody tr th {\n",
       "        vertical-align: top;\n",
       "    }\n",
       "\n",
       "    .dataframe thead th {\n",
       "        text-align: right;\n",
       "    }\n",
       "</style>\n",
       "<table border=\"1\" class=\"dataframe\">\n",
       "  <thead>\n",
       "    <tr style=\"text-align: right;\">\n",
       "      <th></th>\n",
       "      <th>balance</th>\n",
       "      <th>income</th>\n",
       "      <th>student_No</th>\n",
       "      <th>student_Yes</th>\n",
       "    </tr>\n",
       "  </thead>\n",
       "  <tbody>\n",
       "    <tr>\n",
       "      <th>1846</th>\n",
       "      <td>873.641237</td>\n",
       "      <td>21810.61199</td>\n",
       "      <td>0</td>\n",
       "      <td>1</td>\n",
       "    </tr>\n",
       "    <tr>\n",
       "      <th>766</th>\n",
       "      <td>1027.895035</td>\n",
       "      <td>21551.61109</td>\n",
       "      <td>1</td>\n",
       "      <td>0</td>\n",
       "    </tr>\n",
       "    <tr>\n",
       "      <th>5600</th>\n",
       "      <td>592.432321</td>\n",
       "      <td>32283.26412</td>\n",
       "      <td>1</td>\n",
       "      <td>0</td>\n",
       "    </tr>\n",
       "    <tr>\n",
       "      <th>98</th>\n",
       "      <td>243.841328</td>\n",
       "      <td>47193.88813</td>\n",
       "      <td>1</td>\n",
       "      <td>0</td>\n",
       "    </tr>\n",
       "    <tr>\n",
       "      <th>6207</th>\n",
       "      <td>617.640764</td>\n",
       "      <td>37604.93356</td>\n",
       "      <td>1</td>\n",
       "      <td>0</td>\n",
       "    </tr>\n",
       "    <tr>\n",
       "      <th>...</th>\n",
       "      <td>...</td>\n",
       "      <td>...</td>\n",
       "      <td>...</td>\n",
       "      <td>...</td>\n",
       "    </tr>\n",
       "    <tr>\n",
       "      <th>4744</th>\n",
       "      <td>0.000000</td>\n",
       "      <td>45486.45868</td>\n",
       "      <td>1</td>\n",
       "      <td>0</td>\n",
       "    </tr>\n",
       "    <tr>\n",
       "      <th>1785</th>\n",
       "      <td>396.513587</td>\n",
       "      <td>41969.74677</td>\n",
       "      <td>1</td>\n",
       "      <td>0</td>\n",
       "    </tr>\n",
       "    <tr>\n",
       "      <th>9706</th>\n",
       "      <td>1070.752120</td>\n",
       "      <td>11383.44265</td>\n",
       "      <td>0</td>\n",
       "      <td>1</td>\n",
       "    </tr>\n",
       "    <tr>\n",
       "      <th>2390</th>\n",
       "      <td>1264.586941</td>\n",
       "      <td>14649.15502</td>\n",
       "      <td>0</td>\n",
       "      <td>1</td>\n",
       "    </tr>\n",
       "    <tr>\n",
       "      <th>4620</th>\n",
       "      <td>1079.372880</td>\n",
       "      <td>14223.26681</td>\n",
       "      <td>0</td>\n",
       "      <td>1</td>\n",
       "    </tr>\n",
       "  </tbody>\n",
       "</table>\n",
       "<p>7500 rows × 4 columns</p>\n",
       "</div>"
      ],
      "text/plain": [
       "          balance       income  student_No  student_Yes\n",
       "1846   873.641237  21810.61199           0            1\n",
       "766   1027.895035  21551.61109           1            0\n",
       "5600   592.432321  32283.26412           1            0\n",
       "98     243.841328  47193.88813           1            0\n",
       "6207   617.640764  37604.93356           1            0\n",
       "...           ...          ...         ...          ...\n",
       "4744     0.000000  45486.45868           1            0\n",
       "1785   396.513587  41969.74677           1            0\n",
       "9706  1070.752120  11383.44265           0            1\n",
       "2390  1264.586941  14649.15502           0            1\n",
       "4620  1079.372880  14223.26681           0            1\n",
       "\n",
       "[7500 rows x 4 columns]"
      ]
     },
     "execution_count": 32,
     "metadata": {},
     "output_type": "execute_result"
    }
   ],
   "source": [
    "X_train"
   ]
  },
  {
   "cell_type": "code",
   "execution_count": 36,
   "id": "ef138f28",
   "metadata": {},
   "outputs": [],
   "source": [
    "# 의사결정나무 적용\n",
    "dt_clf = DecisionTreeClassifier()\n",
    "dt_clf.fit(X_train,y_train) # 학습을 수행\n",
    "\n",
    "# 예측\n",
    "y_pred = dt_clf.predict(X_test)"
   ]
  },
  {
   "cell_type": "code",
   "execution_count": 37,
   "id": "fd853e67",
   "metadata": {},
   "outputs": [
    {
     "name": "stdout",
     "output_type": "stream",
     "text": [
      "정확도는:0.954\n"
     ]
    }
   ],
   "source": [
    "# 평가지표\n",
    "print(f'정확도는:{acc_sc(y_pred, y_test)}')"
   ]
  },
  {
   "cell_type": "code",
   "execution_count": 42,
   "id": "416d5c5e",
   "metadata": {},
   "outputs": [
    {
     "name": "stdout",
     "output_type": "stream",
     "text": [
      "교차 검증별 정확도:[0.9507 0.9613 0.9567 0.9567 0.954 ]\n",
      "평균 검증별 정확도:0.9559\n"
     ]
    }
   ],
   "source": [
    "# CV - 교차검증을 수행 :: cross_val_score\n",
    "from sklearn.model_selection import cross_val_score\n",
    "\n",
    "# 전체 데이터 얼마나 CV의 정확도??\n",
    "scores = cross_val_score(dt_clf, X_train, y_train, scoring='accuracy', cv=5)\n",
    "\n",
    "print(f'교차 검증별 정확도:{np.round(scores,4)}')\n",
    "print(f'평균 검증별 정확도:{np.round(np.mean(scores),4)}')"
   ]
  },
  {
   "cell_type": "code",
   "execution_count": 44,
   "id": "f4e19891",
   "metadata": {},
   "outputs": [
    {
     "data": {
      "text/plain": [
       "No     9667\n",
       "Yes     333\n",
       "Name: default, dtype: int64"
      ]
     },
     "execution_count": 44,
     "metadata": {},
     "output_type": "execute_result"
    }
   ],
   "source": [
    "y_target.value_counts()"
   ]
  },
  {
   "cell_type": "code",
   "execution_count": null,
   "id": "35469116",
   "metadata": {},
   "outputs": [],
   "source": [
    "# 1. 왜 데이터의 해당하는 정확도 값이 높게 나왔을까요?\n",
    "# 2. 데이터는 어떠한 특징을 지니고 있나요?\n",
    "# 3. 데이터에는 어떠한 문제점이 있나요?\n",
    "# 4. 그렇다면 이러한 문제점을 해결하기 위한 방안은 무엇이 있을까요?\n",
    "\n",
    "# [1] oversampling vs undersampling\n",
    "# [2] Data augementation - 이미지 분석 \n",
    "# [3] get more data\n",
    "# [4] change our metrics - precision / recall / f1-score / roc_auc"
   ]
  },
  {
   "cell_type": "code",
   "execution_count": 45,
   "id": "244a0386",
   "metadata": {},
   "outputs": [],
   "source": [
    "# end of file"
   ]
  }
 ],
 "metadata": {
  "kernelspec": {
   "display_name": "Python 3 (ipykernel)",
   "language": "python",
   "name": "python3"
  },
  "language_info": {
   "codemirror_mode": {
    "name": "ipython",
    "version": 3
   },
   "file_extension": ".py",
   "mimetype": "text/x-python",
   "name": "python",
   "nbconvert_exporter": "python",
   "pygments_lexer": "ipython3",
   "version": "3.9.13"
  }
 },
 "nbformat": 4,
 "nbformat_minor": 5
}
