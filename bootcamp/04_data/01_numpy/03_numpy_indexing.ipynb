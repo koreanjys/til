{
 "cells": [
  {
   "cell_type": "code",
   "execution_count": 51,
   "id": "d941b527",
   "metadata": {},
   "outputs": [],
   "source": [
    "import numpy as np"
   ]
  },
  {
   "cell_type": "markdown",
   "id": "1a4469da",
   "metadata": {},
   "source": [
    "### 넘파이의 ndarray의 데이터 세트 선택하기 - 인덱싱(Indexing)\n",
    "*넘파이에서 ndarray내의 일부 데이터 셋이나 특정 데이터만을 선택 할 수 있도록 하는 인덱싱에 대한 알기\n",
    "\n",
    "#### 1.특정한 데이터만 추출\n",
    "\n",
    "#### 2.슬라이싱(Slicing)\n",
    "\n",
    "#### 3.팬시 인덱싱(Fancy Indexing)\n",
    "\n",
    "#### 4.불린 인덱싱(Boolean Indexing)"
   ]
  },
  {
   "cell_type": "code",
   "execution_count": 9,
   "id": "8e5914bb",
   "metadata": {},
   "outputs": [
    {
     "name": "stdout",
     "output_type": "stream",
     "text": [
      "[1 2 3 4 5 6 7 8 9]\n",
      "value:  9\n",
      "<class 'numpy.int32'>\n"
     ]
    }
   ],
   "source": [
    "# 1~9까지 1차원 ndarray생성 - np.arange\n",
    "\n",
    "array1 = np.arange(1, 10)\n",
    "print(array1)\n",
    "value = array1[-1]\n",
    "\n",
    "print('value: ', value)\n",
    "print(type(value))"
   ]
  },
  {
   "cell_type": "code",
   "execution_count": 17,
   "id": "3996e100",
   "metadata": {},
   "outputs": [
    {
     "name": "stdout",
     "output_type": "stream",
     "text": [
      "[[1 2 3]\n",
      " [4 5 6]\n",
      " [7 8 9]]\n"
     ]
    }
   ],
   "source": [
    "# array1을 2차원으로 변형\n",
    "\n",
    "array1d = array1.copy()\n",
    "array2d = array1d.reshape(3, -1)\n",
    "print(array2d)"
   ]
  },
  {
   "cell_type": "markdown",
   "id": "ddf75102",
   "metadata": {},
   "source": [
    "### 1. 특정 데이터만 추출"
   ]
  },
  {
   "cell_type": "code",
   "execution_count": 22,
   "id": "455bb83b",
   "metadata": {},
   "outputs": [
    {
     "name": "stdout",
     "output_type": "stream",
     "text": [
      "(row=0, col=0) index 가리키는 값:  1\n",
      "(row=0, col=0) index 가리키는 값:  1\n",
      "(row=0, col=0) index 가리키는 값:  2\n",
      "(row=0, col=0) index 가리키는 값:  2\n"
     ]
    }
   ],
   "source": [
    "print('(row=0, col=0) index 가리키는 값: ', array2d[0, 0])\n",
    "print('(row=0, col=0) index 가리키는 값: ', array2d[0][0])\n",
    "print('(row=0, col=0) index 가리키는 값: ', array2d[0][1])\n",
    "print('(row=0, col=0) index 가리키는 값: ', array2d[0, 1])"
   ]
  },
  {
   "cell_type": "markdown",
   "id": "fe9da573",
   "metadata": {},
   "source": [
    "### 2. 슬라이싱(Slicing) - 2차원"
   ]
  },
  {
   "cell_type": "code",
   "execution_count": 32,
   "id": "681d8ee3",
   "metadata": {},
   "outputs": [
    {
     "name": "stdout",
     "output_type": "stream",
     "text": [
      "[[1 2 3]\n",
      " [4 5 6]\n",
      " [7 8 9]]\n",
      "array2d[0:2, 0:2]:\n",
      " [[1 2]\n",
      " [4 5]]\n",
      "array2d[1:3, 0:3]:\n",
      " [[4 5 6]\n",
      " [7 8 9]]\n"
     ]
    }
   ],
   "source": [
    "print(array2d)\n",
    "\n",
    "print('array2d[0:2, 0:2]:\\n', array2d[0:2, 0:2])\n",
    "\n",
    "print('array2d[1:3, 0:3]:\\n', array2d[1:, :])"
   ]
  },
  {
   "cell_type": "code",
   "execution_count": 35,
   "id": "5deec324",
   "metadata": {},
   "outputs": [
    {
     "name": "stdout",
     "output_type": "stream",
     "text": [
      "array2d (:2, 0):\n",
      " [1 4]\n",
      "array2d (:2, 0:1):\n",
      " [[1]\n",
      " [4]]\n"
     ]
    }
   ],
   "source": [
    "## question 1\n",
    "\n",
    "print('array2d (:2, 0):\\n', array2d[:2, 0])  # 1차원 출력\n",
    "print('array2d (:2, 0:1):\\n', array2d[:2, 0:1])  # 2차원 출력"
   ]
  },
  {
   "cell_type": "markdown",
   "id": "e352b2b1",
   "metadata": {},
   "source": [
    "### 3. 팬시 인덱싱(Fancy Indexing)"
   ]
  },
  {
   "cell_type": "code",
   "execution_count": 38,
   "id": "bb1131ef",
   "metadata": {},
   "outputs": [
    {
     "name": "stdout",
     "output_type": "stream",
     "text": [
      "[[1 2 3]\n",
      " [4 5 6]\n",
      " [7 8 9]]\n"
     ]
    }
   ],
   "source": [
    "print(array2d)"
   ]
  },
  {
   "cell_type": "code",
   "execution_count": 73,
   "id": "71a6bd40",
   "metadata": {},
   "outputs": [
    {
     "name": "stdout",
     "output_type": "stream",
     "text": [
      "[2 5]\n",
      "[1 5]\n",
      "[3 9]\n",
      "[1 9]\n",
      "[[3]\n",
      " [9]]\n",
      "[[1 3]\n",
      " [7 9]]\n"
     ]
    }
   ],
   "source": [
    "# 팬시 인덱싱은 각 열과 행을 선택해서 뽑아올 수 있다.\n",
    "\n",
    "# 1차원\n",
    "\n",
    "print(array2d[[0, 1], 1])  # array2d 의 0, 1열의 1행만 뽑아온다.\n",
    "print(array2d[[0, 1], [0, 1]])  # array2d 의 0, 1열의 0, 1행만 뽑아온다.\n",
    "\n",
    "print(array2d[[0, 2], 2])  # array2d 의 0, 2열의 2행만 뽑아온다.\n",
    "print(array2d[[0, 2], [0, 2]])  # array2d 의 0, 2열의 0, 2행만 뽑아온다.\n",
    "\n",
    "# 2차원\n",
    "\n",
    "print(array2d[[0, 2], 2:])  # array2d 의 0, 2열의 2행부터 끝까지 뽑아온다.\n",
    "\n",
    "print(array2d[[0, 2], ::2])  # array2d 의 0, 2열의 첫 행부터 끝 행까지 2칸씩 띄어서 뽑아온다.\n",
    "# print(array2d[::2, ::2]) 위와 같음"
   ]
  }
 ],
 "metadata": {
  "kernelspec": {
   "display_name": "venv",
   "language": "python",
   "name": "python3"
  },
  "language_info": {
   "codemirror_mode": {
    "name": "ipython",
    "version": 3
   },
   "file_extension": ".py",
   "mimetype": "text/x-python",
   "name": "python",
   "nbconvert_exporter": "python",
   "pygments_lexer": "ipython3",
   "version": "3.10.9 (tags/v3.10.9:1dd9be6, Dec  6 2022, 20:01:21) [MSC v.1934 64 bit (AMD64)]"
  },
  "vscode": {
   "interpreter": {
    "hash": "80cfef6a3b69a443cd2d1c2f3c269a1ea8d135415e797c63054f9ca949788659"
   }
  }
 },
 "nbformat": 4,
 "nbformat_minor": 5
}
