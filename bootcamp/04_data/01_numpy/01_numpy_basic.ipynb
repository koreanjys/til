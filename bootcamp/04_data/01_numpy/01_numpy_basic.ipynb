{
 "cells": [
  {
   "cell_type": "code",
   "execution_count": 13,
   "id": "f35a07e5",
   "metadata": {},
   "outputs": [],
   "source": [
    "import numpy as np"
   ]
  },
  {
   "cell_type": "code",
   "execution_count": null,
   "id": "255fbe85",
   "metadata": {},
   "outputs": [],
   "source": [
    "### 차원"
   ]
  },
  {
   "cell_type": "code",
   "execution_count": 62,
   "id": "ea180e19",
   "metadata": {},
   "outputs": [
    {
     "name": "stdout",
     "output_type": "stream",
     "text": [
      "array1 type:  <class 'numpy.ndarray'>\n",
      "array1의 형태 (3,)\n",
      "array1은 1차원\n"
     ]
    }
   ],
   "source": [
    "a = [1, 2, 3] # 형태 (1, 3) => (, 3) 튜플에러 => (3, )\n",
    "array1 = np.array(a)\n",
    "\n",
    "print('array1 type: ', type(array1))\n",
    "print('array1의 형태', array1.shape)\n",
    "print(f'array1은 {array1.ndim}차원')"
   ]
  },
  {
   "cell_type": "code",
   "execution_count": 63,
   "id": "3b775e38",
   "metadata": {},
   "outputs": [
    {
     "name": "stdout",
     "output_type": "stream",
     "text": [
      "array2d type:  <class 'numpy.ndarray'>\n",
      "array2d의 형태 (2, 3)\n",
      "array2d은 2차원\n"
     ]
    }
   ],
   "source": [
    "# 2차원의 사례\n",
    "a2 = [[1, 2, 3], [11, 22, 33]] # 형태 (2, 3)\n",
    "array2d = np.array(a2)\n",
    "\n",
    "print('array2d type: ', type(array2d))\n",
    "print('array2d의 형태', array2d.shape)\n",
    "print(f'array2d은 {array2d.ndim}차원')"
   ]
  },
  {
   "cell_type": "code",
   "execution_count": 7,
   "id": "eff27099",
   "metadata": {
    "scrolled": true
   },
   "outputs": [
    {
     "name": "stdout",
     "output_type": "stream",
     "text": [
      "array3d type:  <class 'numpy.ndarray'>\n",
      "array3d의 형태 (2, 1, 3)\n",
      "array3d은 3차원\n"
     ]
    }
   ],
   "source": [
    "# 3차원의 사례\n",
    "a3 = [[[4, 5, 6]],[[1, 2, 3]]] # 형태 (2, 1, 3)\n",
    "array3d = np.array(a3)\n",
    "\n",
    "print('array3d type: ', type(array3d))\n",
    "print('array3d의 형태', array3d.shape)\n",
    "print(f'array3d은 {array3d.ndim}차원')"
   ]
  },
  {
   "cell_type": "markdown",
   "id": "cf7ad9cc",
   "metadata": {},
   "source": [
    "### ndarray 편리하게 생성 - arange, zeros, ones"
   ]
  },
  {
   "cell_type": "code",
   "execution_count": 25,
   "id": "8fd0d421",
   "metadata": {},
   "outputs": [
    {
     "name": "stdout",
     "output_type": "stream",
     "text": [
      "[ 1  2  3  4  5  6  7  8  9 10]\n",
      "int32\n",
      "(10,)\n"
     ]
    }
   ],
   "source": [
    "# arange\n",
    "# seq_array = np.arange(start=1, stop=11)\n",
    "seq_array = np.arange(1, 11)\n",
    "print(seq_array)\n",
    "print(seq_array.dtype) # 해당 array 의 데이터 타입\n",
    "print(seq_array.shape)"
   ]
  },
  {
   "cell_type": "code",
   "execution_count": 45,
   "id": "77d444bf",
   "metadata": {},
   "outputs": [
    {
     "name": "stdout",
     "output_type": "stream",
     "text": [
      "[[0 0 0 0]\n",
      " [0 0 0 0]]\n",
      "int32\n",
      "(2, 4)\n"
     ]
    }
   ],
   "source": [
    "# zeros 로 0으로 된 행렬을 생성\n",
    "zero_array = np.zeros((2, 4), dtype='int32') # dtype을 int32\n",
    "print(zero_array)\n",
    "print(zero_array.dtype) # 해당 array 의 데이터 타입\n",
    "print(zero_array.shape)"
   ]
  },
  {
   "cell_type": "code",
   "execution_count": 44,
   "id": "c032f64a",
   "metadata": {},
   "outputs": [
    {
     "name": "stdout",
     "output_type": "stream",
     "text": [
      "[[1 1]\n",
      " [1 1]\n",
      " [1 1]]\n",
      "int64\n",
      "(3, 2)\n"
     ]
    },
    {
     "data": {
      "text/plain": [
       "array([[1, 1],\n",
       "       [1, 1],\n",
       "       [1, 1]], dtype=int64)"
      ]
     },
     "execution_count": 44,
     "metadata": {},
     "output_type": "execute_result"
    }
   ],
   "source": [
    "# ones 로 1로 된 행렬을 생성\n",
    "one_array = np.ones((3, 2), dtype='int64') # dtype을 int64\n",
    "print(one_array)\n",
    "print(one_array.dtype) # 해당 array 의 데이터 타입\n",
    "print(one_array.shape)"
   ]
  },
  {
   "cell_type": "markdown",
   "id": "dc3164b7",
   "metadata": {},
   "source": [
    "### reshape의 사용 예시"
   ]
  },
  {
   "cell_type": "code",
   "execution_count": 42,
   "id": "dfc8a131",
   "metadata": {},
   "outputs": [
    {
     "data": {
      "text/plain": [
       "array([[ 1,  2,  3,  4,  5],\n",
       "       [ 6,  7,  8,  9, 10]])"
      ]
     },
     "execution_count": 42,
     "metadata": {},
     "output_type": "execute_result"
    }
   ],
   "source": [
    "# seq_array = [1 2 3 4 5 6 7 8 9 10] \n",
    "# 1차원인 seq_array 를 2 차원 배열로 바꿔줌\n",
    "# 요소 숫자를 맞춰줘야함\n",
    "seq_array.reshape(2, 5)"
   ]
  },
  {
   "cell_type": "markdown",
   "id": "4ce21c98",
   "metadata": {},
   "source": [
    "### numpy의 dtype 살펴보기"
   ]
  },
  {
   "cell_type": "code",
   "execution_count": 66,
   "id": "f1aa088c",
   "metadata": {},
   "outputs": [
    {
     "name": "stdout",
     "output_type": "stream",
     "text": [
      "['1' '2' 'test'] <U11\n",
      "[1.  2.  5.5] float64\n"
     ]
    }
   ],
   "source": [
    "# numpy 의 데이터 타입은 다 같은 타입으로 구성된다.\n",
    "l2 = [1, 2, 'test']\n",
    "\n",
    "# np.array를 활용하여 ndarray로 변환\n",
    "array_l2 = np.array(l2)\n",
    "print(array_l2, array_l2.dtype)\n",
    "l3 = [1, 2, 5.5]\n",
    "array_l3 = np.array(l3)\n",
    "print(array_l3, array_l3.dtype)"
   ]
  },
  {
   "cell_type": "code",
   "execution_count": 61,
   "id": "7b1beaeb",
   "metadata": {},
   "outputs": [
    {
     "name": "stdout",
     "output_type": "stream",
     "text": [
      "[1. 3. 5.] float64\n",
      "[1 3 5] int32\n",
      "[1 2 3]\n"
     ]
    }
   ],
   "source": [
    "# dtype의 상호 변환 => astype\n",
    "array_int = np.array([1, 3, 5])\n",
    "array_float = array_int.astype('float64')\n",
    "print(array_float, array_float.dtype)\n",
    "\n",
    "# array_float => array_int2\n",
    "array_int2 = array_float.astype('int32')\n",
    "print(array_int2, array_int2.dtype)\n",
    "\n",
    "# 자료에 따른 버림현상\n",
    "array_float2 = np.array([1.1, 2.2, 3.3])\n",
    "# int로 바뀌면 소숫점이 버려진다.\n",
    "\n",
    "array_int3 = array_float2.astype('int32') \n",
    "print(array_int3)"
   ]
  }
 ],
 "metadata": {
  "kernelspec": {
   "display_name": "Python 3 (ipykernel)",
   "language": "python",
   "name": "python3"
  },
  "language_info": {
   "codemirror_mode": {
    "name": "ipython",
    "version": 3
   },
   "file_extension": ".py",
   "mimetype": "text/x-python",
   "name": "python",
   "nbconvert_exporter": "python",
   "pygments_lexer": "ipython3",
   "version": "3.9.13"
  }
 },
 "nbformat": 4,
 "nbformat_minor": 5
}
