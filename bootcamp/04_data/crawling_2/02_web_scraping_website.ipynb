{
 "cells": [
  {
   "cell_type": "code",
   "execution_count": 13,
   "id": "92376946",
   "metadata": {},
   "outputs": [],
   "source": [
    "import requests\n",
    "from bs4 import BeautifulSoup\n",
    "\n",
    "url = 'https://tbever.com/%EA%B5%AD%EB%82%B4-%EC%9B%B9%EC%82%AC%EC%9D%B4%ED%8A%B8-%EB%9E%AD%ED%82%B9-top50/'\n",
    "\n",
    "# HTML 소스코드 가져오기\n",
    "res = requests.get(url).text\n",
    "\n",
    "# parsing(파싱) => Beautifulsoup\n",
    "res_soup = BeautifulSoup(res)"
   ]
  },
  {
   "cell_type": "code",
   "execution_count": 14,
   "id": "1bf633b3",
   "metadata": {},
   "outputs": [],
   "source": [
    "# p 태그의 요소안에 span 하위의 a 태그의 요소를 찾는다.\n",
    "rank_50 = res_soup.select('p span a')  # CSS 를 활용해 찾는 방식"
   ]
  },
  {
   "cell_type": "code",
   "execution_count": 15,
   "id": "0ede4bbd",
   "metadata": {},
   "outputs": [],
   "source": [
    "# for문을 활용하여 모든 사이트를 리스트에 담기\n",
    "\n",
    "result = []\n",
    "\n",
    "for site in rank_50:\n",
    "    result.append(site.get_text())"
   ]
  },
  {
   "cell_type": "code",
   "execution_count": 17,
   "id": "426ef448",
   "metadata": {},
   "outputs": [],
   "source": [
    "# for 리스트 내포형식으로 담기\n",
    "\n",
    "result1 = [site.get_text() for site in rank_50]"
   ]
  },
  {
   "cell_type": "code",
   "execution_count": 20,
   "id": "643f5900",
   "metadata": {},
   "outputs": [],
   "source": [
    "# pandas df => csv로 저장\n",
    "import pandas as pd\n",
    "result_df = pd.DataFrame(result, columns=['web_site'])"
   ]
  },
  {
   "cell_type": "code",
   "execution_count": 23,
   "id": "40dce4be",
   "metadata": {},
   "outputs": [],
   "source": [
    "result_df.to_csv('./web50.csv')"
   ]
  },
  {
   "cell_type": "code",
   "execution_count": null,
   "id": "98f17c00",
   "metadata": {},
   "outputs": [],
   "source": []
  }
 ],
 "metadata": {
  "kernelspec": {
   "display_name": "Python 3 (ipykernel)",
   "language": "python",
   "name": "python3"
  },
  "language_info": {
   "codemirror_mode": {
    "name": "ipython",
    "version": 3
   },
   "file_extension": ".py",
   "mimetype": "text/x-python",
   "name": "python",
   "nbconvert_exporter": "python",
   "pygments_lexer": "ipython3",
   "version": "3.9.13"
  }
 },
 "nbformat": 4,
 "nbformat_minor": 5
}
