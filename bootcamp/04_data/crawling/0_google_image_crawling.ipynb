{
 "cells": [
  {
   "cell_type": "code",
   "execution_count": 26,
   "id": "69964553",
   "metadata": {},
   "outputs": [],
   "source": [
    "from selenium import webdriver\n",
    "from selenium.webdriver.common.keys import Keys\n",
    "from selenium.webdriver.common.by import By\n",
    "import urllib\n",
    "import time"
   ]
  },
  {
   "cell_type": "code",
   "execution_count": 27,
   "id": "2b31b814",
   "metadata": {},
   "outputs": [],
   "source": [
    "driver = webdriver.Chrome()\n",
    "driver.get(\"https://www.google.co.kr/imghp?hl=ko&ogbl\")  # 이미지 사이트를 한번에 접속\n",
    "\n",
    "\n",
    "elem = driver.find_element(By.NAME, \"q\")\n",
    "elem.clear()  # 검색창의 내용을 제거\n",
    "elem.send_keys(\"빅분기\")  # 검색어를 입력\n",
    "elem.send_keys(Keys.RETURN)  # 엔터키를 누름\n",
    "\n",
    "## 스크롤 바 내리기\n",
    "\n",
    "SCROLL_PAUSE_TIME = 2.5\n",
    "\n",
    "# Get scroll height\n",
    "last_height = driver.execute_script(\"return document.body.scrollHeight\")\n",
    "\n",
    "while True:\n",
    "    # Scroll down to bottom\n",
    "    driver.execute_script(\"window.scrollTo(0, document.body.scrollHeight);\")\n",
    "\n",
    "    # Wait to load page\n",
    "    time.sleep(SCROLL_PAUSE_TIME)\n",
    "\n",
    "    \n",
    "    # Calculate new scroll height and compare with last scroll height\n",
    "    new_height = driver.execute_script(\"return document.body.scrollHeight\")\n",
    "    if new_height == last_height:\n",
    "        try:\n",
    "            driver.find_element(By.CSS_SELECTOR,'.r0zKGf').click()  # 결과더보기 클릭\n",
    "        except:\n",
    "            break\n",
    "    last_height = new_height\n",
    "\n",
    "\n",
    "\n",
    "# 큰 그림의 CSS-selector를 전체 가져오기\n",
    "images = driver.find_elements(By.CSS_SELECTOR,'.rg_i.Q4LuWd') # ''안에 띄어쓰기는 .으로 표기\n",
    "\n",
    "# for문으로 여러 이미지 가져오기\n",
    "cnt = 1\n",
    "for image in images:\n",
    "    try:\n",
    "        image.click()  # 이미지 클릭\n",
    "        time.sleep(2.5)  # 대기시간 2.5초 주기 (해킹이 아니라는 의사표현)\n",
    "        src = driver.find_element(By.CSS_SELECTOR,'.n3VNCb').get_attribute(\"src\")  # src 주소를 가져온다.\n",
    "        # 이미지 다운로드\n",
    "        urllib.request.urlretrieve(src, f'C:\\\\Users\\\\TECH2_26\\\\til\\\\04_data\\\\crawling\\\\test_img\\\\test_{cnt}.png')  # ('주소', '저장할 파일이름')\n",
    "        cnt += 1\n",
    "    except:\n",
    "        pass\n",
    "    \n",
    "# driver.close()"
   ]
  }
 ],
 "metadata": {
  "kernelspec": {
   "display_name": "Python 3 (ipykernel)",
   "language": "python",
   "name": "python3"
  },
  "language_info": {
   "codemirror_mode": {
    "name": "ipython",
    "version": 3
   },
   "file_extension": ".py",
   "mimetype": "text/x-python",
   "name": "python",
   "nbconvert_exporter": "python",
   "pygments_lexer": "ipython3",
   "version": "3.10.9"
  }
 },
 "nbformat": 4,
 "nbformat_minor": 5
}
