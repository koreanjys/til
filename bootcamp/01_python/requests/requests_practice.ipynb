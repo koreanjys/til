{
 "cells": [
  {
   "cell_type": "code",
   "execution_count": 10,
   "id": "02e2fe09",
   "metadata": {},
   "outputs": [
    {
     "data": {
      "text/plain": [
       "100923993000"
      ]
     },
     "execution_count": 10,
     "metadata": {},
     "output_type": "execute_result"
    }
   ],
   "source": [
    "# 뭐가 됐든 client 프로그램을(requests보낼수있는) 준비해서\n",
    "import requests\n",
    "\n",
    "url = 'https://www.dhlottery.co.kr/common.do?method=getLottoNumber&drwNo=1046'\n",
    "\n",
    "# url을 통해 요청을 한다.(달라고한다)\n",
    "data = requests.get(url).json()\n",
    "\n",
    "for no in range(1036, 1047):\n",
    "    url = f'https://www.dhlottery.co.kr/common.do?method=getLottoNumber&drwNo={no}'\n",
    "    data = requests.get(url).json()\n",
    "    print(data['totSellamnt'])"
   ]
  },
  {
   "cell_type": "code",
   "execution_count": null,
   "id": "34128dcb",
   "metadata": {},
   "outputs": [],
   "source": [
    "import requests\n",
    "\n",
    "key = None\n",
    "url = 'https://api.themoviedb.org/3/movie/upcomming?api_key=8cb1b55c87ce758e9389d6b2a2d7b92c&language=ko-KR'\n",
    "\n",
    "data = requests.get(url).json()\n",
    "'''\n",
    "https://api.themoviedb.org/3\n",
    "/movie                           # 달라질 수 있음\n",
    "/latest\n",
    "?\n",
    "api_key=비밀\n",
    "&\n",
    "language=ko-KR\n",
    "'''"
   ]
  }
 ],
 "metadata": {
  "kernelspec": {
   "display_name": "Python 3 (ipykernel)",
   "language": "python",
   "name": "python3"
  },
  "language_info": {
   "codemirror_mode": {
    "name": "ipython",
    "version": 3
   },
   "file_extension": ".py",
   "mimetype": "text/x-python",
   "name": "python",
   "nbconvert_exporter": "python",
   "pygments_lexer": "ipython3",
   "version": "3.10.9"
  }
 },
 "nbformat": 4,
 "nbformat_minor": 5
}
