{
 "cells": [
  {
   "cell_type": "code",
   "execution_count": null,
   "id": "b652f728",
   "metadata": {},
   "outputs": [],
   "source": [
    "<a id=\"numView\" href=\"/gameResult.do?method=byWin&amp;wiselog=C_A_1_1\">\n",
    "\t\t\t\t\t<span class=\"accessibility\">당첨번호</span>\n",
    "\t\t\t\t\t<span id=\"drwtNo1\" class=\"ball_645 ball1\">2</span>\n",
    "\t\t\t\t\t<span id=\"drwtNo2\" class=\"ball_645 ball2\">20</span>\n",
    "\t\t\t\t\t<span id=\"drwtNo3\" class=\"ball_645 ball4\">33</span>\n",
    "\t\t\t\t\t<span id=\"drwtNo4\" class=\"ball_645 ball4\">40</span>\n",
    "\t\t\t\t\t<span id=\"drwtNo5\" class=\"ball_645 ball5\">42</span>\n",
    "\t\t\t\t\t<span id=\"drwtNo6\" class=\"ball_645 ball5\">44</span>\n",
    "\t\t\t\t\t<span class=\"bonus\">보너스번호</span>\n",
    "\t\t\t\t\t<span id=\"bnusNo\" class=\"ball_645 ball4\">32</span>\n",
    "\t\t\t\t</a>"
   ]
  }
 ],
 "metadata": {
  "kernelspec": {
   "display_name": "Python 3 (ipykernel)",
   "language": "python",
   "name": "python3"
  },
  "language_info": {
   "codemirror_mode": {
    "name": "ipython",
    "version": 3
   },
   "file_extension": ".py",
   "mimetype": "text/x-python",
   "name": "python",
   "nbconvert_exporter": "python",
   "pygments_lexer": "ipython3",
   "version": "3.10.9"
  }
 },
 "nbformat": 4,
 "nbformat_minor": 5
}
