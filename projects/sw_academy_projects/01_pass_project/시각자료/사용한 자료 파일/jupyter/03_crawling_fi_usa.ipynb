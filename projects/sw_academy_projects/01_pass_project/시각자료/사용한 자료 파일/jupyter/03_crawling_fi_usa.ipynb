{
 "cells": [
  {
   "cell_type": "code",
   "execution_count": 2,
   "id": "99b47c6e",
   "metadata": {},
   "outputs": [],
   "source": [
    "import yfinance as yf\n",
    "import pandas as pd\n",
    "import requests\n",
    "from bs4 import BeautifulSoup\n",
    "import datetime"
   ]
  },
  {
   "cell_type": "code",
   "execution_count": 3,
   "id": "4dd14710",
   "metadata": {
    "scrolled": true
   },
   "outputs": [
    {
     "name": "stdout",
     "output_type": "stream",
     "text": [
      "현재 2023-03-07 14:10:07.039737 기준 환율 1298.5원\n",
      "[*********************100%***********************]  1 of 1 completed\n",
      "META.csv 파일을 저장했습니다.\n",
      "[*********************100%***********************]  1 of 1 completed\n",
      "NFLX.csv 파일을 저장했습니다.\n",
      "[*********************100%***********************]  1 of 1 completed\n",
      "MSFT.csv 파일을 저장했습니다.\n"
     ]
    }
   ],
   "source": [
    "# 페이스북 넷플릭스 마이크로소프트\n",
    "datas = ['META', 'NFLX', 'MSFT']\n",
    "# 크롤링 할 날짜 지정  예) '2020-01-01'\n",
    "start_date = '2021-07-01'\n",
    "end_date = '2022-12-31'\n",
    "\n",
    "## 데이터 프레임의 달러를 원화로 전처리 하기 위한 코드\n",
    "# 현재 환율 정보를 가져온다\n",
    "# 웹사이트에서 환율 정보 스크래핑\n",
    "url = 'https://finance.naver.com/marketindex/exchangeDailyQuote.nhn?marketindexCd=FX_USDKRW&page=1'\n",
    "response = requests.get(url)\n",
    "soup = BeautifulSoup(response.text, 'lxml')\n",
    "table = soup.select_one('td.num')\n",
    "# 환율 str을 float으로 변환하기 위한 전처리 (,)를 없애줌\n",
    "exchange = float(table.text.replace(',', ''))\n",
    "# 현재 시각의 달러 환율 정보를 가져온다.\n",
    "print('현재', datetime.datetime.now(), f'기준 환율 {exchange}원')\n",
    "# apply를 위한 달러 => 원화 함수 exchanged 정의\n",
    "def exchanged(x):\n",
    "    return round(exchange * x)\n",
    "\n",
    "# 리스트 datas 안에 들어있는 기업들의 정보를 크롤링 => csv화\n",
    "for data in datas:\n",
    "    # fi_data변수에 저장\n",
    "    \n",
    "    # 날짜 지정\n",
    "    fi_data = yf.download(data, start=start_date, end=end_date)\n",
    "    # 전처리\n",
    "    ## 필요없는 컬럼 삭제  \n",
    "    fi_data.drop('Adj Close', axis=1, inplace=True)\n",
    "    ## 컬럼명 변경\n",
    "    fi_data.index.name = '날짜'\n",
    "    fi_data.columns = ['시가', '고가', '저가', '종가', '거래량']\n",
    "    ## 컬럼 순서 변경\n",
    "    fi_data = fi_data.iloc[:, [3, 0, 1, 2, 4]]\n",
    "    ## 달러 => 원화로 변경 (달러가 적힌 컬럼은 종가, 시가, 고가, 저가)\n",
    "    # 서브셋 정의\n",
    "    subset = fi_data[['종가', '시가', '고가', '저가']]\n",
    "    # apply와 exchanged 함수로 달러를 원화로 변경\n",
    "    subset = subset.apply(exchanged)\n",
    "    # subset을 df에 적용\n",
    "    fi_data[['종가', '시가', '고가', '저가']] = subset\n",
    "    \n",
    "    # 데이터프레임을 csv 파일로 저장\n",
    "    fi_data.to_csv(f'./csvs/{data}.csv', index=True)\n",
    "    print(f'{data}.csv 파일을 저장했습니다.')"
   ]
  },
  {
   "cell_type": "code",
   "execution_count": null,
   "id": "0298035b",
   "metadata": {},
   "outputs": [],
   "source": []
  }
 ],
 "metadata": {
  "kernelspec": {
   "display_name": "Python 3 (ipykernel)",
   "language": "python",
   "name": "python3"
  },
  "language_info": {
   "codemirror_mode": {
    "name": "ipython",
    "version": 3
   },
   "file_extension": ".py",
   "mimetype": "text/x-python",
   "name": "python",
   "nbconvert_exporter": "python",
   "pygments_lexer": "ipython3",
   "version": "3.9.13"
  }
 },
 "nbformat": 4,
 "nbformat_minor": 5
}
