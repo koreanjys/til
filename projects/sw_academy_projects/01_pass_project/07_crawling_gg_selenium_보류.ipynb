{
 "cells": [
  {
   "cell_type": "code",
   "execution_count": 1,
   "id": "f720544b",
   "metadata": {},
   "outputs": [],
   "source": [
    "from selenium import webdriver\n",
    "from selenium.webdriver.common.by import By\n",
    "from selenium.webdriver.common.keys import Keys\n",
    "import urllib\n",
    "import time\n",
    "import datetime"
   ]
  },
  {
   "cell_type": "code",
   "execution_count": 2,
   "id": "84d96f3f",
   "metadata": {},
   "outputs": [],
   "source": [
    "# 검색어 정의\n",
    "q = 'netflix'\n",
    "\n",
    "## 날짜를 정의하고 1일씩 증가 시켜야 된다.\n",
    "# 날짜 정의 start_date 2021-07-01\n",
    "sd = datetime.datetime(2021, 7, 1)\n",
    "\n",
    "# 날짜 정의 end_date 2022-12-31\n",
    "ed = datetime.datetime(2022, 12, 31)\n",
    "\n",
    "# 날짜를 +- 할 수 있는 n 정의\n",
    "n = datetime.timedelta(days=1)\n",
    "\n",
    "# url에 적용할 date 정의 mm/dd/yyyy\n",
    "d = sd.strftime('%m/%d/%Y')\n",
    "\n",
    "# 최종 url 정의\n",
    "url = f'https://www.google.com/search?q={q}&biw=1920&bih=969&sxsrf=AJOqlzV1aDsSU6k5yJOMXNyKBUOnG4sAjQ:1677733262990&source=lnt&tbs=cdr:1,cd_min:{d},cd_max:{d}&tbm=nws'"
   ]
  },
  {
   "cell_type": "code",
   "execution_count": 4,
   "id": "508f0f7d",
   "metadata": {},
   "outputs": [
    {
     "name": "stderr",
     "output_type": "stream",
     "text": [
      "C:\\Users\\TECH2_26\\AppData\\Local\\Temp\\ipykernel_10428\\499070072.py:1: DeprecationWarning: executable_path has been deprecated, please pass in a Service object\n",
      "  driver = webdriver.Chrome('chromedriver.exe')\n"
     ]
    },
    {
     "data": {
      "text/plain": [
       "'<html dir=\"LTR\"><head><meta http-equiv=\"content-type\" content=\"text/html; charset=utf-8\"><meta name=\"viewport\" content=\"initial-scale=1\"><title>https://www.google.com/search?q=netflix&amp;biw=1920&amp;bih=969&amp;sxsrf=AJOqlzV1aDsSU6k5yJOMXNyKBUOnG4sAjQ:1677733262990&amp;source=lnt&amp;tbs=cdr:1,cd_min:07/01/2021,cd_max:07/01/2021&amp;tbm=nws</title></head>\\n<body style=\"font-family: arial, sans-serif; background-color: #fff; color: #000; padding:20px; font-size:18px;\" onload=\"e=document.getElementById(\\'captcha\\');if(e){e.focus();} if(solveSimpleChallenge) {solveSimpleChallenge(,);}\">\\n<div style=\"max-width:400px;\">\\n<hr noshade=\"\" size=\"1\" style=\"color:#ccc; background-color:#ccc;\"><br>\\n<form id=\"captcha-form\" action=\"index\" method=\"post\">\\n<noscript>\\n<div style=\"font-size:13px;\">\\n계속하려면 웹브라우저에서 자바스크립트를 사용 설정해 주세요.\\n</div>\\n</noscript>\\n<script type=\"text/javascript\" async=\"\" src=\"https://www.gstatic.com/recaptcha/releases/8G7OPK94bhCRbT0VqyEVpQNj/recaptcha__ko.js\" crossorigin=\"anonymous\" integrity=\"sha384-T9gnAW9eO1Ph0gE+gwZ2FFWb77+VcGouiEWe95M63cLgnfgukN+yhLcXKmaWIaE6\"></script><script src=\"https://www.google.com/recaptcha/api.js\" async=\"\" defer=\"\"></script>\\n<script>var submitCallback = function(response) {document.getElementById(\\'captcha-form\\').submit();};</script>\\n<div id=\"recaptcha\" class=\"g-recaptcha\" data-sitekey=\"6LfwuyUTAAAAAOAmoS0fdqijC2PbbdH4kjq62Y1b\" data-callback=\"submitCallback\" data-s=\"L0ZU1RgMT0PrZDTxz1a9bRMT2zZqurU6FNrgGELAOJy-vWv7ANg3yk-mKct2fc6f7HsCj5edoIWTdugHTSp8HBK9AD5FrJarhGQM7df6E5DIrnVr23lGB14LRPwSfFRoqDfjRFFL1hqaTwwtcjT4wAvrr-C9hDBCT3Szs0ILfIh9T0_sVOjKBaU_WTbZIFh68ADpCpmvCiR1GF7TWzyksBORR8Jvp7ynmmjgVjEhbWTf_FX7idzHstizruE_TlBnsmznTEJC6RaCvVhNBQ_5gYUNerTn8E8\"><div style=\"width: 304px; height: 78px;\"><div><iframe title=\"reCAPTCHA\" src=\"https://www.google.com/recaptcha/api2/anchor?ar=1&amp;k=6LfwuyUTAAAAAOAmoS0fdqijC2PbbdH4kjq62Y1b&amp;co=aHR0cHM6Ly93d3cuZ29vZ2xlLmNvbTo0NDM.&amp;hl=ko&amp;v=8G7OPK94bhCRbT0VqyEVpQNj&amp;size=normal&amp;s=L0ZU1RgMT0PrZDTxz1a9bRMT2zZqurU6FNrgGELAOJy-vWv7ANg3yk-mKct2fc6f7HsCj5edoIWTdugHTSp8HBK9AD5FrJarhGQM7df6E5DIrnVr23lGB14LRPwSfFRoqDfjRFFL1hqaTwwtcjT4wAvrr-C9hDBCT3Szs0ILfIh9T0_sVOjKBaU_WTbZIFh68ADpCpmvCiR1GF7TWzyksBORR8Jvp7ynmmjgVjEhbWTf_FX7idzHstizruE_TlBnsmznTEJC6RaCvVhNBQ_5gYUNerTn8E8&amp;cb=7sderqjlqdnx\" width=\"304\" height=\"78\" role=\"presentation\" name=\"a-hglscus5dbr3\" frameborder=\"0\" scrolling=\"no\" sandbox=\"allow-forms allow-popups allow-same-origin allow-scripts allow-top-navigation allow-modals allow-popups-to-escape-sandbox\"></iframe></div><textarea id=\"g-recaptcha-response\" name=\"g-recaptcha-response\" class=\"g-recaptcha-response\" style=\"width: 250px; height: 40px; border: 1px solid rgb(193, 193, 193); margin: 10px 25px; padding: 0px; resize: none; display: none;\"></textarea></div><iframe style=\"display: none;\"></iframe></div>\\n\\n<input type=\"hidden\" name=\"q\" value=\"EgTTIbRJGL_fm6AGIjBirMS49dBurGjS90tvN_lUXK2HKNXiINBt6LYpb6k5QXF6Tvuuz-AaorxNxVW0H0AyAXI\"><input type=\"hidden\" name=\"continue\" value=\"https://www.google.com/search?q=netflix&amp;biw=1920&amp;bih=969&amp;sxsrf=AJOqlzV1aDsSU6k5yJOMXNyKBUOnG4sAjQ:1677733262990&amp;source=lnt&amp;tbs=cdr:1,cd_min:07/01/2021,cd_max:07/01/2021&amp;tbm=nws\">\\n</form>\\n<hr noshade=\"\" size=\"1\" style=\"color:#ccc; background-color:#ccc;\">\\n<div style=\"font-size:13px;\">\\n<b>페이지 정보</b><br><br>\\n\\nGoogle의 시스템이 컴퓨터 네트워크에서 비정상적인 트래픽을 감지했습니다. 이 페이지는 로봇이 아니라 실제 사용자가 요청을 보내고 있는지를 확인하는 페이지입니다. <a href=\"#\" onclick=\"document.getElementById(\\'infoDiv\\').style.display=\\'block\\';\">왜 이런 현상이 발생하는 거죠?</a><br><br>\\n\\n<div id=\"infoDiv\" style=\"display:none; background-color:#eee; padding:10px; margin:0 0 15px 0; line-height:1.4em;\">\\n해당 페이지는 Google이 자동으로 사용자의 컴퓨터 네트워크에서 <a href=\"//www.google.com/policies/terms/\">서비스 약관</a>을 위배하는 것으로 보이는 요청을 감지했을 때 표시됩니다. 요청이 중지되면 곧 차단이 해제됩니다. 그 전에 위의 보안문자를 입력하면 Google 서비스를 계속 사용할 수 있습니다. <br><br>비정상적인 트래픽은 자동으로 요청을 전송하는 악성 소프트웨어, 브라우저 플러그인 또는 스크립트에 의해 전송될 수 있습니다. 네트워크 연결을 공유하고 있다면 관리자에게 문의하여 동일한 IP주소를 사용하는 다른 컴퓨터에 문제가 있는지 확인하세요. <a href=\"//support.google.com/websearch/answer/86640\">자세히 알아보기</a><br><br>로봇이 사용한다고 알려진 고급 검색어를 사용하거나 요청을 매우 빠르게 전송하면  보안문자를 입력하도록 요청받을 수 있습니다.\\n\\n</div><br>\\nIP주소: 211.33.180.73<br>시간: 2023-03-07T08:03:12Z<br>URL: https://www.google.com/search?q=netflix&amp;biw=1920&amp;bih=969&amp;sxsrf=AJOqlzV1aDsSU6k5yJOMXNyKBUOnG4sAjQ:1677733262990&amp;source=lnt&amp;tbs=cdr:1,cd_min:07/01/2021,cd_max:07/01/2021&amp;tbm=nws<br>\\n</div></div>\\n\\n\\n<div style=\"background-color: rgb(255, 255, 255); border: 1px solid rgb(204, 204, 204); box-shadow: rgba(0, 0, 0, 0.2) 2px 2px 3px; position: absolute; transition: visibility 0s linear 0.3s, opacity 0.3s linear 0s; opacity: 0; visibility: hidden; z-index: 2000000000; left: 0px; top: -10000px;\"><div style=\"width: 100%; height: 100%; position: fixed; top: 0px; left: 0px; z-index: 2000000000; background-color: rgb(255, 255, 255); opacity: 0.05;\"></div><div class=\"g-recaptcha-bubble-arrow\" style=\"border: 11px solid transparent; width: 0px; height: 0px; position: absolute; pointer-events: none; margin-top: -11px; z-index: 2000000000;\"></div><div class=\"g-recaptcha-bubble-arrow\" style=\"border: 10px solid transparent; width: 0px; height: 0px; position: absolute; pointer-events: none; margin-top: -10px; z-index: 2000000000;\"></div><div style=\"z-index: 2000000000; position: relative;\"><iframe title=\"reCAPTCHA&nbsp;보안문자 2분 후 만료\" src=\"https://www.google.com/recaptcha/api2/bframe?hl=ko&amp;v=8G7OPK94bhCRbT0VqyEVpQNj&amp;k=6LfwuyUTAAAAAOAmoS0fdqijC2PbbdH4kjq62Y1b\" name=\"c-hglscus5dbr3\" frameborder=\"0\" scrolling=\"no\" sandbox=\"allow-forms allow-popups allow-same-origin allow-scripts allow-top-navigation allow-modals allow-popups-to-escape-sandbox\" style=\"width: 100%; height: 100%;\"></iframe></div></div></body></html>'"
      ]
     },
     "execution_count": 4,
     "metadata": {},
     "output_type": "execute_result"
    }
   ],
   "source": [
    "driver = webdriver.Chrome('chromedriver.exe')\n",
    "driver.get(url)\n",
    "driver.page_source"
   ]
  },
  {
   "cell_type": "code",
   "execution_count": null,
   "id": "e9c1eab5",
   "metadata": {},
   "outputs": [],
   "source": []
  }
 ],
 "metadata": {
  "kernelspec": {
   "display_name": "Python 3 (ipykernel)",
   "language": "python",
   "name": "python3"
  },
  "language_info": {
   "codemirror_mode": {
    "name": "ipython",
    "version": 3
   },
   "file_extension": ".py",
   "mimetype": "text/x-python",
   "name": "python",
   "nbconvert_exporter": "python",
   "pygments_lexer": "ipython3",
   "version": "3.9.13"
  }
 },
 "nbformat": 4,
 "nbformat_minor": 5
}
