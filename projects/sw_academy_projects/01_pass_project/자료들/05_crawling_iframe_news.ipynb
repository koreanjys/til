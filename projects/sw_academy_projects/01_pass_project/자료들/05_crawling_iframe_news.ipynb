{
 "cells": [
  {
   "cell_type": "code",
   "execution_count": 1,
   "id": "4699d8b0",
   "metadata": {},
   "outputs": [],
   "source": [
    "import requests\n",
    "from bs4 import BeautifulSoup"
   ]
  },
  {
   "cell_type": "code",
   "execution_count": 20,
   "id": "0a854a37",
   "metadata": {},
   "outputs": [
    {
     "name": "stdout",
     "output_type": "stream",
     "text": [
      "한종희 삼성전자 부회장, 獨 부총리 접견…부산엑스포 지지 요청  2023.02.28\n",
      "삼성전자, 독일 부총리 만나 \"부산엑스포 지지해달라\"  2023.02.28\n",
      "삼성전자, 독일 부총리 접견…‘2030 부산엑스포’ 지지 요청  2023.02.28\n",
      "삼성전자, 獨 부총리 접견…'2030 부산엑스포' 유치 지원 요청  2023.02.28\n",
      "[특징주]미래컴퍼니, 삼성 840조 헬스케어 로봇 M&A 정조준...삼...  2023.02.28\n",
      "LG가 장악한 올레드 TV시장...삼성 참전으로 지각변동  2023.02.28\n",
      "갤럭시Z 베낀 中 폴더블 공세에 삼성 경영진도 '긴장' [MWC 202...  2023.02.28\n",
      "2년 넘는 유예기간 동안 삼성?SK 뭐했나…우선주 무더기 상폐 위기  2023.02.28\n",
      "[MWC 2023] 삼성 방문한 SKT 유영상 \"갤S23, 현존 최고의...  2023.02.27\n",
      "임금보다 더 뛴 복리후생…삼성전자, 10년간 ‘비과세’ 혜택 늘려  2023.02.27\n",
      "'이것' 줄인 세탁기·건조기가 뜬다…삼성·LG 주목 [정지은의 산업노트...  2023.02.27\n",
      "삼성,친환경·AI 강화한 '비스포크'세탁기·건조기 출시  2023.02.27\n",
      "삼성, 파타고니아와 협업 ‘친환경 세탁기’  2023.02.27\n",
      "삼성전자 '비스포크 그랑데' 인공지능·친환경 업그레이드  2023.02.27\n",
      "삼성벤처투자, 200억 ‘SVIC63호’ 조합 결성  2023.02.27\n"
     ]
    }
   ],
   "source": [
    "# iframe 태그는 웹 페이지에는 보이지만 html을 가져오면 나타나지 않는다.\n",
    "# 그래서 iframe 태그 안에 있는 주소로 들어가 줘야하는데 그 주소가 들어가 있는게 'src=' 안에 있고, 소스 줄임말\n",
    "\n",
    "# \n",
    "\n",
    "# 크롤링 할 url\n",
    "url = 'https://finance.naver.com/item/news.naver?code=005930'\n",
    "\n",
    "# url 을 불러온다.\n",
    "res = requests.get(url)\n",
    "\n",
    "# url의 내용을 불러온다.\n",
    "html = res.content\n",
    "\n",
    "# html을 bs4로 파싱\n",
    "bs_html = BeautifulSoup(html, 'lxml')\n",
    "\n",
    "# 보이지 않는 iframe태그의 src 주소를 가져온다.\n",
    "## page가 여러개니 page도 정의 해준다.\n",
    "page = 1\n",
    "\n",
    "## select로 가져오면 리스트가 되어 get('src')를 바로 하지 못하고 전처리를 해야 하기 때문에 select_one을 사용\n",
    "## id를 찾을땐 ''#id'로 표시한다. => select('#id')  ## class를 찾을땐 '.class'로 표시 => select('.class')\n",
    "## tag명은 앞에 붙는다 select('tag#id') // select('tag.class')\n",
    "src = bs_html.select_one('iframe#news_frame').get('src')\n",
    "src = src.replace('page=', f'page={page}')\n",
    "\n",
    "# 기존 url에 src 주소를 붙인다.src 주소가 /item/ 부터 시작하니까 url에서 https://finance.naver.com 까지만.\n",
    "news_url = url.split('/item')[0] + src\n",
    "\n",
    "# news_url 을 불러온다.\n",
    "news_res = requests.get(news_url)\n",
    "\n",
    "# news_url의 내용을 불러온다.\n",
    "news_html = news_res.content\n",
    "\n",
    "# bs4로 파싱\n",
    "bs_news = BeautifulSoup(news_html, 'lxml')\n",
    "\n",
    "# for문으로 select 리스트의 요소 하나 씩 추출\n",
    "titles = bs_news.select('td.title a.tit')\n",
    "dates = bs_news.select('td.date')\n",
    "\n",
    "for title, date in zip(titles, dates):\n",
    "    print(title.text, date.text[:11])"
   ]
  },
  {
   "cell_type": "code",
   "execution_count": 3,
   "id": "a00e24da",
   "metadata": {},
   "outputs": [
    {
     "data": {
      "text/plain": [
       "'https://finance.naver.com/item/news_news.naver?code=005930&page=1&sm=title_entity_id.basic&clusterId='"
      ]
     },
     "execution_count": 3,
     "metadata": {},
     "output_type": "execute_result"
    }
   ],
   "source": [
    "news_url"
   ]
  }
 ],
 "metadata": {
  "kernelspec": {
   "display_name": "Python 3 (ipykernel)",
   "language": "python",
   "name": "python3"
  },
  "language_info": {
   "codemirror_mode": {
    "name": "ipython",
    "version": 3
   },
   "file_extension": ".py",
   "mimetype": "text/x-python",
   "name": "python",
   "nbconvert_exporter": "python",
   "pygments_lexer": "ipython3",
   "version": "3.9.13"
  }
 },
 "nbformat": 4,
 "nbformat_minor": 5
}
