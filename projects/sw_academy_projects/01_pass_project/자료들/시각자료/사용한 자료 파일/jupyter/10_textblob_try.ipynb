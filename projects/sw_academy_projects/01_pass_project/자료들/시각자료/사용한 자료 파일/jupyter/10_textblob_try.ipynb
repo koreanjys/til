{
 "cells": [
  {
   "cell_type": "code",
   "execution_count": 1,
   "id": "437b43ff",
   "metadata": {},
   "outputs": [],
   "source": [
    "import pandas as pd\n",
    "import datetime\n",
    "from textblob import TextBlob"
   ]
  },
  {
   "cell_type": "code",
   "execution_count": 5,
   "id": "9d0544fd",
   "metadata": {},
   "outputs": [
    {
     "data": {
      "text/html": [
       "<div>\n",
       "<style scoped>\n",
       "    .dataframe tbody tr th:only-of-type {\n",
       "        vertical-align: middle;\n",
       "    }\n",
       "\n",
       "    .dataframe tbody tr th {\n",
       "        vertical-align: top;\n",
       "    }\n",
       "\n",
       "    .dataframe thead th {\n",
       "        text-align: right;\n",
       "    }\n",
       "</style>\n",
       "<table border=\"1\" class=\"dataframe\">\n",
       "  <thead>\n",
       "    <tr style=\"text-align: right;\">\n",
       "      <th></th>\n",
       "      <th>날짜</th>\n",
       "      <th>뉴스</th>\n",
       "    </tr>\n",
       "  </thead>\n",
       "  <tbody>\n",
       "    <tr>\n",
       "      <th>0</th>\n",
       "      <td>2021-07-01</td>\n",
       "      <td>‘Fear Street’: How Netflix’s R-Rated Horror Tr...</td>\n",
       "    </tr>\n",
       "    <tr>\n",
       "      <th>1</th>\n",
       "      <td>2021-07-01</td>\n",
       "      <td>My Perspective as a Sex Therapist on Netflix's...</td>\n",
       "    </tr>\n",
       "    <tr>\n",
       "      <th>2</th>\n",
       "      <td>2021-07-01</td>\n",
       "      <td>What's New on Netflix UK &amp; Top 10s: July 1st, ...</td>\n",
       "    </tr>\n",
       "    <tr>\n",
       "      <th>3</th>\n",
       "      <td>2021-07-01</td>\n",
       "      <td>‘Beckett’ Trailer: John David Washington Runs ...</td>\n",
       "    </tr>\n",
       "    <tr>\n",
       "      <th>4</th>\n",
       "      <td>2021-07-01</td>\n",
       "      <td>Netflix's 'Audible': Nyle DiMarco, Matt Ogens ...</td>\n",
       "    </tr>\n",
       "    <tr>\n",
       "      <th>...</th>\n",
       "      <td>...</td>\n",
       "      <td>...</td>\n",
       "    </tr>\n",
       "    <tr>\n",
       "      <th>5247</th>\n",
       "      <td>2022-12-30</td>\n",
       "      <td>Netflix vs. Hulu: Which offers better value?</td>\n",
       "    </tr>\n",
       "    <tr>\n",
       "      <th>5248</th>\n",
       "      <td>2022-12-30</td>\n",
       "      <td>These were the most-watched Netflix movies and...</td>\n",
       "    </tr>\n",
       "    <tr>\n",
       "      <th>5249</th>\n",
       "      <td>2022-12-30</td>\n",
       "      <td>How to watch 'Kaleidoscope': Premiered January...</td>\n",
       "    </tr>\n",
       "    <tr>\n",
       "      <th>5250</th>\n",
       "      <td>2022-12-30</td>\n",
       "      <td>Why you need to be watching 'Manifest' on Netf...</td>\n",
       "    </tr>\n",
       "    <tr>\n",
       "      <th>5251</th>\n",
       "      <td>2022-12-30</td>\n",
       "      <td>Some Netflix classics to tide your holiday ove...</td>\n",
       "    </tr>\n",
       "  </tbody>\n",
       "</table>\n",
       "<p>5252 rows × 2 columns</p>\n",
       "</div>"
      ],
      "text/plain": [
       "              날짜                                                 뉴스\n",
       "0     2021-07-01  ‘Fear Street’: How Netflix’s R-Rated Horror Tr...\n",
       "1     2021-07-01  My Perspective as a Sex Therapist on Netflix's...\n",
       "2     2021-07-01  What's New on Netflix UK & Top 10s: July 1st, ...\n",
       "3     2021-07-01  ‘Beckett’ Trailer: John David Washington Runs ...\n",
       "4     2021-07-01  Netflix's 'Audible': Nyle DiMarco, Matt Ogens ...\n",
       "...          ...                                                ...\n",
       "5247  2022-12-30       Netflix vs. Hulu: Which offers better value?\n",
       "5248  2022-12-30  These were the most-watched Netflix movies and...\n",
       "5249  2022-12-30  How to watch 'Kaleidoscope': Premiered January...\n",
       "5250  2022-12-30  Why you need to be watching 'Manifest' on Netf...\n",
       "5251  2022-12-30  Some Netflix classics to tide your holiday ove...\n",
       "\n",
       "[5252 rows x 2 columns]"
      ]
     },
     "execution_count": 5,
     "metadata": {},
     "output_type": "execute_result"
    }
   ],
   "source": [
    "news_df = pd.read_csv('./csvs/en_news.csv')\n",
    "news_df"
   ]
  },
  {
   "cell_type": "code",
   "execution_count": 36,
   "id": "aa7a9af4",
   "metadata": {},
   "outputs": [],
   "source": [
    "# 날짜 정의 start_date\n",
    "sd = datetime.datetime(2021, 7, 1)\n",
    "\n",
    "# 날짜 정의 end_date\n",
    "ed = datetime.datetime(2022, 12, 31)\n",
    "\n",
    "# 날짜를 +1일씩 할 수 있는 nd 정의\n",
    "nd = datetime.timedelta(days=1)"
   ]
  },
  {
   "cell_type": "code",
   "execution_count": 43,
   "id": "5943e89a",
   "metadata": {},
   "outputs": [],
   "source": [
    "# news_df에 분석 한 점수 column을 추가\n",
    "\n",
    "# 분석 점수를 담을 빈 리스트 생성\n",
    "scores = []\n",
    "\n",
    "# 뉴스 기사 컬럼만 추출\n",
    "articles = news_df['뉴스']\n",
    "\n",
    "# 분석 점수를 리스트에 담음\n",
    "for article in articles:\n",
    "    blob = TextBlob(article)\n",
    "    scores.append(blob.sentiment.polarity)"
   ]
  },
  {
   "cell_type": "code",
   "execution_count": 45,
   "id": "06e961d9",
   "metadata": {},
   "outputs": [],
   "source": [
    "# 점수 컬럼을 만들어서 점수를 넣기\n",
    "news_df['점수'] = scores"
   ]
  },
  {
   "cell_type": "code",
   "execution_count": 57,
   "id": "9279faca",
   "metadata": {},
   "outputs": [],
   "source": [
    "## 날짜 별로 -점수 컬럼, +점수 컬럼끼리 합산하여 새로운 DF을 만들기\n",
    "\n",
    "# 날짜, +점수, -점수를 담을 빈 리스트 생성\n",
    "date_score = []\n",
    "\n",
    "# 종료날짜가 되면 while문 탈출\n",
    "while sd != ed:\n",
    "    \n",
    "    # 날짜 형식 설정\n",
    "    dd = sd.strftime('%Y-%m-%d')\n",
    "    \n",
    "    # + 점수 합을 구할 변수 생성\n",
    "    plus = 0\n",
    "\n",
    "    # - 점수 합을 구할 변수 생성\n",
    "    minus = 0\n",
    "    \n",
    "    # 날짜 형식 설정\n",
    "    dd = sd.strftime('%Y-%m-%d')\n",
    "    \n",
    "    # 날짜 별 점수 불러오기\n",
    "    for n in news_df[news_df['날짜'] == dd]['점수']:\n",
    "        if n > 0:\n",
    "            plus += n\n",
    "        elif n < 0:\n",
    "            minus += n\n",
    "    \n",
    "    # D날짜의 날짜, +점수, -점수를 date_score 리스트에 넣기\n",
    "    date_score.append([dd, plus, minus])\n",
    "    \n",
    "    # 날짜 +1 일\n",
    "    sd += nd\n",
    "    \n",
    "    "
   ]
  },
  {
   "cell_type": "code",
   "execution_count": 59,
   "id": "f2be82ab",
   "metadata": {},
   "outputs": [],
   "source": [
    "date_score_df = pd.DataFrame(date_score, columns=['날짜', '긍정', '부정'])"
   ]
  },
  {
   "cell_type": "code",
   "execution_count": 62,
   "id": "ad67a2fb",
   "metadata": {},
   "outputs": [],
   "source": [
    "date_score_df.to_csv('./csvs/date_score.csv', index=False)"
   ]
  },
  {
   "cell_type": "code",
   "execution_count": null,
   "id": "8e5e8a13",
   "metadata": {},
   "outputs": [],
   "source": [
    "date_score_df = pd."
   ]
  }
 ],
 "metadata": {
  "kernelspec": {
   "display_name": "Python 3 (ipykernel)",
   "language": "python",
   "name": "python3"
  },
  "language_info": {
   "codemirror_mode": {
    "name": "ipython",
    "version": 3
   },
   "file_extension": ".py",
   "mimetype": "text/x-python",
   "name": "python",
   "nbconvert_exporter": "python",
   "pygments_lexer": "ipython3",
   "version": "3.9.13"
  }
 },
 "nbformat": 4,
 "nbformat_minor": 5
}
