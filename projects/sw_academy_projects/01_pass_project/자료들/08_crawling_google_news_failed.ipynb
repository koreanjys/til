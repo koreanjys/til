{
 "cells": [
  {
   "cell_type": "code",
   "execution_count": 3,
   "id": "da247896",
   "metadata": {},
   "outputs": [],
   "source": [
    "from selenium import webdriver\n",
    "from selenium.webdriver.chrome.service import Service\n",
    "from selenium.webdriver.chrome.options import Options\n",
    "from urllib import parse\n",
    "import datetime\n",
    "import pandas as pd\n",
    "from bs4 import BeautifulSoup"
   ]
  },
  {
   "cell_type": "code",
   "execution_count": 4,
   "id": "5c63bc79",
   "metadata": {},
   "outputs": [],
   "source": [
    "# 검색어 정의\n",
    "q = 'netflix'\n",
    "\n",
    "# 날짜 정의 start_date\n",
    "sd = datetime.datetime(2021, 7, 1)\n",
    "\n",
    "# 날짜 정의 end_date\n",
    "ed = datetime.datetime(2021, 7, 20)\n",
    "\n",
    "# 날짜를 +- 할 수 있는 n\n",
    "n = datetime.timedelta(days=1)\n",
    "\n",
    "# 날짜 출력 형태 조정  2021/07/01\n",
    "d = sd.strftime('%m/%d/%Y')\n",
    "\n",
    "# csv 파일로 만들 df를 위한 빈 리스트 정의\n",
    "articles = []\n",
    "\n"
   ]
  },
  {
   "cell_type": "code",
   "execution_count": 11,
   "id": "f581d50f",
   "metadata": {},
   "outputs": [
    {
     "name": "stderr",
     "output_type": "stream",
     "text": [
      "C:\\Users\\TECH2_26\\AppData\\Local\\Temp\\ipykernel_8176\\582374027.py:3: DeprecationWarning: headless property is deprecated, instead use add_argument('--headless') or add_argument('--headless=new')\n",
      "  options.headless = True  # 웹 브라우저를 화면에 보이지 않도록 설정\n"
     ]
    },
    {
     "name": "stdout",
     "output_type": "stream",
     "text": [
      "크롤링 완료\n"
     ]
    }
   ],
   "source": [
    "# Chrome 브라우저 열기\n",
    "options = Options()\n",
    "options.headless = True  # 웹 브라우저를 화면에 보이지 않도록 설정\n",
    "service = Service(executable_path=\"./chromedriver.exe\")  # Chrome 드라이버 경로 설정\n",
    "driver = webdriver.Chrome(service=service, options=options)\n",
    "\n",
    "\n",
    "while sd != ed:\n",
    "    # 날짜 출력 형태 조정 mm/dd/yyyy\n",
    "    d = sd.strftime('%m/%d/%Y')\n",
    "    \n",
    "    \n",
    "    for p in range(5):\n",
    "        url = f'https://www.google.com/search?q={q}&tbs=cdr:1,cd_min:{d},cd_max:{d}&tbm=nws&sxsrf=AJOqlzVH2gXG31t9wcDPBikY44hUa2_rQQ:1677825101225&ei=TZQBZNqvDdSphwO254WQCQ&start={p * 10}&sa=N&ved=2ahUKEwiaip3Jkb_9AhXU1GEKHbZzAZIQ8tMDegQIAxAE'\n",
    "        driver.get(url)\n",
    "\n",
    "        # 웹 페이지가 로드될 때까지 대기\n",
    "        driver.implicitly_wait(1)\n",
    "\n",
    "        # 웹 페이지의 HTML 코드 가져오기\n",
    "        html = driver.page_source\n",
    "\n",
    "        # BeautifulSoup으로 HTML 코드 분석하기\n",
    "        soup = BeautifulSoup(html, 'html.parser')\n",
    "\n",
    "        # 뉴스 제목 출력하기\n",
    "        headlines = soup.find_all('div', class_='mCBkyc ynAwRc MBeuO nDgy9d')\n",
    "        for headline in headlines:\n",
    "            # 날짜 형태 조정\n",
    "            d = sd.strftime('%Y-%m-%d')\n",
    "\n",
    "            articles.append([d, headline.text])\n",
    "\n",
    "    # 날짜 +1    \n",
    "    sd += n\n",
    "    \n",
    "    print(f'{d} 뉴스기사 완료')\n",
    "print('크롤링 완료')\n",
    "\n",
    "# Chrome 브라우저 종료\n",
    "driver.quit()\n"
   ]
  },
  {
   "cell_type": "code",
   "execution_count": 12,
   "id": "62301f1b",
   "metadata": {},
   "outputs": [],
   "source": [
    "# 실패 원인은 동적으로 크롤링 하려고 하다보니 잘 안되었고, class명도 일정치 않은지 제대로 크롤링이 되지 않았다"
   ]
  }
 ],
 "metadata": {
  "kernelspec": {
   "display_name": "Python 3 (ipykernel)",
   "language": "python",
   "name": "python3"
  },
  "language_info": {
   "codemirror_mode": {
    "name": "ipython",
    "version": 3
   },
   "file_extension": ".py",
   "mimetype": "text/x-python",
   "name": "python",
   "nbconvert_exporter": "python",
   "pygments_lexer": "ipython3",
   "version": "3.9.13"
  }
 },
 "nbformat": 4,
 "nbformat_minor": 5
}
