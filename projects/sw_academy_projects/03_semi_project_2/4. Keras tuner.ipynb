{
 "cells": [
  {
   "cell_type": "markdown",
   "metadata": {
    "id": "snoAg1brXkMa"
   },
   "source": [
    "### 데이터셋 준비"
   ]
  },
  {
   "cell_type": "code",
   "execution_count": 76,
   "metadata": {
    "executionInfo": {
     "elapsed": 784,
     "status": "ok",
     "timestamp": 1680759195884,
     "user": {
      "displayName": "진광환",
      "userId": "11025574316716544930"
     },
     "user_tz": -540
    },
    "id": "urPPBd1-Mtod"
   },
   "outputs": [],
   "source": [
    "# 필요한 모델 임포트\n",
    "import tensorflow as tf\n",
    "tf.compat.v1.logging.set_verbosity(tf.compat.v1.logging.ERROR)\n",
    "\n",
    "from tensorflow import keras \n",
    "from tensorflow.keras import models, layers, activations, initializers, losses, optimizers, metrics, utils\n",
    "\n",
    "import keras_tuner as kt\n",
    "import numpy as np\n",
    "import IPython"
   ]
  },
  {
   "cell_type": "code",
   "execution_count": 5,
   "metadata": {
    "executionInfo": {
     "elapsed": 290,
     "status": "ok",
     "timestamp": 1680741826460,
     "user": {
      "displayName": "진광환",
      "userId": "11025574316716544930"
     },
     "user_tz": -540
    },
    "id": "2185d943"
   },
   "outputs": [],
   "source": [
    "import pandas as pd\n",
    "import numpy as np"
   ]
  },
  {
   "cell_type": "code",
   "execution_count": 6,
   "metadata": {
    "colab": {
     "base_uri": "https://localhost:8080/",
     "height": 77
    },
    "executionInfo": {
     "elapsed": 64676,
     "status": "ok",
     "timestamp": 1680741891709,
     "user": {
      "displayName": "진광환",
      "userId": "11025574316716544930"
     },
     "user_tz": -540
    },
    "id": "MUWPZYDB1hwr",
    "outputId": "81f92b9c-443e-4ee7-df23-2f21bdca8b18"
   },
   "outputs": [
    {
     "data": {
      "text/html": [
       "\n",
       "     <input type=\"file\" id=\"files-7adef897-6e45-4618-895f-6c55fd5a0953\" name=\"files[]\" multiple disabled\n",
       "        style=\"border:none\" />\n",
       "     <output id=\"result-7adef897-6e45-4618-895f-6c55fd5a0953\">\n",
       "      Upload widget is only available when the cell has been executed in the\n",
       "      current browser session. Please rerun this cell to enable.\n",
       "      </output>\n",
       "      <script>// Copyright 2017 Google LLC\n",
       "//\n",
       "// Licensed under the Apache License, Version 2.0 (the \"License\");\n",
       "// you may not use this file except in compliance with the License.\n",
       "// You may obtain a copy of the License at\n",
       "//\n",
       "//      http://www.apache.org/licenses/LICENSE-2.0\n",
       "//\n",
       "// Unless required by applicable law or agreed to in writing, software\n",
       "// distributed under the License is distributed on an \"AS IS\" BASIS,\n",
       "// WITHOUT WARRANTIES OR CONDITIONS OF ANY KIND, either express or implied.\n",
       "// See the License for the specific language governing permissions and\n",
       "// limitations under the License.\n",
       "\n",
       "/**\n",
       " * @fileoverview Helpers for google.colab Python module.\n",
       " */\n",
       "(function(scope) {\n",
       "function span(text, styleAttributes = {}) {\n",
       "  const element = document.createElement('span');\n",
       "  element.textContent = text;\n",
       "  for (const key of Object.keys(styleAttributes)) {\n",
       "    element.style[key] = styleAttributes[key];\n",
       "  }\n",
       "  return element;\n",
       "}\n",
       "\n",
       "// Max number of bytes which will be uploaded at a time.\n",
       "const MAX_PAYLOAD_SIZE = 100 * 1024;\n",
       "\n",
       "function _uploadFiles(inputId, outputId) {\n",
       "  const steps = uploadFilesStep(inputId, outputId);\n",
       "  const outputElement = document.getElementById(outputId);\n",
       "  // Cache steps on the outputElement to make it available for the next call\n",
       "  // to uploadFilesContinue from Python.\n",
       "  outputElement.steps = steps;\n",
       "\n",
       "  return _uploadFilesContinue(outputId);\n",
       "}\n",
       "\n",
       "// This is roughly an async generator (not supported in the browser yet),\n",
       "// where there are multiple asynchronous steps and the Python side is going\n",
       "// to poll for completion of each step.\n",
       "// This uses a Promise to block the python side on completion of each step,\n",
       "// then passes the result of the previous step as the input to the next step.\n",
       "function _uploadFilesContinue(outputId) {\n",
       "  const outputElement = document.getElementById(outputId);\n",
       "  const steps = outputElement.steps;\n",
       "\n",
       "  const next = steps.next(outputElement.lastPromiseValue);\n",
       "  return Promise.resolve(next.value.promise).then((value) => {\n",
       "    // Cache the last promise value to make it available to the next\n",
       "    // step of the generator.\n",
       "    outputElement.lastPromiseValue = value;\n",
       "    return next.value.response;\n",
       "  });\n",
       "}\n",
       "\n",
       "/**\n",
       " * Generator function which is called between each async step of the upload\n",
       " * process.\n",
       " * @param {string} inputId Element ID of the input file picker element.\n",
       " * @param {string} outputId Element ID of the output display.\n",
       " * @return {!Iterable<!Object>} Iterable of next steps.\n",
       " */\n",
       "function* uploadFilesStep(inputId, outputId) {\n",
       "  const inputElement = document.getElementById(inputId);\n",
       "  inputElement.disabled = false;\n",
       "\n",
       "  const outputElement = document.getElementById(outputId);\n",
       "  outputElement.innerHTML = '';\n",
       "\n",
       "  const pickedPromise = new Promise((resolve) => {\n",
       "    inputElement.addEventListener('change', (e) => {\n",
       "      resolve(e.target.files);\n",
       "    });\n",
       "  });\n",
       "\n",
       "  const cancel = document.createElement('button');\n",
       "  inputElement.parentElement.appendChild(cancel);\n",
       "  cancel.textContent = 'Cancel upload';\n",
       "  const cancelPromise = new Promise((resolve) => {\n",
       "    cancel.onclick = () => {\n",
       "      resolve(null);\n",
       "    };\n",
       "  });\n",
       "\n",
       "  // Wait for the user to pick the files.\n",
       "  const files = yield {\n",
       "    promise: Promise.race([pickedPromise, cancelPromise]),\n",
       "    response: {\n",
       "      action: 'starting',\n",
       "    }\n",
       "  };\n",
       "\n",
       "  cancel.remove();\n",
       "\n",
       "  // Disable the input element since further picks are not allowed.\n",
       "  inputElement.disabled = true;\n",
       "\n",
       "  if (!files) {\n",
       "    return {\n",
       "      response: {\n",
       "        action: 'complete',\n",
       "      }\n",
       "    };\n",
       "  }\n",
       "\n",
       "  for (const file of files) {\n",
       "    const li = document.createElement('li');\n",
       "    li.append(span(file.name, {fontWeight: 'bold'}));\n",
       "    li.append(span(\n",
       "        `(${file.type || 'n/a'}) - ${file.size} bytes, ` +\n",
       "        `last modified: ${\n",
       "            file.lastModifiedDate ? file.lastModifiedDate.toLocaleDateString() :\n",
       "                                    'n/a'} - `));\n",
       "    const percent = span('0% done');\n",
       "    li.appendChild(percent);\n",
       "\n",
       "    outputElement.appendChild(li);\n",
       "\n",
       "    const fileDataPromise = new Promise((resolve) => {\n",
       "      const reader = new FileReader();\n",
       "      reader.onload = (e) => {\n",
       "        resolve(e.target.result);\n",
       "      };\n",
       "      reader.readAsArrayBuffer(file);\n",
       "    });\n",
       "    // Wait for the data to be ready.\n",
       "    let fileData = yield {\n",
       "      promise: fileDataPromise,\n",
       "      response: {\n",
       "        action: 'continue',\n",
       "      }\n",
       "    };\n",
       "\n",
       "    // Use a chunked sending to avoid message size limits. See b/62115660.\n",
       "    let position = 0;\n",
       "    do {\n",
       "      const length = Math.min(fileData.byteLength - position, MAX_PAYLOAD_SIZE);\n",
       "      const chunk = new Uint8Array(fileData, position, length);\n",
       "      position += length;\n",
       "\n",
       "      const base64 = btoa(String.fromCharCode.apply(null, chunk));\n",
       "      yield {\n",
       "        response: {\n",
       "          action: 'append',\n",
       "          file: file.name,\n",
       "          data: base64,\n",
       "        },\n",
       "      };\n",
       "\n",
       "      let percentDone = fileData.byteLength === 0 ?\n",
       "          100 :\n",
       "          Math.round((position / fileData.byteLength) * 100);\n",
       "      percent.textContent = `${percentDone}% done`;\n",
       "\n",
       "    } while (position < fileData.byteLength);\n",
       "  }\n",
       "\n",
       "  // All done.\n",
       "  yield {\n",
       "    response: {\n",
       "      action: 'complete',\n",
       "    }\n",
       "  };\n",
       "}\n",
       "\n",
       "scope.google = scope.google || {};\n",
       "scope.google.colab = scope.google.colab || {};\n",
       "scope.google.colab._files = {\n",
       "  _uploadFiles,\n",
       "  _uploadFilesContinue,\n",
       "};\n",
       "})(self);\n",
       "</script> "
      ],
      "text/plain": [
       "<IPython.core.display.HTML object>"
      ]
     },
     "metadata": {},
     "output_type": "display_data"
    },
    {
     "name": "stdout",
     "output_type": "stream",
     "text": [
      "Saving diabetes_data.csv to diabetes_data.csv\n"
     ]
    }
   ],
   "source": [
    "from google.colab import files\n",
    "uploaded = files.upload()"
   ]
  },
  {
   "cell_type": "code",
   "execution_count": 7,
   "metadata": {
    "executionInfo": {
     "elapsed": 463,
     "status": "ok",
     "timestamp": 1680741893360,
     "user": {
      "displayName": "진광환",
      "userId": "11025574316716544930"
     },
     "user_tz": -540
    },
    "id": "2439300c"
   },
   "outputs": [],
   "source": [
    "# 당뇨병 데이터 불러오기\n",
    "df = pd.read_csv('diabetes_data.csv')"
   ]
  },
  {
   "cell_type": "code",
   "execution_count": 8,
   "metadata": {
    "executionInfo": {
     "elapsed": 30,
     "status": "ok",
     "timestamp": 1680741893368,
     "user": {
      "displayName": "진광환",
      "userId": "11025574316716544930"
     },
     "user_tz": -540
    },
    "id": "3b584f86"
   },
   "outputs": [],
   "source": [
    "# feature와 target 분리\n",
    "target = df[['Diabetes']]\n",
    "data = df.drop(columns=['Diabetes'])"
   ]
  },
  {
   "cell_type": "code",
   "execution_count": 72,
   "metadata": {
    "executionInfo": {
     "elapsed": 283,
     "status": "ok",
     "timestamp": 1680759095670,
     "user": {
      "displayName": "진광환",
      "userId": "11025574316716544930"
     },
     "user_tz": -540
    },
    "id": "026560aa"
   },
   "outputs": [],
   "source": [
    "# train_test 분리\n",
    "from sklearn.model_selection import train_test_split\n",
    "x_train, x_test, y_train, y_test = train_test_split(data, target, test_size=0.2, random_state=33)"
   ]
  },
  {
   "cell_type": "markdown",
   "metadata": {
    "id": "cRMV04ZIXbK6"
   },
   "source": [
    "### 데이터 전처리"
   ]
  },
  {
   "cell_type": "code",
   "execution_count": 10,
   "metadata": {
    "executionInfo": {
     "elapsed": 31,
     "status": "ok",
     "timestamp": 1680741893373,
     "user": {
      "displayName": "진광환",
      "userId": "11025574316716544930"
     },
     "user_tz": -540
    },
    "id": "81677be8"
   },
   "outputs": [],
   "source": [
    "# Pipeline 을 위한 전처리 모듈 불러오기\n",
    "from sklearn.preprocessing import StandardScaler, OneHotEncoder\n",
    "from sklearn.compose import ColumnTransformer\n",
    "from sklearn.pipeline import Pipeline"
   ]
  },
  {
   "cell_type": "code",
   "execution_count": 11,
   "metadata": {
    "colab": {
     "base_uri": "https://localhost:8080/",
     "height": 207
    },
    "executionInfo": {
     "elapsed": 30,
     "status": "ok",
     "timestamp": 1680741893374,
     "user": {
      "displayName": "진광환",
      "userId": "11025574316716544930"
     },
     "user_tz": -540
    },
    "id": "8adb730d",
    "outputId": "acaf6ca1-b311-47fc-8c4c-06f2a787a0c0"
   },
   "outputs": [
    {
     "data": {
      "text/html": [
       "\n",
       "  <div id=\"df-ec04f8c6-3824-4433-aa11-e2c89f2bdc55\">\n",
       "    <div class=\"colab-df-container\">\n",
       "      <div>\n",
       "<style scoped>\n",
       "    .dataframe tbody tr th:only-of-type {\n",
       "        vertical-align: middle;\n",
       "    }\n",
       "\n",
       "    .dataframe tbody tr th {\n",
       "        vertical-align: top;\n",
       "    }\n",
       "\n",
       "    .dataframe thead th {\n",
       "        text-align: right;\n",
       "    }\n",
       "</style>\n",
       "<table border=\"1\" class=\"dataframe\">\n",
       "  <thead>\n",
       "    <tr style=\"text-align: right;\">\n",
       "      <th></th>\n",
       "      <th>Age</th>\n",
       "      <th>Sex</th>\n",
       "      <th>HighChol</th>\n",
       "      <th>CholCheck</th>\n",
       "      <th>BMI</th>\n",
       "      <th>Smoker</th>\n",
       "      <th>HeartDiseaseorAttack</th>\n",
       "      <th>PhysActivity</th>\n",
       "      <th>Fruits</th>\n",
       "      <th>Veggies</th>\n",
       "      <th>HvyAlcoholConsump</th>\n",
       "      <th>GenHlth</th>\n",
       "      <th>MentHlth</th>\n",
       "      <th>PhysHlth</th>\n",
       "      <th>DiffWalk</th>\n",
       "      <th>Stroke</th>\n",
       "      <th>HighBP</th>\n",
       "    </tr>\n",
       "  </thead>\n",
       "  <tbody>\n",
       "    <tr>\n",
       "      <th>50498</th>\n",
       "      <td>13.0</td>\n",
       "      <td>0.0</td>\n",
       "      <td>1.0</td>\n",
       "      <td>1.0</td>\n",
       "      <td>32.0</td>\n",
       "      <td>1.0</td>\n",
       "      <td>1.0</td>\n",
       "      <td>1.0</td>\n",
       "      <td>1.0</td>\n",
       "      <td>1.0</td>\n",
       "      <td>0.0</td>\n",
       "      <td>3.0</td>\n",
       "      <td>0.0</td>\n",
       "      <td>0.0</td>\n",
       "      <td>0.0</td>\n",
       "      <td>0.0</td>\n",
       "      <td>1.0</td>\n",
       "    </tr>\n",
       "    <tr>\n",
       "      <th>44300</th>\n",
       "      <td>10.0</td>\n",
       "      <td>0.0</td>\n",
       "      <td>1.0</td>\n",
       "      <td>1.0</td>\n",
       "      <td>22.0</td>\n",
       "      <td>0.0</td>\n",
       "      <td>0.0</td>\n",
       "      <td>1.0</td>\n",
       "      <td>0.0</td>\n",
       "      <td>0.0</td>\n",
       "      <td>0.0</td>\n",
       "      <td>4.0</td>\n",
       "      <td>10.0</td>\n",
       "      <td>20.0</td>\n",
       "      <td>0.0</td>\n",
       "      <td>0.0</td>\n",
       "      <td>1.0</td>\n",
       "    </tr>\n",
       "    <tr>\n",
       "      <th>49497</th>\n",
       "      <td>8.0</td>\n",
       "      <td>1.0</td>\n",
       "      <td>1.0</td>\n",
       "      <td>1.0</td>\n",
       "      <td>35.0</td>\n",
       "      <td>0.0</td>\n",
       "      <td>0.0</td>\n",
       "      <td>0.0</td>\n",
       "      <td>1.0</td>\n",
       "      <td>0.0</td>\n",
       "      <td>0.0</td>\n",
       "      <td>3.0</td>\n",
       "      <td>5.0</td>\n",
       "      <td>0.0</td>\n",
       "      <td>0.0</td>\n",
       "      <td>0.0</td>\n",
       "      <td>1.0</td>\n",
       "    </tr>\n",
       "  </tbody>\n",
       "</table>\n",
       "</div>\n",
       "      <button class=\"colab-df-convert\" onclick=\"convertToInteractive('df-ec04f8c6-3824-4433-aa11-e2c89f2bdc55')\"\n",
       "              title=\"Convert this dataframe to an interactive table.\"\n",
       "              style=\"display:none;\">\n",
       "        \n",
       "  <svg xmlns=\"http://www.w3.org/2000/svg\" height=\"24px\"viewBox=\"0 0 24 24\"\n",
       "       width=\"24px\">\n",
       "    <path d=\"M0 0h24v24H0V0z\" fill=\"none\"/>\n",
       "    <path d=\"M18.56 5.44l.94 2.06.94-2.06 2.06-.94-2.06-.94-.94-2.06-.94 2.06-2.06.94zm-11 1L8.5 8.5l.94-2.06 2.06-.94-2.06-.94L8.5 2.5l-.94 2.06-2.06.94zm10 10l.94 2.06.94-2.06 2.06-.94-2.06-.94-.94-2.06-.94 2.06-2.06.94z\"/><path d=\"M17.41 7.96l-1.37-1.37c-.4-.4-.92-.59-1.43-.59-.52 0-1.04.2-1.43.59L10.3 9.45l-7.72 7.72c-.78.78-.78 2.05 0 2.83L4 21.41c.39.39.9.59 1.41.59.51 0 1.02-.2 1.41-.59l7.78-7.78 2.81-2.81c.8-.78.8-2.07 0-2.86zM5.41 20L4 18.59l7.72-7.72 1.47 1.35L5.41 20z\"/>\n",
       "  </svg>\n",
       "      </button>\n",
       "      \n",
       "  <style>\n",
       "    .colab-df-container {\n",
       "      display:flex;\n",
       "      flex-wrap:wrap;\n",
       "      gap: 12px;\n",
       "    }\n",
       "\n",
       "    .colab-df-convert {\n",
       "      background-color: #E8F0FE;\n",
       "      border: none;\n",
       "      border-radius: 50%;\n",
       "      cursor: pointer;\n",
       "      display: none;\n",
       "      fill: #1967D2;\n",
       "      height: 32px;\n",
       "      padding: 0 0 0 0;\n",
       "      width: 32px;\n",
       "    }\n",
       "\n",
       "    .colab-df-convert:hover {\n",
       "      background-color: #E2EBFA;\n",
       "      box-shadow: 0px 1px 2px rgba(60, 64, 67, 0.3), 0px 1px 3px 1px rgba(60, 64, 67, 0.15);\n",
       "      fill: #174EA6;\n",
       "    }\n",
       "\n",
       "    [theme=dark] .colab-df-convert {\n",
       "      background-color: #3B4455;\n",
       "      fill: #D2E3FC;\n",
       "    }\n",
       "\n",
       "    [theme=dark] .colab-df-convert:hover {\n",
       "      background-color: #434B5C;\n",
       "      box-shadow: 0px 1px 3px 1px rgba(0, 0, 0, 0.15);\n",
       "      filter: drop-shadow(0px 1px 2px rgba(0, 0, 0, 0.3));\n",
       "      fill: #FFFFFF;\n",
       "    }\n",
       "  </style>\n",
       "\n",
       "      <script>\n",
       "        const buttonEl =\n",
       "          document.querySelector('#df-ec04f8c6-3824-4433-aa11-e2c89f2bdc55 button.colab-df-convert');\n",
       "        buttonEl.style.display =\n",
       "          google.colab.kernel.accessAllowed ? 'block' : 'none';\n",
       "\n",
       "        async function convertToInteractive(key) {\n",
       "          const element = document.querySelector('#df-ec04f8c6-3824-4433-aa11-e2c89f2bdc55');\n",
       "          const dataTable =\n",
       "            await google.colab.kernel.invokeFunction('convertToInteractive',\n",
       "                                                     [key], {});\n",
       "          if (!dataTable) return;\n",
       "\n",
       "          const docLinkHtml = 'Like what you see? Visit the ' +\n",
       "            '<a target=\"_blank\" href=https://colab.research.google.com/notebooks/data_table.ipynb>data table notebook</a>'\n",
       "            + ' to learn more about interactive tables.';\n",
       "          element.innerHTML = '';\n",
       "          dataTable['output_type'] = 'display_data';\n",
       "          await google.colab.output.renderOutput(dataTable, element);\n",
       "          const docLink = document.createElement('div');\n",
       "          docLink.innerHTML = docLinkHtml;\n",
       "          element.appendChild(docLink);\n",
       "        }\n",
       "      </script>\n",
       "    </div>\n",
       "  </div>\n",
       "  "
      ],
      "text/plain": [
       "        Age  Sex  HighChol  CholCheck   BMI  Smoker  HeartDiseaseorAttack  \\\n",
       "50498  13.0  0.0       1.0        1.0  32.0     1.0                   1.0   \n",
       "44300  10.0  0.0       1.0        1.0  22.0     0.0                   0.0   \n",
       "49497   8.0  1.0       1.0        1.0  35.0     0.0                   0.0   \n",
       "\n",
       "       PhysActivity  Fruits  Veggies  HvyAlcoholConsump  GenHlth  MentHlth  \\\n",
       "50498           1.0     1.0      1.0                0.0      3.0       0.0   \n",
       "44300           1.0     0.0      0.0                0.0      4.0      10.0   \n",
       "49497           0.0     1.0      0.0                0.0      3.0       5.0   \n",
       "\n",
       "       PhysHlth  DiffWalk  Stroke  HighBP  \n",
       "50498       0.0       0.0     0.0     1.0  \n",
       "44300      20.0       0.0     0.0     1.0  \n",
       "49497       0.0       0.0     0.0     1.0  "
      ]
     },
     "execution_count": 11,
     "metadata": {},
     "output_type": "execute_result"
    }
   ],
   "source": [
    "x_train.head(3)"
   ]
  },
  {
   "cell_type": "code",
   "execution_count": 67,
   "metadata": {
    "executionInfo": {
     "elapsed": 693,
     "status": "ok",
     "timestamp": 1680759005956,
     "user": {
      "displayName": "진광환",
      "userId": "11025574316716544930"
     },
     "user_tz": -540
    },
    "id": "3939e0e6"
   },
   "outputs": [],
   "source": [
    "# 파이프라인\n",
    "\n",
    "\n",
    "# 숫자칼럼들만 모아서 전처리\n",
    "numeric_features = ['BMI', 'GenHlth', 'MentHlth', 'PhysHlth', ]\n",
    "numeric_transformer = StandardScaler() # cf) RobustScaler MinMaxScaler\n",
    "\n",
    "# 범주칼럼들만 모아서 전처리 - 건강하지 않은 날짜들을 다 범주형 칼럼으로 보는 경우\n",
    "categorical_features = ['Age', 'Sex', 'HighChol', 'CholCheck', 'Smoker',\n",
    "       'HeartDiseaseorAttack', 'PhysActivity', 'Fruits', 'Veggies',\n",
    "       'HvyAlcoholConsump', 'DiffWalk',\n",
    "       'Stroke', 'HighBP',]\n",
    "categorical_transformer = OneHotEncoder(categories='auto', \n",
    "                                        handle_unknown='ignore',)\n",
    "# 전처리 객체 생성\n",
    "preprocessor = ColumnTransformer(\n",
    "    transformers=[ # List of (name, transformer, column(s))\n",
    "        ('num', numeric_transformer, numeric_features),\n",
    "        ('cat', categorical_transformer, categorical_features)])\n",
    "\n",
    "\n",
    "# 파이프라인 돌리기\n",
    "preprocessor_pipe = Pipeline(steps=[('preprocessor', preprocessor)]) # preprocessing-only\n",
    "preprocessor_pipe.fit(x_train)\n",
    "\n",
    "# 트랜스폼\n",
    "train_data_transformed_more_numerics = preprocessor_pipe.transform(x_train)\n",
    "test_data_transformed_more_numerics = preprocessor_pipe.transform(x_test)\n",
    "\n",
    "# to dense로 재할당\n",
    "#train_data_transformed_more_numerics = train_data_transformed_more_numerics.todense()\n",
    "#test_data_transformed_more_numerics = test_data_transformed_more_numerics.todense() "
   ]
  },
  {
   "cell_type": "code",
   "execution_count": 73,
   "metadata": {
    "executionInfo": {
     "elapsed": 285,
     "status": "ok",
     "timestamp": 1680759100158,
     "user": {
      "displayName": "진광환",
      "userId": "11025574316716544930"
     },
     "user_tz": -540
    },
    "id": "e3056900"
   },
   "outputs": [],
   "source": [
    "# target 데이터 원핫인코딩\n",
    "y_train = utils.to_categorical(y_train)\n",
    "y_test = utils.to_categorical(y_test)"
   ]
  },
  {
   "cell_type": "code",
   "execution_count": 28,
   "metadata": {
    "colab": {
     "base_uri": "https://localhost:8080/"
    },
    "executionInfo": {
     "elapsed": 442,
     "status": "ok",
     "timestamp": 1680742750603,
     "user": {
      "displayName": "진광환",
      "userId": "11025574316716544930"
     },
     "user_tz": -540
    },
    "id": "c3a2986e",
    "outputId": "c69f572b-3bd2-4bca-869f-4c1c74d67068"
   },
   "outputs": [
    {
     "data": {
      "text/plain": [
       "(14139, 41)"
      ]
     },
     "execution_count": 28,
     "metadata": {},
     "output_type": "execute_result"
    }
   ],
   "source": [
    "# 전처리된 데이터 shape\n",
    "test_data_transformed_more_numerics.shape"
   ]
  },
  {
   "cell_type": "markdown",
   "metadata": {
    "id": "SxE-NnvUXs-d"
   },
   "source": [
    "### 하이퍼 모델 생성"
   ]
  },
  {
   "cell_type": "code",
   "execution_count": 14,
   "metadata": {
    "executionInfo": {
     "elapsed": 11,
     "status": "ok",
     "timestamp": 1680741893788,
     "user": {
      "displayName": "진광환",
      "userId": "11025574316716544930"
     },
     "user_tz": -540
    },
    "id": "3fJPyiZNhwjs"
   },
   "outputs": [],
   "source": []
  },
  {
   "cell_type": "code",
   "execution_count": 41,
   "metadata": {
    "executionInfo": {
     "elapsed": 297,
     "status": "ok",
     "timestamp": 1680745181967,
     "user": {
      "displayName": "진광환",
      "userId": "11025574316716544930"
     },
     "user_tz": -540
    },
    "id": "sSLNlEU6X1QI"
   },
   "outputs": [],
   "source": [
    "# hyper model 만들기\n",
    "def build_hyper_model(hp):\n",
    "    \n",
    "    model = models.Sequential()\n",
    "    model.add(layers.Dense(input_dim=41, units=256, activation='elu', kernel_initializer=initializers.he_normal()))\n",
    "        \n",
    "    # Tune the number of hidden layer (Choose an optimal value between 1~3)\n",
    "    for layer_num in range(hp.Int('num_layers', min_value=1, max_value=3)): \n",
    "      \n",
    "        # Tune the number of perceptrons in a dense layer (Choose an optimal value between 32~512) \n",
    "        hp_units = hp.Int('units_' + str(layer_num), min_value=32, max_value=512, step=32) # 32:512 & step 32, all parameter names should be unique (we name the inner parameters 'units_' + str(i))\n",
    "        hp_activations = hp.Choice('activation_' + str(layer_num), values=['relu', 'elu'])\n",
    "\n",
    "        model.add(layers.Dense(units = hp_units, activation = hp_activations))\n",
    "\n",
    "    model.add(layers.Dense(2, activation='softmax')) # class 10 : 0~9\n",
    "\n",
    "    # Tune the learning rate for the optimizer (Choose an optimal value from 0.01, 0.001, or 0.0001)\n",
    "    hp_learning_rate = hp.Choice('learning_rate', values = [1e-2, 1e-3, 1e-4]) \n",
    "    \n",
    "    model.compile(optimizer = keras.optimizers.Adam(learning_rate = hp_learning_rate),\n",
    "                loss = keras.losses.CategoricalCrossentropy(), # use sparse c.c when our labels are looks like \"1\" (single integer), not \"[1,0,0]\" (one-hot vector) (@ http://j.mp/2XS0jmv)\n",
    "                metrics = ['accuracy'])\n",
    "    \n",
    "    return model"
   ]
  },
  {
   "cell_type": "code",
   "execution_count": 42,
   "metadata": {
    "executionInfo": {
     "elapsed": 430,
     "status": "ok",
     "timestamp": 1680745185173,
     "user": {
      "displayName": "진광환",
      "userId": "11025574316716544930"
     },
     "user_tz": -540
    },
    "id": "HE-K_xJNX1qY"
   },
   "outputs": [],
   "source": [
    "# 베이즈 서치 객체 생성\n",
    "tuner = kt.BayesianOptimization(build_hyper_model,\n",
    "                                objective = 'val_accuracy', # Hyper-params tuning을 위한 목적함수 설정 (metric to minimize or maximize)\n",
    "                                max_trials = 10, # 서로 다른 Hyper-params 조합으로 시도할 총 Trial 횟수 설정\n",
    "                                directory = 'test_prac_dir', # Path to the working directory\n",
    "                                project_name = 'diabetes_hyper_1') # Name to use as directory name for files saved by this Tuner"
   ]
  },
  {
   "cell_type": "code",
   "execution_count": 43,
   "metadata": {
    "colab": {
     "base_uri": "https://localhost:8080/"
    },
    "executionInfo": {
     "elapsed": 291,
     "status": "ok",
     "timestamp": 1680745187867,
     "user": {
      "displayName": "진광환",
      "userId": "11025574316716544930"
     },
     "user_tz": -540
    },
    "id": "_9Ch5rw_X2Zu",
    "outputId": "9ad9ccdf-07c5-43ca-91ca-73319c9a98a2"
   },
   "outputs": [
    {
     "name": "stdout",
     "output_type": "stream",
     "text": [
      "Search space summary\n",
      "Default search space size: 8\n",
      "num_layers (Int)\n",
      "{'default': None, 'conditions': [], 'min_value': 1, 'max_value': 3, 'step': 1, 'sampling': 'linear'}\n",
      "units_0 (Int)\n",
      "{'default': None, 'conditions': [], 'min_value': 32, 'max_value': 512, 'step': 32, 'sampling': 'linear'}\n",
      "activation_0 (Choice)\n",
      "{'default': 'relu', 'conditions': [], 'values': ['relu', 'elu'], 'ordered': False}\n",
      "learning_rate (Choice)\n",
      "{'default': 0.01, 'conditions': [], 'values': [0.01, 0.001, 0.0001], 'ordered': True}\n",
      "units_1 (Int)\n",
      "{'default': None, 'conditions': [], 'min_value': 32, 'max_value': 512, 'step': 32, 'sampling': 'linear'}\n",
      "activation_1 (Choice)\n",
      "{'default': 'relu', 'conditions': [], 'values': ['relu', 'elu'], 'ordered': False}\n",
      "units_2 (Int)\n",
      "{'default': None, 'conditions': [], 'min_value': 32, 'max_value': 512, 'step': 32, 'sampling': 'linear'}\n",
      "activation_2 (Choice)\n",
      "{'default': 'relu', 'conditions': [], 'values': ['relu', 'elu'], 'ordered': False}\n"
     ]
    }
   ],
   "source": [
    "# 튜닝 선택지 요약\n",
    "tuner.search_space_summary()"
   ]
  },
  {
   "cell_type": "code",
   "execution_count": null,
   "metadata": {
    "id": "l8aKngyiX24s"
   },
   "outputs": [],
   "source": [
    "# 베이즈 서치 실행\n",
    "tuner.search(train_data_transformed_more_numerics, y_train, epochs=10, validation_data = (test_data_transformed_more_numerics, y_test)) # epochs == learning epoch for training a single model(epoch for each trial) \n"
   ]
  },
  {
   "cell_type": "code",
   "execution_count": 47,
   "metadata": {
    "colab": {
     "base_uri": "https://localhost:8080/"
    },
    "executionInfo": {
     "elapsed": 293,
     "status": "ok",
     "timestamp": 1680747294778,
     "user": {
      "displayName": "진광환",
      "userId": "11025574316716544930"
     },
     "user_tz": -540
    },
    "id": "NijocdIhWGOo",
    "outputId": "8b330458-7827-43f1-d9f9-c60d37a311bb"
   },
   "outputs": [
    {
     "name": "stdout",
     "output_type": "stream",
     "text": [
      "Results summary\n",
      "Results in test_prac_dir/diabetes_hyper_1\n",
      "Showing 3 best trials\n",
      "Objective(name=\"val_accuracy\", direction=\"max\")\n",
      "\n",
      "Trial 09 summary\n",
      "Hyperparameters:\n",
      "num_layers: 1\n",
      "units_0: 256\n",
      "activation_0: elu\n",
      "learning_rate: 0.01\n",
      "units_1: 512\n",
      "activation_1: relu\n",
      "units_2: 448\n",
      "activation_2: elu\n",
      "Score: 0.7542259097099304\n",
      "\n",
      "Trial 05 summary\n",
      "Hyperparameters:\n",
      "num_layers: 1\n",
      "units_0: 96\n",
      "activation_0: relu\n",
      "learning_rate: 0.0001\n",
      "units_1: 416\n",
      "activation_1: relu\n",
      "units_2: 480\n",
      "activation_2: elu\n",
      "Score: 0.754155158996582\n",
      "\n",
      "Trial 06 summary\n",
      "Hyperparameters:\n",
      "num_layers: 3\n",
      "units_0: 320\n",
      "activation_0: elu\n",
      "learning_rate: 0.001\n",
      "units_1: 96\n",
      "activation_1: relu\n",
      "units_2: 448\n",
      "activation_2: relu\n",
      "Score: 0.7538015246391296\n"
     ]
    }
   ],
   "source": [
    "# 실행결과\n",
    "tuner.results_summary(num_trials=3) # Show \"n\" best trial results"
   ]
  },
  {
   "cell_type": "code",
   "execution_count": 52,
   "metadata": {
    "colab": {
     "base_uri": "https://localhost:8080/"
    },
    "executionInfo": {
     "elapsed": 318,
     "status": "ok",
     "timestamp": 1680747363413,
     "user": {
      "displayName": "진광환",
      "userId": "11025574316716544930"
     },
     "user_tz": -540
    },
    "id": "i3fwKuV4WH7-",
    "outputId": "ab504825-1c85-407c-b368-231b9f86a11e"
   },
   "outputs": [
    {
     "data": {
      "text/plain": [
       "[Int(name: 'num_layers', min_value: 1, max_value: 3, step: 1, sampling: linear, default: 1),\n",
       " Int(name: 'units_0', min_value: 32, max_value: 512, step: 32, sampling: linear, default: 32),\n",
       " Choice(name: 'activation_0', values: ['relu', 'elu'], ordered: False, default: relu),\n",
       " Choice(name: 'learning_rate', values: [0.01, 0.001, 0.0001], ordered: True, default: 0.01),\n",
       " Int(name: 'units_1', min_value: 32, max_value: 512, step: 32, sampling: linear, default: 32),\n",
       " Choice(name: 'activation_1', values: ['relu', 'elu'], ordered: False, default: relu),\n",
       " Int(name: 'units_2', min_value: 32, max_value: 512, step: 32, sampling: linear, default: 32),\n",
       " Choice(name: 'activation_2', values: ['relu', 'elu'], ordered: False, default: relu)]"
      ]
     },
     "execution_count": 52,
     "metadata": {},
     "output_type": "execute_result"
    }
   ],
   "source": [
    "top3_models = tuner.get_best_hyperparameters(num_trials=3)\n",
    "top3_models[0].space"
   ]
  },
  {
   "cell_type": "code",
   "execution_count": 55,
   "metadata": {
    "colab": {
     "base_uri": "https://localhost:8080/"
    },
    "executionInfo": {
     "elapsed": 486,
     "status": "ok",
     "timestamp": 1680747442725,
     "user": {
      "displayName": "진광환",
      "userId": "11025574316716544930"
     },
     "user_tz": -540
    },
    "id": "2SaYm3rdWZuR",
    "outputId": "03966a39-01a8-41e8-fd00-7df083d8fe82"
   },
   "outputs": [
    {
     "data": {
      "text/plain": [
       "{'num_layers': 1,\n",
       " 'units_0': 256,\n",
       " 'activation_0': 'elu',\n",
       " 'learning_rate': 0.01,\n",
       " 'units_1': 512,\n",
       " 'activation_1': 'relu',\n",
       " 'units_2': 448,\n",
       " 'activation_2': 'elu'}"
      ]
     },
     "execution_count": 55,
     "metadata": {},
     "output_type": "execute_result"
    }
   ],
   "source": [
    "top3_models[0].values"
   ]
  },
  {
   "cell_type": "code",
   "execution_count": 77,
   "metadata": {
    "colab": {
     "base_uri": "https://localhost:8080/"
    },
    "executionInfo": {
     "elapsed": 2977,
     "status": "ok",
     "timestamp": 1680759207309,
     "user": {
      "displayName": "진광환",
      "userId": "11025574316716544930"
     },
     "user_tz": -540
    },
    "id": "1O8BZ8JLB2m2",
    "outputId": "a9031af5-63f7-4378-d5df-70a43632b5aa"
   },
   "outputs": [
    {
     "name": "stdout",
     "output_type": "stream",
     "text": [
      "Model: \"sequential\"\n",
      "_________________________________________________________________\n",
      " Layer (type)                Output Shape              Param #   \n",
      "=================================================================\n",
      " dense (Dense)               (None, 256)               10752     \n",
      "                                                                 \n",
      " dense_1 (Dense)             (None, 256)               65792     \n",
      "                                                                 \n",
      " dense_2 (Dense)             (None, 2)                 514       \n",
      "                                                                 \n",
      "=================================================================\n",
      "Total params: 77,058\n",
      "Trainable params: 77,058\n",
      "Non-trainable params: 0\n",
      "_________________________________________________________________\n",
      "442/442 [==============================] - 1s 2ms/step - loss: 0.5131 - accuracy: 0.7542\n"
     ]
    }
   ],
   "source": [
    "# 가장 좋은 모델 평가 결과\n",
    "top3model = tuner.get_best_models(num_models=3)\n",
    "top_model = top3model[0]\n",
    "top_model.summary()\n",
    "\n",
    "results = top_model.evaluate(test_data_transformed_more_numerics, y_test)"
   ]
  },
  {
   "cell_type": "code",
   "execution_count": 78,
   "metadata": {
    "colab": {
     "base_uri": "https://localhost:8080/"
    },
    "executionInfo": {
     "elapsed": 306,
     "status": "ok",
     "timestamp": 1680759222091,
     "user": {
      "displayName": "진광환",
      "userId": "11025574316716544930"
     },
     "user_tz": -540
    },
    "id": "C8c-p5kHDloM",
    "outputId": "90aa7bcc-8608-4e5d-e125-6a92cef5043c"
   },
   "outputs": [
    {
     "data": {
      "text/plain": [
       "[0.513058066368103, 0.7542259097099304]"
      ]
     },
     "execution_count": 78,
     "metadata": {},
     "output_type": "execute_result"
    }
   ],
   "source": [
    "results"
   ]
  },
  {
   "cell_type": "code",
   "execution_count": null,
   "metadata": {},
   "outputs": [],
   "source": [
    "# 실제 모델 보다 정확도가 올라감"
   ]
  },
  {
   "cell_type": "code",
   "execution_count": null,
   "metadata": {},
   "outputs": [],
   "source": [
    "# end of file"
   ]
  }
 ],
 "metadata": {
  "colab": {
   "authorship_tag": "ABX9TyMVwNYCGa+c39j321Qr/lWT",
   "provenance": []
  },
  "kernelspec": {
   "display_name": "Python 3",
   "language": "python",
   "name": "python3"
  },
  "language_info": {
   "codemirror_mode": {
    "name": "ipython",
    "version": 3
   },
   "file_extension": ".py",
   "mimetype": "text/x-python",
   "name": "python",
   "nbconvert_exporter": "python",
   "pygments_lexer": "ipython3",
   "version": "3.8.8"
  }
 },
 "nbformat": 4,
 "nbformat_minor": 1
}
