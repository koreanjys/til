{
 "cells": [
  {
   "cell_type": "code",
   "execution_count": 35,
   "id": "2185d943",
   "metadata": {},
   "outputs": [],
   "source": [
    "import pandas as pd\n",
    "import numpy as np"
   ]
  },
  {
   "cell_type": "code",
   "execution_count": 36,
   "id": "2439300c",
   "metadata": {},
   "outputs": [],
   "source": [
    "# 당뇨병 데이터 불러오기\n",
    "df = pd.read_csv('diabetes_data.csv')"
   ]
  },
  {
   "cell_type": "code",
   "execution_count": 37,
   "id": "3b584f86",
   "metadata": {},
   "outputs": [],
   "source": [
    "# feature와 target 분리\n",
    "target = df[['Diabetes']]\n",
    "data = df.drop(columns=['Diabetes'])"
   ]
  },
  {
   "cell_type": "code",
   "execution_count": 38,
   "id": "026560aa",
   "metadata": {},
   "outputs": [],
   "source": [
    "# train_test 분리\n",
    "from sklearn.model_selection import train_test_split\n",
    "x_train, x_test, y_train, y_test = train_test_split(data, target, test_size=0.2, random_state=33)"
   ]
  },
  {
   "cell_type": "code",
   "execution_count": 39,
   "id": "81677be8",
   "metadata": {},
   "outputs": [],
   "source": [
    "# Pipeline 을 위한 전처리 모듈 불러오기\n",
    "from sklearn.preprocessing import StandardScaler, OneHotEncoder\n",
    "from sklearn.compose import ColumnTransformer\n",
    "from sklearn.pipeline import Pipeline"
   ]
  },
  {
   "cell_type": "code",
   "execution_count": 40,
   "id": "8adb730d",
   "metadata": {},
   "outputs": [
    {
     "data": {
      "text/html": [
       "<div>\n",
       "<style scoped>\n",
       "    .dataframe tbody tr th:only-of-type {\n",
       "        vertical-align: middle;\n",
       "    }\n",
       "\n",
       "    .dataframe tbody tr th {\n",
       "        vertical-align: top;\n",
       "    }\n",
       "\n",
       "    .dataframe thead th {\n",
       "        text-align: right;\n",
       "    }\n",
       "</style>\n",
       "<table border=\"1\" class=\"dataframe\">\n",
       "  <thead>\n",
       "    <tr style=\"text-align: right;\">\n",
       "      <th></th>\n",
       "      <th>Age</th>\n",
       "      <th>Sex</th>\n",
       "      <th>HighChol</th>\n",
       "      <th>CholCheck</th>\n",
       "      <th>BMI</th>\n",
       "      <th>Smoker</th>\n",
       "      <th>HeartDiseaseorAttack</th>\n",
       "      <th>PhysActivity</th>\n",
       "      <th>Fruits</th>\n",
       "      <th>Veggies</th>\n",
       "      <th>HvyAlcoholConsump</th>\n",
       "      <th>GenHlth</th>\n",
       "      <th>MentHlth</th>\n",
       "      <th>PhysHlth</th>\n",
       "      <th>DiffWalk</th>\n",
       "      <th>Stroke</th>\n",
       "      <th>HighBP</th>\n",
       "    </tr>\n",
       "  </thead>\n",
       "  <tbody>\n",
       "    <tr>\n",
       "      <th>50498</th>\n",
       "      <td>13.0</td>\n",
       "      <td>0.0</td>\n",
       "      <td>1.0</td>\n",
       "      <td>1.0</td>\n",
       "      <td>32.0</td>\n",
       "      <td>1.0</td>\n",
       "      <td>1.0</td>\n",
       "      <td>1.0</td>\n",
       "      <td>1.0</td>\n",
       "      <td>1.0</td>\n",
       "      <td>0.0</td>\n",
       "      <td>3.0</td>\n",
       "      <td>0.0</td>\n",
       "      <td>0.0</td>\n",
       "      <td>0.0</td>\n",
       "      <td>0.0</td>\n",
       "      <td>1.0</td>\n",
       "    </tr>\n",
       "    <tr>\n",
       "      <th>44300</th>\n",
       "      <td>10.0</td>\n",
       "      <td>0.0</td>\n",
       "      <td>1.0</td>\n",
       "      <td>1.0</td>\n",
       "      <td>22.0</td>\n",
       "      <td>0.0</td>\n",
       "      <td>0.0</td>\n",
       "      <td>1.0</td>\n",
       "      <td>0.0</td>\n",
       "      <td>0.0</td>\n",
       "      <td>0.0</td>\n",
       "      <td>4.0</td>\n",
       "      <td>10.0</td>\n",
       "      <td>20.0</td>\n",
       "      <td>0.0</td>\n",
       "      <td>0.0</td>\n",
       "      <td>1.0</td>\n",
       "    </tr>\n",
       "    <tr>\n",
       "      <th>49497</th>\n",
       "      <td>8.0</td>\n",
       "      <td>1.0</td>\n",
       "      <td>1.0</td>\n",
       "      <td>1.0</td>\n",
       "      <td>35.0</td>\n",
       "      <td>0.0</td>\n",
       "      <td>0.0</td>\n",
       "      <td>0.0</td>\n",
       "      <td>1.0</td>\n",
       "      <td>0.0</td>\n",
       "      <td>0.0</td>\n",
       "      <td>3.0</td>\n",
       "      <td>5.0</td>\n",
       "      <td>0.0</td>\n",
       "      <td>0.0</td>\n",
       "      <td>0.0</td>\n",
       "      <td>1.0</td>\n",
       "    </tr>\n",
       "  </tbody>\n",
       "</table>\n",
       "</div>"
      ],
      "text/plain": [
       "        Age  Sex  HighChol  CholCheck   BMI  Smoker  HeartDiseaseorAttack  \\\n",
       "50498  13.0  0.0       1.0        1.0  32.0     1.0                   1.0   \n",
       "44300  10.0  0.0       1.0        1.0  22.0     0.0                   0.0   \n",
       "49497   8.0  1.0       1.0        1.0  35.0     0.0                   0.0   \n",
       "\n",
       "       PhysActivity  Fruits  Veggies  HvyAlcoholConsump  GenHlth  MentHlth  \\\n",
       "50498           1.0     1.0      1.0                0.0      3.0       0.0   \n",
       "44300           1.0     0.0      0.0                0.0      4.0      10.0   \n",
       "49497           0.0     1.0      0.0                0.0      3.0       5.0   \n",
       "\n",
       "       PhysHlth  DiffWalk  Stroke  HighBP  \n",
       "50498       0.0       0.0     0.0     1.0  \n",
       "44300      20.0       0.0     0.0     1.0  \n",
       "49497       0.0       0.0     0.0     1.0  "
      ]
     },
     "execution_count": 40,
     "metadata": {},
     "output_type": "execute_result"
    }
   ],
   "source": [
    "x_train.head(3)"
   ]
  },
  {
   "cell_type": "code",
   "execution_count": 41,
   "id": "3939e0e6",
   "metadata": {},
   "outputs": [],
   "source": [
    "# 파이프라인\n",
    "# 수로 된 열 선택\n",
    "numeric_features = ['Age', 'BMI', 'MentHlth', 'PhysHlth']\n",
    "numeric_transformer = StandardScaler()\n",
    "\n",
    "# 수로 된 열 제외한 모든 라벨로 된 열 선택\n",
    "categorical_features = list(x_train.columns)\n",
    "categorical_features.remove('Age')\n",
    "categorical_features.remove('BMI')\n",
    "categorical_features.remove('MentHlth')\n",
    "categorical_features.remove('PhysHlth')\n",
    "\n",
    "categorical_transformer = OneHotEncoder(categories='auto', handle_unknown='ignore') \n",
    "\n",
    "# 전처리 모델 생성\n",
    "preprocessor = ColumnTransformer(\n",
    "    transformers=[\n",
    "        ('num', numeric_transformer, numeric_features),\n",
    "        ('cat', categorical_transformer, categorical_features)])"
   ]
  },
  {
   "cell_type": "code",
   "execution_count": 42,
   "id": "da76894d",
   "metadata": {},
   "outputs": [],
   "source": [
    "# 파이프라인으로 전처리\n",
    "preprocessor_pipe = Pipeline(steps=[('preprocessor', preprocessor)])"
   ]
  },
  {
   "cell_type": "code",
   "execution_count": 43,
   "id": "2a35314b",
   "metadata": {},
   "outputs": [
    {
     "data": {
      "text/plain": [
       "Pipeline(steps=[('preprocessor',\n",
       "                 ColumnTransformer(transformers=[('num', StandardScaler(),\n",
       "                                                  ['Age', 'BMI', 'MentHlth',\n",
       "                                                   'PhysHlth']),\n",
       "                                                 ('cat',\n",
       "                                                  OneHotEncoder(handle_unknown='ignore'),\n",
       "                                                  ['Sex', 'HighChol',\n",
       "                                                   'CholCheck', 'Smoker',\n",
       "                                                   'HeartDiseaseorAttack',\n",
       "                                                   'PhysActivity', 'Fruits',\n",
       "                                                   'Veggies',\n",
       "                                                   'HvyAlcoholConsump',\n",
       "                                                   'GenHlth', 'DiffWalk',\n",
       "                                                   'Stroke', 'HighBP'])]))])"
      ]
     },
     "execution_count": 43,
     "metadata": {},
     "output_type": "execute_result"
    }
   ],
   "source": [
    "# 파이프라인 학습\n",
    "preprocessor_pipe.fit(x_train)"
   ]
  },
  {
   "cell_type": "code",
   "execution_count": 44,
   "id": "8dab32b6",
   "metadata": {},
   "outputs": [],
   "source": [
    "# 파이프라인 학습된 전처리로 변환\n",
    "x_train = preprocessor_pipe.transform(x_train)\n",
    "x_test = preprocessor_pipe.transform(x_test)"
   ]
  },
  {
   "cell_type": "code",
   "execution_count": 45,
   "id": "4c4b1134",
   "metadata": {},
   "outputs": [],
   "source": [
    "# 딥러닝 모듈 불러오기\n",
    "import tensorflow as tf\n",
    "from tensorflow.keras import datasets, utils\n",
    "from tensorflow.keras import models, layers, activations, initializers, losses, optimizers, metrics"
   ]
  },
  {
   "cell_type": "code",
   "execution_count": 46,
   "id": "e3056900",
   "metadata": {},
   "outputs": [],
   "source": [
    "# target 데이터 원핫인코딩\n",
    "y_train = utils.to_categorical(y_train)"
   ]
  },
  {
   "cell_type": "code",
   "execution_count": 47,
   "id": "c3a2986e",
   "metadata": {},
   "outputs": [
    {
     "data": {
      "text/plain": [
       "(56553, 33)"
      ]
     },
     "execution_count": 47,
     "metadata": {},
     "output_type": "execute_result"
    }
   ],
   "source": [
    "x_train.shape"
   ]
  },
  {
   "cell_type": "code",
   "execution_count": 48,
   "id": "fd884178",
   "metadata": {},
   "outputs": [],
   "source": [
    "# 순차적 모델 생성\n",
    "model = models.Sequential()\n",
    "\n",
    "# 열 31개\n",
    "model.add(layers.Dense(input_dim=33, units=256, activation=None, kernel_initializer=initializers.he_normal()))\n",
    "model.add(layers.BatchNormalization())\n",
    "model.add(layers.Activation('elu'))\n",
    "\n",
    "model.add(layers.Dense(units=512, activation=None, kernel_initializer=initializers.he_normal())) \n",
    "model.add(layers.Activation('elu')) \n",
    "\n",
    "model.add(layers.Dense(units=512, activation=None, kernel_initializer=initializers.he_normal())) \n",
    "model.add(layers.Activation('elu'))\n",
    "\n",
    "model.add(layers.Dense(units=256, activation=None, kernel_initializer=initializers.he_normal())) \n",
    "model.add(layers.Activation('elu')) \n",
    "model.add(layers.Dropout(rate=0.5))\n",
    "\n",
    "# 이진분류 도출\n",
    "model.add(layers.Dense(units=2, activation='softmax'))"
   ]
  },
  {
   "cell_type": "code",
   "execution_count": 49,
   "id": "63e3ffae",
   "metadata": {},
   "outputs": [],
   "source": [
    "# 모델 컴파일\n",
    "model.compile(optimizer=optimizers.Adam(0.01),\n",
    "              loss=losses.categorical_crossentropy, \n",
    "              metrics=[metrics.categorical_accuracy])"
   ]
  },
  {
   "cell_type": "code",
   "execution_count": 50,
   "id": "a5396757",
   "metadata": {},
   "outputs": [
    {
     "name": "stdout",
     "output_type": "stream",
     "text": [
      "Epoch 1/30\n",
      "7/7 [==============================] - 2s 213ms/step - loss: 9.3009 - categorical_accuracy: 0.5837 - val_loss: 2.7201 - val_categorical_accuracy: 0.5462\n",
      "Epoch 2/30\n",
      "7/7 [==============================] - 2s 311ms/step - loss: 2.3253 - categorical_accuracy: 0.6742 - val_loss: 0.6938 - val_categorical_accuracy: 0.6395\n",
      "Epoch 3/30\n",
      "7/7 [==============================] - 2s 212ms/step - loss: 0.8172 - categorical_accuracy: 0.6316 - val_loss: 0.5740 - val_categorical_accuracy: 0.7171\n",
      "Epoch 4/30\n",
      "7/7 [==============================] - 2s 304ms/step - loss: 0.6395 - categorical_accuracy: 0.6756 - val_loss: 0.6009 - val_categorical_accuracy: 0.6722\n",
      "Epoch 5/30\n",
      "7/7 [==============================] - 2s 300ms/step - loss: 0.6011 - categorical_accuracy: 0.6946 - val_loss: 0.5404 - val_categorical_accuracy: 0.7273\n",
      "Epoch 6/30\n",
      "7/7 [==============================] - 2s 308ms/step - loss: 0.5825 - categorical_accuracy: 0.7122 - val_loss: 0.5360 - val_categorical_accuracy: 0.7275\n",
      "Epoch 7/30\n",
      "7/7 [==============================] - 2s 308ms/step - loss: 0.5705 - categorical_accuracy: 0.7049 - val_loss: 0.5347 - val_categorical_accuracy: 0.7292\n",
      "Epoch 8/30\n",
      "7/7 [==============================] - 2s 290ms/step - loss: 0.5601 - categorical_accuracy: 0.7213 - val_loss: 0.5200 - val_categorical_accuracy: 0.7441\n",
      "Epoch 9/30\n",
      "7/7 [==============================] - 2s 361ms/step - loss: 0.5490 - categorical_accuracy: 0.7248 - val_loss: 0.5172 - val_categorical_accuracy: 0.7452\n",
      "Epoch 10/30\n",
      "7/7 [==============================] - 2s 307ms/step - loss: 0.5443 - categorical_accuracy: 0.7272 - val_loss: 0.5182 - val_categorical_accuracy: 0.7416\n",
      "Epoch 11/30\n",
      "7/7 [==============================] - 2s 307ms/step - loss: 0.5344 - categorical_accuracy: 0.7338 - val_loss: 0.5159 - val_categorical_accuracy: 0.7463\n",
      "Epoch 12/30\n",
      "7/7 [==============================] - 2s 304ms/step - loss: 0.5302 - categorical_accuracy: 0.7341 - val_loss: 0.5185 - val_categorical_accuracy: 0.7421\n",
      "Epoch 13/30\n",
      "7/7 [==============================] - 2s 288ms/step - loss: 0.5276 - categorical_accuracy: 0.7381 - val_loss: 0.5098 - val_categorical_accuracy: 0.7491\n",
      "Epoch 14/30\n",
      "7/7 [==============================] - 2s 303ms/step - loss: 0.5237 - categorical_accuracy: 0.7418 - val_loss: 0.5095 - val_categorical_accuracy: 0.7478\n",
      "Epoch 15/30\n",
      "7/7 [==============================] - 2s 294ms/step - loss: 0.5217 - categorical_accuracy: 0.7416 - val_loss: 0.5076 - val_categorical_accuracy: 0.7500\n",
      "Epoch 16/30\n",
      "7/7 [==============================] - 2s 294ms/step - loss: 0.5184 - categorical_accuracy: 0.7449 - val_loss: 0.5091 - val_categorical_accuracy: 0.7500\n",
      "Epoch 17/30\n",
      "7/7 [==============================] - 2s 293ms/step - loss: 0.5167 - categorical_accuracy: 0.7467 - val_loss: 0.5120 - val_categorical_accuracy: 0.7491\n",
      "Epoch 18/30\n",
      "7/7 [==============================] - 2s 296ms/step - loss: 0.5151 - categorical_accuracy: 0.7470 - val_loss: 0.5091 - val_categorical_accuracy: 0.7508\n",
      "Epoch 19/30\n",
      "7/7 [==============================] - 2s 314ms/step - loss: 0.5106 - categorical_accuracy: 0.7490 - val_loss: 0.5114 - val_categorical_accuracy: 0.7476\n",
      "Epoch 20/30\n",
      "7/7 [==============================] - 2s 288ms/step - loss: 0.5126 - categorical_accuracy: 0.7478 - val_loss: 0.5091 - val_categorical_accuracy: 0.7494\n",
      "Epoch 21/30\n",
      "7/7 [==============================] - 2s 289ms/step - loss: 0.5113 - categorical_accuracy: 0.7497 - val_loss: 0.5095 - val_categorical_accuracy: 0.7490\n",
      "Epoch 22/30\n",
      "7/7 [==============================] - 2s 291ms/step - loss: 0.5102 - categorical_accuracy: 0.7500 - val_loss: 0.5069 - val_categorical_accuracy: 0.7507\n",
      "Epoch 23/30\n",
      "7/7 [==============================] - 2s 300ms/step - loss: 0.5080 - categorical_accuracy: 0.7532 - val_loss: 0.5068 - val_categorical_accuracy: 0.7511\n",
      "Epoch 24/30\n",
      "7/7 [==============================] - 2s 293ms/step - loss: 0.5086 - categorical_accuracy: 0.7531 - val_loss: 0.5062 - val_categorical_accuracy: 0.7506\n",
      "Epoch 25/30\n",
      "7/7 [==============================] - 2s 292ms/step - loss: 0.5071 - categorical_accuracy: 0.7511 - val_loss: 0.5073 - val_categorical_accuracy: 0.7509\n",
      "Epoch 26/30\n",
      "7/7 [==============================] - 2s 293ms/step - loss: 0.5084 - categorical_accuracy: 0.7524 - val_loss: 0.5062 - val_categorical_accuracy: 0.7503\n",
      "Epoch 27/30\n",
      "7/7 [==============================] - 2s 293ms/step - loss: 0.5059 - categorical_accuracy: 0.7524 - val_loss: 0.5069 - val_categorical_accuracy: 0.7501\n",
      "Epoch 28/30\n",
      "7/7 [==============================] - 2s 285ms/step - loss: 0.5068 - categorical_accuracy: 0.7542 - val_loss: 0.5063 - val_categorical_accuracy: 0.7519\n",
      "Epoch 29/30\n",
      "7/7 [==============================] - 2s 294ms/step - loss: 0.5049 - categorical_accuracy: 0.7542 - val_loss: 0.5064 - val_categorical_accuracy: 0.7516\n",
      "Epoch 30/30\n",
      "7/7 [==============================] - 2s 291ms/step - loss: 0.5057 - categorical_accuracy: 0.7535 - val_loss: 0.5060 - val_categorical_accuracy: 0.7508\n"
     ]
    }
   ],
   "source": [
    "# 모델 학습\n",
    "history = model.fit(x_train, y_train, batch_size=5700, epochs=30, validation_split=0.3)"
   ]
  },
  {
   "cell_type": "code",
   "execution_count": 51,
   "id": "485c15d0",
   "metadata": {},
   "outputs": [],
   "source": [
    "# 평가 모듈 불러오기\n",
    "from sklearn.metrics import precision_score, recall_score, accuracy_score"
   ]
  },
  {
   "cell_type": "code",
   "execution_count": 52,
   "id": "81dd5d4e",
   "metadata": {},
   "outputs": [],
   "source": [
    "# test 예측\n",
    "y_pred = model.predict(x_test)\n",
    "y_pred = np.argmax(y_pred, axis=1)"
   ]
  },
  {
   "cell_type": "code",
   "execution_count": 53,
   "id": "236f05ae",
   "metadata": {},
   "outputs": [
    {
     "name": "stdout",
     "output_type": "stream",
     "text": [
      "accuracy_score :  0.7518212037626424\n",
      "precision_score :  0.7184820978315684\n",
      "recall_score :  0.8170609318996416\n"
     ]
    }
   ],
   "source": [
    "# 모델 평가\n",
    "acc = accuracy_score(y_test, y_pred)\n",
    "prs = precision_score(y_test, y_pred)\n",
    "rc = recall_score(y_test, y_pred)\n",
    "print('accuracy_score : ', acc)\n",
    "print('precision_score : ', prs)\n",
    "print('recall_score : ', rc)"
   ]
  },
  {
   "cell_type": "code",
   "execution_count": 54,
   "id": "8092574e",
   "metadata": {},
   "outputs": [],
   "source": [
    "# 시각화 모듈 불러오기\n",
    "import matplotlib.pyplot as plt"
   ]
  },
  {
   "cell_type": "code",
   "execution_count": 55,
   "id": "309216c2",
   "metadata": {},
   "outputs": [
    {
     "data": {
      "image/png": "[encoded data removed]",
      "text/plain": [
       "<Figure size 640x480 with 1 Axes>"
      ]
     },
     "metadata": {},
     "output_type": "display_data"
    }
   ],
   "source": [
    "# train, validtion 정확도 시각화\n",
    "acc = history.history['categorical_accuracy']\n",
    "val_acc = history.history['val_categorical_accuracy']\n",
    "\n",
    "x_len = np.arange(len(acc))\n",
    "\n",
    "plt.plot(x_len, acc, marker='.', c='blue', label=\"Train-set Acc.\")\n",
    "plt.plot(x_len, val_acc, marker='.', c='red', label=\"Validation-set Acc.\")\n",
    "\n",
    "plt.legend(loc='lower right')\n",
    "plt.grid()\n",
    "plt.xlabel('epoch')\n",
    "plt.ylabel('Accuracy')\n",
    "plt.show()"
   ]
  },
  {
   "cell_type": "code",
   "execution_count": null,
   "id": "17f1223d",
   "metadata": {},
   "outputs": [],
   "source": []
  }
 ],
 "metadata": {
  "kernelspec": {
   "display_name": "Python 3 (ipykernel)",
   "language": "python",
   "name": "python3"
  },
  "language_info": {
   "codemirror_mode": {
    "name": "ipython",
    "version": 3
   },
   "file_extension": ".py",
   "mimetype": "text/x-python",
   "name": "python",
   "nbconvert_exporter": "python",
   "pygments_lexer": "ipython3",
   "version": "3.9.13"
  }
 },
 "nbformat": 4,
 "nbformat_minor": 5
}
