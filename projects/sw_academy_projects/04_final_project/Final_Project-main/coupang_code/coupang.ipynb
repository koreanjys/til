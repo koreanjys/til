{
 "cells": [
  {
   "cell_type": "code",
   "execution_count": 1,
   "id": "9925e61c",
   "metadata": {},
   "outputs": [],
   "source": [
    "import requests\n",
    "from bs4 import BeautifulSoup\n",
    "\n",
    "# from selenium import webdriver\n",
    "# from selenium.webdriver.chrome.options import Options\n",
    "# from selenium.webdriver.chrome.service import Service\n",
    "# from selenium.webdriver.common.by import By\n",
    "# from webdriver_manager.chrome import ChromeDriverManager\n",
    "# import time"
   ]
  },
  {
   "cell_type": "code",
   "execution_count": 2,
   "id": "b1d40312",
   "metadata": {
    "scrolled": true
   },
   "outputs": [],
   "source": [
    "# options = Options()"
   ]
  },
  {
   "cell_type": "code",
   "execution_count": 3,
   "id": "5f468cdb",
   "metadata": {},
   "outputs": [],
   "source": [
    "# options.add_argument(\"--start-maximized\")\n",
    "# options.add_experimental_option(\"detach\", True)\n",
    "\n",
    "# service = Service(ChromeDriverManager().install())\n",
    "\n",
    "# driver = webdriver.Chrome(service=service, options=options)"
   ]
  },
  {
   "cell_type": "code",
   "execution_count": 4,
   "id": "ce390d3d",
   "metadata": {},
   "outputs": [],
   "source": [
    "base_url = 'https://www.coupang.com/np/search?component=&q='"
   ]
  },
  {
   "cell_type": "code",
   "execution_count": 5,
   "id": "bb124cb6",
   "metadata": {},
   "outputs": [
    {
     "name": "stdout",
     "output_type": "stream",
     "text": [
      "검색할 상품을 입력하세요:냉장고\n"
     ]
    }
   ],
   "source": [
    "keyword = input(\"검색할 상품을 입력하세요:\")"
   ]
  },
  {
   "cell_type": "code",
   "execution_count": 6,
   "id": "925a64c3",
   "metadata": {},
   "outputs": [],
   "source": [
    "search_url = base_url + keyword"
   ]
  },
  {
   "cell_type": "code",
   "execution_count": 7,
   "id": "4b025ec1",
   "metadata": {},
   "outputs": [
    {
     "name": "stdout",
     "output_type": "stream",
     "text": [
      "https://www.coupang.com/np/search?component=&q=냉장고\n"
     ]
    }
   ],
   "source": [
    "print(search_url)"
   ]
  },
  {
   "cell_type": "code",
   "execution_count": 8,
   "id": "bd82c384",
   "metadata": {},
   "outputs": [],
   "source": [
    "headers = {\"User-Agent\": \"Mozilla/5.0 (Windows NT 10.0; Win64; x64) AppleWebKit/537.36 (KHTML, like Gecko) Chrome/112.0.0.0 Safari/537.36\"}"
   ]
  },
  {
   "cell_type": "code",
   "execution_count": 9,
   "id": "72394130",
   "metadata": {},
   "outputs": [],
   "source": [
    "cookie = {\"a\":\"b\"}"
   ]
  },
  {
   "cell_type": "code",
   "execution_count": 10,
   "id": "f278912e",
   "metadata": {},
   "outputs": [],
   "source": [
    "req = requests.get(search_url, timeout=5, headers=headers, cookies=cookie)"
   ]
  },
  {
   "cell_type": "code",
   "execution_count": 11,
   "id": "6f99e085",
   "metadata": {},
   "outputs": [],
   "source": [
    "html = req.text"
   ]
  },
  {
   "cell_type": "code",
   "execution_count": 12,
   "id": "111ff73e",
   "metadata": {},
   "outputs": [],
   "source": [
    "soup = BeautifulSoup(html, \"html.parser\")"
   ]
  },
  {
   "cell_type": "code",
   "execution_count": 13,
   "id": "b443ff48",
   "metadata": {},
   "outputs": [],
   "source": [
    "items = soup.select(\"[class=search-product]\")"
   ]
  },
  {
   "cell_type": "code",
   "execution_count": 14,
   "id": "532de2ca",
   "metadata": {},
   "outputs": [
    {
     "name": "stdout",
     "output_type": "stream",
     "text": [
      "27\n"
     ]
    }
   ],
   "source": [
    "print(len(items))"
   ]
  },
  {
   "cell_type": "code",
   "execution_count": 15,
   "id": "c5fef58b",
   "metadata": {},
   "outputs": [
    {
     "name": "stdout",
     "output_type": "stream",
     "text": [
      "['search-product']\n",
      "['search-product']\n",
      "['search-product']\n",
      "['search-product']\n",
      "['search-product']\n",
      "['search-product']\n",
      "['search-product']\n",
      "['search-product']\n",
      "['search-product']\n",
      "['search-product']\n",
      "['search-product']\n",
      "['search-product']\n",
      "['search-product']\n",
      "['search-product']\n",
      "['search-product']\n",
      "['search-product']\n",
      "['search-product']\n",
      "['search-product']\n",
      "['search-product']\n",
      "['search-product']\n",
      "['search-product']\n",
      "['search-product']\n",
      "['search-product']\n",
      "['search-product']\n",
      "['search-product']\n",
      "['search-product']\n",
      "['search-product']\n"
     ]
    }
   ],
   "source": [
    "for item in items:\n",
    "    print(item[\"class\"])"
   ]
  },
  {
   "cell_type": "code",
   "execution_count": 16,
   "id": "cb0c2891",
   "metadata": {},
   "outputs": [
    {
     "name": "stdout",
     "output_type": "stream",
     "text": [
      "1위\n",
      "[색상선택형] LG전자 오브제 일반형 냉장고 방문설치, 베이지, D472MEE33\n",
      "669,440원\n",
      "5.0\n",
      "https://coupang.com/vp/products/7141327283?itemId=17929825496&vendorItemId=85092142741\n",
      "http://thumbnail8.coupangcdn.com/thumbnails/remote/230x230ex/image/retail/images/2023/02/16/13/7/c98488d4-5c8d-4fd3-8b58-7f0a093ccf84.jpg\n",
      "\n",
      "2위\n",
      "삼성전자 일반형냉장고, 엘리건트 이녹스, RT25NARAHS8\n",
      "359,660원\n",
      "5.0\n",
      "https://coupang.com/vp/products/6126133379?itemId=11648123008&vendorItemId=4314073109\n",
      "http://thumbnail7.coupangcdn.com/thumbnails/remote/230x230ex/image/retail/images/10147305712174315-161d4e27-bba7-405f-b4ec-6827e8cb7988.jpg\n",
      "\n",
      "3위\n",
      "삼성전자 일반형냉장고, 엘리건트 블랙, RB30R4051B1\n",
      "499,870원\n",
      "5.0\n",
      "https://coupang.com/vp/products/317388129?itemId=1012353195&vendorItemId=5446098936\n",
      "http://thumbnail7.coupangcdn.com/thumbnails/remote/230x230ex/image/retail/images/9283384741335-abccd314-010c-4559-b656-49b955e14d3b.jpg\n",
      "\n",
      "4위\n",
      "삼성전자 일반형냉장고, 스노우 화이트, RT43T6035WW\n",
      "492,230원\n",
      "5.0\n",
      "https://coupang.com/vp/products/6126140284?itemId=11648185773&vendorItemId=71689054847\n",
      "http://thumbnail8.coupangcdn.com/thumbnails/remote/230x230ex/image/retail/images/207890689492410-778fb45b-c171-453e-bff7-adc9e7834934.jpg\n",
      "\n",
      "5위\n",
      "LG전자 디오스 일반형냉장고, 화이트, B472W33\n",
      "655,500원\n",
      "5.0\n",
      "https://coupang.com/vp/products/6159917542?itemId=11947718986&vendorItemId=79220370738\n",
      "http://thumbnail7.coupangcdn.com/thumbnails/remote/230x230ex/image/retail/images/1832900845402631-c4386908-7147-4277-a1e0-53223cab1e5d.jpg\n",
      "\n",
      "6위\n",
      "삼성전자 양문형냉장고, 엘리건트 이녹스, RS82M6000S8\n",
      "1,020,000원\n",
      "5.0\n",
      "https://coupang.com/vp/products/6125895442?itemId=11645714937&vendorItemId=3850647901\n",
      "http://thumbnail6.coupangcdn.com/thumbnails/remote/230x230ex/image/retail/images/791150770817817-b1cb05a0-4651-47bf-bf1b-2a08a499c957.jpg\n",
      "\n",
      "7위\n",
      "캐리어 클라윈드 피트인 4도어 냉장고 방문설치, 메탈실버, KRNF427SPH1\n",
      "729,000원\n",
      "5.0\n",
      "https://coupang.com/vp/products/6746043684?itemId=15762165520&vendorItemId=82975602749&pickType=COU_PICK\n",
      "http://thumbnail9.coupangcdn.com/thumbnails/remote/230x230ex/image/retail/images/464728062560170-63926450-d530-49ee-a22a-4b2af9c37c82.jpg\n",
      "\n",
      "8위\n",
      "LG전자 디오스 오브제컬렉션 양문형 냉장고 메탈 832L 방문설치, 클레이민트(상단), 베이지(하단), S834MTE10\n",
      "1,305,850원\n",
      "5.0\n",
      "https://coupang.com/vp/products/6570628473?itemId=14747658241&vendorItemId=81988059786\n",
      "http://thumbnail8.coupangcdn.com/thumbnails/remote/230x230ex/image/retail/images/8669306391979113-e6b15035-a2ee-42d4-9c79-fb0bcfc963a1.jpg\n",
      "\n",
      "9위\n",
      "LG전자 일반형 냉장고 방문설치, 화이트, B182W13\n",
      "359,140원\n",
      "5.0\n",
      "https://coupang.com/vp/products/6825396895?itemId=16189588095&vendorItemId=83384767739\n",
      "http://thumbnail6.coupangcdn.com/thumbnails/remote/230x230ex/image/retail/images/548986755915617-8c3e0f27-84a9-422d-a4df-55a28cbdef2e.jpg\n",
      "\n",
      "10위\n",
      "삼성전자 일반형냉장고, 실버, RT38K5039SL\n",
      "502,920원\n",
      "5.0\n",
      "https://coupang.com/vp/products/6126127976?itemId=11648081162&vendorItemId=4873053901\n",
      "http://thumbnail10.coupangcdn.com/thumbnails/remote/230x230ex/image/retail/images/1050093499950130-6720a207-22f7-44d3-b509-fc7fff034e02.jpg\n",
      "\n",
      "11위\n",
      "LG전자 일반형 냉장고 방문설치, 화이트, B242W32\n",
      "428,040원\n",
      "5.0\n",
      "https://coupang.com/vp/products/6825396895?itemId=16189588091&vendorItemId=83384767728\n",
      "http://thumbnail8.coupangcdn.com/thumbnails/remote/230x230ex/image/rs_quotation_api/4ja7ilzz/071db4851a2844779695af8e13aef6ce.jpg\n",
      "\n",
      "12위\n",
      "삼성전자 비스포크 프리스탠딩 4도어 냉장고 875L 방문설치, 코타 화이트, RF85B911101\n",
      "1,699,870원\n",
      "5.0\n",
      "https://coupang.com/vp/products/6410118335?itemId=13743610058&vendorItemId=80994428600\n",
      "http://thumbnail7.coupangcdn.com/thumbnails/remote/230x230ex/image/retail/images/8575477446202882-895bc005-8058-4d63-96c2-499d9c2f2371.jpg\n",
      "\n",
      "13위\n",
      "LG전자 일반 냉장고 335L 방문설치, B332S34, 퓨어\n",
      "565,510원\n",
      "5.0\n",
      "https://coupang.com/vp/products/6658582240?itemId=15279061970&vendorItemId=82499560109\n",
      "http://thumbnail9.coupangcdn.com/thumbnails/remote/230x230ex/image/retail/images/4950096179555600-0876d5e4-9947-4f76-aba4-a1df0906fe10.jpg\n",
      "\n",
      "14위\n",
      "삼성전자 양문형냉장고, 리얼 메탈, RH62A504EB4\n",
      "1,191,830원\n",
      "5.0\n",
      "https://coupang.com/vp/products/5524958270?itemId=8652434055&vendorItemId=75939635826\n",
      "http://thumbnail9.coupangcdn.com/thumbnails/remote/230x230ex/image/retail/images/1689465314385408-90b1056e-25cb-497c-a790-bd3bc5d27062.jpg\n",
      "\n",
      "15위\n",
      "삼성전자 냉장고 615L 방문설치, RT62A7049S9, 리파인드 이녹스\n",
      "991,860원\n",
      "5.0\n",
      "https://coupang.com/vp/products/6856180368?itemId=16351204947&vendorItemId=83542939613\n",
      "http://thumbnail9.coupangcdn.com/thumbnails/remote/230x230ex/image/retail/images/2022/10/20/12/1/8feb9d31-c237-489c-8ede-417b6dc79296.jpg\n",
      "\n",
      "16위\n",
      "[색상선택형] LG전자 디오스 오브제컬렉션 4도어 냉장고 메탈 870L 방문설치, T873MEE012, 오브제컬렉션 베이지 + 베이지\n",
      "1,701,400원\n",
      "5.0\n",
      "https://coupang.com/vp/products/6944481392?itemId=16851273517&vendorItemId=84030248344\n",
      "http://thumbnail9.coupangcdn.com/thumbnails/remote/230x230ex/image/rs_quotation_api/kuygfvts/e6dc368ecf93490f8724e7dad2a1c75a.jpg\n",
      "\n",
      "17위\n",
      "캐리어 클라윈드 슬림 일반형 냉장고 방문설치 255L, 화이트, KRNT255WEM1\n",
      "347,620원\n",
      "5.0\n",
      "https://coupang.com/vp/products/7157008804?itemId=18004430289&vendorItemId=85160350624\n",
      "http://thumbnail6.coupangcdn.com/thumbnails/remote/230x230ex/image/retail/images/2023/02/23/18/9/94114a9e-1c28-4943-8c71-35ff146fec6d.jpg\n",
      "\n",
      "18위\n",
      "삼성전자 일반형냉장고, 실버, RT53K6035SL\n",
      "676,660원\n",
      "4.5\n",
      "https://coupang.com/vp/products/98504581?itemId=302107674&vendorItemId=85712277876\n",
      "http://thumbnail8.coupangcdn.com/thumbnails/remote/230x230ex/image/vendor_inventory/a24b/5fa2ff55cf0baaabf341b6bbc9257c7547d36201676a4ac14195ad6411eb.jpg\n",
      "\n",
      "19위\n",
      "LG전자 디오스 오브제컬렉션 양문형 냉장고 메탈 832L 방문설치, 그레이 + 화이트, S834MGW12\n",
      "1,355,340원\n",
      "5.0\n",
      "https://coupang.com/vp/products/7149090862?itemId=17969768658&vendorItemId=85127025601\n",
      "http://thumbnail7.coupangcdn.com/thumbnails/remote/230x230ex/image/retail/images/2023/02/20/12/7/61c5b754-d4b6-419e-8824-ae627818687e.jpg\n",
      "\n",
      "20위\n",
      "삼성전자 일반냉장고 RT53N603HS8 525L 방문설치, Elegant Inox\n",
      "750,000원\n",
      "5.0\n",
      "https://coupang.com/vp/products/6126149244?itemId=11648281624&vendorItemId=5446097361\n",
      "http://thumbnail8.coupangcdn.com/thumbnails/remote/230x230ex/image/retail/images/2019/10/11/17/2/179d4949-d425-4359-8182-2d0e6e2213a2.jpg\n",
      "\n",
      "21위\n",
      "삼성전자 양문형 냉장고 846L 방문설치, 내츄럴, RS84B5071SL\n",
      "1,306,290원\n",
      "5.0\n",
      "https://coupang.com/vp/products/6921967623?itemId=16719080653&vendorItemId=83175326581\n",
      "http://thumbnail6.coupangcdn.com/thumbnails/remote/230x230ex/image/retail/images/2022/09/19/16/3/f3a608a1-6855-4082-891c-363dce89223d.jpg\n",
      "\n",
      "22위\n",
      "LG전자 일반형냉장고, 화이트, B502W33\n",
      "631,800원\n",
      "5.0\n",
      "https://coupang.com/vp/products/6825396895?itemId=16189588087&vendorItemId=79947769297\n",
      "http://thumbnail7.coupangcdn.com/thumbnails/remote/230x230ex/image/vendor_inventory/a42e/29cb6eaf3730e34cbdd8664c133c0543d7b510138ede1e11d6a55064e06b.jpg\n",
      "\n",
      "23위\n",
      "삼성전자 일반형냉장고, 메탈 그라파이트, RB34T6001SA\n",
      "585,000원\n",
      "5.0\n",
      "https://coupang.com/vp/products/4963688488?itemId=6578168780&vendorItemId=73872178987\n",
      "http://thumbnail9.coupangcdn.com/thumbnails/remote/230x230ex/image/retail/images/1927224217254868-dea4a10e-01a0-474f-b0d2-0b6ff64b6038.jpg\n",
      "\n",
      "24위\n",
      "삼성전자 BESPOKE 프리스탠딩 4도어 냉장고 RF85B911155 875L 방문설치, 글램 화이트 + 글램 핑크\n",
      "2,044,860원\n",
      "5.0\n",
      "https://coupang.com/vp/products/6425428872?itemId=13842649553&vendorItemId=81092742371\n",
      "http://thumbnail9.coupangcdn.com/thumbnails/remote/230x230ex/image/retail/images/1652950726108101-dbdad26b-1172-435b-a130-761af3573563.jpg\n",
      "\n",
      "25위\n",
      "삼성전자 비스포크 프리스탠딩 4도어 냉장고 875L 방문설치, 글램 화이트, RF85B911135\n",
      "1,727,730원\n",
      "5.0\n",
      "https://coupang.com/vp/products/6410118335?itemId=13743610062&vendorItemId=80994428610\n",
      "http://thumbnail6.coupangcdn.com/thumbnails/remote/230x230ex/image/retail/images/2259526453170773-7dcfd014-e108-4c21-a4bc-248f002035d3.jpg\n",
      "\n",
      "26위\n",
      "[색상선택형] LG전자 디오스 오브제컬렉션 노크온 4도어 냉장고 메탈 870L 방문설치, T873MGB312, 그레이(상), 블랙(하)\n",
      "1,871,000원\n",
      "5.0\n",
      "https://coupang.com/vp/products/6645668777?itemId=15208572203&vendorItemId=82429628720\n",
      "http://thumbnail7.coupangcdn.com/thumbnails/remote/230x230ex/image/retail/images/3114179526385747-67e4090d-9e39-448b-af2e-34227e0381ca.jpg\n",
      "\n",
      "27위\n",
      "LG전자 디오스 오브제컬렉션 4도어 냉장고 메탈 870L 방문설치, 오브제컬렉션 클레이 핑크 + 베이지, T873MKE111\n",
      "1,869,370원\n",
      "5.0\n",
      "https://coupang.com/vp/products/6944481391?itemId=16851273516&vendorItemId=84030248336\n",
      "http://thumbnail8.coupangcdn.com/thumbnails/remote/230x230ex/image/rs_quotation_api/gecla8bn/36f8e21aceee4f358c3cf92bca348fb7.jpg\n",
      "\n"
     ]
    }
   ],
   "source": [
    "rank = 1\n",
    "for item in items:\n",
    "    price = item.select_one(\".price-value\")\n",
    "    name = item.select_one(\".name\")\n",
    "    rating = item.select_one(\".rating\")\n",
    "    thumb = item.select_one(\".search-product-wrap-img\")\n",
    "    links = item.a[\"href\"]\n",
    "    print(f'{rank}위')\n",
    "    print(name.text)\n",
    "    print(f'{price.text}원')\n",
    "    print(rating.text)\n",
    "    link = f\"https://coupang.com{links}\"\n",
    "    print(link)\n",
    "    rank += 1\n",
    "    if thumb.get(\"data-img-src\"):\n",
    "        img_url = f\"http:{thumb.get('data-img-src')}\"\n",
    "    else:\n",
    "        img_url = f\"http:{thumb['src']}\"\n",
    "    print(img_url)\n",
    "    print()\n",
    "    \n",
    "#     img_req = requests.get(img_url)\n",
    "    \n",
    "#     with open(f\"08_coupang/{rank}.jpg\", \"wb\") as f:\n",
    "#         f.write(img_req.content)\n",
    "        \n",
    "#     f = open()\n",
    "#     f.write\n",
    "#     f.close()"
   ]
  },
  {
   "cell_type": "code",
   "execution_count": 17,
   "id": "82a7b776",
   "metadata": {
    "scrolled": true
   },
   "outputs": [
    {
     "data": {
      "text/plain": [
       "'/vp/products/6944481391?itemId=16851273516&vendorItemId=84030248336'"
      ]
     },
     "execution_count": 17,
     "metadata": {},
     "output_type": "execute_result"
    }
   ],
   "source": [
    "links"
   ]
  },
  {
   "cell_type": "code",
   "execution_count": 18,
   "id": "fca2d981",
   "metadata": {},
   "outputs": [],
   "source": [
    "link_url = 'https://coupang.com{links}'"
   ]
  },
  {
   "cell_type": "code",
   "execution_count": 19,
   "id": "e51cde82",
   "metadata": {},
   "outputs": [
    {
     "ename": "ConnectionError",
     "evalue": "HTTPSConnectionPool(host='coupang.com%7blinks%7d', port=443): Max retries exceeded with url: / (Caused by NewConnectionError('<urllib3.connection.HTTPSConnection object at 0x0000017A135F5760>: Failed to establish a new connection: [Errno 11001] getaddrinfo failed'))",
     "output_type": "error",
     "traceback": [
      "\u001b[1;31m---------------------------------------------------------------------------\u001b[0m",
      "\u001b[1;31mgaierror\u001b[0m                                  Traceback (most recent call last)",
      "\u001b[1;32mC:\\ProgramData\\Anaconda3\\lib\\site-packages\\urllib3\\connection.py\u001b[0m in \u001b[0;36m_new_conn\u001b[1;34m(self)\u001b[0m\n\u001b[0;32m    168\u001b[0m         \u001b[1;32mtry\u001b[0m\u001b[1;33m:\u001b[0m\u001b[1;33m\u001b[0m\u001b[1;33m\u001b[0m\u001b[0m\n\u001b[1;32m--> 169\u001b[1;33m             conn = connection.create_connection(\n\u001b[0m\u001b[0;32m    170\u001b[0m                 \u001b[1;33m(\u001b[0m\u001b[0mself\u001b[0m\u001b[1;33m.\u001b[0m\u001b[0m_dns_host\u001b[0m\u001b[1;33m,\u001b[0m \u001b[0mself\u001b[0m\u001b[1;33m.\u001b[0m\u001b[0mport\u001b[0m\u001b[1;33m)\u001b[0m\u001b[1;33m,\u001b[0m \u001b[0mself\u001b[0m\u001b[1;33m.\u001b[0m\u001b[0mtimeout\u001b[0m\u001b[1;33m,\u001b[0m \u001b[1;33m**\u001b[0m\u001b[0mextra_kw\u001b[0m\u001b[1;33m\u001b[0m\u001b[1;33m\u001b[0m\u001b[0m\n",
      "\u001b[1;32mC:\\ProgramData\\Anaconda3\\lib\\site-packages\\urllib3\\util\\connection.py\u001b[0m in \u001b[0;36mcreate_connection\u001b[1;34m(address, timeout, source_address, socket_options)\u001b[0m\n\u001b[0;32m     72\u001b[0m \u001b[1;33m\u001b[0m\u001b[0m\n\u001b[1;32m---> 73\u001b[1;33m     \u001b[1;32mfor\u001b[0m \u001b[0mres\u001b[0m \u001b[1;32min\u001b[0m \u001b[0msocket\u001b[0m\u001b[1;33m.\u001b[0m\u001b[0mgetaddrinfo\u001b[0m\u001b[1;33m(\u001b[0m\u001b[0mhost\u001b[0m\u001b[1;33m,\u001b[0m \u001b[0mport\u001b[0m\u001b[1;33m,\u001b[0m \u001b[0mfamily\u001b[0m\u001b[1;33m,\u001b[0m \u001b[0msocket\u001b[0m\u001b[1;33m.\u001b[0m\u001b[0mSOCK_STREAM\u001b[0m\u001b[1;33m)\u001b[0m\u001b[1;33m:\u001b[0m\u001b[1;33m\u001b[0m\u001b[1;33m\u001b[0m\u001b[0m\n\u001b[0m\u001b[0;32m     74\u001b[0m         \u001b[0maf\u001b[0m\u001b[1;33m,\u001b[0m \u001b[0msocktype\u001b[0m\u001b[1;33m,\u001b[0m \u001b[0mproto\u001b[0m\u001b[1;33m,\u001b[0m \u001b[0mcanonname\u001b[0m\u001b[1;33m,\u001b[0m \u001b[0msa\u001b[0m \u001b[1;33m=\u001b[0m \u001b[0mres\u001b[0m\u001b[1;33m\u001b[0m\u001b[1;33m\u001b[0m\u001b[0m\n",
      "\u001b[1;32mC:\\ProgramData\\Anaconda3\\lib\\socket.py\u001b[0m in \u001b[0;36mgetaddrinfo\u001b[1;34m(host, port, family, type, proto, flags)\u001b[0m\n\u001b[0;32m    917\u001b[0m     \u001b[0maddrlist\u001b[0m \u001b[1;33m=\u001b[0m \u001b[1;33m[\u001b[0m\u001b[1;33m]\u001b[0m\u001b[1;33m\u001b[0m\u001b[1;33m\u001b[0m\u001b[0m\n\u001b[1;32m--> 918\u001b[1;33m     \u001b[1;32mfor\u001b[0m \u001b[0mres\u001b[0m \u001b[1;32min\u001b[0m \u001b[0m_socket\u001b[0m\u001b[1;33m.\u001b[0m\u001b[0mgetaddrinfo\u001b[0m\u001b[1;33m(\u001b[0m\u001b[0mhost\u001b[0m\u001b[1;33m,\u001b[0m \u001b[0mport\u001b[0m\u001b[1;33m,\u001b[0m \u001b[0mfamily\u001b[0m\u001b[1;33m,\u001b[0m \u001b[0mtype\u001b[0m\u001b[1;33m,\u001b[0m \u001b[0mproto\u001b[0m\u001b[1;33m,\u001b[0m \u001b[0mflags\u001b[0m\u001b[1;33m)\u001b[0m\u001b[1;33m:\u001b[0m\u001b[1;33m\u001b[0m\u001b[1;33m\u001b[0m\u001b[0m\n\u001b[0m\u001b[0;32m    919\u001b[0m         \u001b[0maf\u001b[0m\u001b[1;33m,\u001b[0m \u001b[0msocktype\u001b[0m\u001b[1;33m,\u001b[0m \u001b[0mproto\u001b[0m\u001b[1;33m,\u001b[0m \u001b[0mcanonname\u001b[0m\u001b[1;33m,\u001b[0m \u001b[0msa\u001b[0m \u001b[1;33m=\u001b[0m \u001b[0mres\u001b[0m\u001b[1;33m\u001b[0m\u001b[1;33m\u001b[0m\u001b[0m\n",
      "\u001b[1;31mgaierror\u001b[0m: [Errno 11001] getaddrinfo failed",
      "\nDuring handling of the above exception, another exception occurred:\n",
      "\u001b[1;31mNewConnectionError\u001b[0m                        Traceback (most recent call last)",
      "\u001b[1;32mC:\\ProgramData\\Anaconda3\\lib\\site-packages\\urllib3\\connectionpool.py\u001b[0m in \u001b[0;36murlopen\u001b[1;34m(self, method, url, body, headers, retries, redirect, assert_same_host, timeout, pool_timeout, release_conn, chunked, body_pos, **response_kw)\u001b[0m\n\u001b[0;32m    698\u001b[0m             \u001b[1;31m# Make the request on the httplib connection object.\u001b[0m\u001b[1;33m\u001b[0m\u001b[1;33m\u001b[0m\u001b[1;33m\u001b[0m\u001b[0m\n\u001b[1;32m--> 699\u001b[1;33m             httplib_response = self._make_request(\n\u001b[0m\u001b[0;32m    700\u001b[0m                 \u001b[0mconn\u001b[0m\u001b[1;33m,\u001b[0m\u001b[1;33m\u001b[0m\u001b[1;33m\u001b[0m\u001b[0m\n",
      "\u001b[1;32mC:\\ProgramData\\Anaconda3\\lib\\site-packages\\urllib3\\connectionpool.py\u001b[0m in \u001b[0;36m_make_request\u001b[1;34m(self, conn, method, url, timeout, chunked, **httplib_request_kw)\u001b[0m\n\u001b[0;32m    381\u001b[0m         \u001b[1;32mtry\u001b[0m\u001b[1;33m:\u001b[0m\u001b[1;33m\u001b[0m\u001b[1;33m\u001b[0m\u001b[0m\n\u001b[1;32m--> 382\u001b[1;33m             \u001b[0mself\u001b[0m\u001b[1;33m.\u001b[0m\u001b[0m_validate_conn\u001b[0m\u001b[1;33m(\u001b[0m\u001b[0mconn\u001b[0m\u001b[1;33m)\u001b[0m\u001b[1;33m\u001b[0m\u001b[1;33m\u001b[0m\u001b[0m\n\u001b[0m\u001b[0;32m    383\u001b[0m         \u001b[1;32mexcept\u001b[0m \u001b[1;33m(\u001b[0m\u001b[0mSocketTimeout\u001b[0m\u001b[1;33m,\u001b[0m \u001b[0mBaseSSLError\u001b[0m\u001b[1;33m)\u001b[0m \u001b[1;32mas\u001b[0m \u001b[0me\u001b[0m\u001b[1;33m:\u001b[0m\u001b[1;33m\u001b[0m\u001b[1;33m\u001b[0m\u001b[0m\n",
      "\u001b[1;32mC:\\ProgramData\\Anaconda3\\lib\\site-packages\\urllib3\\connectionpool.py\u001b[0m in \u001b[0;36m_validate_conn\u001b[1;34m(self, conn)\u001b[0m\n\u001b[0;32m   1009\u001b[0m         \u001b[1;32mif\u001b[0m \u001b[1;32mnot\u001b[0m \u001b[0mgetattr\u001b[0m\u001b[1;33m(\u001b[0m\u001b[0mconn\u001b[0m\u001b[1;33m,\u001b[0m \u001b[1;34m\"sock\"\u001b[0m\u001b[1;33m,\u001b[0m \u001b[1;32mNone\u001b[0m\u001b[1;33m)\u001b[0m\u001b[1;33m:\u001b[0m  \u001b[1;31m# AppEngine might not have  `.sock`\u001b[0m\u001b[1;33m\u001b[0m\u001b[1;33m\u001b[0m\u001b[0m\n\u001b[1;32m-> 1010\u001b[1;33m             \u001b[0mconn\u001b[0m\u001b[1;33m.\u001b[0m\u001b[0mconnect\u001b[0m\u001b[1;33m(\u001b[0m\u001b[1;33m)\u001b[0m\u001b[1;33m\u001b[0m\u001b[1;33m\u001b[0m\u001b[0m\n\u001b[0m\u001b[0;32m   1011\u001b[0m \u001b[1;33m\u001b[0m\u001b[0m\n",
      "\u001b[1;32mC:\\ProgramData\\Anaconda3\\lib\\site-packages\\urllib3\\connection.py\u001b[0m in \u001b[0;36mconnect\u001b[1;34m(self)\u001b[0m\n\u001b[0;32m    352\u001b[0m         \u001b[1;31m# Add certificate verification\u001b[0m\u001b[1;33m\u001b[0m\u001b[1;33m\u001b[0m\u001b[1;33m\u001b[0m\u001b[0m\n\u001b[1;32m--> 353\u001b[1;33m         \u001b[0mconn\u001b[0m \u001b[1;33m=\u001b[0m \u001b[0mself\u001b[0m\u001b[1;33m.\u001b[0m\u001b[0m_new_conn\u001b[0m\u001b[1;33m(\u001b[0m\u001b[1;33m)\u001b[0m\u001b[1;33m\u001b[0m\u001b[1;33m\u001b[0m\u001b[0m\n\u001b[0m\u001b[0;32m    354\u001b[0m         \u001b[0mhostname\u001b[0m \u001b[1;33m=\u001b[0m \u001b[0mself\u001b[0m\u001b[1;33m.\u001b[0m\u001b[0mhost\u001b[0m\u001b[1;33m\u001b[0m\u001b[1;33m\u001b[0m\u001b[0m\n",
      "\u001b[1;32mC:\\ProgramData\\Anaconda3\\lib\\site-packages\\urllib3\\connection.py\u001b[0m in \u001b[0;36m_new_conn\u001b[1;34m(self)\u001b[0m\n\u001b[0;32m    180\u001b[0m         \u001b[1;32mexcept\u001b[0m \u001b[0mSocketError\u001b[0m \u001b[1;32mas\u001b[0m \u001b[0me\u001b[0m\u001b[1;33m:\u001b[0m\u001b[1;33m\u001b[0m\u001b[1;33m\u001b[0m\u001b[0m\n\u001b[1;32m--> 181\u001b[1;33m             raise NewConnectionError(\n\u001b[0m\u001b[0;32m    182\u001b[0m                 \u001b[0mself\u001b[0m\u001b[1;33m,\u001b[0m \u001b[1;34m\"Failed to establish a new connection: %s\"\u001b[0m \u001b[1;33m%\u001b[0m \u001b[0me\u001b[0m\u001b[1;33m\u001b[0m\u001b[1;33m\u001b[0m\u001b[0m\n",
      "\u001b[1;31mNewConnectionError\u001b[0m: <urllib3.connection.HTTPSConnection object at 0x0000017A135F5760>: Failed to establish a new connection: [Errno 11001] getaddrinfo failed",
      "\nDuring handling of the above exception, another exception occurred:\n",
      "\u001b[1;31mMaxRetryError\u001b[0m                             Traceback (most recent call last)",
      "\u001b[1;32mC:\\ProgramData\\Anaconda3\\lib\\site-packages\\requests\\adapters.py\u001b[0m in \u001b[0;36msend\u001b[1;34m(self, request, stream, timeout, verify, cert, proxies)\u001b[0m\n\u001b[0;32m    438\u001b[0m             \u001b[1;32mif\u001b[0m \u001b[1;32mnot\u001b[0m \u001b[0mchunked\u001b[0m\u001b[1;33m:\u001b[0m\u001b[1;33m\u001b[0m\u001b[1;33m\u001b[0m\u001b[0m\n\u001b[1;32m--> 439\u001b[1;33m                 resp = conn.urlopen(\n\u001b[0m\u001b[0;32m    440\u001b[0m                     \u001b[0mmethod\u001b[0m\u001b[1;33m=\u001b[0m\u001b[0mrequest\u001b[0m\u001b[1;33m.\u001b[0m\u001b[0mmethod\u001b[0m\u001b[1;33m,\u001b[0m\u001b[1;33m\u001b[0m\u001b[1;33m\u001b[0m\u001b[0m\n",
      "\u001b[1;32mC:\\ProgramData\\Anaconda3\\lib\\site-packages\\urllib3\\connectionpool.py\u001b[0m in \u001b[0;36murlopen\u001b[1;34m(self, method, url, body, headers, retries, redirect, assert_same_host, timeout, pool_timeout, release_conn, chunked, body_pos, **response_kw)\u001b[0m\n\u001b[0;32m    754\u001b[0m \u001b[1;33m\u001b[0m\u001b[0m\n\u001b[1;32m--> 755\u001b[1;33m             retries = retries.increment(\n\u001b[0m\u001b[0;32m    756\u001b[0m                 \u001b[0mmethod\u001b[0m\u001b[1;33m,\u001b[0m \u001b[0murl\u001b[0m\u001b[1;33m,\u001b[0m \u001b[0merror\u001b[0m\u001b[1;33m=\u001b[0m\u001b[0me\u001b[0m\u001b[1;33m,\u001b[0m \u001b[0m_pool\u001b[0m\u001b[1;33m=\u001b[0m\u001b[0mself\u001b[0m\u001b[1;33m,\u001b[0m \u001b[0m_stacktrace\u001b[0m\u001b[1;33m=\u001b[0m\u001b[0msys\u001b[0m\u001b[1;33m.\u001b[0m\u001b[0mexc_info\u001b[0m\u001b[1;33m(\u001b[0m\u001b[1;33m)\u001b[0m\u001b[1;33m[\u001b[0m\u001b[1;36m2\u001b[0m\u001b[1;33m]\u001b[0m\u001b[1;33m\u001b[0m\u001b[1;33m\u001b[0m\u001b[0m\n",
      "\u001b[1;32mC:\\ProgramData\\Anaconda3\\lib\\site-packages\\urllib3\\util\\retry.py\u001b[0m in \u001b[0;36mincrement\u001b[1;34m(self, method, url, response, error, _pool, _stacktrace)\u001b[0m\n\u001b[0;32m    573\u001b[0m         \u001b[1;32mif\u001b[0m \u001b[0mnew_retry\u001b[0m\u001b[1;33m.\u001b[0m\u001b[0mis_exhausted\u001b[0m\u001b[1;33m(\u001b[0m\u001b[1;33m)\u001b[0m\u001b[1;33m:\u001b[0m\u001b[1;33m\u001b[0m\u001b[1;33m\u001b[0m\u001b[0m\n\u001b[1;32m--> 574\u001b[1;33m             \u001b[1;32mraise\u001b[0m \u001b[0mMaxRetryError\u001b[0m\u001b[1;33m(\u001b[0m\u001b[0m_pool\u001b[0m\u001b[1;33m,\u001b[0m \u001b[0murl\u001b[0m\u001b[1;33m,\u001b[0m \u001b[0merror\u001b[0m \u001b[1;32mor\u001b[0m \u001b[0mResponseError\u001b[0m\u001b[1;33m(\u001b[0m\u001b[0mcause\u001b[0m\u001b[1;33m)\u001b[0m\u001b[1;33m)\u001b[0m\u001b[1;33m\u001b[0m\u001b[1;33m\u001b[0m\u001b[0m\n\u001b[0m\u001b[0;32m    575\u001b[0m \u001b[1;33m\u001b[0m\u001b[0m\n",
      "\u001b[1;31mMaxRetryError\u001b[0m: HTTPSConnectionPool(host='coupang.com%7blinks%7d', port=443): Max retries exceeded with url: / (Caused by NewConnectionError('<urllib3.connection.HTTPSConnection object at 0x0000017A135F5760>: Failed to establish a new connection: [Errno 11001] getaddrinfo failed'))",
      "\nDuring handling of the above exception, another exception occurred:\n",
      "\u001b[1;31mConnectionError\u001b[0m                           Traceback (most recent call last)",
      "\u001b[1;32m<ipython-input-19-e145b124f3b9>\u001b[0m in \u001b[0;36m<module>\u001b[1;34m\u001b[0m\n\u001b[1;32m----> 1\u001b[1;33m \u001b[0mreq\u001b[0m \u001b[1;33m=\u001b[0m \u001b[0mrequests\u001b[0m\u001b[1;33m.\u001b[0m\u001b[0mget\u001b[0m\u001b[1;33m(\u001b[0m\u001b[0mlink_url\u001b[0m\u001b[1;33m,\u001b[0m \u001b[0mtimeout\u001b[0m\u001b[1;33m=\u001b[0m\u001b[1;36m5\u001b[0m\u001b[1;33m,\u001b[0m \u001b[0mheaders\u001b[0m\u001b[1;33m=\u001b[0m\u001b[0mheaders\u001b[0m\u001b[1;33m,\u001b[0m \u001b[0mcookies\u001b[0m\u001b[1;33m=\u001b[0m\u001b[0mcookie\u001b[0m\u001b[1;33m)\u001b[0m\u001b[1;33m\u001b[0m\u001b[1;33m\u001b[0m\u001b[0m\n\u001b[0m\u001b[0;32m      2\u001b[0m \u001b[0mhtml\u001b[0m \u001b[1;33m=\u001b[0m \u001b[0mreq\u001b[0m\u001b[1;33m.\u001b[0m\u001b[0mtext\u001b[0m\u001b[1;33m\u001b[0m\u001b[1;33m\u001b[0m\u001b[0m\n\u001b[0;32m      3\u001b[0m \u001b[0msoup\u001b[0m \u001b[1;33m=\u001b[0m \u001b[0mBeautifulSoup\u001b[0m\u001b[1;33m(\u001b[0m\u001b[0mhtml\u001b[0m\u001b[1;33m,\u001b[0m \u001b[1;34m\"html.parser\"\u001b[0m\u001b[1;33m)\u001b[0m\u001b[1;33m\u001b[0m\u001b[1;33m\u001b[0m\u001b[0m\n",
      "\u001b[1;32mC:\\ProgramData\\Anaconda3\\lib\\site-packages\\requests\\api.py\u001b[0m in \u001b[0;36mget\u001b[1;34m(url, params, **kwargs)\u001b[0m\n\u001b[0;32m     74\u001b[0m \u001b[1;33m\u001b[0m\u001b[0m\n\u001b[0;32m     75\u001b[0m     \u001b[0mkwargs\u001b[0m\u001b[1;33m.\u001b[0m\u001b[0msetdefault\u001b[0m\u001b[1;33m(\u001b[0m\u001b[1;34m'allow_redirects'\u001b[0m\u001b[1;33m,\u001b[0m \u001b[1;32mTrue\u001b[0m\u001b[1;33m)\u001b[0m\u001b[1;33m\u001b[0m\u001b[1;33m\u001b[0m\u001b[0m\n\u001b[1;32m---> 76\u001b[1;33m     \u001b[1;32mreturn\u001b[0m \u001b[0mrequest\u001b[0m\u001b[1;33m(\u001b[0m\u001b[1;34m'get'\u001b[0m\u001b[1;33m,\u001b[0m \u001b[0murl\u001b[0m\u001b[1;33m,\u001b[0m \u001b[0mparams\u001b[0m\u001b[1;33m=\u001b[0m\u001b[0mparams\u001b[0m\u001b[1;33m,\u001b[0m \u001b[1;33m**\u001b[0m\u001b[0mkwargs\u001b[0m\u001b[1;33m)\u001b[0m\u001b[1;33m\u001b[0m\u001b[1;33m\u001b[0m\u001b[0m\n\u001b[0m\u001b[0;32m     77\u001b[0m \u001b[1;33m\u001b[0m\u001b[0m\n\u001b[0;32m     78\u001b[0m \u001b[1;33m\u001b[0m\u001b[0m\n",
      "\u001b[1;32mC:\\ProgramData\\Anaconda3\\lib\\site-packages\\requests\\api.py\u001b[0m in \u001b[0;36mrequest\u001b[1;34m(method, url, **kwargs)\u001b[0m\n\u001b[0;32m     59\u001b[0m     \u001b[1;31m# cases, and look like a memory leak in others.\u001b[0m\u001b[1;33m\u001b[0m\u001b[1;33m\u001b[0m\u001b[1;33m\u001b[0m\u001b[0m\n\u001b[0;32m     60\u001b[0m     \u001b[1;32mwith\u001b[0m \u001b[0msessions\u001b[0m\u001b[1;33m.\u001b[0m\u001b[0mSession\u001b[0m\u001b[1;33m(\u001b[0m\u001b[1;33m)\u001b[0m \u001b[1;32mas\u001b[0m \u001b[0msession\u001b[0m\u001b[1;33m:\u001b[0m\u001b[1;33m\u001b[0m\u001b[1;33m\u001b[0m\u001b[0m\n\u001b[1;32m---> 61\u001b[1;33m         \u001b[1;32mreturn\u001b[0m \u001b[0msession\u001b[0m\u001b[1;33m.\u001b[0m\u001b[0mrequest\u001b[0m\u001b[1;33m(\u001b[0m\u001b[0mmethod\u001b[0m\u001b[1;33m=\u001b[0m\u001b[0mmethod\u001b[0m\u001b[1;33m,\u001b[0m \u001b[0murl\u001b[0m\u001b[1;33m=\u001b[0m\u001b[0murl\u001b[0m\u001b[1;33m,\u001b[0m \u001b[1;33m**\u001b[0m\u001b[0mkwargs\u001b[0m\u001b[1;33m)\u001b[0m\u001b[1;33m\u001b[0m\u001b[1;33m\u001b[0m\u001b[0m\n\u001b[0m\u001b[0;32m     62\u001b[0m \u001b[1;33m\u001b[0m\u001b[0m\n\u001b[0;32m     63\u001b[0m \u001b[1;33m\u001b[0m\u001b[0m\n",
      "\u001b[1;32mC:\\ProgramData\\Anaconda3\\lib\\site-packages\\requests\\sessions.py\u001b[0m in \u001b[0;36mrequest\u001b[1;34m(self, method, url, params, data, headers, cookies, files, auth, timeout, allow_redirects, proxies, hooks, stream, verify, cert, json)\u001b[0m\n\u001b[0;32m    540\u001b[0m         }\n\u001b[0;32m    541\u001b[0m         \u001b[0msend_kwargs\u001b[0m\u001b[1;33m.\u001b[0m\u001b[0mupdate\u001b[0m\u001b[1;33m(\u001b[0m\u001b[0msettings\u001b[0m\u001b[1;33m)\u001b[0m\u001b[1;33m\u001b[0m\u001b[1;33m\u001b[0m\u001b[0m\n\u001b[1;32m--> 542\u001b[1;33m         \u001b[0mresp\u001b[0m \u001b[1;33m=\u001b[0m \u001b[0mself\u001b[0m\u001b[1;33m.\u001b[0m\u001b[0msend\u001b[0m\u001b[1;33m(\u001b[0m\u001b[0mprep\u001b[0m\u001b[1;33m,\u001b[0m \u001b[1;33m**\u001b[0m\u001b[0msend_kwargs\u001b[0m\u001b[1;33m)\u001b[0m\u001b[1;33m\u001b[0m\u001b[1;33m\u001b[0m\u001b[0m\n\u001b[0m\u001b[0;32m    543\u001b[0m \u001b[1;33m\u001b[0m\u001b[0m\n\u001b[0;32m    544\u001b[0m         \u001b[1;32mreturn\u001b[0m \u001b[0mresp\u001b[0m\u001b[1;33m\u001b[0m\u001b[1;33m\u001b[0m\u001b[0m\n",
      "\u001b[1;32mC:\\ProgramData\\Anaconda3\\lib\\site-packages\\requests\\sessions.py\u001b[0m in \u001b[0;36msend\u001b[1;34m(self, request, **kwargs)\u001b[0m\n\u001b[0;32m    653\u001b[0m \u001b[1;33m\u001b[0m\u001b[0m\n\u001b[0;32m    654\u001b[0m         \u001b[1;31m# Send the request\u001b[0m\u001b[1;33m\u001b[0m\u001b[1;33m\u001b[0m\u001b[1;33m\u001b[0m\u001b[0m\n\u001b[1;32m--> 655\u001b[1;33m         \u001b[0mr\u001b[0m \u001b[1;33m=\u001b[0m \u001b[0madapter\u001b[0m\u001b[1;33m.\u001b[0m\u001b[0msend\u001b[0m\u001b[1;33m(\u001b[0m\u001b[0mrequest\u001b[0m\u001b[1;33m,\u001b[0m \u001b[1;33m**\u001b[0m\u001b[0mkwargs\u001b[0m\u001b[1;33m)\u001b[0m\u001b[1;33m\u001b[0m\u001b[1;33m\u001b[0m\u001b[0m\n\u001b[0m\u001b[0;32m    656\u001b[0m \u001b[1;33m\u001b[0m\u001b[0m\n\u001b[0;32m    657\u001b[0m         \u001b[1;31m# Total elapsed time of the request (approximately)\u001b[0m\u001b[1;33m\u001b[0m\u001b[1;33m\u001b[0m\u001b[1;33m\u001b[0m\u001b[0m\n",
      "\u001b[1;32mC:\\ProgramData\\Anaconda3\\lib\\site-packages\\requests\\adapters.py\u001b[0m in \u001b[0;36msend\u001b[1;34m(self, request, stream, timeout, verify, cert, proxies)\u001b[0m\n\u001b[0;32m    514\u001b[0m                 \u001b[1;32mraise\u001b[0m \u001b[0mSSLError\u001b[0m\u001b[1;33m(\u001b[0m\u001b[0me\u001b[0m\u001b[1;33m,\u001b[0m \u001b[0mrequest\u001b[0m\u001b[1;33m=\u001b[0m\u001b[0mrequest\u001b[0m\u001b[1;33m)\u001b[0m\u001b[1;33m\u001b[0m\u001b[1;33m\u001b[0m\u001b[0m\n\u001b[0;32m    515\u001b[0m \u001b[1;33m\u001b[0m\u001b[0m\n\u001b[1;32m--> 516\u001b[1;33m             \u001b[1;32mraise\u001b[0m \u001b[0mConnectionError\u001b[0m\u001b[1;33m(\u001b[0m\u001b[0me\u001b[0m\u001b[1;33m,\u001b[0m \u001b[0mrequest\u001b[0m\u001b[1;33m=\u001b[0m\u001b[0mrequest\u001b[0m\u001b[1;33m)\u001b[0m\u001b[1;33m\u001b[0m\u001b[1;33m\u001b[0m\u001b[0m\n\u001b[0m\u001b[0;32m    517\u001b[0m \u001b[1;33m\u001b[0m\u001b[0m\n\u001b[0;32m    518\u001b[0m         \u001b[1;32mexcept\u001b[0m \u001b[0mClosedPoolError\u001b[0m \u001b[1;32mas\u001b[0m \u001b[0me\u001b[0m\u001b[1;33m:\u001b[0m\u001b[1;33m\u001b[0m\u001b[1;33m\u001b[0m\u001b[0m\n",
      "\u001b[1;31mConnectionError\u001b[0m: HTTPSConnectionPool(host='coupang.com%7blinks%7d', port=443): Max retries exceeded with url: / (Caused by NewConnectionError('<urllib3.connection.HTTPSConnection object at 0x0000017A135F5760>: Failed to establish a new connection: [Errno 11001] getaddrinfo failed'))"
     ]
    }
   ],
   "source": [
    "req = requests.get(link_url, timeout=5, headers=headers, cookies=cookie)\n",
    "html = req.text\n",
    "soup = BeautifulSoup(html, \"html.parser\")"
   ]
  },
  {
   "cell_type": "code",
   "execution_count": null,
   "id": "843e2448",
   "metadata": {},
   "outputs": [],
   "source": [
    "soup"
   ]
  },
  {
   "cell_type": "code",
   "execution_count": null,
   "id": "aecd28e4",
   "metadata": {},
   "outputs": [],
   "source": [
    "import requests\n",
    "from bs4 import BeautifulSoup\n",
    "\n",
    "from selenium import webdriver\n",
    "from selenium.webdriver.chrome.options import Options\n",
    "from selenium.webdriver.chrome.service import Service\n",
    "from selenium.webdriver.common.by import By\n",
    "from webdriver_manager.chrome import ChromeDriverManager\n",
    "import time"
   ]
  },
  {
   "cell_type": "code",
   "execution_count": null,
   "id": "f13b2966",
   "metadata": {},
   "outputs": [],
   "source": [
    "options = Options()"
   ]
  },
  {
   "cell_type": "code",
   "execution_count": null,
   "id": "94a88172",
   "metadata": {
    "scrolled": true
   },
   "outputs": [],
   "source": [
    "options.add_argument(\"--start-maximized\")\n",
    "options.add_experimental_option(\"detach\", True)\n",
    "\n",
    "service = Service(ChromeDriverManager().install())\n",
    "\n",
    "driver = webdriver.Chrome(service=service, options=options)"
   ]
  },
  {
   "cell_type": "code",
   "execution_count": null,
   "id": "46797643",
   "metadata": {},
   "outputs": [],
   "source": [
    "link_url = \"https://www.coupang.com/\"\n",
    "\n",
    "driver.get(link_url)\n",
    "time.sleep(2)"
   ]
  },
  {
   "cell_type": "code",
   "execution_count": null,
   "id": "53792229",
   "metadata": {},
   "outputs": [],
   "source": [
    "driver.find_element_by_id('headerSearchKeyword').send_keys(\"냉장고\")\n",
    "time.sleep(2)"
   ]
  },
  {
   "cell_type": "code",
   "execution_count": null,
   "id": "4b499562",
   "metadata": {},
   "outputs": [],
   "source": [
    "driver.find_element_by_css_selector('#headerSearchBtn').click()\n",
    "time.sleep(2)"
   ]
  },
  {
   "cell_type": "code",
   "execution_count": null,
   "id": "cae9b026",
   "metadata": {},
   "outputs": [],
   "source": []
  }
 ],
 "metadata": {
  "kernelspec": {
   "display_name": "Python 3",
   "language": "python",
   "name": "python3"
  },
  "language_info": {
   "codemirror_mode": {
    "name": "ipython",
    "version": 3
   },
   "file_extension": ".py",
   "mimetype": "text/x-python",
   "name": "python",
   "nbconvert_exporter": "python",
   "pygments_lexer": "ipython3",
   "version": "3.8.8"
  }
 },
 "nbformat": 4,
 "nbformat_minor": 5
}
