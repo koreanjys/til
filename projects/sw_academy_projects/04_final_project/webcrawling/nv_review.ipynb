{
 "cells": [
  {
   "cell_type": "code",
   "execution_count": 19,
   "id": "f7f31fee",
   "metadata": {},
   "outputs": [],
   "source": [
    "import requests\n",
    "from bs4 import BeautifulSoup\n",
    "import numpy as np\n",
    "import pandas as pd\n",
    "import os\n",
    "import time\n",
    "from selenium import webdriver\n",
    "from selenium.webdriver.chrome.options import Options\n",
    "from selenium.webdriver.common.by import By\n",
    "from selenium.webdriver.support.ui import WebDriverWait\n",
    "from selenium.webdriver.support import expected_conditions as EC"
   ]
  },
  {
   "cell_type": "code",
   "execution_count": null,
   "id": "c1686145",
   "metadata": {},
   "outputs": [],
   "source": [
    "# https://search.shopping.naver.com/catalog/21225654919?NaPm=ct%3Dlgu6g8lc%7Cci%3Da769e831763a6d1c54047b89e708d7fc406d21e5%7Ctr%3Dslsl%7Csn%3D95694%7Chk%3D5d41fd00d0a024c7075bb604adfed500039a33a5"
   ]
  },
  {
   "cell_type": "code",
   "execution_count": 24,
   "id": "14e56022",
   "metadata": {},
   "outputs": [],
   "source": [
    "# options = Options()\n",
    "# options.add_argument(\"--headless\")  # 창이 뜨지 않도록 설정\n",
    "# driver = webdriver.Chrome(options=options)\n",
    "# driver.quit()  # 창을 닫아줌"
   ]
  },
  {
   "cell_type": "code",
   "execution_count": 35,
   "id": "daf41796",
   "metadata": {},
   "outputs": [],
   "source": [
    "url = 'https://search.shopping.naver.com/catalog/21225654919?NaPm=ct%3Dlgu6g8lc%7Cci%3Da769e831763a6d1c54047b89e708d7fc406d21e5%7Ctr%3Dslsl%7Csn%3D95694%7Chk%3D5d41fd00d0a024c7075bb604adfed500039a33a5'\n",
    "browser = webdriver.Chrome()\n",
    "browser.get(url)\n",
    "\n",
    "# 쇼핑몰리뷰 탭 클릭\n",
    "review_tab = browser.find_element(By.CSS_SELECTOR, '#snb > ul > li:nth-child(4) > a')\n",
    "review_tab.click()"
   ]
  },
  {
   "cell_type": "code",
   "execution_count": null,
   "id": "c7cafef5",
   "metadata": {},
   "outputs": [],
   "source": [
    "driver = webdriver.Chrome()\n",
    "driver.get('https://search.shopping.naver.com/catalog/21225654919?NaPm=ct%3Dlgu6spo0%7Cci%3D003949e55b1d3ab8955a8d80f2e6c80d637d8cd4%7Ctr%3Dslsl%7Csn%3D95694%7Chk%3Db4650dcdee991cb7ccbda4393e2a2097dd2d16c9')\n",
    "time.sleep(3)\n",
    "\n",
    "page_no = 1\n",
    "\n",
    "while True:\n",
    "    if page_no == 11:\n",
    "        driver.find_element(By.CSS_SELECTOR, '#section_review > div.pagination_pagination__JW7zT > a.pagination_next__3_3ip').click()\n",
    "        page_no = 2\n",
    "\n",
    "    time.sleep(8.5)\n",
    "    driver.find_element('xpath', f'//*[@id=\"section_review\"]/div[3]/a[{page_no}]').click()\n",
    "\n",
    "\n",
    "    response = driver.find_elements('xpath', '//*[@id=\"section_review\"]/ul/li/div[2]')\n",
    "    time.sleep(4.5)\n",
    "    page_no += 1\n",
    "break"
   ]
  }
 ],
 "metadata": {
  "kernelspec": {
   "display_name": "Python 3",
   "language": "python",
   "name": "python3"
  },
  "language_info": {
   "codemirror_mode": {
    "name": "ipython",
    "version": 3
   },
   "file_extension": ".py",
   "mimetype": "text/x-python",
   "name": "python",
   "nbconvert_exporter": "python",
   "pygments_lexer": "ipython3",
   "version": "3.8.8"
  }
 },
 "nbformat": 4,
 "nbformat_minor": 5
}
